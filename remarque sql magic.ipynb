{
 "cells": [
  {
   "cell_type": "code",
   "execution_count": null,
   "id": "40d675ea-1c7f-472d-8618-795599a95d2b",
   "metadata": {},
   "outputs": [],
   "source": []
  },
  {
   "cell_type": "code",
   "execution_count": null,
   "id": "301e0b9b-0a7c-4e97-91b6-2f2323a45186",
   "metadata": {},
   "outputs": [],
   "source": [
    "* Effectuer un accès simplifié à la base de données en utilisant SQL « magic »"
   ]
  },
  {
   "cell_type": "code",
   "execution_count": null,
   "id": "59644a97-0128-40d8-a24f-e73e6c9acb91",
   "metadata": {},
   "outputs": [],
   "source": [
    "##### Pour communiquer avec des bases de données SQL à partir d’un notebook JupyterLab, nous pouvons utiliser la « magie » SQL fournie par l’extension [ipython-sql](https://github.com/catherinedevlin/ipython-sql). « Magic » est le terme utilisé par JupyterLab pour désigner les commandes spéciales qui commencent par « % ». Ci-dessous, nous allons utiliser la magie _load___ext_ pour charger l’extension ipython-sql. Dans l’environnement de laboratoire fourni dans le cours, l’extension ipython-sql est déjà installée, tout comme le pilote ibm_db_sa. \n"
   ]
  },
  {
   "cell_type": "code",
   "execution_count": null,
   "id": "694e3078-d6d8-4b49-9efe-b830b7736b0e",
   "metadata": {},
   "outputs": [],
   "source": [
    "Les modules requis suivants sont préinstallés dans l’environnement Skills Network Labs. Toutefois, si vous exécutez ces commandes de bloc-notes dans un autre environnement Jupyter (par exemple, Watson Studio ou Ananconda), vous devrez peut-être installer ces bibliothèques en supprimant le signe « # » avant « !pip » dans la cellule de code ci-dessous."
   ]
  },
  {
   "cell_type": "code",
   "execution_count": null,
   "id": "4f29b47c-2582-4fef-b879-fda7bf019277",
   "metadata": {},
   "outputs": [],
   "source": []
  },
  {
   "cell_type": "code",
   "execution_count": null,
   "id": "6b6900bf-7e3e-4382-b9d5-27deb6f79713",
   "metadata": {},
   "outputs": [],
   "source": []
  },
  {
   "cell_type": "code",
   "execution_count": null,
   "id": "5d5b66d9-85a5-47a6-8473-0bc375702388",
   "metadata": {},
   "outputs": [],
   "source": []
  }
 ],
 "metadata": {
  "kernelspec": {
   "display_name": "Python 3 (ipykernel)",
   "language": "python",
   "name": "python3"
  },
  "language_info": {
   "codemirror_mode": {
    "name": "ipython",
    "version": 3
   },
   "file_extension": ".py",
   "mimetype": "text/x-python",
   "name": "python",
   "nbconvert_exporter": "python",
   "pygments_lexer": "ipython3",
   "version": "3.9.13"
  }
 },
 "nbformat": 4,
 "nbformat_minor": 5
}
