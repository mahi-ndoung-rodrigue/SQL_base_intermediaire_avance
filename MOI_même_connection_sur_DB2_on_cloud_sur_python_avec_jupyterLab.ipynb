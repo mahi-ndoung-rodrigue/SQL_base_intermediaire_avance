{
 "cells": [
  {
   "cell_type": "markdown",
   "id": "35226965-73b2-4bba-a598-5082ae0d72f9",
   "metadata": {},
   "source": [
    "Ces bibliothèques sont préinstallées dans SN Labs. Si vous utilisez un autre environnement, veuillez décommenter les lignes ci-dessous pour les installer :"
   ]
  },
  {
   "cell_type": "markdown",
   "id": "96919278-4a9f-4797-aee0-960fd31f5995",
   "metadata": {},
   "source": [
    "These libraries are pre-installed in SN Labs. If running in another environment please uncomment lines below to install them:\n",
    "\n",
    "\n",
    "   Assurez-vous que nous ne load_ext pas avec sqlalchemy>=1.4 (incompatible)( Ensure we don't load_ext with sqlalchemy>=1.4 (incompadible))"
   ]
  },
  {
   "cell_type": "code",
   "execution_count": 2,
   "id": "138ed88b-5d4d-416d-94c8-27a2084f1ce2",
   "metadata": {},
   "outputs": [
    {
     "name": "stdout",
     "output_type": "stream",
     "text": [
      "Collecting ibm_db==3.1.0\n",
      "  Downloading ibm_db-3.1.0.tar.gz (797 kB)\n",
      "     ------------------------------------ 797.3/797.3 kB 475.3 kB/s eta 0:00:00\n",
      "  Installing build dependencies: started\n",
      "  Installing build dependencies: finished with status 'done'\n",
      "  Getting requirements to build wheel: started\n",
      "  Getting requirements to build wheel: still running...\n",
      "  Getting requirements to build wheel: finished with status 'done'\n",
      "  Installing backend dependencies: started\n",
      "  Installing backend dependencies: finished with status 'done'\n",
      "  Preparing metadata (pyproject.toml): started\n",
      "  Preparing metadata (pyproject.toml): finished with status 'done'\n",
      "Collecting ibm_db_sa==0.3.3\n",
      "  Downloading ibm_db_sa-0.3.3.tar.gz (24 kB)\n",
      "  Preparing metadata (setup.py): started\n",
      "  Preparing metadata (setup.py): finished with status 'done'\n",
      "Collecting sqlalchemy>=0.7.3\n",
      "  Downloading SQLAlchemy-2.0.29-cp39-cp39-win_amd64.whl (2.1 MB)\n",
      "     ---------------------------------------- 2.1/2.1 MB 1.2 MB/s eta 0:00:00\n",
      "Collecting typing-extensions>=4.6.0\n",
      "  Using cached typing_extensions-4.10.0-py3-none-any.whl (33 kB)\n",
      "Collecting greenlet!=0.4.17\n",
      "  Downloading greenlet-3.0.3-cp39-cp39-win_amd64.whl (290 kB)\n",
      "     ------------------------------------ 290.8/290.8 kB 998.6 kB/s eta 0:00:00\n",
      "Building wheels for collected packages: ibm_db, ibm_db_sa\n",
      "  Building wheel for ibm_db (pyproject.toml): started\n",
      "  Building wheel for ibm_db (pyproject.toml): finished with status 'done'\n",
      "  Created wheel for ibm_db: filename=ibm_db-3.1.0-py3-none-any.whl size=27825755 sha256=97abb6915d28d4ad9a5e6e88edd65e575c23339ecd2a5e0b542709408e035d94\n",
      "  Stored in directory: c:\\users\\lenovo\\appdata\\local\\pip\\cache\\wheels\\0a\\dd\\10\\4a9ad59949e39786d729813e4bce24ccf2263c6d60a62de2f2\n",
      "  Building wheel for ibm_db_sa (setup.py): started\n",
      "  Building wheel for ibm_db_sa (setup.py): finished with status 'done'\n",
      "  Created wheel for ibm_db_sa: filename=ibm_db_sa-0.3.3-py3-none-any.whl size=27424 sha256=9c3b73a737c57f837976c1015b0a05136de9c408d2c79f4898f286652f817ecd\n",
      "  Stored in directory: c:\\users\\lenovo\\appdata\\local\\pip\\cache\\wheels\\8f\\98\\0c\\930c68279890092297e12d4cc20e95613ddab15af6753d92bb\n",
      "Successfully built ibm_db ibm_db_sa\n",
      "Installing collected packages: ibm_db, typing-extensions, greenlet, sqlalchemy, ibm_db_sa\n",
      "  Attempting uninstall: ibm_db\n",
      "    Found existing installation: ibm_db 3.2.3\n",
      "    Uninstalling ibm_db-3.2.3:\n",
      "      Successfully uninstalled ibm_db-3.2.3\n",
      "  Attempting uninstall: typing-extensions\n",
      "    Found existing installation: typing_extensions 4.10.0\n",
      "    Uninstalling typing_extensions-4.10.0:\n",
      "      Successfully uninstalled typing_extensions-4.10.0\n",
      "  Attempting uninstall: greenlet\n",
      "    Found existing installation: greenlet 1.1.1\n",
      "    Uninstalling greenlet-1.1.1:\n",
      "      Successfully uninstalled greenlet-1.1.1\n",
      "  Attempting uninstall: sqlalchemy\n",
      "    Found existing installation: SQLAlchemy 2.0.28\n",
      "    Uninstalling SQLAlchemy-2.0.28:\n",
      "      Successfully uninstalled SQLAlchemy-2.0.28\n",
      "  Attempting uninstall: ibm_db_sa\n",
      "    Found existing installation: ibm-db-sa 0.4.0\n",
      "    Uninstalling ibm-db-sa-0.4.0:\n",
      "      Successfully uninstalled ibm-db-sa-0.4.0\n",
      "Successfully installed greenlet-3.0.3 ibm_db-3.1.0 ibm_db_sa-0.3.3 sqlalchemy-2.0.29 typing-extensions-4.10.0\n",
      "Found existing installation: SQLAlchemy 2.0.29\n",
      "Uninstalling SQLAlchemy-2.0.29:\n",
      "  Successfully uninstalled SQLAlchemy-2.0.29\n",
      "Collecting sqlalchemy==1.3.24\n",
      "  Downloading SQLAlchemy-1.3.24-cp39-cp39-win_amd64.whl (1.2 MB)\n",
      "     ---------------------------------------- 1.2/1.2 MB 407.7 kB/s eta 0:00:00\n",
      "Installing collected packages: sqlalchemy\n",
      "Successfully installed sqlalchemy-1.3.24\n"
     ]
    },
    {
     "name": "stderr",
     "output_type": "stream",
     "text": [
      "ERROR: pip's dependency resolver does not currently take into account all the packages that are installed. This behaviour is the source of the following dependency conflicts.\n",
      "ipython-sql 0.5.0 requires sqlalchemy>=2.0, but you have sqlalchemy 1.3.24 which is incompatible.\n"
     ]
    },
    {
     "name": "stdout",
     "output_type": "stream",
     "text": [
      "Requirement already satisfied: ipython-sql in c:\\users\\lenovo\\anaconda3\\lib\\site-packages (0.5.0)\n",
      "Requirement already satisfied: ipython-genutils in c:\\users\\lenovo\\anaconda3\\lib\\site-packages (from ipython-sql) (0.2.0)\n",
      "Collecting sqlalchemy>=2.0\n",
      "  Using cached SQLAlchemy-2.0.29-cp39-cp39-win_amd64.whl (2.1 MB)\n",
      "Requirement already satisfied: prettytable in c:\\users\\lenovo\\anaconda3\\lib\\site-packages (from ipython-sql) (3.10.0)\n",
      "Requirement already satisfied: ipython in c:\\users\\lenovo\\anaconda3\\lib\\site-packages (from ipython-sql) (7.31.1)\n",
      "Requirement already satisfied: six in c:\\users\\lenovo\\anaconda3\\lib\\site-packages (from ipython-sql) (1.16.0)\n",
      "Requirement already satisfied: sqlparse in c:\\users\\lenovo\\anaconda3\\lib\\site-packages (from ipython-sql) (0.4.4)\n",
      "Requirement already satisfied: typing-extensions>=4.6.0 in c:\\users\\lenovo\\anaconda3\\lib\\site-packages (from sqlalchemy>=2.0->ipython-sql) (4.10.0)\n",
      "Requirement already satisfied: greenlet!=0.4.17 in c:\\users\\lenovo\\anaconda3\\lib\\site-packages (from sqlalchemy>=2.0->ipython-sql) (3.0.3)\n",
      "Requirement already satisfied: traitlets>=4.2 in c:\\users\\lenovo\\anaconda3\\lib\\site-packages (from ipython->ipython-sql) (5.1.1)\n",
      "Requirement already satisfied: pygments in c:\\users\\lenovo\\anaconda3\\lib\\site-packages (from ipython->ipython-sql) (2.11.2)\n",
      "Requirement already satisfied: jedi>=0.16 in c:\\users\\lenovo\\anaconda3\\lib\\site-packages (from ipython->ipython-sql) (0.18.1)\n",
      "Requirement already satisfied: backcall in c:\\users\\lenovo\\anaconda3\\lib\\site-packages (from ipython->ipython-sql) (0.2.0)\n",
      "Requirement already satisfied: decorator in c:\\users\\lenovo\\anaconda3\\lib\\site-packages (from ipython->ipython-sql) (5.1.1)\n",
      "Requirement already satisfied: colorama in c:\\users\\lenovo\\anaconda3\\lib\\site-packages (from ipython->ipython-sql) (0.4.5)\n",
      "Requirement already satisfied: pickleshare in c:\\users\\lenovo\\anaconda3\\lib\\site-packages (from ipython->ipython-sql) (0.7.5)\n",
      "Requirement already satisfied: prompt-toolkit!=3.0.0,!=3.0.1,<3.1.0,>=2.0.0 in c:\\users\\lenovo\\anaconda3\\lib\\site-packages (from ipython->ipython-sql) (3.0.20)\n",
      "Requirement already satisfied: setuptools>=18.5 in c:\\users\\lenovo\\anaconda3\\lib\\site-packages (from ipython->ipython-sql) (63.4.1)\n",
      "Requirement already satisfied: matplotlib-inline in c:\\users\\lenovo\\anaconda3\\lib\\site-packages (from ipython->ipython-sql) (0.1.6)\n",
      "Requirement already satisfied: wcwidth in c:\\users\\lenovo\\anaconda3\\lib\\site-packages (from prettytable->ipython-sql) (0.2.5)\n",
      "Requirement already satisfied: parso<0.9.0,>=0.8.0 in c:\\users\\lenovo\\anaconda3\\lib\\site-packages (from jedi>=0.16->ipython->ipython-sql) (0.8.3)\n",
      "Installing collected packages: sqlalchemy\n",
      "  Attempting uninstall: sqlalchemy\n",
      "    Found existing installation: SQLAlchemy 1.3.24\n",
      "    Uninstalling SQLAlchemy-1.3.24:\n",
      "      Successfully uninstalled SQLAlchemy-1.3.24\n",
      "Successfully installed sqlalchemy-2.0.29\n"
     ]
    }
   ],
   "source": [
    "\n",
    " !pip install --force-reinstall ibm_db==3.1.0 ibm_db_sa==0.3.3\n",
    " \n",
    " !pip uninstall sqlalchemy==1.4 -y && pip install sqlalchemy==1.3.24\n",
    "    \n",
    "!pip install ipython-sql"
   ]
  },
  {
   "cell_type": "markdown",
   "id": "b14bfdb2-f4c1-490e-9b9c-bd0b2970d2df",
   "metadata": {},
   "source": [
    "# expliquation du message d'erreur\n",
    "\n",
    "\n",
    "\n",
    "Salut @MAHI,\n",
    "\n",
    "Merci de votre publication.\n",
    "\n",
    "Nous sommes heureux de vous assister.\n",
    "\n",
    "Veuillez noter que ce message d'erreur est généré par le pip du gestionnaire de packages Python lorsqu'il rencontre des conflits de dépendances lors de la tentative de résolution des installations ou des mises à jour de packages. Décomposons les points clés :\n",
    "\n",
    "- Message d'erreur : le message d'erreur commence par une instruction indiquant que le résolveur de dépendances de pip ne prend actuellement pas en compte tous les packages installés lors de la résolution des dépendances. Cela signifie que pip peut ne pas évaluer avec précision la compatibilité entre les packages lors de l'installation ou de la mise à jour.\n",
    "\n",
    "- Conflit de dépendances : le message d'erreur précise ensuite qu'un conflit de dépendances a été rencontré. Dans ce cas, il indique que le package ipython-sql version 0.5.0 nécessite sqlalchemy version 2.0 ou supérieure. Cependant, la version actuellement installée de sqlalchemy est la 1.3.24, ce qui est incompatible avec la version requise par ipython-sql.\n",
    "\n",
    "- Explication : Essentiellement, cette erreur indique qu'il existe une incohérence entre les exigences de version des différents packages. Le gestionnaire de packages pip ne peut pas résoudre ce conflit automatiquement car il ne prend actuellement pas en compte tous les packages installés lors de la résolution des dépendances.\n",
    "\n",
    "- Résolution : pour résoudre cette erreur, vous devez généralement intervenir manuellement en mettant à jour ou en rétrogradant les packages pour garantir la compatibilité. Dans ce cas spécifique, vous pouvez essayer de mettre à jour le package sqlalchemy vers une version qui répond aux exigences d'ipython-sql et de tout autre package dépendant.\n",
    "\n",
    "En résumé, le message d'erreur vous avertit d'un conflit de dépendances provoqué par des versions de package incompatibles. Cela suggère que vous devez résoudre manuellement le conflit pour procéder à l'installation ou à la mise à jour des packages.\n",
    "\n",
    "Nous vous demandons de suivre le laboratoire dans l'environnement de laboratoire SN pour éviter de tels problèmes."
   ]
  },
  {
   "cell_type": "markdown",
   "id": "2d937a17-a742-45ac-a970-3aa23d0dfeb2",
   "metadata": {},
   "source": [
    "![création de base de données à l'aide de sqlite avec python](https://github.com/mahi-ndoung-rodrigue/Mon-portfolio-github/blob/main/A-cr%C3%A9ation%20d'une%20base%20de%20do%C3%A9e.GIF)"
   ]
  },
  {
   "cell_type": "code",
   "execution_count": 3,
   "id": "481a823e-b58d-4649-a8f8-383d99b61937",
   "metadata": {},
   "outputs": [
    {
     "name": "stdout",
     "output_type": "stream",
     "text": [
      "Collecting ibm_db==3.1.0\n",
      "  Using cached ibm_db-3.1.0-py3-none-any.whl\n",
      "Collecting ibm_db_sa==0.3.3\n",
      "  Using cached ibm_db_sa-0.3.3-py3-none-any.whl\n",
      "Collecting sqlalchemy>=0.7.3 (from ibm_db_sa==0.3.3)\n",
      "  Downloading SQLAlchemy-2.0.29-cp39-cp39-win_amd64.whl.metadata (9.8 kB)\n",
      "Collecting typing-extensions>=4.6.0 (from sqlalchemy>=0.7.3->ibm_db_sa==0.3.3)\n",
      "  Downloading typing_extensions-4.10.0-py3-none-any.whl.metadata (3.0 kB)\n",
      "Collecting greenlet!=0.4.17 (from sqlalchemy>=0.7.3->ibm_db_sa==0.3.3)\n",
      "  Downloading greenlet-3.0.3-cp39-cp39-win_amd64.whl.metadata (3.9 kB)\n",
      "Downloading SQLAlchemy-2.0.29-cp39-cp39-win_amd64.whl (2.1 MB)\n",
      "   ---------------------------------------- 2.1/2.1 MB 719.2 kB/s eta 0:00:00\n",
      "Downloading greenlet-3.0.3-cp39-cp39-win_amd64.whl (290 kB)\n",
      "   -------------------------------------- 290.8/290.8 kB 599.6 kB/s eta 0:00:00\n",
      "Downloading typing_extensions-4.10.0-py3-none-any.whl (33 kB)\n",
      "Installing collected packages: ibm_db, typing-extensions, greenlet, sqlalchemy, ibm_db_sa\n",
      "  Attempting uninstall: ibm_db\n",
      "    Found existing installation: ibm_db 3.1.0\n",
      "    Uninstalling ibm_db-3.1.0:\n",
      "      Successfully uninstalled ibm_db-3.1.0\n",
      "  Attempting uninstall: typing-extensions\n",
      "    Found existing installation: typing_extensions 4.10.0\n",
      "    Uninstalling typing_extensions-4.10.0:\n",
      "      Successfully uninstalled typing_extensions-4.10.0\n",
      "  Attempting uninstall: greenlet\n",
      "    Found existing installation: greenlet 3.0.3\n",
      "    Uninstalling greenlet-3.0.3:\n",
      "      Successfully uninstalled greenlet-3.0.3\n",
      "  Attempting uninstall: sqlalchemy\n",
      "    Found existing installation: SQLAlchemy 2.0.29\n",
      "    Uninstalling SQLAlchemy-2.0.29:\n",
      "      Successfully uninstalled SQLAlchemy-2.0.29\n",
      "  Attempting uninstall: ibm_db_sa\n",
      "    Found existing installation: ibm-db-sa 0.3.3\n",
      "    Uninstalling ibm-db-sa-0.3.3:\n",
      "      Successfully uninstalled ibm-db-sa-0.3.3\n",
      "Successfully installed greenlet-3.0.3 ibm_db-3.1.0 ibm_db_sa-0.3.3 sqlalchemy-2.0.29 typing-extensions-4.10.0\n"
     ]
    },
    {
     "name": "stderr",
     "output_type": "stream",
     "text": [
      "ERROR: pip's dependency resolver does not currently take into account all the packages that are installed. This behaviour is the source of the following dependency conflicts.\n",
      "spyder 5.2.2 requires pyqt5<5.13, which is not installed.\n",
      "spyder 5.2.2 requires pyqtwebengine<5.13, which is not installed.\n"
     ]
    }
   ],
   "source": [
    "!pip install --force-reinstall ibm_db==3.1.0 ibm_db_sa==0.3.3"
   ]
  },
  {
   "cell_type": "code",
   "execution_count": 4,
   "id": "9c9cf64d-3084-4003-9d09-87e4b9ee68bc",
   "metadata": {},
   "outputs": [
    {
     "name": "stdout",
     "output_type": "stream",
     "text": [
      "Found existing installation: SQLAlchemy 2.0.29\n",
      "Uninstalling SQLAlchemy-2.0.29:\n",
      "  Successfully uninstalled SQLAlchemy-2.0.29\n",
      "Collecting sqlalchemy==1.3.24\n",
      "  Downloading SQLAlchemy-1.3.24-cp39-cp39-win_amd64.whl.metadata (7.9 kB)\n",
      "Downloading SQLAlchemy-1.3.24-cp39-cp39-win_amd64.whl (1.2 MB)\n",
      "   ---------------------------------------- 1.2/1.2 MB 387.4 kB/s eta 0:00:00\n",
      "Installing collected packages: sqlalchemy\n",
      "Successfully installed sqlalchemy-1.3.24\n"
     ]
    },
    {
     "name": "stderr",
     "output_type": "stream",
     "text": [
      "ERROR: pip's dependency resolver does not currently take into account all the packages that are installed. This behaviour is the source of the following dependency conflicts.\n",
      "ipython-sql 0.5.0 requires sqlalchemy>=2.0, but you have sqlalchemy 1.3.24 which is incompatible.\n"
     ]
    }
   ],
   "source": [
    "!pip uninstall sqlalchemy==1.4 -y && pip install sqlalchemy==1.3.24"
   ]
  },
  {
   "cell_type": "code",
   "execution_count": 5,
   "id": "0111faaa-b444-45cc-8b15-c373ac06c30a",
   "metadata": {},
   "outputs": [
    {
     "name": "stdout",
     "output_type": "stream",
     "text": [
      "Requirement already satisfied: ipython-sql in c:\\users\\lenovo\\anaconda3\\lib\\site-packages (0.5.0)\n",
      "Requirement already satisfied: prettytable in c:\\users\\lenovo\\anaconda3\\lib\\site-packages (from ipython-sql) (3.10.0)\n",
      "Requirement already satisfied: ipython in c:\\users\\lenovo\\anaconda3\\lib\\site-packages (from ipython-sql) (7.31.1)\n",
      "Collecting sqlalchemy>=2.0 (from ipython-sql)\n",
      "  Using cached SQLAlchemy-2.0.29-cp39-cp39-win_amd64.whl.metadata (9.8 kB)\n",
      "Requirement already satisfied: sqlparse in c:\\users\\lenovo\\anaconda3\\lib\\site-packages (from ipython-sql) (0.4.4)\n",
      "Requirement already satisfied: six in c:\\users\\lenovo\\anaconda3\\lib\\site-packages (from ipython-sql) (1.16.0)\n",
      "Requirement already satisfied: ipython-genutils in c:\\users\\lenovo\\anaconda3\\lib\\site-packages (from ipython-sql) (0.2.0)\n",
      "Requirement already satisfied: typing-extensions>=4.6.0 in c:\\users\\lenovo\\anaconda3\\lib\\site-packages (from sqlalchemy>=2.0->ipython-sql) (4.10.0)\n",
      "Requirement already satisfied: greenlet!=0.4.17 in c:\\users\\lenovo\\anaconda3\\lib\\site-packages (from sqlalchemy>=2.0->ipython-sql) (3.0.3)\n",
      "Requirement already satisfied: setuptools>=18.5 in c:\\users\\lenovo\\anaconda3\\lib\\site-packages (from ipython->ipython-sql) (63.4.1)\n",
      "Requirement already satisfied: jedi>=0.16 in c:\\users\\lenovo\\anaconda3\\lib\\site-packages (from ipython->ipython-sql) (0.18.1)\n",
      "Requirement already satisfied: decorator in c:\\users\\lenovo\\anaconda3\\lib\\site-packages (from ipython->ipython-sql) (5.1.1)\n",
      "Requirement already satisfied: pickleshare in c:\\users\\lenovo\\anaconda3\\lib\\site-packages (from ipython->ipython-sql) (0.7.5)\n",
      "Requirement already satisfied: traitlets>=4.2 in c:\\users\\lenovo\\anaconda3\\lib\\site-packages (from ipython->ipython-sql) (5.1.1)\n",
      "Requirement already satisfied: prompt-toolkit!=3.0.0,!=3.0.1,<3.1.0,>=2.0.0 in c:\\users\\lenovo\\anaconda3\\lib\\site-packages (from ipython->ipython-sql) (3.0.20)\n",
      "Requirement already satisfied: pygments in c:\\users\\lenovo\\anaconda3\\lib\\site-packages (from ipython->ipython-sql) (2.11.2)\n",
      "Requirement already satisfied: backcall in c:\\users\\lenovo\\anaconda3\\lib\\site-packages (from ipython->ipython-sql) (0.2.0)\n",
      "Requirement already satisfied: matplotlib-inline in c:\\users\\lenovo\\anaconda3\\lib\\site-packages (from ipython->ipython-sql) (0.1.6)\n",
      "Requirement already satisfied: colorama in c:\\users\\lenovo\\anaconda3\\lib\\site-packages (from ipython->ipython-sql) (0.4.5)\n",
      "Requirement already satisfied: wcwidth in c:\\users\\lenovo\\anaconda3\\lib\\site-packages (from prettytable->ipython-sql) (0.2.5)\n",
      "Requirement already satisfied: parso<0.9.0,>=0.8.0 in c:\\users\\lenovo\\anaconda3\\lib\\site-packages (from jedi>=0.16->ipython->ipython-sql) (0.8.3)\n",
      "Using cached SQLAlchemy-2.0.29-cp39-cp39-win_amd64.whl (2.1 MB)\n",
      "Installing collected packages: sqlalchemy\n",
      "  Attempting uninstall: sqlalchemy\n",
      "    Found existing installation: SQLAlchemy 1.3.24\n",
      "    Uninstalling SQLAlchemy-1.3.24:\n",
      "      Successfully uninstalled SQLAlchemy-1.3.24\n",
      "Successfully installed sqlalchemy-2.0.29\n"
     ]
    }
   ],
   "source": [
    "!pip install ipython-sql"
   ]
  },
  {
   "cell_type": "code",
   "execution_count": 6,
   "id": "09c047dd-29a3-4ebe-9dc6-50ed69ac8fe2",
   "metadata": {},
   "outputs": [],
   "source": [
    "import ibm_db"
   ]
  },
  {
   "cell_type": "code",
   "execution_count": 7,
   "id": "9a9a14bf-23a1-489f-a073-c076ef3c860c",
   "metadata": {},
   "outputs": [],
   "source": [
    "dsn_hostname = \"2f3279a5-73d1-4859-88f0-a6c3e6b4b907.c3n41cmd0nqnrk39u98g.databases.appdomain.cloud\"\n",
    "\n",
    "dsn_uid = \"zyj48746\"\n",
    "\n",
    "dsn_pwd = \"n97cCLsRaGSqeB1C\"\n",
    "\n",
    "dsn_driver = \"{IBM DB2 ODBC DRIVER}\"\n",
    "\n",
    "dsn_database = \"bludb\" \n",
    "\n",
    "dsn_port = \"30756\"\n",
    "\n",
    "dsn_protocol = \"TCPIP\" \n",
    "\n",
    "dsn_security = \"SSL\" "
   ]
  },
  {
   "cell_type": "code",
   "execution_count": 8,
   "id": "83b3b552-661a-477c-af91-cdc2f096d4b3",
   "metadata": {},
   "outputs": [
    {
     "name": "stdout",
     "output_type": "stream",
     "text": [
      "DRIVER={IBM DB2 ODBC DRIVER};DATABASE=bludb;HOSTNAME=2f3279a5-73d1-4859-88f0-a6c3e6b4b907.c3n41cmd0nqnrk39u98g.databases.appdomain.cloud;PORT=30756;PROTOCOL=TCPIP;UID=zyj48746;PWD=n97cCLsRaGSqeB1C;SECURITY=SSL;\n"
     ]
    }
   ],
   "source": [
    "#DO NOT MODIFY THIS CELL. Just RUN it with Shift + Enter\n",
    "#Create the dsn connection string\n",
    "dsn = (\n",
    "    \"DRIVER={0};\"\n",
    "    \"DATABASE={1};\"\n",
    "    \"HOSTNAME={2};\"\n",
    "    \"PORT={3};\"\n",
    "    \"PROTOCOL={4};\"\n",
    "    \"UID={5};\"\n",
    "    \"PWD={6};\"\n",
    "    \"SECURITY={7};\").format(dsn_driver, dsn_database, dsn_hostname, dsn_port, dsn_protocol, dsn_uid, dsn_pwd,dsn_security)\n",
    "\n",
    "#print the connection string to check correct values are specified\n",
    "print(dsn)"
   ]
  },
  {
   "cell_type": "markdown",
   "id": "ee1322ec-56a7-4f5e-a658-f40e1af2f0f9",
   "metadata": {},
   "source": [
    "Salut @MAHI,\n",
    "\n",
    "Merci de votre publication.\n",
    "\n",
    "Nous sommes heureux de vous assister.\n",
    "\n",
    "Veuillez noter que l'extrait de code ci-dessous construit une chaîne de connexion à la base de données (DSN) en utilisant une approche de chaîne formatée en Python. Décomposons-le étape par étape :\n",
    "\n",
    "Décomposons-le étape par étape :\n",
    "\n",
    "1. ### Le code définit un modèle de format pour la chaîne de connexion DSN. Le modèle comprend des espaces réservés pour divers paramètres nécessaires à la connexion à la base de données.\n",
    "\n",
    "2. ### Les espaces réservés dans le modèle sont :\n",
    "\n",
    "{0} : pilote\n",
    "\n",
    "{1} : Base de données\n",
    "\n",
    "{2} : nom d'hôte\n",
    "\n",
    "{3} : Port\n",
    "\n",
    "{4} : Protocole\n",
    "\n",
    "{5} : ID utilisateur (UID)\n",
    "\n",
    "{6} : Mot de passe (PWD)\n",
    "\n",
    "{7} : Paramètres de sécurité (SÉCURITÉ)\n",
    "\n",
    "3. ### La méthode .format() est utilisée pour remplacer les espaces réservés dans le modèle par des valeurs réelles. Il prend les valeurs des variables dsn_driver, dsn_database, dsn_hostname, dsn_port, dsn_protocol, dsn_uid, dsn_pwd et dsn_security, et les insère dans les espaces réservés de la chaîne DSN.\n",
    "\n",
    "4. ### Enfin, la chaîne de connexion construite dsn est imprimée sur la console pour vérifier que les valeurs correctes sont spécifiées pour chaque paramètre.\n",
    "\n",
    "Ainsi, par exemple, si les variables dsn_driver, dsn_database, etc. sont correctement définies avec les valeurs appropriées avant l'exécution de cet extrait de code, la chaîne DSN imprimée représentera une chaîne de connexion valide qui peut être utilisée pour établir une connexion à la base de données spécifiée. avec les informations d'identification et les paramètres fournis.\n",
    "\n",
    "Dans le laboratoire, nous avons déjà inclus un bloc de code qu'il vous suffit de remplir avec les valeurs appropriées pour que la chaîne DSN établisse une connexion à la base de données.\n",
    "\n",
    "J'espère que ça aide."
   ]
  },
  {
   "cell_type": "code",
   "execution_count": 9,
   "id": "81be47cc-728c-4125-ab36-803e111a4263",
   "metadata": {},
   "outputs": [
    {
     "name": "stdout",
     "output_type": "stream",
     "text": [
      "Connected to database:  bludb as user:  zyj48746 on host:  2f3279a5-73d1-4859-88f0-a6c3e6b4b907.c3n41cmd0nqnrk39u98g.databases.appdomain.cloud\n"
     ]
    }
   ],
   "source": [
    "#DO NOT MODIFY THIS CELL. Just RUN it with Shift + Enter\n",
    "#Create database connection\n",
    "\n",
    "try:\n",
    "    conn = ibm_db.connect(dsn, \"\", \"\")\n",
    "    print (\"Connected to database: \", dsn_database, \"as user: \", dsn_uid, \"on host: \", dsn_hostname)\n",
    "\n",
    "except:\n",
    "    print (\"Unable to connect: \", ibm_db.conn_errormsg() )\n"
   ]
  },
  {
   "cell_type": "markdown",
   "id": "67c9efe5-0dd9-4b9b-b4ea-491514d03cde",
   "metadata": {},
   "source": [
    "Salut @MAHI,\n",
    "\n",
    "Merci de votre publication.\n",
    "\n",
    "Nous sommes heureux de vous assister.\n",
    "\n",
    "Veuillez noter que le code ci-dessous tente d'établir une connexion à une base de données à l'aide de la fonction ibm_db.connect() fournie par le pilote IBM DB2 Python.\n",
    "\n",
    "Décomposons-le :\n",
    "\n",
    "1. ### try : -Ce mot-clé indique le début d’un bloc de code où les exceptions seront interceptées. Python tentera d'exécuter le code à l'intérieur du bloc try, et si une exception se produit, elle sera interceptée par le bloc except.\n",
    "\n",
    "2. ### conn = ibm_db.connect(dsn, \"\", \"\") : cette ligne tente d'établir une connexion à la base de données à l'aide de la fonction ibm_db.connect(). La variable dsn contient la chaîne de connexion nécessaire pour se connecter à la base de données. Les chaînes vides \"\" représentent le nom d'utilisateur et le mot de passe, qui ne sont pas fournis ici. La fonction ibm_db.connect() renvoie un objet de connexion (conn) si la connexion réussit.\n",
    "\n",
    "3. ### print (\"Connecté à la base de données : \", dsn_database, \" as user : \", dsn_uid, \" on host : \", dsn_hostname) : Si la connexion est établie avec succès, cette ligne imprime un message confirmant la connexion réussie. Il comprend des informations sur le nom de la base de données (dsn_database), l'ID utilisateur (dsn_uid) et le nom d'hôte (dsn_hostname).\n",
    "\n",
    "4. ### except : - Ce mot-clé indique le début d'un bloc de code qui sera exécuté si une exception se produit dans le bloc try.\n",
    "\n",
    "5. ### print (\"Unable to connect: \", ibm_db.conn_errormsg() ) : Si une exception se produit lors de la tentative de connexion à la base de données, cette ligne imprime un message d'erreur. La fonction ibm_db.conn_errormsg() permet de récupérer le message d'erreur associé à la tentative de connexion.\n",
    "\n",
    "En résumé, ce code tente d'établir une connexion à une base de données à l'aide de la chaîne de connexion fournie (dsn). Si la connexion réussit, il imprime un message de confirmation. Si une erreur se produit lors de la tentative de connexion, il imprime un message d'erreur.\n",
    "\n",
    "J'espère que ça aide.\n",
    "\n",
    "Bon apprentissage!"
   ]
  },
  {
   "cell_type": "code",
   "execution_count": 10,
   "id": "91fa5d2d-1b5a-49e9-a5a6-0e05120e46c4",
   "metadata": {},
   "outputs": [
    {
     "name": "stdout",
     "output_type": "stream",
     "text": [
      "DBMS_NAME:  DB2/LINUXX8664\n",
      "DBMS_VER:   11.05.0900\n",
      "DB_NAME:    BLUDB\n"
     ]
    }
   ],
   "source": [
    "#Retrieve Metadata for the Database Server\n",
    "server = ibm_db.server_info(conn)\n",
    "\n",
    "print (\"DBMS_NAME: \", server.DBMS_NAME)\n",
    "print (\"DBMS_VER:  \", server.DBMS_VER)\n",
    "print (\"DB_NAME:   \", server.DB_NAME)"
   ]
  },
  {
   "cell_type": "code",
   "execution_count": 11,
   "id": "fdb15d73-742a-4f2f-8b1a-2900d1059120",
   "metadata": {},
   "outputs": [
    {
     "name": "stdout",
     "output_type": "stream",
     "text": [
      "DRIVER_NAME:           DB2CLI.DLL\n",
      "DRIVER_VER:            11.05.0900\n",
      "DATA_SOURCE_NAME:      BLUDB\n",
      "DRIVER_ODBC_VER:       03.51\n",
      "ODBC_VER:              03.01.0000\n",
      "ODBC_SQL_CONFORMANCE:  EXTENDED\n",
      "APPL_CODEPAGE:         1252\n",
      "CONN_CODEPAGE:         1208\n"
     ]
    }
   ],
   "source": [
    "#Retrieve Metadata for the Database Client / Driver\n",
    "#Récupérer les métadonnées pour le client/pilote de base de données\n",
    "client = ibm_db.client_info(conn)\n",
    "\n",
    "print (\"DRIVER_NAME:          \", client.DRIVER_NAME) \n",
    "print (\"DRIVER_VER:           \", client.DRIVER_VER)\n",
    "print (\"DATA_SOURCE_NAME:     \", client.DATA_SOURCE_NAME)\n",
    "print (\"DRIVER_ODBC_VER:      \", client.DRIVER_ODBC_VER)\n",
    "print (\"ODBC_VER:             \", client.ODBC_VER)\n",
    "print (\"ODBC_SQL_CONFORMANCE: \", client.ODBC_SQL_CONFORMANCE)\n",
    "print (\"APPL_CODEPAGE:        \", client.APPL_CODEPAGE)\n",
    "print (\"CONN_CODEPAGE:        \", client.CONN_CODEPAGE)"
   ]
  },
  {
   "cell_type": "markdown",
   "id": "e58cb66c-b573-4778-94b5-c7a46f631781",
   "metadata": {},
   "source": [
    "## Close the Connection\n",
    "We free all resources by closing the connection. Remember that it is always important to close connections so that we can avoid unused connections taking up resources.\n",
    "\n",
    "\n",
    "\n",
    "\n",
    "## Fermer la connexion\n",
    "Nous libérons toutes les ressources en fermant la connexion. N’oubliez pas qu’il est toujours important de fermer les connexions afin d’éviter que les connexions inutilisées ne consomment des ressources.\n"
   ]
  },
  {
   "cell_type": "code",
   "execution_count": 13,
   "id": "ea562ee3-7611-467e-aa13-f47cfbe60bd6",
   "metadata": {},
   "outputs": [
    {
     "data": {
      "text/plain": [
       "True"
      ]
     },
     "execution_count": 13,
     "metadata": {},
     "output_type": "execute_result"
    }
   ],
   "source": [
    "ibm_db.close(conn)"
   ]
  },
  {
   "cell_type": "code",
   "execution_count": null,
   "id": "c94845e7-82bd-4c22-a799-cdafa5fea0c2",
   "metadata": {},
   "outputs": [],
   "source": []
  },
  {
   "cell_type": "code",
   "execution_count": null,
   "id": "7a215cc9-b5a2-4d9c-bf0f-d25338a566f1",
   "metadata": {},
   "outputs": [],
   "source": [
    "A- création d'une base de doée.JPG"
   ]
  }
 ],
 "metadata": {
  "kernelspec": {
   "display_name": "Python 3 (ipykernel)",
   "language": "python",
   "name": "python3"
  },
  "language_info": {
   "codemirror_mode": {
    "name": "ipython",
    "version": 3
   },
   "file_extension": ".py",
   "mimetype": "text/x-python",
   "name": "python",
   "nbconvert_exporter": "python",
   "pygments_lexer": "ipython3",
   "version": "3.9.13"
  }
 },
 "nbformat": 4,
 "nbformat_minor": 5
}
