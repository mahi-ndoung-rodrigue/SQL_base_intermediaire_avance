{
 "cells": [
  {
   "cell_type": "markdown",
   "id": "47b797f1-45c5-40c8-be0d-5bc4f77d6ede",
   "metadata": {},
   "source": [
    "# je refais la semaine 3-1-2 interrogation "
   ]
  },
  {
   "cell_type": "code",
   "execution_count": 1,
   "id": "0cff4dd6-8954-49b2-8bb2-90374b830f26",
   "metadata": {},
   "outputs": [],
   "source": [
    "import ibm_db"
   ]
  },
  {
   "cell_type": "markdown",
   "id": "722c762b-c2c0-434d-97fa-b7de395d2dc8",
   "metadata": {},
   "source": [
    "## Tâche 2 : Identifier les informations d’identification de connexion à la base de données"
   ]
  },
  {
   "cell_type": "code",
   "execution_count": 2,
   "id": "18dfe896-bd67-4265-8422-52f855a6892d",
   "metadata": {},
   "outputs": [],
   "source": [
    "dsn_hostname = \"2f3279a5-73d1-4859-88f0-a6c3e6b4b907.c3n41cmd0nqnrk39u98g.databases.appdomain.cloud\"\n",
    "\n",
    "dsn_uid = \"zyj48746\"\n",
    "\n",
    "dsn_pwd = \"n97cCLsRaGSqeB1C\"\n",
    "\n",
    "dsn_driver = \"{IBM DB2 ODBC DRIVER}\"\n",
    "\n",
    "dsn_database = \"bludb\" \n",
    "\n",
    "dsn_port = \"30756\"\n",
    "\n",
    "dsn_protocol = \"TCPIP\" \n",
    "\n",
    "dsn_security = \"SSL\" \n"
   ]
  },
  {
   "cell_type": "markdown",
   "id": "519bbfe3-ea55-4c4b-951a-e3207160c97b",
   "metadata": {},
   "source": [
    "## Tâche 3 : Créer la connexion à la base de données\n",
    "\n",
    "Ibm_db’API utilise le pilote IBM Data Server pour les API ODBC et CLI pour se connecter à IBM DB2 et Informix.\n",
    "\n",
    "Créer la connexion à la base de données"
   ]
  },
  {
   "cell_type": "code",
   "execution_count": 3,
   "id": "703adbe4-8088-4044-aca1-d52adc769367",
   "metadata": {},
   "outputs": [
    {
     "name": "stdout",
     "output_type": "stream",
     "text": [
      "Connected to database:  bludb as user:  zyj48746 on host:  2f3279a5-73d1-4859-88f0-a6c3e6b4b907.c3n41cmd0nqnrk39u98g.databases.appdomain.cloud\n"
     ]
    }
   ],
   "source": [
    "#Create database connection\n",
    "#DO NOT MODIFY THIS CELL. Just RUN it with Shift + Enter\n",
    "dsn = (\n",
    "    \"DRIVER={0};\"\n",
    "    \"DATABASE={1};\"\n",
    "    \"HOSTNAME={2};\"\n",
    "    \"PORT={3};\"\n",
    "    \"PROTOCOL={4};\"\n",
    "    \"UID={5};\"\n",
    "    \"PWD={6};\"\n",
    "    \"SECURITY={7};\").format(dsn_driver, dsn_database, dsn_hostname, dsn_port, dsn_protocol, dsn_uid, dsn_pwd,dsn_security)\n",
    "\n",
    "try:\n",
    "    conn = ibm_db.connect(dsn, \"\", \"\")\n",
    "    print (\"Connected to database: \", dsn_database, \"as user: \", dsn_uid, \"on host: \", dsn_hostname)\n",
    "\n",
    "except:\n",
    "    print (\"Unable to connect: \", ibm_db.conn_errormsg() )\n"
   ]
  },
  {
   "cell_type": "markdown",
   "id": "a1259c2a-2d58-42bc-9402-526cec515147",
   "metadata": {},
   "source": [
    "## Task 4: Create a table in the database\n",
    "\n",
    "In this step we will create a table in the database with following details:\n",
    "\n",
    "<img src=\"https://ibm.box.com/shared/static/ztd2cn4xkdoj5erlk4hhng39kbp63s1h.jpg\" align=\"center\">\n"
   ]
  },
  {
   "cell_type": "code",
   "execution_count": 4,
   "id": "8b6a21ef-c75c-4d51-97e1-55d4c44c75a1",
   "metadata": {},
   "outputs": [],
   "source": [
    "#Lets first drop the table INSTRUCTOR in case it exists from a previous attempt\n",
    "# supprimez d’abord la table INSTRUCTOR au cas où elle existerait à partir d’une tentative précédente\n",
    "\n",
    "dropQuery = \"drop table INSTRUCTOR\"\n",
    "\n",
    "#Now execute the drop statment\n",
    "\n",
    "\n",
    "dropStmt = ibm_db.exec_immediate(conn, dropQuery)"
   ]
  },
  {
   "cell_type": "markdown",
   "id": "80cb6e26-4525-4e28-a6c8-eecaa37da006",
   "metadata": {},
   "source": [
    "cette table est déjà présente dans la base de donnée, c'est pourquoi il y'a pas eu un message d'erreur."
   ]
  },
  {
   "cell_type": "markdown",
   "id": "e895daa4-003f-45e5-be3f-50de89b35ef8",
   "metadata": {},
   "source": [
    "## Ne vous inquiétez pas si vous obtenez cette erreur :\n",
    "\n",
    "Si vous voyez une exception/erreur similaire à la suivante, indiquant que INSTRUCTOR est un nom indéfini, ce n’est pas grave. Cela implique simplement que la table INSTRUCTOR n’existe pas dans la table - ce qui serait le cas si vous ne l’aviez pas créée auparavant.\n",
    "\n",
    "Exception: [IBM][CLI Driver][DB2/LINUXX8664] SQL0204N  \"ABC12345.INSTRUCTOR\" is an undefined name.  SQLSTATE=42704 SQLCODE=-204\n"
   ]
  },
  {
   "cell_type": "code",
   "execution_count": 5,
   "id": "daf774b6-ca1d-408e-bc51-cc89d07f4f44",
   "metadata": {},
   "outputs": [
    {
     "ename": "AttributeError",
     "evalue": "module 'ibm_db' has no attribute 'replace_with_name_of_execution_method'",
     "output_type": "error",
     "traceback": [
      "\u001b[1;31m---------------------------------------------------------------------------\u001b[0m",
      "\u001b[1;31mAttributeError\u001b[0m                            Traceback (most recent call last)",
      "\u001b[1;32m~\\AppData\\Local\\Temp\\ipykernel_21252\\3048189228.py\u001b[0m in \u001b[0;36m<module>\u001b[1;34m\u001b[0m\n\u001b[0;32m      6\u001b[0m \u001b[1;31m#Now renseignez le nom de la méthode et exécutez l’instruction\u001b[0m\u001b[1;33m\u001b[0m\u001b[1;33m\u001b[0m\u001b[0m\n\u001b[0;32m      7\u001b[0m \u001b[1;33m\u001b[0m\u001b[0m\n\u001b[1;32m----> 8\u001b[1;33m \u001b[0mcreateStmt\u001b[0m \u001b[1;33m=\u001b[0m \u001b[0mibm_db\u001b[0m\u001b[1;33m.\u001b[0m\u001b[0mreplace_with_name_of_execution_method\u001b[0m\u001b[1;33m(\u001b[0m\u001b[0mconn\u001b[0m\u001b[1;33m,\u001b[0m \u001b[0mcreateQuery\u001b[0m\u001b[1;33m)\u001b[0m\u001b[1;33m\u001b[0m\u001b[1;33m\u001b[0m\u001b[0m\n\u001b[0m",
      "\u001b[1;31mAttributeError\u001b[0m: module 'ibm_db' has no attribute 'replace_with_name_of_execution_method'"
     ]
    }
   ],
   "source": [
    "#Construct the Create Table DDL statement - replace the ... with rest of the statement\n",
    "#Construct l’instruction Create Table DDL - remplacez le ... avec le reste de l’instruction\n",
    "createQuery = \"create table INSTRUCTOR(ID INTEGER PRIMARY KEY NOT NULL, FNAME VARCHAR(20), LNAME VARCHAR(20), CITY VARCHAR(20), CCODE CHAR(2))\"\n",
    "\n",
    "#Now fill in the name of the method and execute the statement\n",
    "#Now renseignez le nom de la méthode et exécutez l’instruction\n",
    "\n",
    "createStmt = ibm_db.replace_with_name_of_execution_method(conn, createQuery)"
   ]
  },
  {
   "cell_type": "code",
   "execution_count": 6,
   "id": "25c078f0-e102-4c13-8d06-cf233f0552c4",
   "metadata": {},
   "outputs": [],
   "source": [
    "#Construct the Create Table DDL statement - replace the ... with rest of the statement\n",
    "#Construct l’instruction Create Table DDL - remplacez le ... avec le reste de l’instruction\n",
    "createQuery = \"create table INSTRUCTOR(ID INTEGER PRIMARY KEY NOT NULL, FNAME VARCHAR(20), LNAME VARCHAR(20), CITY VARCHAR(20), CCODE CHAR(2))\"\n",
    "\n",
    "#Now fill in the name of the method and execute the statement\n",
    "#Now renseignez le nom de la méthode et exécutez l’instruction\n",
    "\n",
    "createStmt = ibm_db.exec_immediate(conn,createQuery)"
   ]
  },
  {
   "cell_type": "markdown",
   "id": "64d46d1b-5150-4a7f-bd4f-6754c7f8a3bd",
   "metadata": {},
   "source": [
    "## Tâche 5 : Insérer des données dans le tableau\n",
    "\n",
    "Dans cette étape, nous allons insérer quelques lignes de données dans le tableau. \n",
    "\n",
    "La table INSTRUCTOR que nous avons créée à l’étape précédente contient 3 lignes de données :\n",
    "\n",
    "<img src=\"https://ibm.box.com/shared/static/j5yjassxefrjknivfpekj7698dqe4d8i.jpg\" align=\"center\">\n",
    "\n",
    "\n",
    "Nous commencerons par insérer uniquement la première ligne de données, c’est-à-dire pour l’instructeur Rav Ahuja"
   ]
  },
  {
   "cell_type": "code",
   "execution_count": 7,
   "id": "a1ba138f-7511-42c6-9564-2cf906ad584a",
   "metadata": {},
   "outputs": [],
   "source": [
    "#Construct the query - replace ... with the insert statement\n",
    "insertQuery = \" insert into INSTRUCTOR values (1, 'Rav', 'Ahuja', 'TORONTO', 'CA')\"\n",
    "\n",
    "#execute the insert statement\n",
    "insertStmt = ibm_db.exec_immediate(conn, insertQuery)"
   ]
  },
  {
   "cell_type": "code",
   "execution_count": 8,
   "id": "4d5d71e0-0d74-4222-a461-bddbf9ce4b3d",
   "metadata": {},
   "outputs": [],
   "source": [
    "#replace ... with the insert statement that inerts the remaining two rows of data\n",
    "insertQuery2 = \"insert into INSTRUCTOR values (2, 'Raul', 'Chong', 'Markham', 'CA'),  (3, 'Hima', 'Vasudevan', 'Chicago', 'US')\"\n",
    "\n",
    "#execute the statement\n",
    "insertStmt2 = ibm_db.exec_immediate(conn, insertQuery2)"
   ]
  },
  {
   "cell_type": "markdown",
   "id": "1ce15638-eb65-4e0e-80d8-30bd96f55707",
   "metadata": {},
   "source": [
    "## Tâche 6 : Interroger les données dans la table\n",
    "\n",
    "Dans cette étape, nous allons récupérer les données que nous avons insérées dans la table INSTRUCTOR. "
   ]
  },
  {
   "cell_type": "code",
   "execution_count": 9,
   "id": "445dc7f3-9050-4488-8e01-fbc413e3542d",
   "metadata": {},
   "outputs": [
    {
     "data": {
      "text/plain": [
       "{'ID': 1,\n",
       " 0: 1,\n",
       " 'FNAME': 'Rav',\n",
       " 1: 'Rav',\n",
       " 'LNAME': 'Ahuja',\n",
       " 2: 'Ahuja',\n",
       " 'CITY': 'TORONTO',\n",
       " 3: 'TORONTO',\n",
       " 'CCODE': 'CA',\n",
       " 4: 'CA'}"
      ]
     },
     "execution_count": 9,
     "metadata": {},
     "output_type": "execute_result"
    }
   ],
   "source": [
    "#Construct the query that retrieves all rows from the INSTRUCTOR table\n",
    "selectQuery = \"select * from INSTRUCTOR\"\n",
    "\n",
    "#Execute the statement\n",
    "selectStmt = ibm_db.exec_immediate(conn, selectQuery)\n",
    "\n",
    "#Fetch the Dictionary (for the first row only) - replace ... with your code\n",
    "#Fetch le dictionnaire (pour la première ligne uniquement) - remplacez ... avec votre code\n",
    "ibm_db.fetch_both(selectStmt)"
   ]
  },
  {
   "cell_type": "code",
   "execution_count": 10,
   "id": "cc41a858-deaa-4255-8059-f3ce6cf9ceec",
   "metadata": {},
   "outputs": [
    {
     "name": "stdout",
     "output_type": "stream",
     "text": [
      " ID: 2  FNAME: Raul\n",
      " ID: 3  FNAME: Hima\n"
     ]
    }
   ],
   "source": [
    "#Fetch the rest of the rows and print the ID and FNAME for those rows\n",
    "#Fetch le reste des lignes et imprimez l’ID et le FNAME de ces lignes\n",
    "\n",
    "while ibm_db.fetch_row(selectStmt) != False:\n",
    "   print (\" ID:\",  ibm_db.result(selectStmt, 0), \" FNAME:\",  ibm_db.result(selectStmt, \"FNAME\"))"
   ]
  },
  {
   "cell_type": "markdown",
   "id": "7e334c6e-f5f9-4436-8778-422a9654423a",
   "metadata": {},
   "source": [
    "Bonus : écrivez et exécutez maintenant une déclaration de mise à jour qui change la VILLE du Rav en MOOSETOWN"
   ]
  },
  {
   "cell_type": "code",
   "execution_count": 11,
   "id": "da6a7ebe-bb96-42d6-82eb-2b4a28763968",
   "metadata": {},
   "outputs": [],
   "source": [
    "#Enter your code below\n",
    "updateQuery = \"update INSTRUCTOR set CITY='MOOSETOWN' where FNAME='Rav'\"\n",
    "updateStmt = ibm_db.exec_immediate(conn, updateQuery)\n"
   ]
  },
  {
   "cell_type": "markdown",
   "id": "0e6f33b9-87dd-44fe-a623-1a433c550bb7",
   "metadata": {},
   "source": [
    "## Task 7: Retrieve data into Pandas \n",
    "\n",
    "In this step we will retrieve the contents of the INSTRUCTOR table into a Pandas dataframe\n"
   ]
  },
  {
   "cell_type": "code",
   "execution_count": 13,
   "id": "e9c56680-060f-46df-a6d6-9fc2f33bf0f8",
   "metadata": {},
   "outputs": [],
   "source": [
    "import pandas\n",
    "import ibm_db_dbi"
   ]
  },
  {
   "cell_type": "code",
   "execution_count": 14,
   "id": "de928759-7f5e-4a5e-aab8-d544d082401b",
   "metadata": {},
   "outputs": [],
   "source": [
    "#connection for pandas\n",
    "pconn = ibm_db_dbi.Connection(conn)"
   ]
  },
  {
   "cell_type": "code",
   "execution_count": 16,
   "id": "bc0f631a-28a3-484e-954a-af358d44fcc7",
   "metadata": {},
   "outputs": [
    {
     "name": "stderr",
     "output_type": "stream",
     "text": [
      "C:\\Users\\Lenovo\\anaconda3\\lib\\site-packages\\pandas\\io\\sql.py:762: UserWarning: pandas only support SQLAlchemy connectable(engine/connection) ordatabase string URI or sqlite3 DBAPI2 connectionother DBAPI2 objects are not tested, please consider using SQLAlchemy\n",
      "  warnings.warn(\n"
     ]
    },
    {
     "data": {
      "text/plain": [
       "'Ahuja'"
      ]
     },
     "execution_count": 16,
     "metadata": {},
     "output_type": "execute_result"
    }
   ],
   "source": [
    "#query statement to retrieve all rows in INSTRUCTOR table\n",
    "selectQuery = \"select * from INSTRUCTOR\"\n",
    "\n",
    "#retrieve the query results into a pandas dataframe\n",
    "pdf = pandas.read_sql(selectQuery, pconn)\n",
    "\n",
    "#print just the LNAME for first row in the pandas data frame\n",
    "pdf.LNAME[0]"
   ]
  },
  {
   "cell_type": "code",
   "execution_count": 17,
   "id": "fbb41e90-d383-4cb1-907e-860fd8f633be",
   "metadata": {},
   "outputs": [
    {
     "data": {
      "text/html": [
       "<div>\n",
       "<style scoped>\n",
       "    .dataframe tbody tr th:only-of-type {\n",
       "        vertical-align: middle;\n",
       "    }\n",
       "\n",
       "    .dataframe tbody tr th {\n",
       "        vertical-align: top;\n",
       "    }\n",
       "\n",
       "    .dataframe thead th {\n",
       "        text-align: right;\n",
       "    }\n",
       "</style>\n",
       "<table border=\"1\" class=\"dataframe\">\n",
       "  <thead>\n",
       "    <tr style=\"text-align: right;\">\n",
       "      <th></th>\n",
       "      <th>ID</th>\n",
       "      <th>FNAME</th>\n",
       "      <th>LNAME</th>\n",
       "      <th>CITY</th>\n",
       "      <th>CCODE</th>\n",
       "    </tr>\n",
       "  </thead>\n",
       "  <tbody>\n",
       "    <tr>\n",
       "      <th>0</th>\n",
       "      <td>1</td>\n",
       "      <td>Rav</td>\n",
       "      <td>Ahuja</td>\n",
       "      <td>MOOSETOWN</td>\n",
       "      <td>CA</td>\n",
       "    </tr>\n",
       "    <tr>\n",
       "      <th>1</th>\n",
       "      <td>2</td>\n",
       "      <td>Raul</td>\n",
       "      <td>Chong</td>\n",
       "      <td>Markham</td>\n",
       "      <td>CA</td>\n",
       "    </tr>\n",
       "    <tr>\n",
       "      <th>2</th>\n",
       "      <td>3</td>\n",
       "      <td>Hima</td>\n",
       "      <td>Vasudevan</td>\n",
       "      <td>Chicago</td>\n",
       "      <td>US</td>\n",
       "    </tr>\n",
       "  </tbody>\n",
       "</table>\n",
       "</div>"
      ],
      "text/plain": [
       "   ID FNAME      LNAME       CITY CCODE\n",
       "0   1   Rav      Ahuja  MOOSETOWN    CA\n",
       "1   2  Raul      Chong    Markham    CA\n",
       "2   3  Hima  Vasudevan    Chicago    US"
      ]
     },
     "execution_count": 17,
     "metadata": {},
     "output_type": "execute_result"
    }
   ],
   "source": [
    "#print the entire data frame\n",
    "pdf"
   ]
  },
  {
   "cell_type": "markdown",
   "id": "06ce7cd6-e5f7-46ee-a30a-714b9496a4b1",
   "metadata": {},
   "source": [
    "Une fois que les données sont dans un dataframe Pandas, vous pouvez effectuer les opérations typiques de pandas sur celui-ci. \n",
    "\n",
    "Par exemple, vous pouvez utiliser la méthode shape pour voir combien de lignes et de colonnes se trouvent dans le dataframe.\n"
   ]
  },
  {
   "cell_type": "code",
   "execution_count": 18,
   "id": "56a03c6f-ddfb-45b4-a5b1-8b66f4e5bb58",
   "metadata": {},
   "outputs": [
    {
     "data": {
      "text/plain": [
       "(3, 5)"
      ]
     },
     "execution_count": 18,
     "metadata": {},
     "output_type": "execute_result"
    }
   ],
   "source": [
    "pdf.shape"
   ]
  },
  {
   "cell_type": "markdown",
   "id": "31e8552f-6f04-4538-8a98-38cd8481f2af",
   "metadata": {},
   "source": [
    "## Task 8: Close the Connection\n",
    "We free all resources by closing the connection. Remember that it is always important to close connections so that we can avoid unused connections taking up resources."
   ]
  },
  {
   "cell_type": "code",
   "execution_count": 19,
   "id": "9159fb3a-e79e-46be-80df-6df9b66db369",
   "metadata": {},
   "outputs": [
    {
     "data": {
      "text/plain": [
       "True"
      ]
     },
     "execution_count": 19,
     "metadata": {},
     "output_type": "execute_result"
    }
   ],
   "source": [
    "ibm_db.close(conn)"
   ]
  },
  {
   "cell_type": "markdown",
   "id": "44d41ba5-d7ab-4bd5-b486-d4f8681a0fd9",
   "metadata": {},
   "source": [
    "## Summary\n",
    "\n",
    "In this tutorial you established a connection to a database instance of DB2 Warehouse on Cloud from a Python notebook using ibm_db API. Then created a table and insert a few rows of data into it. Then queried the data. You also retrieved the data into a pandas dataframe.\n",
    "\n",
    "\n",
    "Dans ce didacticiel, vous avez établi une connexion à une instance de base de données de DB2 Warehouse on Cloud à partir d’un notebook Python à l’aide de ibm_db API. Ensuite, vous avez créé une table et insérez-y quelques lignes de données. Ensuite, interrogez les données. Vous avez également récupéré les données dans une trame de données pandas."
   ]
  },
  {
   "cell_type": "code",
   "execution_count": null,
   "id": "0589e638-fdf4-479e-a2ce-46235ddbe936",
   "metadata": {},
   "outputs": [],
   "source": []
  },
  {
   "cell_type": "code",
   "execution_count": null,
   "id": "ad7f87e8-33b1-4543-b38d-1d1877cdf737",
   "metadata": {},
   "outputs": [],
   "source": []
  },
  {
   "cell_type": "code",
   "execution_count": null,
   "id": "78d84ca5-7b0c-4769-bf59-8f028fd0b65e",
   "metadata": {},
   "outputs": [],
   "source": []
  },
  {
   "cell_type": "code",
   "execution_count": null,
   "id": "1626d6f1-3bf4-4d46-9019-26f63c82202a",
   "metadata": {},
   "outputs": [],
   "source": []
  },
  {
   "cell_type": "code",
   "execution_count": null,
   "id": "f9861c78-d670-4f53-acde-7397d84f4deb",
   "metadata": {},
   "outputs": [],
   "source": []
  },
  {
   "cell_type": "code",
   "execution_count": null,
   "id": "02438634-c596-45df-ba96-d1c82931aca6",
   "metadata": {},
   "outputs": [],
   "source": []
  },
  {
   "cell_type": "code",
   "execution_count": null,
   "id": "f8efdc68-4eae-4404-a119-cd1c996485d9",
   "metadata": {},
   "outputs": [],
   "source": []
  }
 ],
 "metadata": {
  "kernelspec": {
   "display_name": "Python 3 (ipykernel)",
   "language": "python",
   "name": "python3"
  },
  "language_info": {
   "codemirror_mode": {
    "name": "ipython",
    "version": 3
   },
   "file_extension": ".py",
   "mimetype": "text/x-python",
   "name": "python",
   "nbconvert_exporter": "python",
   "pygments_lexer": "ipython3",
   "version": "3.9.13"
  }
 },
 "nbformat": 4,
 "nbformat_minor": 5
}
