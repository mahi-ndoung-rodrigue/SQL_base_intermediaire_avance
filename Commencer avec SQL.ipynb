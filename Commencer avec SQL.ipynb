{
 "cells": [
  {
   "cell_type": "markdown",
   "id": "0d4e1ae8-362a-4a08-bcc0-ed9f77d08974",
   "metadata": {},
   "source": [
    "Une bonne connaissance de SQL (ou Structured Query Language) est indispensable pour les professionnels des données, tels que les scientifiques, les analystes et les ingénieurs des données. La plupart des données mondiales résident dans des bases de données. SQL est un langage puissant utilisé pour communiquer avec les bases de données et en extraire des données. Dans ce cours, vous apprendrez SQL de fond en comble, depuis les bases des instructions Select jusqu'aux concepts avancés tels que les JOINs. Vous allez : -écrire des instructions SQL fondamentales telles que : SELECT, INSERT, UPDATE et DELETE -filtrer les ensembles de résultats, utiliser les clauses WHERE, COUNT, DISTINCT et LIMIT -différencier entre DML et DDL -CREATE, ALTER, DROP et charger des tables -utiliser des modèles de chaînes de caractères et des plages ; Accéder aux bases de données en tant que data scientist en utilisant les notebooks Jupyter avec SQL et Python - Travailler avec des concepts avancés comme les procédures stockées, les vues, les transactions ACID, les JOINs internes et externes à travers des laboratoires et des projets pratiques Vous vous entraînerez à construire des requêtes SQL, à travailler avec de vraies bases de données sur le Cloud, et à utiliser de vrais outils de data science. Dans le projet final, vous analyserez plusieurs ensembles de données du monde réel pour démontrer vos compétences.\n",
    "\n",
    "\n",
    "Voir moins\n"
   ]
  },
  {
   "cell_type": "code",
   "execution_count": null,
   "id": "bc3b58da-7387-44fe-b9c4-66d9cb41c9fd",
   "metadata": {},
   "outputs": [],
   "source": []
  },
  {
   "cell_type": "markdown",
   "id": "e6910036-a5d7-49aa-9d1d-846e1a72acad",
   "metadata": {},
   "source": [
    "introduction au cours SQL"
   ]
  },
  {
   "cell_type": "markdown",
   "id": "4270ab20-63e1-464b-8a4a-d7bbe712fd1f",
   "metadata": {},
   "source": [
    "En cette ère centrée sur les données, le rôle des données et des structures utilisées pour soutenir leur utilisation deviennent de plus en plus essentiels pour l'humanité et le monde en général. La science des données est une industrie de plusieurs milliards de dollars qui ne peut que croître à mesure que nous continuons à identifier ses applications dans les sciences, la politique, les affaires et presque tous les autres secteurs de notre vie. Saviez-vous que selon une récente enquête, le marché de la science des données représentera une industrie d'un milliard de dollars dans quelques décennies. En tant que data scientist, vous pouvez gagner 124 000$ par an en moyenne. Excitant, n'est-ce pas ? Nous générons et stockons des milliards de gigaoctets de données chaque jour. Cela étant dit, la nécessité d'analyser, de manipuler et, surtout, de gérer ces informations est devenue une tâche ardue. L'importance de la science des données dans le monde d'aujourd'hui ne peut donc être surestimée. Alors que nous nous dirigeons vers un monde centré sur les données, la valeur de la science des données atteint de nouveaux sommets dans un paysage numérique en évolution rapide. Les bases de données sont de vastes référentiels. Le SQL, ou langage de requête structuré, est la clé qui débloque ces trésors, nous permettant d'interroger, de mettre à jour et de manipuler les données de manière efficace. Le SQL joue un rôle essentiel dans le flux de travail de la science des données, car il permet aux professionnels d'extraire des informations précieuses à partir de grands ensembles de données complexes. Le SQL est puissant, pertinent au niveau mondial dans l'industrie et le monde universitaire, et largement utilisé par la plupart des data scientists aujourd'hui. Un langage très polyvalent appelé Python est utilisé pour connecter diverses bases de données, exécuter des requêtes SQL et récupérer les résultats dans un format propice à une analyse plus approfondie des données. Il propose un large éventail de bibliothèques qui simplifient le processus de connexion. Ce cours vise à vous fournir les connaissances et les compétences nécessaires pour exploiter\n",
    "Lisez la vidéo à partir de :2:4 et suivez la transcription2:04\n",
    "efficacement la puissance des bases de données et du SQL dans vos projets de science des données. Dans le module 1 de ce cours, vous apprendrez le SQL simple pour manipuler des données dans une table de base de données. Dans le module 2, vous découvrirez les instructions de définition des données et comment créer nos tables de base de données. Dans le module 3, vous découvrirez les fonctions intégrées, les sous-requêtes et l'utilisation de plusieurs tables. Dans le module 4, vous explorerez Python pour accéder aux bases de données à l'aide de Jupiter Notebooks. Le module 5 se concentre principalement sur un projet basé sur des données du monde réel conçu pour tester ce que vous avez appris pendant le cours. Un module supplémentaire 6 couvre des concepts avancés tels que les procédures stockées, les vues, les transactions acides, les jointures internes et externes. De plus, des laboratoires pratiques et des évaluations intégrés vous permettent d'appliquer les connaissances théoriques à des scénarios du monde réel, améliorant ainsi votre compréhension et votre mémorisation des concepts. Ils sont conçus dans le seul but de maximiser l'efficacité de votre apprentissage. Tout cela rendra votre parcours de l'apprentissage à la maîtrise du SQL pour la science des données interactif , engageant et surtout efficace. Qu'est-ce que tu attends ? Embrassons ensemble ce voyage passionnant.\n",
    "Obligatoire\n",
    "fr\n",
    "​\n",
    "\n"
   ]
  },
  {
   "cell_type": "markdown",
   "id": "a28ba7d4-31f2-454c-9f86-94c9acdc9ccd",
   "metadata": {},
   "source": [
    "Introduction aux bases de données"
   ]
  },
  {
   "cell_type": "markdown",
   "id": "e7d9595b-5dee-4442-83e0-8d903e1430f2",
   "metadata": {},
   "source": [
    "Qu'est-ce que SQL ? Le SQL est un langage utilisé par les bases de données relationnelles pour interroger ou extraire des données d'une base de données. SQL est également appelé SQL et est l'abréviation de son nom d'origine, Structured Query Language. SQL est un langage utilisé par une base de données pour interroger des données. Mais que sont les données et qu'est-ce qu'une base de données ? Les données sont un ensemble de faits sous forme de mots, de chiffres ou même d'images. Les données constituent l'un des actifs les plus importants de toute entreprise. Il est utilisé et collecté pratiquement partout. Votre banque enregistre des données vous concernant, votre nom, votre adresse, votre numéro de téléphone, vos numéros de compte, etc. La société émettrice de votre carte de crédit et vos comptes PayPal stockent également des données vous concernant. Les données sont importantes, elles doivent donc être sécurisées, stockées et accessibles rapidement. La réponse est une base de données. Qu'est-ce qu'une base de données ? Les bases de données sont omniprésentes et utilisées tous les jours, mais elles sont généralement considérées comme allant de soi. Une base de données est un référentiel de données, c'est un programme qui stocke des données. Une base de données fournit également la fonctionnalité permettant d'ajouter, de modifier et d'interroger ces données. Il existe différents types de bases de données répondant à des exigences différentes. Les données peuvent être stockées sous différentes formes. Lorsque les données sont stockées sous forme de tableau, elles sont organisées dans des tableaux, comme dans une feuille de calcul, composée de colonnes et de lignes, c'est une base de données relationnelle. Les colonnes contiennent des propriétés relatives à l'élément, telles que le nom, le prénom, l'adresse e-mail et la ville. Un tableau est un ensemble d'éléments connexes, comme une liste d'employés ou une liste d'auteurs de livres. Dans une base de données relationnelle, vous pouvez établir des relations entre les tables. Une base de données est un référentiel de données. Un ensemble d'outils logiciels pour les données de la base de données est appelé système de gestion de base de données, ou SGBD, en abrégé. Les termes base de données, serveur de base de données, système de base de données, serveur de données et systèmes de gestion de base de données sont souvent utilisés de manière interchangeable. Pour les bases de données relationnelles, on parle de système de gestion de base de données relationnelle ou SGBDR. Le SGBDR est un ensemble d'outils logiciels qui contrôlent les données , telles que l'accès, l'organisation et le stockage. Le SGBDR constitue l' épine dorsale des applications dans de nombreux secteurs , notamment les banques, les transports, la santé, etc.\n",
    "Lisez la vidéo à partir de :2:44 et suivez la transcription2:44\n",
    "MySQL, la base de données Oracle, l'entrepôt DB2 et DB2 on Cloud sont des exemples de systèmes de gestion de bases de données relationnelles. Pour la plupart des utilisateurs d'une base de données, il existe cinq commandes simples pour créer un tableau : insérer des données pour remplir le tableau, sélectionner des données dans le tableau, mettre à jour les données du tableau, supprimer des données du tableau. Vous pouvez maintenant décrire ce qu'est SQL, ce que sont les données, ce qu'est une base de données et ce qu'est une base de données relationnelle.\n",
    "Lisez la vidéo à partir de :3:19 et suivez la transcription3:19\n",
    "Vous savez, le SGBDR signifie Système de gestion de bases de données relationnelles (SGBDR) et vous pouvez répertorier cinq commandes SQL de base pour créer une table, insérer des données pour remplir la table, sélectionner des données dans la table, mettre à jour les données dans la table et supprimer des données de la table. Merci d'avoir regardé cette vidéo."
   ]
  },
  {
   "cell_type": "markdown",
   "id": "9c3108d0-9dcc-4c9f-aba1-7ae22b5c6c90",
   "metadata": {},
   "source": [
    "Bonjour et bienvenue à la récupération de données avec l'instruction SELECT. Dans cette vidéo, nous allons apprendre à récupérer des données dans une table de base de données relationnelle en sélectionnant les colonnes d'une table. A la fin de cette leçon, vous serez capable de récupérer des données dans une table de base de données relationnelle, de trouver l'utilisation d'un prédicat, d'identifier la syntaxe de l'instruction SELECT en utilisant la clause WHERE, et d'énumérer les opérateurs de comparaison pris en charge par un système de gestion de base de données relationnelle. L'objectif principal d'un système de gestion de base de données, , n'est pas seulement de stocker les données, mais aussi de faciliter leur récupération. Ainsi, après avoir créé une table de base de données relationnelle et inséré des données dans la table, nous voulons voir les données. Pour voir les données, nous utilisons l'instruction SELECT. L'instruction SELECT est une instruction du langage de manipulation de données. Les instructions DML (Data Manipulation Language) sont utilisées pour lire et modifier des données. L'instruction SELECT s'appelle une requête, et le résultat que nous obtenons en exécutant cette requête s'appelle un ensemble de résultats ou une table de résultats. Dans sa forme la plus simple, une instruction SELECT est select star from table name. En nous basant sur l'exemple de l'entité book, nous créerions la table en utilisant le nom de l'entité book et les attributs de l'entité en tant que colonnes de la table. Les données seraient ajoutées à la table book en ajoutant lignes à la table à l'aide de l'instruction insert. Dans l'exemple de l'entité book, select star from book donne un ensemble de résultats de quatre lignes. Toutes les lignes de données de toutes les colonnes de la table book sont affichées. En outre, vous pouvez également récupérer toutes les lignes de toutes les colonnes en spécifiant les noms de colonne individuellement dans l'instruction SELECT. Il n'est pas toujours nécessaire d'extraire toutes les colonnes d'un tableau. Vous pouvez n'extraire qu'un sous-ensemble de colonnes. Si vous le souhaitez, vous pouvez n'extraire que deux colonnes du livre du tableau. Par exemple book_id et title. Dans ce cas, l'instruction select est select book_id, title from book. Dans ce cas, seules les deux colonnes s'affichent pour chacune des quatre lignes. Remarquez également que l'ordre des colonnes affichées correspond toujours à l'ordre de l'instruction SELECT. Cependant, que se passe-t-il si nous voulons connaître le titre du livre dont le book_id est B1. L'opération relationnelle nous aide à restreindre l'ensemble des résultats en nous permettant d'utiliser la clause WHERE. La clause WHERE nécessite toujours un prédicat. Un prédicat est conditionné à true, false ou unknown. Les prédicats sont utilisés dans la condition de recherche de la clause WHERE. Ainsi, si nous avons besoin de connaître le titre du livre dont le book_id est B1, nous utilisons la clause WHERE avec le prédicat book_id equals B1. Select book_id title from book where book_id equals B1. Remarquez que l'ensemble de résultats est maintenant restreint à une seule ligne dont la condition évalue à true. L'exemple précédent a utilisé l'opérateur de comparaison equal to dans la clause WHERE. Il existe d'autres opérateurs de comparaison pris en charge par un système de gestion de base de données relationnelle : égal à, supérieur à, inférieur à, supérieur ou égal à, inférieur ou égal à, et non égal à. Vous pouvez maintenant extraire des données et sélectionner des colonnes dans une table de base de données relationnelle, définir l'utilisation d'un prédicat, identifier la syntaxe de l'instruction SELECT à l'aide de la clause WHERE, et énumérer les opérateurs de comparaison pris en charge par un système de gestion de base de données relationnelle. Merci d'avoir regardé cette vidéo."
   ]
  },
  {
   "cell_type": "markdown",
   "id": "32e05869-d2a6-46e0-afbb-7ae9219f5543",
   "metadata": {},
   "source": [
    "Exemples d’instructions SELECT\n",
    "Temps estimé : 5 min\n",
    "\n",
    "Objectifs\n",
    "À la fin de cette lecture, vous apprendrez à :\n",
    "\n",
    "Utilisez diverses requêtes SELECT pour récupérer des données à partir de la base de données.\n",
    "Utilisation de l’instruction SELECT\n",
    "SELECT est classé comme une commande de requête de base de données utilisée pour récupérer des informations à partir d’une table de base de données.\n",
    "\n",
    "Il existe différentes formes dans lesquelles une instruction SELECT est utilisée."
   ]
  },
  {
   "cell_type": "markdown",
   "id": "f78a003c-f3a0-4d6b-95a2-b953f232f7c8",
   "metadata": {},
   "source": [
    "1. ##### La syntaxe générale d’une instruction SELECT récupère les données sous les colonnes répertoriées à partir de Table_1. Le code est le suivant :"
   ]
  },
  {
   "cell_type": "code",
   "execution_count": null,
   "id": "ebfe21f9-a102-4449-bb90-f172b6673ff2",
   "metadata": {},
   "outputs": [],
   "source": [
    "SELECT COLUMN1, COLUMN2, ... FROM TABLE_1 ;"
   ]
  },
  {
   "cell_type": "markdown",
   "id": "7cc4b296-3e01-4bb0-8690-22d842f38a34",
   "metadata": {},
   "source": [
    "2. ##### Pour récupérer toutes les colonnes d’une table, utilisez \" * \" au lieu de spécifier des noms de colonnes individuelles. Le code ci-dessous récupère l’intégralité de la table."
   ]
  },
  {
   "cell_type": "code",
   "execution_count": null,
   "id": "4c6b86d6-dfad-4ab0-8132-ba1dc8e4f55a",
   "metadata": {},
   "outputs": [],
   "source": [
    "SELECT * FROM TABLE_1 ;"
   ]
  },
  {
   "cell_type": "markdown",
   "id": "3c9329a5-6d59-4b2f-af90-5852baa28f7b",
   "metadata": {},
   "source": [
    "3. ##### Utilisez la clause WHERE pour filtrer les données requises en fonction d’un prédicat. Le code ci-dessous filtre la réponse uniquement aux entrées qui correspondent au prédicat."
   ]
  },
  {
   "cell_type": "markdown",
   "id": "d324b021-9898-44aa-a79c-a45b12894e54",
   "metadata": {},
   "source": [
    "SELECT <COLUMNS> FROM TABLE_1 WHERE <predicate> ;"
   ]
  },
  {
   "cell_type": "markdown",
   "id": "76b2dd8e-a668-414c-8be4-bbb9ff2bfa69",
   "metadata": {},
   "source": [
    "SELECT examples\n",
    "Let's look at these codes in action. Below is a database table called 'COUNTRY,' which contains the columns ID, Name, and CCode. Here, CCode is a 2 letter country code."
   ]
  },
  {
   "cell_type": "markdown",
   "id": "9af21b2c-ed85-4c5f-8749-980523f7c8e0",
   "metadata": {},
   "source": [
    "Exemples SELECT\n",
    "Regardons ces codes en action. Vous trouverez ci-dessous une table de base de données appelée « COUNTRY », qui contient les colonnes ID, Name et CCode. Ici, CCode est un code de pays à 2 lettres."
   ]
  },
  {
   "cell_type": "markdown",
   "id": "a8cbd19c-a71a-42bf-9d6b-fcbac2b36f7a",
   "metadata": {},
   "source": [
    "|ID\t| Name\t                     | CCode|\n",
    "|1\t| United States of America\t | US\n",
    "|2\t| China\t                     | CH\n",
    "|3\t|Japan\t                     | JA\n",
    "|4\t|Germany\t                 | GE\n",
    "|5\t|India\t                     | IN\n",
    "|6\t|United Kingdom\t             | UK\n",
    "|7\t|France\t                     | FR\n",
    "|8\t|Italy\t                     | IT\n",
    "|9\t|Canada\t                     | CA\n",
    "|10\t|Brazil\t                     | BR"
   ]
  },
  {
   "cell_type": "markdown",
   "id": "4127fc7f-7478-4c6e-a89c-37a3081401fe",
   "metadata": {},
   "source": [
    "Exemple #2\n",
    "La requête SQL SELECT ID, Name FROM COUNTRY ; récupère des colonnes spécifiques à partir d’une table de base de données nommée 'COUNTRY'.\n",
    "\n",
    "'SELECT ID, Name' indique à la base de données de sélectionner deux colonnes spécifiques dans la table : « ID » et « Name ». Il renverra ces deux colonnes pour chaque ligne qui correspond aux critères de requête.\n",
    "'FROM COUNTRY' spécifie la table à partir de laquelle récupérer les données, qui est la table « COUNTRY ». Le tableau ci-dessous montre que seules les colonnes « ID » et « Name » ont été récupérées.\n",
    "\n",
    "\n",
    "Réponse:"
   ]
  },
  {
   "cell_type": "markdown",
   "id": "fcf5cc7e-600c-4d4b-b53e-77faf2111805",
   "metadata": {},
   "source": [
    "Exemple #3\n",
    "La requête SQL SELECT * FROM COUNTRY WHERE ID <= 5 ; récupère toutes les colonnes de la table « COUNTRY » où la valeur de la colonne « ID » est inférieure ou égale à 5.\n",
    "\n",
    "- SELECT * indique à la base de données de sélectionner toutes les colonnes de la table spécifiée.\n",
    "- FROM COUNTRY spécifie la balle à partir de laquelle récupérer les données, qui est la table 'COUNTRY'.\n",
    "- WHERE ID <= 5 ; est une condition qui filtre les lignes de la table. Il ne renverra que les lignes dont la valeur dans la colonne « ID » est inférieure ou égale"
   ]
  },
  {
   "cell_type": "markdown",
   "id": "245d8f31-b530-4d7c-bee0-535a02c33c6a",
   "metadata": {},
   "source": [
    "Response:\n",
    "\n",
    "ID\t|Name\t|                    CCode\n",
    "1\tUnited States of America\t US\n",
    "2\tChina\t                     CH\n",
    "3\tJapan\t                     JA\n",
    "4\tGermany\t                     GE\n",
    "5\tIndia\t                      IN"
   ]
  },
  {
   "cell_type": "markdown",
   "id": "803cea5d-6c9e-42c0-bd9c-f54db4d1ad4d",
   "metadata": {},
   "source": [
    "Exemple #4\n",
    "La requête SQLSELECT * FROM COUNTRY WHERE CCode = 'CA' ; récupère toutes les colonnes de la table « COUNTRY » où la valeur de la colonne « CCode » est égale à « CA ».\n",
    "\n",
    "- SELECT * indique à la base de données de sélectionner toutes les colonnes de la table spécifiée.\n",
    "- FROM COUNTRY spécifie la balle à partir de laquelle récupérer les données, qui est la table 'COUNTRY'.\n",
    "- WHERE CCode = 'CA' ; est une condition qui filtre les lignes de la table. Il ne renverra que les lignes dont la valeur dans la colonne « CCode » est égale à « CA »."
   ]
  },
  {
   "cell_type": "code",
   "execution_count": null,
   "id": "393bb649-3515-4e5f-8ae8-0114871249fd",
   "metadata": {},
   "outputs": [],
   "source": [
    "In the lab that follows later in the module, you will apply these concepts and practice more SELECT queries hands-on.\n",
    "\n",
    "In this reading, you learned that:\n",
    "\n",
    "SELECT is a Database Query command that retrieves information from a database table.\n",
    "The SELECT statement has various forms depending on what action you require.\n",
    "The general syntax will retrieve the data under the listed columns from a named table.\n",
    "Use \"*\" to retrieve all columns from a table without specifying individual column names.\n",
    "Use the WHERE clause to filter the data based on a predicate."
   ]
  },
  {
   "cell_type": "markdown",
   "id": "0b981290-133d-46d7-8989-f3d7794e1b31",
   "metadata": {},
   "source": [
    "Temps estimé nécessaire : 20 minutes\n",
    "\n",
    "Dans cet atelier, vous allez apprendre l’une des instructions SQL (Structured Query Language) les plus couramment utilisées, l’instruction SELECT. L’instruction SELECT permet de sélectionner des données dans une base de données.\n",
    "\n",
    "Objectifs"
   ]
  },
  {
   "cell_type": "markdown",
   "id": "9f87ccd9-37b3-486f-8ba7-7521a9e341d0",
   "metadata": {},
   "source": [
    "À l’issue de cet atelier, vous serez en mesure de :\n",
    "\n",
    "Interroger une base de données pour obtenir une réponse sous la forme d’un jeu de résultats\n",
    "Récupérer toutes les colonnes d’un jeu de données ou certaines d’entre elles\n",
    "Appliquer des commandes de critères pour filtrer le jeu de résultats"
   ]
  },
  {
   "cell_type": "code",
   "execution_count": null,
   "id": "c3b4fbe3-f85e-466a-bd86-bf29cc94cb66",
   "metadata": {},
   "outputs": [],
   "source": [
    "Logiciels utilisés dans cet atelier"
   ]
  },
  {
   "cell_type": "markdown",
   "id": "55373e95-2d9a-4db6-a8c2-67ec3ebc5359",
   "metadata": {},
   "source": [
    "In this lab, you will use Datasette, an open source-tool for exploring and publishing data. You can visit the Datasette GitHub repository here. https://github.com/simonw/datasette"
   ]
  },
  {
   "cell_type": "markdown",
   "id": "12250742-ed77-4702-aca7-0294ba2cc1da",
   "metadata": {},
   "source": [
    "Utilisation de Datasette\n",
    "L’outil Datasette offre une plate-forme pour saisir et exécuter des requêtes SQL. En cliquant sur le bouton Envoyer la requête, vous pouvez exécuter la requête SQL."
   ]
  },
  {
   "cell_type": "markdown",
   "id": "24eeddf8-7046-41fd-a6b2-8e18b233f88f",
   "metadata": {},
   "source": [
    "ce cours est valable pour trois ans."
   ]
  },
  {
   "cell_type": "markdown",
   "id": "6aaba7f4-de94-4d09-8909-eaefeb5edca5",
   "metadata": {},
   "source": [
    "skills network labs\n",
    "[labopratique](https://labs.cognitiveclass.ai/v2/tools/datasette?ulid=ulid-8b62daf2e5028281c250e15b5ea01dbbcbe84b85)"
   ]
  },
  {
   "cell_type": "markdown",
   "id": "bba985b4-8326-473c-a0e0-da954fb2826e",
   "metadata": {},
   "source": [
    "Exploration de la base de données\n",
    "Explorons d’abord la base de données SanFranciscoFilmLocations à l’aide de l’outil Datasette :"
   ]
  },
  {
   "cell_type": "markdown",
   "id": "1556f2b2-dc73-428a-9872-ea77d47ebd3f",
   "metadata": {},
   "source": [
    "1. ##### Supposons que nous voulions récupérer les détails de tous les films à partir de la table FilmLocations. Les détails de chaque enregistrement de film doivent contenir toutes les colonnes. L’instruction de requête pour cela est la suivante :"
   ]
  },
  {
   "cell_type": "code",
   "execution_count": null,
   "id": "74739c6c-6734-4614-aa58-6eccc91768cb",
   "metadata": {},
   "outputs": [],
   "source": [
    "SELECT * FROM FilmLocations;"
   ]
  },
  {
   "cell_type": "markdown",
   "id": "f238dd12-42a3-48ed-b241-570ba26d3d65",
   "metadata": {},
   "source": [
    "Maintenant, vous pouvez faire défiler le tableau vers le bas et explorer toutes les colonnes et lignes du tableau FilmLocations pour avoir une idée globale du contenu du tableau."
   ]
  },
  {
   "cell_type": "markdown",
   "id": "4de46b2d-0855-4a46-b0d4-391d11286457",
   "metadata": {},
   "source": [
    " 2. ##### Nous voulons récupérer les noms des films et les noms des réalisateurs et des scénaristes. La requête serait maintenant la suivante :"
   ]
  },
  {
   "cell_type": "code",
   "execution_count": null,
   "id": "4b8fd3be-d8c2-4f91-9b8a-66a20d590ee6",
   "metadata": {},
   "outputs": [],
   "source": [
    "SELECT Title, Director, Writer FROM FilmLocations;"
   ]
  },
  {
   "cell_type": "markdown",
   "id": "881636ac-87b4-47f1-a8cc-0656ecaa1bef",
   "metadata": {},
   "source": [
    " 3. ##### Nous voulons récupérer les noms des films ainsi que les lieux de tournage et les années de sortie. Mais nous voulons également restreindre le jeu de résultats de sortie pour ne récupérer que les enregistrements de films sortis en 2001 et au-delà (années de sortie après 2001, y compris 2001)."
   ]
  },
  {
   "cell_type": "markdown",
   "id": "0573bd99-0750-4bf0-8eda-087cfeea4af9",
   "metadata": {},
   "source": [
    " SELECT Title, ReleaseYear, Locations FROM FilmLocations WHERE ReleaseYear>=2001;"
   ]
  },
  {
   "cell_type": "markdown",
   "id": "85162c3c-92fb-4940-abed-1659806760c1",
   "metadata": {},
   "source": [
    "## Exercices pratiques sur l’instruction SELECT"
   ]
  },
  {
   "cell_type": "markdown",
   "id": "f3ad0d5d-1701-4288-b2e8-a8a73403cff8",
   "metadata": {},
   "source": [
    " 1. ##### Récupérez les faits amusants et les lieux de tournage de tous les films. Suivez l’exemple 2 de SELECT, WHERE des enregistrements contenant des détails de certaines colonnes particulières ont été récupérés."
   ]
  },
  {
   "cell_type": "markdown",
   "id": "a0d03aa7-b348-43e8-be35-980381cfe169",
   "metadata": {},
   "source": [
    "Solutions"
   ]
  },
  {
   "cell_type": "code",
   "execution_count": null,
   "id": "2c1a602e-dd67-4cad-9609-acb63d507d09",
   "metadata": {},
   "outputs": [],
   "source": [
    "SELECT Locations, FunFacts FROM FilmLocations;"
   ]
  },
  {
   "cell_type": "markdown",
   "id": "85250894-e693-4f7b-aba9-ca3a2ad2997f",
   "metadata": {},
   "source": [
    "2. ##### Récupérez les noms(Title, ReleaseYear, Locations) de tous les films sortis au 20e siècle et avant (années de sortie avant 2000, y compris 2000), ainsi que les lieux de tournage et les années de sortie."
   ]
  },
  {
   "cell_type": "markdown",
   "id": "88fc80dd-0493-4c45-b6b2-e0a4196a4757",
   "metadata": {},
   "source": [
    "Cliquez ici pour un indice\n",
    "Suivez l’exemple 3 de SELECT, où nous avons restreint le jeu de résultats de sortie pour ne récupérer que les enregistrements de film avec certaines années de sortie. Utilisez l’opérateur de comparaison de clause WHERE <=, ce qui signifie Inférieur ou égal à."
   ]
  },
  {
   "cell_type": "markdown",
   "id": "67e18d98-8648-4366-8016-a256facb2229",
   "metadata": {},
   "source": [
    "Solutions"
   ]
  },
  {
   "cell_type": "code",
   "execution_count": null,
   "id": "869f4cb5-cb1e-46d2-8313-bcd984625d4a",
   "metadata": {},
   "outputs": [],
   "source": [
    "SELECT Title, ReleaseYear, Locations  FROM FilmLocations WHERE  ReleaseYear<=2000;"
   ]
  },
  {
   "cell_type": "markdown",
   "id": "13881f73-404e-4f49-a077-0a7d5f497443",
   "metadata": {},
   "source": [
    "3. ##### Récupérez les noms, les noms des sociétés de production, les lieux de tournage et les années de sortie des films qui n’ont pas été écrits par James Cameron."
   ]
  },
  {
   "cell_type": "code",
   "execution_count": null,
   "id": "d9fd214e-24d1-4fdd-8248-df133ff9a126",
   "metadata": {},
   "outputs": [],
   "source": [
    "SELECT Title, ProductionCompany, Locations, ReleaseYear FROM FilmLocations WHERE Writer<>\"James Cameron\";"
   ]
  },
  {
   "cell_type": "markdown",
   "id": "8401ae4a-1847-4e4f-ae44-c611ba449be8",
   "metadata": {},
   "source": [
    "Conclusion\n",
    "Congratulations on completing this lab!\n",
    "\n",
    "You are now able to:\n",
    "\n",
    "Query a database using SELECT statements\n",
    "Retrieve all or selected columns of data\n",
    "Filter the query response to meet a defined criteria"
   ]
  },
  {
   "cell_type": "markdown",
   "id": "18527fc6-1ac6-4375-ab53-69474c0d4ff3",
   "metadata": {},
   "source": [
    "[MUSIQUE] Bonjour et bienvenue. Dans cette vidéo, nous allons présenter brièvement quelques expressions utiles qui sont utilisées avec les instructions select. La première est COUNT, COUNT est une fonction de base de données intégrée qui récupère le nombre de lignes qui correspondent aux critères de la requête. Par exemple, pour obtenir le nombre total de lignes dans un tableau donné, select COUNT(*) from tablename. Supposons que vous créiez un tableau appelé MEDALES qui possède une colonne appelée COUNTRY, et que vous souhaitiez récupérer le nombre de lignes où le récipiendaire de la médaille est originaire du Canada. Vous pouvez lancer une requête comme celle-ci : Select COUNT(COUNTRY) from MEDALS where COUNTRY='CANADA.' La deuxième expression est DISTINCT. DISTINCT est utilisée pour supprimer les valeurs dupliquées d'un ensemble de résultats. Exemple, pour récupérer des valeurs uniques dans une colonne, select DISTINCT columnname from tablename. Dans la table MEDALS mentionnée plus haut, un pays peut avoir reçu une médaille d'or plusieurs fois. Exemple, récupérer la liste des pays uniques qui ont reçu des médailles d'or. C'est-à-dire, supprimer toutes les valeurs dupliquées du même pays. Select DISTINCT COUNTRY from MEDALS where MEDALTYPE = 'GOLD'. La troisième expression est LIMIT, LIMIT est utilisé pour restreindre le nombre de lignes extraites de la base de données. Exemple, récupérer seulement les 10 premières lignes d'une table. Select * from tablename LIMIT 10. Cela peut être très utile pour examiner l'ensemble des résultats en ne regardant que quelques lignes au lieu de récupérer l'ensemble des résultats qui peut être très volumineux. Exemple, récupérer seulement quelques lignes dans le tableau MEDALES pour une année particulière. Select * from MEDALS where YEAR = 2018 LIMIT 5. Dans cette vidéo, nous avons examiné quelques expressions utiles utilisées avec les instructions select , à savoir les fonctions intégrées COUNT, DISTINCT et LIMIT. Merci d'avoir regardé cette vidéo. [MUSIQUE]"
   ]
  },
  {
   "cell_type": "markdown",
   "id": "65dbc6c7-e14b-4d9d-9b3c-0d3fa2092ebc",
   "metadata": {},
   "source": [
    "Dans cet atelier, vous allez découvrir quelques expressions utiles utilisées avec les instructions SELECT. Tout d’abord, vous allez apprendre COUNT, qui est une fonction d’agrégation qui récupère le nombre de lignes qui correspond aux critères de requête. Ensuite, vous allez apprendre DISTINCT, qui est utilisé pour supprimer les valeurs en double d’un jeu de résultats spécifié et renvoyer uniquement les valeurs uniques. Enfin, vous apprendrez LIMIT, qui est utilisé pour restreindre le nombre de lignes extraites de la table."
   ]
  },
  {
   "cell_type": "markdown",
   "id": "8e149cc3-a65b-4d8f-817e-38de10cb821f",
   "metadata": {},
   "source": [
    "In this lab, you will use Datasette, an open-source multi-tool for exploring and publishing data."
   ]
  },
  {
   "cell_type": "markdown",
   "id": "525281a1-29d0-431a-86d3-c5a8210d3863",
   "metadata": {},
   "source": [
    "labpratique"
   ]
  },
  {
   "cell_type": "code",
   "execution_count": null,
   "id": "1ea458bf-7021-4b63-af70-3475e4408979",
   "metadata": {},
   "outputs": [],
   "source": [
    "SELECT * FROM FilmLocations;"
   ]
  },
  {
   "cell_type": "markdown",
   "id": "8d99699f-c20f-409b-a4d5-e5cf9af9e76d",
   "metadata": {},
   "source": [
    "Passons en revue quelques exemples de requêtes liées à COUNT.\n",
    "\n",
    "1. ##### Supposons que l’on veuille compter le nombre d’enregistrements ou de lignes de la table « FilmLocations ». La requête pour cela serait :"
   ]
  },
  {
   "cell_type": "code",
   "execution_count": null,
   "id": "24eebb6c-5389-4578-b839-bbb96668f55f",
   "metadata": {},
   "outputs": [],
   "source": [
    "SELECT COUNT(*) FROM FilmLocations;"
   ]
  },
  {
   "cell_type": "markdown",
   "id": "1f001e5f-e5d9-4414-83e0-b79c3859391d",
   "metadata": {},
   "source": [
    "2. ##### Nous voulons compter le nombre de lieux de tournage des films. Mais nous voulons également restreindre le jeu de résultats de sortie afin de ne récupérer que le nombre de lieux des films écrits par un certain scénariste. La requête pour cela peut s’écrire comme suit :"
   ]
  },
  {
   "cell_type": "code",
   "execution_count": null,
   "id": "3d4bf75f-f02c-46c4-a880-433557bff88a",
   "metadata": {},
   "outputs": [],
   "source": [
    "SELECT COUNT(Locations) FROM FilmLocations WHERE Writer=\"James Cameron\";"
   ]
  },
  {
   "cell_type": "markdown",
   "id": "d75613f0-9129-480f-9a33-709d15d2eee6",
   "metadata": {},
   "source": [
    "Dans cet exercice, vous allez passer en revue quelques exemples d’utilisation de DISTINCT dans les requêtes.\n",
    "\n",
    "3. ##### Supposons que nous souhaitions récupérer les titres de tous les films dans la table afin que les doublons soient ignorés dans le jeu de résultats de sortie."
   ]
  },
  {
   "cell_type": "code",
   "execution_count": null,
   "id": "108029e7-1ed2-4160-a052-28ee656f2d35",
   "metadata": {},
   "outputs": [],
   "source": [
    "SELECT DISTINCT Title FROM FilmLocations;"
   ]
  },
  {
   "cell_type": "markdown",
   "id": "e031f5b1-43e2-4342-9641-d5adecb6aa80",
   "metadata": {},
   "source": [
    "4. ##### Nous voulons récupérer le nombre d’années de sortie des films produits par une société spécifique afin que les années de sortie en double de ces films soient ignorées dans le décompte."
   ]
  },
  {
   "cell_type": "code",
   "execution_count": null,
   "id": "5b6dd450-314c-498d-b174-c7df086164d7",
   "metadata": {},
   "outputs": [],
   "source": [
    "SELECT COUNT(DISTINCT ReleaseYear)  FROM FilmLocations WHERE ProductionCompany=\"Warner Bros. Pictures\";"
   ]
  },
  {
   "cell_type": "markdown",
   "id": "cca33083-5559-4b4d-9db5-6bad6638e143",
   "metadata": {},
   "source": [
    "Dans cet exercice, vous allez d’abord passer en revue quelques exemples d’utilisation de LIMIT dans les requêtes.\n",
    "\n",
    "5. ##### Récupérez uniquement les 25 premières lignes de la table afin que les lignes autres que celles-ci ne figurent pas dans le jeu de résultats en sortie."
   ]
  },
  {
   "cell_type": "code",
   "execution_count": null,
   "id": "af2ecc0a-77a4-4e54-b792-29a1076b4006",
   "metadata": {},
   "outputs": [],
   "source": [
    "SELECT * FROM FilmLocations LIMIT 25;"
   ]
  },
  {
   "cell_type": "markdown",
   "id": "a68903e6-9334-40d7-9ba8-97e711603a75",
   "metadata": {},
   "source": [
    "6. ##### Maintenant, nous voulons récupérer 15 lignes de la table à partir de la ligne 11."
   ]
  },
  {
   "cell_type": "code",
   "execution_count": null,
   "id": "346c9c91-4c71-4fc6-8a5a-75a8b86f26f0",
   "metadata": {},
   "outputs": [],
   "source": [
    "SELECT * FROM FilmLocations LIMIT 15 OFFSET 10;"
   ]
  },
  {
   "cell_type": "markdown",
   "id": "9512571b-3df6-469a-bad2-6b48861afdca",
   "metadata": {},
   "source": [
    "7. ##### Récupérez le nombre de lieux(Locations) de tournage des films réalisés(Director) par Woody Allen."
   ]
  },
  {
   "cell_type": "code",
   "execution_count": null,
   "id": "76eb7fac-7088-4d4a-8e22-cabdd2e79401",
   "metadata": {},
   "outputs": [],
   "source": [
    "SELECT COUNT(Locations) FROM FilmLocations WHERE Director=\"Woody Allen\";"
   ]
  },
  {
   "cell_type": "markdown",
   "id": "087c6868-68fd-4ef8-bd36-4508f803bf0b",
   "metadata": {},
   "source": [
    "8. ##### Récupérez le nombre de films(Title) tournés à Russian Hill.\n"
   ]
  },
  {
   "cell_type": "code",
   "execution_count": null,
   "id": "e12f81ca-a743-418b-b6aa-cf4ac9ef7cb7",
   "metadata": {},
   "outputs": [],
   "source": [
    "SELECT Count(Title) FROM FilmLocations WHERE Locations=\"Russian Hill\";"
   ]
  },
  {
   "cell_type": "markdown",
   "id": "a179274e-c76b-48a5-a8b7-59106a9440ca",
   "metadata": {},
   "source": [
    "9. ##### Récupérez le nombre de lignes dont l’année de sortie est antérieure à 1950 à partir de la table « FilmLocations »."
   ]
  },
  {
   "cell_type": "code",
   "execution_count": null,
   "id": "33dec4c5-187f-46bb-b104-2c6bdae0c1d1",
   "metadata": {},
   "outputs": [],
   "source": [
    "SELECT Count(*) FROM FilmLocations WHERE ReleaseYear<1950;"
   ]
  },
  {
   "cell_type": "markdown",
   "id": "8ba2b32d-9b2d-4dbb-83ec-f6c4b6aa7a4a",
   "metadata": {},
   "source": [
    "10. ##### Récupérez les noms(Title) de tous les films uniques sortis(ReleaseYear) au 21e siècle et au-delà, ainsi que leurs années de sortie."
   ]
  },
  {
   "cell_type": "code",
   "execution_count": null,
   "id": "3f4c4205-7a75-4f05-81d5-de740db7dea3",
   "metadata": {},
   "outputs": [],
   "source": [
    "SELECT DISTINCT Title, ReleaseYear FROM FilmLocations WHERE ReleaseYear>=2001;"
   ]
  },
  {
   "cell_type": "markdown",
   "id": "851b6df7-002d-4a14-82cf-fe4be60f9caf",
   "metadata": {},
   "source": [
    "12. ##### Récupérez les noms des réalisateurs et leurs films distincts tournés à l’hôtel de ville."
   ]
  },
  {
   "cell_type": "code",
   "execution_count": null,
   "id": "0ec87bea-75a7-463e-9aa1-4ba7248a5ba9",
   "metadata": {},
   "outputs": [],
   "source": [
    "SELECT DISTINCT Title,  Director FROM FilmLocations  WHERE Locations=\"City Hall\";"
   ]
  },
  {
   "cell_type": "markdown",
   "id": "bdd93442-6a6b-4032-9b29-51f8e4c881f7",
   "metadata": {},
   "source": [
    "13. ##### Récupérez le nombre de distributeurs qui ont distribué des films avec le 1er acteur, Clint Eastwood."
   ]
  },
  {
   "cell_type": "code",
   "execution_count": null,
   "id": "7bc4c568-13df-41e2-a870-182f1e52fd26",
   "metadata": {},
   "outputs": [],
   "source": [
    "SELECT COUNT(DISTINCT Distributor)  FROM FilmLocations  WHERE Actor1=\"Clint Eastwood\";"
   ]
  },
  {
   "cell_type": "markdown",
   "id": "0398331d-8dc2-43c9-9d51-e06b99a073d8",
   "metadata": {},
   "source": [
    " 14. ##### Récupérez les noms des 50 premiers films."
   ]
  },
  {
   "cell_type": "code",
   "execution_count": null,
   "id": "fb0e3e26-0162-49a0-b2bb-309b30daaa97",
   "metadata": {},
   "outputs": [],
   "source": [
    "SELECT DISTINCT Title  FROM FilmLocations  LIMIT 50;"
   ]
  },
  {
   "cell_type": "markdown",
   "id": "f37cb31f-f5c9-48b3-a271-25b7da8f0dee",
   "metadata": {},
   "source": [
    "15. ##### Retrieve the first 10 film names released in 2015."
   ]
  },
  {
   "cell_type": "code",
   "execution_count": null,
   "id": "6c67eea2-f2fe-47ed-805e-d486a5ca4605",
   "metadata": {},
   "outputs": [],
   "source": [
    "SELECT DISTINCT Title  FROM FilmLocations WHERE  ReleaseYear=2015 LIMIT 11;"
   ]
  },
  {
   "cell_type": "markdown",
   "id": "72a5752a-5de6-43e3-9a86-f05c014c42fd",
   "metadata": {},
   "source": [
    "13. ##### Récupérez les 3 noms de films suivants qui suivent après les 5 premiers films sortis en 2015."
   ]
  },
  {
   "cell_type": "code",
   "execution_count": null,
   "id": "53aa24d1-1c21-4548-8c3c-7c66b46d2e62",
   "metadata": {},
   "outputs": [],
   "source": [
    "SELECT DISTINCT Title  FROM FilmLocations WHERE  ReleaseYear=2015 LIMIT 3 OFFSET 5;"
   ]
  },
  {
   "cell_type": "markdown",
   "id": "b6f73cba-4392-4225-adf7-1fd7c34d214d",
   "metadata": {},
   "source": [
    "Bonjour et bienvenue sur la déclaration INSERT. Dans cette vidéo, nous allons apprendre à remplir une table de base de données relationnelle. À la fin de cette vidéo, vous serez en mesure d'identifier la syntaxe de l'instruction INSERT et d'expliquer deux méthodes pour ajouter des lignes à un tableau. Une fois la table créée, elle doit être remplie de données. Pour insérer des données dans un tableau, nous utilisons l'instruction INSERT. L'instruction INSERT est utilisée pour ajouter de nouvelles lignes à un tableau. L'instruction INSERT est l'une des instructions du langage de manipulation des données. Les instructions du langage de manipulation des données ou les instructions DML sont utilisées pour lire et modifier les données. Sur la base de l'exemple de l'entité auteur, nous avons créé la table en utilisant le nom de l'entité author et les attributs de l'entité sous forme de colonnes de la table. Nous allons maintenant ajouter les données à la table de l'auteur en ajoutant des lignes à la table. Pour ajouter les données à la table de l'auteur, nous utilisons l'instruction INSERT. La syntaxe de l'instruction INSERT est la suivante : insérez dans le nom de la table, le nom de la colonne, les valeurs. Dans cette instruction, le nom de la table identifie la table, la liste des noms de colonne identifie chaque colonne de la table et la clause values spécifie les valeurs de données à ajouter aux colonnes de la table. Pour ajouter une ligne contenant les données de Raul Chong, nous insérons une ligne avec un trait de soulignement de l'auteur : A one, le nom de famille est Chong, le prénom est Raul, le courriel RFC@IBM.com, la ville est Toronto et le pays est CA pour le Canada. La table de l'auteur comporte six colonnes. L'instruction INSERT répertorie donc les six noms de colonnes séparés par des virgules, suivis d'une valeur pour chacune des colonnes également séparées par des virgules. Il est important que le nombre de valeurs fournies dans la clause values soit égal au nombre de noms de colonnes spécifiés dans la liste des noms de colonnes. Cela garantit que chaque colonne possède une valeur. Il n'est pas nécessaire de remplir les tables une ligne à la fois, plusieurs lignes peuvent être insérées en spécifiant chaque ligne dans la clause values. Dans la clause values, chaque ligne est séparée par une virgule. Par exemple, dans cette instruction INSERT, nous insérons deux lignes, une pour Raul Chong et une pour Rav Ahuja. Vous pouvez maintenant identifier la syntaxe de l'instruction INSERT et expliquer les deux méthodes permettant d'ajouter des lignes à un tableau. Une ligne à la fois ou plusieurs lignes. Merci d'avoir regardé cette vidéo."
   ]
  },
  {
   "cell_type": "markdown",
   "id": "49759e73-eb37-4d2c-b971-f702986b6209",
   "metadata": {},
   "source": [
    "Bonjour et bienvenue sur la déclaration INSERT. Dans cette vidéo, nous allons apprendre à remplir une table de base de données relationnelle. À la fin de cette vidéo, vous serez en mesure d'identifier la syntaxe de l'instruction INSERT et d'expliquer deux méthodes pour ajouter des lignes à un tableau. Une fois la table créée, elle doit être remplie de données. Pour insérer des données dans un tableau, nous utilisons l'instruction INSERT. L'instruction INSERT est utilisée pour ajouter de nouvelles lignes à un tableau. L'instruction INSERT est l'une des instructions du langage de manipulation des données. Les instructions du langage de manipulation des données ou les instructions DML sont utilisées pour lire et modifier les données. Sur la base de l'exemple de l'entité auteur, nous avons créé la table en utilisant le nom de l'entité author et les attributs de l'entité sous forme de colonnes de la table. Nous allons maintenant ajouter les données à la table de l'auteur en ajoutant des lignes à la table. Pour ajouter les données à la table de l'auteur, nous utilisons l'instruction INSERT. La syntaxe de l'instruction INSERT est la suivante : insérez dans le nom de la table, le nom de la colonne, les valeurs. Dans cette instruction, le nom de la table identifie la table, la liste des noms de colonne identifie chaque colonne de la table et la clause values spécifie les valeurs de données à ajouter aux colonnes de la table. Pour ajouter une ligne contenant les données de Raul Chong, nous insérons une ligne avec un trait de soulignement de l'auteur : A one, le nom de famille est Chong, le prénom est Raul, le courriel RFC@IBM.com, la ville est Toronto et le pays est CA pour le Canada. La table de l'auteur comporte six colonnes. L'instruction INSERT répertorie donc les six noms de colonnes séparés par des virgules, suivis d'une valeur pour chacune des colonnes également séparées par des virgules. Il est important que le nombre de valeurs fournies dans la clause values soit égal au nombre de noms de colonnes spécifiés dans la liste des noms de colonnes. Cela garantit que chaque colonne possède une valeur. Il n'est pas nécessaire de remplir les tables une ligne à la fois, plusieurs lignes peuvent être insérées en spécifiant chaque ligne dans la clause values. Dans la clause values, chaque ligne est séparée par une virgule. Par exemple, dans cette instruction INSERT, nous insérons deux lignes, une pour Raul Chong et une pour Rav Ahuja. Vous pouvez maintenant identifier la syntaxe de l'instruction INSERT et expliquer les deux méthodes permettant d'ajouter des lignes à un tableau. Une ligne à la fois ou plusieurs lignes. Merci d'avoir regardé cette vidéo."
   ]
  },
  {
   "cell_type": "markdown",
   "id": "471bd145-3a48-48e5-a7d9-48d83dcb3fd0",
   "metadata": {},
   "source": [
    "Bonjour et bienvenue à l'instruction UPDATE et à l'instruction DELETE. Dans cette vidéo, nous allons apprendre à modifier et supprimer des données dans une table de base de données relationnelle. A la fin de cette leçon, vous serez capable d'identifier la syntaxe de l'instruction UPDATE et DELETE et d'expliquer l'importance de la clause WHERE dans ces instructions. Une fois qu'une table est créée et remplie de données, les données d'une table peuvent être modifiées à l'aide de l'instruction UPDATE. L'instruction UPDATE fait partie des instructions DML (Data Manipulation Language). Les instructions DML sont utilisées pour lire et modifier des données. En nous basant sur l'exemple de l'entité auteur, nous avons créé la table en utilisant le nom de l'entité Auteur et les attributs de l'entité en tant que colonnes de la table. Des lignes ont été ajoutées à la table Auteur pour la remplir. Par la suite, vous souhaitez modifier les données de la table. Pour modifier les données de la table Auteur, nous utilisons l'instruction UPDATE. La syntaxe de l'instruction UPDATE est la suivante : UPDATE [NomTable] SET [NomColonne] = [Valeur] ]&gt; <WHERE [Condition] >. Dans l'instruction, NomTable identifie la table. ColumnName identifie la valeur de la colonne à modifier, comme spécifié dans <WHERE [Condition] >. Voyons un exemple. Dans cet exemple, vous souhaitez mettre à jour le FIRSTNAME et le LASTNAME de l'auteur avec AUTHOR_ID A2 de Rav Ahuja à Lakshmi Katta. Dans cet exemple, pour voir l'instruction UPDATE en action, nous commençons par sélectionner toutes les lignes de la table des auteurs pour voir les valeurs. Pour changer le prénom et le nom en Lakshmi Katta lorsque l'identifiant AUTHOR_ID = A2, saisissez l'instruction UPDATE comme suit. UPDATE AUTHOR SET LAST NAME = KATTA, FIRST NAME = LAKSHMI WHERE AUTHOR_ID = A2. Maintenant, pour voir le résultat de la mise à jour, sélectionnez à nouveau toutes les lignes de la table Author et vous verrez que dans la ligne le nom a changé de Rav Ahuja à Lakshmi Katta. Notez que si vous ne spécifiez pas la clause WHERE, toutes les lignes de la table seront mises à jour. Dans cet exemple, sans spécifier la clause WHERE, toutes les lignes de la table auraient changé le nom et le prénom en Lakshmi Katta. Par la suite, il peut être nécessaire de supprimer une ou plusieurs lignes d'une table. Les lignes sont supprimées à l'aide de l'instruction DELETE. L'instruction DELETE est l'une des instructions du langage de manipulation des données utilisées pour lire et modifier les données. La syntaxe de l'instruction DELETE est la suivante : DELETE FROM [TABLEName] <WHERE [Condition] >. Les lignes à supprimer sont spécifiées dans la condition WHERE. En nous basant sur l'exemple de l'entité auteur, nous voulons supprimer les lignes pour AUTHOR_ID A2 et A3. Voyons un exemple. DELETE FROM AUTHOR WHERE AUTHOR_ID IN ('A2','A3'). Notez que si vous ne spécifiez pas la clause WHERE, toutes les lignes de la table seront supprimées. Vous pouvez maintenant identifier la syntaxe de l'instruction UPDATE et DELETE et expliquer l'importance de la clause WHERE dans ces instructions. Merci d'avoir regardé cette vidéo. (Musi)"
   ]
  },
  {
   "cell_type": "markdown",
   "id": "b1a41d11-10d1-4335-a7f0-97854906cce7",
   "metadata": {},
   "source": [
    "labpratique"
   ]
  },
  {
   "cell_type": "markdown",
   "id": "7dab59c1-6db1-4881-86e7-bcc72c7eb6d9",
   "metadata": {},
   "source": [
    "Dans cet atelier, vous allez apprendre certaines instructions DML (Data Manipulation Language) SQL autres que SELECT couramment utilisées. Tout d’abord, vous allez apprendre l’instruction INSERT, qui est utilisée pour insérer de nouvelles lignes dans une table. Ensuite, vous allez apprendre l’instruction UPDATE qui est utilisée pour mettre à jour les données dans les lignes existantes de la table. Enfin, vous apprendrez l’instruction DELETE qui est utilisée pour supprimer des lignes d’une table."
   ]
  },
  {
   "cell_type": "markdown",
   "id": "b5165a2d-79f3-43ae-8115-81d179bc19ec",
   "metadata": {},
   "source": [
    "cliquez en bas"
   ]
  },
  {
   "cell_type": "markdown",
   "id": "59cd7273-e14a-4591-91f2-fd45414ab03b",
   "metadata": {},
   "source": [
    "[labpratique](https://labs.cognitiveclass.ai/v2/tools/datasette?ulid=ulid-f6c76ecb1f839e14a3172c48a471eae624bc0a41)  "
   ]
  },
  {
   "cell_type": "markdown",
   "id": "08fb8ae6-3839-4aa8-8e9b-97f4a6a5c7a0",
   "metadata": {},
   "source": [
    "Concepts abordés\n",
    "À quoi ressemble la syntaxe d’une instruction INSERT ?"
   ]
  },
  {
   "cell_type": "code",
   "execution_count": null,
   "id": "25551e69-a74a-4a8c-8738-5f452569dc63",
   "metadata": {},
   "outputs": [],
   "source": [
    "INSERT INTO table_name (column1, column2, ... )\n",
    "VALUES (value1, value2, ... )\n",
    ";"
   ]
  },
  {
   "cell_type": "code",
   "execution_count": null,
   "id": "90140383-60ed-410b-9b35-c652911e8564",
   "metadata": {},
   "outputs": [],
   "source": [
    "À quoi ressemble la syntaxe d’une instruction UPDATE ?"
   ]
  },
  {
   "cell_type": "code",
   "execution_count": null,
   "id": "d79a205a-5a6a-4287-b6ac-9ecffba39266",
   "metadata": {},
   "outputs": [],
   "source": [
    "UPDATE table_name\n",
    "SET column1 = value1, column2 = value2, ...\n",
    "WHERE condition\n",
    ";"
   ]
  },
  {
   "cell_type": "code",
   "execution_count": null,
   "id": "1d75f0a0-9123-4364-9652-671d04a8daa8",
   "metadata": {},
   "outputs": [],
   "source": [
    "À quoi ressemble la syntaxe d’une instruction DELETE ?"
   ]
  },
  {
   "cell_type": "code",
   "execution_count": null,
   "id": "1b3887e5-94fb-4b85-8f58-6eac39de4880",
   "metadata": {},
   "outputs": [],
   "source": [
    "DELETE FROM table_name\n",
    "WHERE condition\n",
    ";"
   ]
  },
  {
   "cell_type": "markdown",
   "id": "0e32f2b7-2695-46b3-b553-3161b934c425",
   "metadata": {},
   "source": [
    "Dans cet exercice, vous allez d’abord passer en revue quelques exemples d’utilisation de INSERT dans des requêtes, puis résoudre certains problèmes d’exercice en l’utilisant."
   ]
  },
  {
   "cell_type": "markdown",
   "id": "f808c482-6264-4bb3-9a79-14ab3ca3b902",
   "metadata": {},
   "source": [
    "- In this example, suppose we want to insert a new single row into the Instructor table.\n",
    "\n"
   ]
  },
  {
   "cell_type": "markdown",
   "id": "011acc70-2d43-45ff-89b6-3ac04b97dd6c",
   "metadata": {},
   "source": [
    "Insérez un nouvel enregistrement d’instructeur avec l’ID 4 pour Sandip Saha qui vit à Edmonton, CA dans le tableau « Instructor »."
   ]
  },
  {
   "cell_type": "code",
   "execution_count": null,
   "id": "6aabab62-4e01-47de-b58d-50ce8d4506b4",
   "metadata": {},
   "outputs": [],
   "source": [
    "INSERT INTO Instructor(ins_id, lastname, firstname, city, country)\n",
    "VALUES(4, 'Saha', 'Sandip', 'Edmonton', 'CA');"
   ]
  },
  {
   "cell_type": "code",
   "execution_count": null,
   "id": "0951397a-c89b-43f7-8e71-1cf58c100289",
   "metadata": {},
   "outputs": [],
   "source": [
    "SELECT * FROM Instructor;"
   ]
  },
  {
   "cell_type": "markdown",
   "id": "71054160-88a0-4e13-954d-8cb371479bed",
   "metadata": {},
   "source": [
    "- In this example, suppose we want to insert some new multiple rows into the Instructor table.\n",
    "\n",
    "Problem:"
   ]
  },
  {
   "cell_type": "code",
   "execution_count": null,
   "id": "02f8f105-fa63-46dd-90ec-65ca08fac1ff",
   "metadata": {},
   "outputs": [],
   "source": [
    "INSERT INTO Instructor(ins_id, lastname, firstname, city, country)\n",
    "VALUES(5, 'Doe', 'John', 'Sydney', 'AU'), (6, 'Doe', 'Jane', 'Dhaka', 'BD');"
   ]
  },
  {
   "cell_type": "code",
   "execution_count": null,
   "id": "9e79ddfb-4b36-4b2a-8e4d-7e04d7b86ac6",
   "metadata": {},
   "outputs": [],
   "source": []
  },
  {
   "cell_type": "code",
   "execution_count": null,
   "id": "e072b785-af5a-46e1-9245-d536056b4786",
   "metadata": {},
   "outputs": [],
   "source": [
    "INSERT INTO Instructor([ins_id], [lastname], [firstname], [city], [country])\n",
    "VALUES(7, \"Cangiano\", \"Antonio\", \"Vancouver\", \"CA\");"
   ]
  },
  {
   "cell_type": "markdown",
   "id": "8b0206a5-fcc2-4a11-b08c-dffc6c2801b4",
   "metadata": {},
   "source": [
    "- Insert a new instructor record with id 7 for Antonio Cangiano who lives in Vancouver, CA into the “Instructor” table"
   ]
  },
  {
   "cell_type": "code",
   "execution_count": null,
   "id": "8dfc9bd3-a350-4a99-93ff-e2fd1b4da50e",
   "metadata": {},
   "outputs": [],
   "source": [
    "INSERT INTO table_name([columnn1],[column2], [column3], [column4], [column5])\n",
    "VALUES(7, 'Cangiano', 'Antonio', 'Vancouver', 'CA');\n",
    "\n"
   ]
  },
  {
   "cell_type": "code",
   "execution_count": null,
   "id": "33d75d17-9f17-48ec-b80a-145ddda5c256",
   "metadata": {},
   "outputs": [],
   "source": [
    "SELECT * FROM tablename;"
   ]
  },
  {
   "cell_type": "code",
   "execution_count": null,
   "id": "5d0302a8-98a1-4162-b166-5e1e2bf82524",
   "metadata": {},
   "outputs": [],
   "source": [
    "Exercise 2: UPDATE"
   ]
  },
  {
   "cell_type": "markdown",
   "id": "9863c979-169d-4d08-80b9-705b6c64ce05",
   "metadata": {},
   "source": [
    "Passons en revue quelques exemples de requêtes liées à UPDATE :\n",
    "\n",
    "Dans cet exemple, nous voulons mettre à jour une colonne d’une ligne existante de la table."
   ]
  },
  {
   "cell_type": "markdown",
   "id": "bfd97dee-605f-4613-9851-0b14dbd79a19",
   "metadata": {},
   "source": [
    "Le nom de la table est Instructor"
   ]
  },
  {
   "cell_type": "code",
   "execution_count": null,
   "id": "0362b6b6-499e-46ac-ae6d-bcc5caabdafa",
   "metadata": {},
   "outputs": [],
   "source": [
    "UPDATE Instructor \n",
    "SET city='Toronto' \n",
    "WHERE firstname=\"Sandip\";"
   ]
  },
  {
   "cell_type": "code",
   "execution_count": null,
   "id": "8d5f1adc-5b86-44fd-a8b0-be883f4b75f2",
   "metadata": {},
   "outputs": [],
   "source": [
    "SELECT * FROM Instructor;"
   ]
  },
  {
   "cell_type": "code",
   "execution_count": null,
   "id": "83f26ba8-2259-4284-844c-44a4040b7b8a",
   "metadata": {},
   "outputs": [],
   "source": [
    "Update the city of the instructor record to Markham whose id is 1."
   ]
  },
  {
   "cell_type": "code",
   "execution_count": null,
   "id": "cba845c7-59a9-4ad1-94f6-aa844a0148c0",
   "metadata": {},
   "outputs": [],
   "source": [
    " UPDATE Instructor \n",
    "SET city='Markham' \n",
    "WHERE ins_id=1;\n",
    "\n"
   ]
  },
  {
   "cell_type": "code",
   "execution_count": null,
   "id": "131ac139-568c-459d-9dd7-30f8f8405456",
   "metadata": {},
   "outputs": [],
   "source": [
    "SELECT * FROM Instructor;"
   ]
  },
  {
   "cell_type": "code",
   "execution_count": null,
   "id": "2b908c5d-dbbd-44a4-a524-bf80075e2136",
   "metadata": {},
   "outputs": [],
   "source": [
    "Update the city and country for Sandip with id 4 to Dhaka and BD respectively."
   ]
  },
  {
   "cell_type": "code",
   "execution_count": null,
   "id": "cdc3cf19-d9dc-4f58-aa8e-0964301257cf",
   "metadata": {},
   "outputs": [],
   "source": [
    "UPDATE Instructor \n",
    "SET city='Dhaka', country='BD' \n",
    "WHERE ins_id=4;\n",
    "\n",
    "SELECT * FROM Instructor;"
   ]
  },
  {
   "cell_type": "markdown",
   "id": "4bc51758-1ee5-4c1b-baaa-4ad647810d44",
   "metadata": {},
   "source": [
    "- Dans cet exemple, nous voulons mettre à jour plusieurs colonnes d’une ligne existante de la table.\n",
    "\n"
   ]
  },
  {
   "cell_type": "code",
   "execution_count": null,
   "id": "4052596c-8f12-41ad-a8d3-40d44a081923",
   "metadata": {},
   "outputs": [],
   "source": [
    "UPDATE Instructor \n",
    "SET city='Dubai', country='AE' \n",
    "WHERE ins_id=5;"
   ]
  },
  {
   "cell_type": "code",
   "execution_count": null,
   "id": "6f124d84-265c-4165-a421-b3204819f123",
   "metadata": {},
   "outputs": [],
   "source": [
    "SELECT * FROM Instructor;"
   ]
  },
  {
   "cell_type": "code",
   "execution_count": null,
   "id": "ecfa17e1-825b-475e-afeb-8915a25dc9f0",
   "metadata": {},
   "outputs": [],
   "source": [
    "Exercise 3: DELETE"
   ]
  },
  {
   "cell_type": "code",
   "execution_count": null,
   "id": "e5b7dbfb-b98a-43a9-9ee8-25a3366bf5c8",
   "metadata": {},
   "outputs": [],
   "source": [
    "Example exercise on DELETE"
   ]
  },
  {
   "cell_type": "code",
   "execution_count": null,
   "id": "3c683c6d-12ff-4e7b-ab13-d02fd46be001",
   "metadata": {},
   "outputs": [],
   "source": [
    "in this example, we want to remove a row from the table.\n",
    "\n",
    "Problem:\n",
    "\n",
    "Remove the instructor record of Doe whose id is 6."
   ]
  },
  {
   "cell_type": "code",
   "execution_count": null,
   "id": "9e54263d-1031-4e8d-91ea-bf5f24acd69b",
   "metadata": {},
   "outputs": [],
   "source": [
    "DELETE FROM instructor\n",
    "WHERE ins_id = 6;"
   ]
  },
  {
   "cell_type": "code",
   "execution_count": null,
   "id": "e0746de0-f7b0-49fe-82ab-e9b1c174e324",
   "metadata": {},
   "outputs": [],
   "source": [
    "SELECT * FROM Instructor;"
   ]
  },
  {
   "cell_type": "code",
   "execution_count": null,
   "id": "d07f4411-95d8-47a6-b05a-fcadbbcad18c",
   "metadata": {},
   "outputs": [],
   "source": [
    "example DELETE "
   ]
  },
  {
   "cell_type": "code",
   "execution_count": null,
   "id": "1dcd088c-3611-40a9-b08e-66daff212f3a",
   "metadata": {},
   "outputs": [],
   "source": [
    "Now, let us practice creating and running a DELETE related query.\n",
    "\n",
    "\n",
    "Problem:\n",
    "Remove the instructor record of Hima."
   ]
  },
  {
   "cell_type": "code",
   "execution_count": null,
   "id": "40f00752-0d32-4543-9047-cccce52f1a40",
   "metadata": {},
   "outputs": [],
   "source": [
    "DELETE FROM instructor\n",
    "WHERE firstname = 'Hima';\n",
    "\n",
    "SELECT * FROM Instructor;"
   ]
  },
  {
   "cell_type": "markdown",
   "id": "731bdef4-1d44-4d4d-ac9d-328e43f47f39",
   "metadata": {},
   "source": [
    "Command\tSyntax\tDescription\tExample\n",
    "SELECT\tSELECT column1, column2, ... FROM table_name; \tSELECT statement is used to fetch data from a database.\tSELECT city FROM placeofinterest;\n",
    "WHERE\tSELECT column1, column2, ...FROM table_name WHERE condition;\tWHERE clause is used to extract only those records that fulfill a specified condition.\tSELECT * FROM placeofinterest WHERE city == 'Rome' ;\n",
    "COUNT\tSELECT COUNT * FROM table_name ; \tCOUNT is a function that takes the name of a column as argument and counts the number of rows when the column is not NULL.\tSELECT COUNT(country) FROM placeofinterest WHERE country='Canada';\n",
    "DISTINCT\tSELECT DISTINCT columnname FROM table_name;\tDISTINCT function is used to specify that the statement is a query which returns unique values in specified columns.\tSELECT DISTINCT country FROM placeofinterest WHERE type='historical';\n",
    "LIMIT\tSELECT * FROM table_name LIMIT number;\tLIMIT is a clause to specify the maximum number of rows the result set must have.\tSELECT * FROM placeofinterest WHERE airport=\"pearson\" LIMIT 5;\n",
    "INSERT\tINSERT INTO table_name (column1,column2,column3...) VALUES(value1,value2,value3...); \tINSERT is used to insert new rows in the table.\tINSERT INTO placeofinterest (name,type,city,country,airport) VALUES('Niagara Waterfalls','Nature','Toronto','Canada','Pearson');\n",
    "UPDATE\tUPDATE table_name SET[[column1]=[VALUES]] WHERE [condition];\tUPDATE used to update the rows in the table.\tUPDATE placeofinterest SET name = 'Niagara Falls' WHERE name = \"Niagara Waterfalls\";\n",
    "DELETE\tDELETE FROM table_name WHERE [condition]; \tDELETE statement is used to remove rows from the table which are specified in the WHERE condition.\tDELETE FROM placeofinterest WHERE city IN ('Rome','Vienna');"
   ]
  },
  {
   "cell_type": "markdown",
   "id": "cb18eb34-d036-4179-9643-f3446aadfbd1",
   "metadata": {},
   "source": [
    "Concepts des bases de données relationnelles"
   ]
  },
  {
   "cell_type": "markdown",
   "id": "6fe27563-30ff-49c5-b7bd-3098b8158520",
   "metadata": {},
   "source": [
    "(Musique) Bonjour et bienvenue sur Database Concepts. Dans cette vidéo, nous allons découvrir différents types de modèles, comment nous les utilisons des modèles pour mapper des données sur des tables et définir des relations entre les tables. À la fin de cette leçon, vous serez en mesure d' expliquer l'avantage de la relation modèle, expliquez comment le nom et les attributs de l'entité correspondent à une base de données relationnelle tableau, décrivez la différence entre une entité et un attribut, identifiez certains types de données couramment utilisés, et décrivent la fonction des clés primaires. Le modèle relationnel est le modèle de données le plus utilisé pour les bases de données car le modèle permet l'indépendance des données. Les données sont stockées dans une structure de données simple. Tableaux : cela garantit l'indépendance des données logiques, l'indépendance des données physiques et l'indépendance du stockage physique. Un modèle de données de relation entre entités, ou ER modèle de données, est une alternative au modèle de données relationnel. À l'aide d'un base de données de bibliothèque à titre d'exemple, cette figure montre une relation entre entités diagramme ou ERD qui représente les entités appelées tables et leurs relations. Dans pour l'exemple de la bibliothèque, nous avons des livres. Un livre peut être écrit par un ou plusieurs auteurs. La bibliothèque peut avoir un ou plusieurs exemplaires d'un livre. Chaque copie peut être empruntée par un seul emprunteur à la fois. Un modèle de relation entre entités propose de penser à une base de données en tant qu'ensemble d'entités plutôt que d'être utilisée comme modèle sur son propre. Le modèle ER est utilisé comme outil pour concevoir des bases de données relationnelles. Aux urgences modèle, les entités sont des objets qui existent indépendamment de toute autre entité dans la base de données. Les éléments constitutifs d'un diagramme ER sont entités et attributs. Une entité peut être un nom : personne, lieu ou chose. Dans un diagramme ER, une entité est dessinée sous la forme d'un rectangle. Les entités possèdent des attributs qui sont les éléments de données qui caractérisent les entité. Les attributs nous en disent plus sur l' entité. Dans un diagramme ER, les attributs sont dessinés sous forme d'ovales. En utilisant une bibliothèque simplifiée comme exemple, le livre est un exemple d'entité. Les attributs sont certaines propriétés ou caractéristiques de une entité et dites-nous en plus sur cette entité. Le livre d'entités comporte des attributs tels que le titre du livre, l'édition du livre, l'année où le livre a été écrit, etc. Les attributs sont connectés à une seule entité. Le livre d'entités devient une table dans la base de données et les attributs deviennent les colonnes d'une table. Une table est une combinaison de lignes et de colonnes. Lors du mappage, l'entité devient la table. Cela dit, le tableau n'a pas encore pris la forme de lignes et de colonnes. Le les attributs sont traduits en colonnes dans un tableau fournissant le tableau réel forme de lignes et de colonnes. Plus tard, nous ajoutons des valeurs de données à chacune des colonnes, qui complète le formulaire de tableau. Chaque attribut stocke les valeurs de données de différents formats, caractères, chiffres , dates, devises et bien d'autres encore. Dans l'exemple d'une table de livres, le titre est composé de caractères. Comme les titres de livres varient en longueur, nous pouvons définir le type de données de caractère variable pour la colonne de titre : VAR char. Pour les colonnes de caractères dont la longueur ne varie pas, nous utilisons un caractère ou un caractère. Le Les colonnes relatives à l'édition et à l'année seraient numériques. La colonne ISBN serait gravée car elle contient des tirets ainsi que des chiffres, etc. Utilisation de l'entité livre mappage à titre d'exemple, nous pouvons créer les tables pour le reste de notre exemple de bibliothèque simplifiée utilisant des noms d'entités, tels que l'auteur, la liste des auteurs, emprunteur, prêt et copie. Les attributs de l'entité seront les colonnes du tables. Une clé primaire est attribuée à chaque table. La clé primaire d'une relation la table identifie de manière unique chaque tuple ou ligne d'une table, empêchant ainsi la duplication de données et fournissant un moyen de définir les relations entre les tables. Les tables peuvent contiennent également des clés étrangères qui sont des clés primaires définies dans d'autres tables, création d'un lien entre les tables. Vous savez maintenant que le principal avantage du le modèle relationnel est l' indépendance et le stockage des données logiques et physiques indépendance. Les entités sont des objets indépendants qui peuvent avoir plusieurs caractéristiques appelées attributs. Lors du mappage vers une base de données relationnelle, les entités sont représentées sous forme de tables et les attributs sont mappés à des colonnes. Les types de données courants incluent des caractères tels que la voiture et le caractère VAR, des nombres tels que des nombres entiers et décimaux, ainsi que des horodatages tels que la date et l'heure. Une clé primaire identifie de manière unique une ligne spécifique d'une table et empêche la duplication des données. (Musique)"
   ]
  },
  {
   "cell_type": "markdown",
   "id": "c597ec7b-b7ed-4bfc-a2aa-82592c6c6c88",
   "metadata": {},
   "source": [
    "Types d'instructions SQL (DDL vs. DML)"
   ]
  },
  {
   "cell_type": "markdown",
   "id": "c67f5aca-21f0-4e6a-9142-5c94f8fccfca",
   "metadata": {},
   "source": [
    "Bienvenue dans la section Types d'instructions SQL. À la fin de la vidéo, vous serez en mesure de faire la distinction entre les instructions en langage de définition des données et les instructions en langage de manipulation des données. Les instructions SQL sont utilisées pour interagir avec les entités (c'est-à-dire les tables), les attributs (c'est-à-dire les colonnes) et leurs tuples (ou les lignes contenant des valeurs de données) dans les bases de données relationnelles. Les instructions SQL se répartissent en deux catégories différentes : les instructions du langage de définition des données et les instructions du langage de manipulation des données. Les instructions DDL (Data Definition Language) sont utilisées pour définir, modifier ou supprimer des objets de base de données tels que des tables. Les types d'instructions DDL courants incluent CREATE, ALTER, TRUNCATE et DROP. CREATE : qui est utilisé pour créer des tables et définir leurs colonnes ; ALTER : est utilisé pour modifier les tables, notamment en ajoutant et en supprimant des colonnes et en modifiant leurs types de données ; TRUNCATE : est utilisé pour supprimer les données d'une table mais pas la table elle-même ; DROP : est utilisé pour supprimer des tables. Les instructions DML (Data Manipulation Language) sont utilisées pour lire et modifier les données des tables. Ces opérations sont également parfois appelées opérations CRUD, c'est-à-dire créer, lire, mettre à jour et supprimer des lignes dans une table. Les types d'instructions DML courants incluent INSERT, SELECT, UPDATE et DELETE. INSERT : est utilisé pour insérer une ligne ou plusieurs lignes de données dans un tableau ; SELECT : lit ou sélectionne une ou plusieurs lignes d'un tableau ; UPDATE : édite une ou plusieurs lignes d'un tableau ; et DELETE : supprime une ou plusieurs lignes de données d'un tableau. Vous savez maintenant que : les instructions DDL ou Data Definition Language sont utilisées pour définir ou modifier des objets dans une base de données tels que des tables. De plus, les instructions DML ou Data Manipulation Language sont utilisées pour manipuler ou utiliser des données dans des tables. Merci d'avoir regardé cette vidéo."
   ]
  },
  {
   "cell_type": "markdown",
   "id": "e12dde7f-0343-4f5d-9a67-7b74fec17275",
   "metadata": {},
   "source": [
    "Déclaration CREATE TABLEStatut "
   ]
  },
  {
   "cell_type": "markdown",
   "id": "959a6f24-9cf9-41b1-8eb4-dff2e2917045",
   "metadata": {},
   "source": [
    "Bonjour, et bienvenue à la déclaration CREATE TABLE. Dans cette vidéo, nous allons apprendre à créer une table de base de données relationnelle. À la fin de la vidéo, vous pourrez faire la distinction entre les instructions de langage de définition de données et les instructions de langage de manipulation de données, et expliquer comment le nom d'entité et les attributs sont utilisés pour créer une table de base de données relationnelle.\n",
    "Lisez la vidéo à partir de ::31 et suivez la transcription0:31\n",
    "Les instructions SQL sont utilisées pour interagir avec les entités (c'est-à-dire les tables), les attributs (c'est-à-dire les colonnes) et leurs tuples (ou les lignes avec des valeurs de données) dans les bases de données relationnelles. Les instructions SQL se répartissent en deux catégories différentes : les instructions Data Definition Language et les instructions Data Manipulation Language. Les instructions Data Definition Language (ou DDL) sont utilisées pour définir, modifier ou supprimer des objets de base de données tels que des tables. Les types d'instructions DDL courants sont : CREATE, ALTER, TRUNCATE et DROP. CREATE : qui est utilisé pour créer des tables et définir ses colonnes ALTER : est utilisé pour modifier des tables, y compris ajouter et déposer des colonnes et modifier leurs types de données TRUNCATE : est utilisé pour supprimer des données dans une table mais pas la table elle-même DROP : est utilisé pour supprimer des tables Données Manipulation Language (ou DML) instructions sont utilisées pour lire et modifier les données des tables. Elles sont également parfois appelées opérations CRUD, c'est-à-dire Créer, Lire, Mettre à jour et Supprimer des lignes dans une table. Les types d'instructions DML courants incluent : INSERT, SELECT, UPDATE et DELETE. INSERT : est utilisé pour insérer une ligne ou plusieurs lignes de données dans une table SELECT : lit ou sélectionne une ligne ou des lignes d'une table UPDATE : édite une ligne ou des lignes d'une table Et DELETE : supprime une ou plusieurs lignes de données d'une table Maintenant, regardons l'instruction DDL la plus courante — CREATE. La syntaxe de la table CREATE est montrée ici : Vous commencez par « CREATE TABLE » suivi du nom de la table que vous voulez créer Puis placez le reste de l'instruction à l'intérieur d'une paire de parenthèses ou de crochets ronds. Chaque ligne à l'intérieur de la parenthèse spécifie le nom d'une colonne suivie de son type de données et éventuellement quelques valeurs facultatives supplémentaires que nous verrons plus tard. Chaque définition d'attribut ou de colonne est séparée par une virgule. Par exemple, si nous voulons créer une table pour les provinces au Canada, vous devez spécifier : CREATE TABLE provinces (id char (2) Clé primaire non null nom de virgule varchar (24) close parenthèses Dans cet exemple, les types de données utilisés sont : CHAR qui est une chaîne de caractères d'une longueur fixe, dans ce cas 2. Et VARCHAR, qui est une chaîne de caractères d'une longueur variable. Dans ce cas, ce champ de caractère variable peut contenir jusqu'à 24 caractères. L' émission de cette instruction créerait une table dans la base de données avec 2 colonnes. L' identifiant de la première colonne pour stocker les codes abrégés de province à 2 lettres tels que AB, BC, etc. Et la deuxième colonne appelée nom pour stocker le nom complet de la province, comme ALBERTA, COLOMBIE-BRITANNIQUE, etc. Maintenant, regardons un exemple plus élaboré basé sur la base de données de la bibliothèque. Cette base de données comprend plusieurs entités telles que AUTHOR, BOOK, BORROWER, etc. Commençons par créer la table pour l'entité AUTHOR. Le nom de la table sera AUTHOR, et ses attributs tels que AUTHOR_ID, FIRSTNAME, LASTNAME, etc. seront les colonnes de la table. Dans ce tableau, nous allons également affecter l'attribut Author_ID comme clé primaire, de sorte qu'aucune valeur en double ne puisse exister. Rappel, la clé primaire d'une table relationnelle identifie de manière unique chaque tuple (ou ligne) d'une table. Pour créer la table Auteur, exécutez la commande suivante : CREATE TABLE author (author_id CHAR (2) PRIMARY KEY NOT NULL, lastname VARCHAR (15) NOT NULL, firstname VARCHAR (15) NOT NULL, email VARCHAR (40), city VARCHAR (15), pays CHAR (2))\n",
    "Lisez la vidéo à partir de :5:11 et suivez la transcription5:11\n",
    "Notez que l'ID est la clé primaire. Cette contrainte empêche les valeurs en double dans la table. Notez également que Nom et Prénom ont la contrainte NOT NULL. Cela garantit que ces champs ne peuvent pas contenir de valeur NULL, car un auteur doit avoir un nom. Vous savez maintenant que : les instructions DDL ou Data Definition Language sont utilisées pour définir ou modifier des objets dans une base de données comme des tables. Les instructions DML ou Data Manipulation Language sont utilisées pour manipuler ou travailler avec des données dans des tables. CREATE est une instruction DDL permettant de créer des entités ou des tables dans une base de données. L' instruction CREATE TABLE inclut la définition des attributs des colonnes de la table, y compris les noms des colonnes Type de données des colonnes et d'autres valeurs facultatives si nécessaire, telles que la contrainte de clé primaire Merci d'avoir regardé cette vidéo."
   ]
  },
  {
   "cell_type": "code",
   "execution_count": null,
   "id": "bd3a0df0-3f14-46f8-80ac-2b48caabb417",
   "metadata": {},
   "outputs": [],
   "source": [
    "ALTER, DROP et Troncature des tables"
   ]
  },
  {
   "cell_type": "markdown",
   "id": "d99c4cb7-0d2b-43c7-8520-62e47a74994b",
   "metadata": {},
   "source": [
    "Bonjour et bienvenue aux tables ALTER, DROP et TRUNCATE. Après avoir regardé cette vidéo, vous serez en mesure de : Décrire les instructions ALTER TABLE, DROP TABLE et TRUNCATE. Expliquer la syntaxe. Utiliser les instructions dans les requêtes. Vous utilisez l'instruction ALTER TABLE pour ajouter ou supprimer des colonnes d'une table, pour modifier le type de données des colonnes, pour ajouter ou supprimer des clés, et pour ajouter ou supprimer des contraintes. La syntaxe de l'instruction ALTER TABLE est présentée ci-dessous. Vous commencez par ALTER TABLE suivi du nom de la table que vous souhaitez modifier. Contrairement à l'instruction CREATE TABLE, vous n'utilisez pas de parenthèses pour entourer les paramètres de l'instruction ALTER TABLE. Chaque ligne de l'instruction ALTER TABLE spécifie une modification que vous souhaitez apporter à la table. Par exemple, pour ajouter une colonne de numéro de téléphone à la table AUTHOR de la base de données Library afin de stocker le numéro de téléphone de l'auteur, utilisez l'instruction suivante : ALTER TABLE author ADD COLUMN telephone_number BIGINT ; Dans cet exemple, le type de données de la colonne est BIGINT, qui peut contenir un nombre d'une longueur maximale de 19 chiffres. Vous pouvez également utiliser l'instruction ALTER TABLE pour modifier le type de données d'une colonne. Pour ce faire, utilisez la clause ALTER COLUMN en spécifiant le nouveau type de données de la colonne. Par exemple, l'utilisation d'un type de données numérique pour le numéro de téléphone signifie que vous ne pouvez pas inclure des parenthèses, des signes plus ou des tirets dans le numéro. Vous pouvez modifier la colonne pour utiliser le type de données CHAR afin de résoudre ce problème. Le code suivant montre comment modifier la table auteur : ALTER TABLE author ALTER COLUMN telephone_number SET DATA TYPE CHAR(20 ) ; La modification du type de données d'une colonne contenant des données existantes peut toutefois poser des problèmes si les données existantes ne sont pas compatibles avec le nouveau type de données. Par exemple, le passage d'une colonne de type CHAR à un type de données numériques ne fonctionnera pas si la colonne contient déjà des données non numériques. Si vous essayez de faire cela, vous verrez un message d'erreur dans le journal de notification et l'instruction ne s'exécutera pas. Si votre spécification change et que vous n'avez plus besoin de cette colonne supplémentaire, vous pouvez à nouveau utiliser l'instruction ALTER TABLE, cette fois avec la clause DROP COLUMN, pour supprimer la colonne comme indiqué : ALTER TABLE author DROP COLUMN telephone_number ; Tout comme vous utilisez DROP COLUMN pour supprimer une colonne d'une table, vous utilisez l'instruction DROP TABLE pour supprimer une table d'une base de données.\n",
    "Lisez la vidéo à partir de :2:58 et suivez la transcription2:58\n",
    "Si vous supprimez une table qui contient des données, les données seront par défaut supprimées en même temps que la table. La syntaxe de l'instruction DROP TABLE est la suivante : DROP TABLE nom_de_la_table ; Vous pouvez donc utiliser cette instruction : DROP TABLE auteur ; pour supprimer la table de la base de données.\n",
    "Lisez la vidéo à partir de :3:18 et suivez la transcription3:18\n",
    "Il peut arriver que vous souhaitiez simplement supprimer les données d'une table plutôt que la table elle-même. Bien que vous puissiez utiliser l'instruction DELETE sans clause WHERE pour ce faire, il est généralement plus rapide et plus efficace de tronquer la table. Vous utilisez l'instruction TRUNCATE TABLE pour supprimer toutes les lignes d'une table. La syntaxe de l'instruction est la suivante : TRUNCATE TABLE nom_de_table IMMEDIATE ; L'expression IMMEDIATE indique que l'instruction doit être traitée immédiatement et qu'elle ne peut pas être annulée. Ainsi, pour tronquer la table auteur, vous utilisez cette instruction : TRUNCATE TABLE auteur IMMEDIATE ; Dans cette vidéo, vous avez appris que : L'instruction ALTER TABLE modifie la structure d'une table existante, par exemple, pour ajouter, modifier ou supprimer des colonnes. L'instruction DROP TABLE supprime une table existante. L'instruction TRUNCATE TABLE supprime toutes les lignes de données d'une table."
   ]
  },
  {
   "cell_type": "markdown",
   "id": "f693f107-c6bf-4215-bba2-12f3a4a5b872",
   "metadata": {},
   "source": [
    "(lien pour l'exemple d'utilisation des instructions  ALTER, TRUNCATE, DROP)[https://www.coursera.org/learn/sql-data-science/ungradedWidget/bIDoK/examples-to-alter-and-truncate-tables-using-mysql]"
   ]
  },
  {
   "cell_type": "markdown",
   "id": "5a632da5-e214-4c92-b6e6-fc5e93ed1279",
   "metadata": {},
   "source": [
    "Reading: Examples to ALTER and TRUNCATE tables using MySQL\n",
    "Estimated time to complete: 5 minutes\n",
    "\n",
    "In the previous video, the ALTER and TRUNCATE syntax applies to DB2. There are variations in syntax between different databases. This reading will explore some examples of ALTER and TRUNCATE statements using MySQL.\n",
    "\n",
    "Objective(s)\n",
    "At the end of this reading, you will be able to:\n",
    "\n",
    "- Use the ALTER TABLE statement in the correct syntax.\n",
    "- Use TRUNCATE statements in syntax.\n",
    "- Execute examples of ALTER and TRUNCATE statements."
   ]
  },
  {
   "cell_type": "markdown",
   "id": "536afdb7-59f1-4a23-b3a9-c3d6a0b5ea21",
   "metadata": {},
   "source": [
    "# ADD COLUMN syntax"
   ]
  },
  {
   "cell_type": "code",
   "execution_count": null,
   "id": "c013e07b-e2d1-4775-b5de-432e2194665c",
   "metadata": {},
   "outputs": [],
   "source": [
    "ALTER TABLE table_name\n",
    "ADD column_name data_type;"
   ]
  },
  {
   "cell_type": "code",
   "execution_count": null,
   "id": "c688a91b-8247-42c0-82fa-4bf15ba3af2a",
   "metadata": {},
   "outputs": [],
   "source": [
    "Une variante de la syntaxe d’ajout de colonne est la suivante :"
   ]
  },
  {
   "cell_type": "code",
   "execution_count": null,
   "id": "1a3f33c4-4cd0-4f32-8fac-1ae607993e86",
   "metadata": {},
   "outputs": [],
   "source": [
    "ALTER TABLE table_name\n",
    "ADD COLUMN column_name data_type;"
   ]
  },
  {
   "cell_type": "code",
   "execution_count": null,
   "id": "3c651dff-2eb3-41b1-943a-8a52e01dee23",
   "metadata": {},
   "outputs": [],
   "source": [
    "By default, all the entries are initially assigned the value NULL. You can then use UPDATE statements to add the necessary column values.\n",
    "\n",
    "For example, to add a telephone_number column to the author table in the library database, the statement will be written as:"
   ]
  },
  {
   "cell_type": "code",
   "execution_count": null,
   "id": "ba5e98c7-de9b-4f55-a1c6-fbc34741c9ce",
   "metadata": {},
   "outputs": [],
   "source": [
    "ALTER TABLE author \n",
    "ADD telephone_number BIGINT;"
   ]
  },
  {
   "cell_type": "code",
   "execution_count": null,
   "id": "59c28ef7-12f7-460f-a094-386dbe7a6fe9",
   "metadata": {},
   "outputs": [],
   "source": [
    "Ici, BIGINT est un type de données pour Big Integer.\n",
    "Après avoir ajouté les entrées à la nouvelle colonne, un exemple de sortie est affiché ci-dessous.\n",
    "\n"
   ]
  },
  {
   "cell_type": "markdown",
   "id": "312904a8-28e5-4d78-855a-ca4246810434",
   "metadata": {},
   "source": [
    "# Modify column data type"
   ]
  },
  {
   "cell_type": "code",
   "execution_count": null,
   "id": "098ef42c-ae35-4a41-ade7-68f3b40ba2b9",
   "metadata": {},
   "outputs": [],
   "source": [
    "ALTER TABLE table_name\n",
    "MODIFY column_name data_type;"
   ]
  },
  {
   "cell_type": "code",
   "execution_count": null,
   "id": "2a35d27f-77e0-4f21-87b4-7a4aa251b382",
   "metadata": {},
   "outputs": [],
   "source": [
    "Sometimes, the data presented may be in a different format than required. \n",
    "In such a case, we need to modify the data_type of the column. \n",
    "For example, using a numeric data type for telephone_number means you cannot \n",
    "include parentheses, plus signs, or dashes as part of the number.\n",
    "For such entries, the appropriate choice of data_type is CHAR."
   ]
  },
  {
   "cell_type": "code",
   "execution_count": null,
   "id": "122c7848-e107-4017-80dc-d33850dca778",
   "metadata": {},
   "outputs": [],
   "source": [
    "To modify the data type, the statement will be written as:"
   ]
  },
  {
   "cell_type": "code",
   "execution_count": null,
   "id": "b6f1ed02-9f7a-4878-b253-38064fcfe614",
   "metadata": {},
   "outputs": [],
   "source": [
    "ALTER TABLE author\n",
    "MODIFY telephone_number CHAR(20);"
   ]
  },
  {
   "cell_type": "code",
   "execution_count": null,
   "id": "708637a5-edf8-42da-aa3d-a401ada96dac",
   "metadata": {},
   "outputs": [],
   "source": [
    "The entries can then be updated using UPDATE statements. An updated version of the \"author\" table is shown below.\n",
    "\n"
   ]
  },
  {
   "cell_type": "markdown",
   "id": "c5917938-4e56-43a2-aa0a-a1bd800efac5",
   "metadata": {},
   "source": [
    "# TRUNCATE Table\n"
   ]
  },
  {
   "cell_type": "code",
   "execution_count": null,
   "id": "6fe6923e-eee3-4b01-8fab-2fea316a58ab",
   "metadata": {},
   "outputs": [],
   "source": [
    "permet de supprimer toutes les lignes."
   ]
  },
  {
   "cell_type": "code",
   "execution_count": null,
   "id": "83488fbd-1b47-4f36-875f-62d186dc3b9c",
   "metadata": {},
   "outputs": [],
   "source": [
    "TRUNCATE TABLE statements are used to delete all of the rows in a table. The syntax of the statement is:"
   ]
  },
  {
   "cell_type": "code",
   "execution_count": null,
   "id": "d1280d07-cba6-4160-9d04-7db8b851fab7",
   "metadata": {},
   "outputs": [],
   "source": [
    "TRUNCATE TABLE table_name;"
   ]
  },
  {
   "cell_type": "code",
   "execution_count": null,
   "id": "2ac98739-e319-4bf5-aa38-94142a3e15cd",
   "metadata": {},
   "outputs": [],
   "source": [
    "So, to truncate the \"author\" table, the statement will be written as:"
   ]
  },
  {
   "cell_type": "code",
   "execution_count": null,
   "id": "8b57e4dd-e3ae-4e3b-83ce-ba5932a1458f",
   "metadata": {},
   "outputs": [],
   "source": [
    "TRUNCATE TABLE author;"
   ]
  },
  {
   "cell_type": "markdown",
   "id": "15ec7e8f-7277-4246-a4a7-e31469519334",
   "metadata": {},
   "source": [
    "# Exemples de création et de suppression de tables"
   ]
  },
  {
   "cell_type": "code",
   "execution_count": null,
   "id": "c1a79032-d102-4027-900b-b9b47bb97701",
   "metadata": {},
   "outputs": [],
   "source": [
    "CREATE TABLE statement\n",
    "In the previous video, we saw the general syntax to create a table:"
   ]
  },
  {
   "cell_type": "code",
   "execution_count": null,
   "id": "91d04374-7089-4446-9e28-fe91ad48f1ed",
   "metadata": {},
   "outputs": [],
   "source": [
    "CREATE TABLE TableName (\n",
    "   COLUMN1 datatype,\n",
    "   COLUMN2 datatype,\n",
    "   COLUMN3 datatype, \n",
    "   ...\n",
    ");"
   ]
  },
  {
   "cell_type": "markdown",
   "id": "1f40e5df-f71b-44f2-b5a0-d9ea7cccee8c",
   "metadata": {},
   "source": [
    "- Create a TEST table with two columns - ID of type integer and NAME of type varchar.\n",
    "For this, we use the following SQL statement."
   ]
  },
  {
   "cell_type": "code",
   "execution_count": null,
   "id": "5f54d323-a80b-4d85-a164-5a30b5e4cae4",
   "metadata": {},
   "outputs": [],
   "source": [
    "CREATE TABLE TEST (\n",
    "   ID int,\n",
    "   NAME varchar(30)\n",
    ");"
   ]
  },
  {
   "cell_type": "markdown",
   "id": "00a8ccc9-c92f-42a0-a6c2-3138041191c2",
   "metadata": {},
   "source": [
    "- Create a COUNTRY table with an integer ID column, a two-letter country code column, and a variable length country name column. For this, we may use the following SQL statement."
   ]
  },
  {
   "cell_type": "code",
   "execution_count": null,
   "id": "9e5b625e-644f-4262-a389-7e3703927c4a",
   "metadata": {},
   "outputs": [],
   "source": [
    "CREATE TABLE COUNTRY (\n",
    "   ID int,\n",
    "   CCODE char(2),\n",
    "   Name varchar(60)\n",
    ");"
   ]
  },
  {
   "cell_type": "code",
   "execution_count": null,
   "id": "e8b97c72-584b-4707-83e3-5f1192f82b30",
   "metadata": {},
   "outputs": [],
   "source": [
    "In the example above, make ID a primary key. Then, the statement will be modified as shown below."
   ]
  },
  {
   "cell_type": "code",
   "execution_count": null,
   "id": "42e57a16-8dec-4971-8db8-e08fbe294656",
   "metadata": {},
   "outputs": [],
   "source": [
    "CREATE TABLE COUNTRY (\n",
    "   ID int NOT NULL,\n",
    "   CCODE char(2),\n",
    "   Name varchar(60)\n",
    "   PRIMARY KEY (ID)\n",
    ");"
   ]
  },
  {
   "cell_type": "markdown",
   "id": "54a81e96-9254-418e-96a5-7a24abe98f18",
   "metadata": {},
   "source": [
    "Dans l’exemple ci-dessus, la contrainte NOT NULL est ajoutée à la colonne ID après le type de données, ce qui signifie qu’elle ne peut pas contenir de valeur NULL ou vide. Ceci est ajouté car la base de données n’autorise pas les clés primaires à avoir des valeurs NULL."
   ]
  },
  {
   "cell_type": "markdown",
   "id": "daf50a01-c5be-49e5-9efb-9bfb8e8f0d42",
   "metadata": {},
   "source": [
    "# DROP TABLE"
   ]
  },
  {
   "cell_type": "markdown",
   "id": "24e02964-00ea-4739-b56a-8d71e4b28d86",
   "metadata": {},
   "source": [
    "Si la table que vous essayez de créer existe déjà dans la base de données, vous obtiendrez une erreur indiquant que la table XXX.YYY existe déjà. Pour contourner cette erreur, créez une table avec un nom différent ou supprimez d’abord la table existante. Il est courant d’émettre un DROP avant d’effectuer un CREATE dans les scénarios de test et de développement."
   ]
  },
  {
   "cell_type": "markdown",
   "id": "1740b0bd-ad4b-44be-b6ea-3953f4a3cfd9",
   "metadata": {},
   "source": [
    "La syntaxe pour supprimer une table est la suivante :"
   ]
  },
  {
   "cell_type": "markdown",
   "id": "26a4a866-abe3-42e9-938f-e8084d127a9b",
   "metadata": {},
   "source": [
    "Par exemple, supposons que vous souhaitiez supprimer le contenu de la table COUNTRY si une table existe dans le jeu de données portant le même nom. Dans ce cas, le code du dernier exemple devient"
   ]
  },
  {
   "cell_type": "code",
   "execution_count": null,
   "id": "8b61f415-f7cb-49fb-8504-11f38af55294",
   "metadata": {},
   "outputs": [],
   "source": [
    "DROP TABLE COUNTRY;\n",
    "CREATE TABLE COUNTRY (\n",
    "   ID int NOT NULL,\n",
    "   CCODE char(2),\n",
    "   Name varchar(60)\n",
    "   PRIMARY KEY (ID)\n",
    ");"
   ]
  },
  {
   "cell_type": "markdown",
   "id": "758e3381-5fd8-4d0c-ba7c-95f4583dd901",
   "metadata": {},
   "source": [
    "AVERTISSEMENT : Avant de déposer une table, assurez-vous qu’elle ne contient pas de données importantes qui ne peuvent pas être récupérées facilement.\n",
    "\n",
    "Notez que si la table n’existe pas et que vous essayez de la supprimer, vous verrez une erreur telle que XXX.YYY est un nom indéfini. Vous pouvez ignorer cette erreur si l’instruction CREATE suivante est exécutée avec succès.\n",
    "\n",
    "Dans un atelier pratique plus loin dans ce module, vous vous exercerez à créer des tables et d’autres instructions SQL."
   ]
  },
  {
   "cell_type": "markdown",
   "id": "740d1786-8559-4906-86b3-92e08f04d71d",
   "metadata": {},
   "source": [
    "Dans ce laboratoire, vous apprendrez à créer des tables et à charger des données à l'aide de l'interface graphique phpMyAdmin dans le service de base de données MySQL."
   ]
  },
  {
   "cell_type": "markdown",
   "id": "ee9f893a-b182-4625-8699-4bff20853a99",
   "metadata": {},
   "source": [
    "Dans cet atelier, vous apprendrez à créer des tables et à charger des données à l’aide de l’interface utilisateur graphique (GUI) phpMyAdmin dans le service de base de données MySQL."
   ]
  },
  {
   "cell_type": "markdown",
   "id": "90e3abe0-bdbf-4c80-8805-81d2a7272493",
   "metadata": {},
   "source": [
    "#  Logiciels utilisés dans cet atelier\n",
    "Dans cet atelier, vous allez utiliser MySQL. MySQL est un système de gestion de base de données relationnelle (SGBDR) conçu pour stocker, manipuler et récupérer efficacement des données.\n",
    "\n"
   ]
  },
  {
   "cell_type": "markdown",
   "id": "9c4fb8e2-4f72-4dbf-ab82-ad635611df7e",
   "metadata": {},
   "source": [
    "Pour terminer cet atelier. vous utiliserez le service de base de données relationnelle MySQL disponible dans le cadre de l’IDE cloud IBM Skills Network Labs (SN Labs). SN Labs est un environnement de laboratoire virtuel utilisé dans ce cours."
   ]
  },
  {
   "cell_type": "markdown",
   "id": "0788cc08-e6f5-4dd4-acec-d456d450efe3",
   "metadata": {},
   "source": [
    "# Hands-on Lab: CREATE, ALTER, TRUNCATE, DROP"
   ]
  },
  {
   "cell_type": "markdown",
   "id": "ebaaffab-6922-4598-9908-73f762695728",
   "metadata": {},
   "source": [
    "# Objectifs\n",
    "Après avoir terminé cet atelier, vous serez en mesure d’utiliser phpMyAdmin avec MySQL pour :\n",
    "\n",
    "- Créez une base de données.\n",
    "- Créez une nouvelle table dans une base de données.\n",
    "- Ajoutez, supprimez ou modifiez des colonnes dans une table existante.\n",
    "- Supprimez toutes les lignes d’un tableau existant sans supprimer le tableau lui-même.\n",
    "- Supprimer une table existante dans une base de données."
   ]
  },
  {
   "cell_type": "markdown",
   "id": "ad0acf14-32da-435a-b911-f8ccd947f418",
   "metadata": {},
   "source": [
    "Dans cet atelier, vous apprendrez à créer des tables et à charger des données à l’aide de l’interface utilisateur graphique (GUI) phpMyAdmin dans le service de base de données MySQL."
   ]
  },
  {
   "cell_type": "markdown",
   "id": "177dd42e-0fbc-4eb0-8224-6fcfa7daa7bd",
   "metadata": {},
   "source": [
    "Logiciels utilisés dans cet atelier\n",
    "Dans cet atelier, vous allez utiliser MySQL. MySQL est un système de gestion de base de données relationnelle (SGBDR) conçu pour stocker, manipuler et récupérer efficacement des données.\n",
    "\n"
   ]
  },
  {
   "cell_type": "markdown",
   "id": "1b204af9-953f-47cd-812f-44ce9ba038b6",
   "metadata": {},
   "source": [
    "# Objectifs\n",
    "Après avoir terminé cet atelier, vous serez en mesure d’utiliser phpMyAdmin avec MySQL pour :\n",
    "\n",
    "- Créez une base de données.\n",
    "- Créez une nouvelle table dans une base de données.\n",
    "- Ajoutez, supprimez ou modifiez des colonnes dans une table existante.\n",
    "- Supprimez toutes les lignes d’un tableau existant sans supprimer le tableau lui-même.\n",
    "- Supprimer une table existante dans une base de données."
   ]
  },
  {
   "cell_type": "markdown",
   "id": "9ec802b5-c4e8-41a6-8da5-2f44a507d763",
   "metadata": {},
   "source": [
    "# Tâche 1 : Créer une base de données\n",
    "Suivez les étapes ci-dessous pour créer une nouvelle base de données dans l’interface graphique phpMyAdmin de MySQL.\n",
    "\n",
    "1. #### Cliquez sur Boîte à outils du réseau de compétences. Dans la section Base de données, cliquez sur MySQL.\n",
    "\n",
    "Pour démarrer MySQL, cliquez sur Démarrer."
   ]
  },
  {
   "cell_type": "markdown",
   "id": "98c8d33c-0db1-421f-aa16-013619a9cc66",
   "metadata": {},
   "source": [
    "2. ##### Une fois que MySQL a démarré, cliquez sur le bouton phpMyAdmin pour ouvrir phpMyAdmin dans la même fenêtre."
   ]
  },
  {
   "cell_type": "markdown",
   "id": "496fa523-760b-4a6e-8b31-362fb62f2635",
   "metadata": {},
   "source": [
    "3. ##### You will see the phpMyAdmin GUI tool."
   ]
  },
  {
   "cell_type": "markdown",
   "id": "82457952-f603-444e-9b70-abf9f29f66f9",
   "metadata": {},
   "source": [
    "4. ##### In the tree view, click New to create a new empty database. Then, enter Mysql_Learners as the name of the database, select utf8_general_ci from the dropdown, and click Create.\n",
    "\n",
    "\n",
    "UTF-8 is the most commonly used character encoding for content or data."
   ]
  },
  {
   "cell_type": "markdown",
   "id": "cd3ccef0-c12c-4c06-8902-3534e26a74fa",
   "metadata": {},
   "source": [
    "# Task 2a : CREATE statement\n",
    "\n",
    "Now, you will use the CREATE statement to create two new tables.\n",
    "Follow the instructions to complete this task."
   ]
  },
  {
   "cell_type": "markdown",
   "id": "886fd072-07e2-4fc7-a4f4-48894cf6a0d1",
   "metadata": {},
   "source": [
    "1. ##### You need to create two tables, PETSALE and PET. To create the two tables, copy the code below and paste it into the text area of the SQL tab. Click Go."
   ]
  },
  {
   "cell_type": "code",
   "execution_count": null,
   "id": "a10b6168-5c2e-4cfc-8fe8-7932150a238c",
   "metadata": {},
   "outputs": [],
   "source": [
    "CREATE TABLE PETSALE (\n",
    "        ID INTEGER NOT NULL,\n",
    "        PET CHAR(20),\n",
    "        SALEPRICE DECIMAL(6,2),\n",
    "        PROFIT DECIMAL(6,2),\n",
    "        SALEDATE DATE\n",
    "        );\n",
    "\n",
    "CREATE TABLE PET (\n",
    "        ID INTEGER NOT NULL,\n",
    "        ANIMAL VARCHAR(20),\n",
    "        QUANTITY INTEGER\n",
    "        );"
   ]
  },
  {
   "cell_type": "markdown",
   "id": "6cfd958b-f9e9-4205-b3f9-97d9599487e3",
   "metadata": {},
   "source": [
    "Vérifiez que les deux tables sont maintenant disponibles dans l’arborescence de gauche, comme indiqué dans l’image ci-dessous."
   ]
  },
  {
   "cell_type": "markdown",
   "id": "74ba7a5c-6d76-4e69-aedb-35f1e70eef5a",
   "metadata": {},
   "source": [
    "# Task 2b: INSERT statement\n",
    "Now, insert some records into the two newly created tables. You can also add SELECT statements to print the contents of the tables once they are loaded with data.\n",
    "Copy the code below and paste it into the text area of the SQL tab. Then, click Go.\n",
    "\n",
    "\n",
    "\n",
    "\n",
    "\n",
    "\n",
    "\n",
    "Tâche 2b : instruction INSERT\n",
    "Maintenant, insérez des enregistrements dans les deux tables nouvellement créées. Vous pouvez également ajouter des instructions SELECT pour imprimer le contenu des tables une fois qu’elles sont chargées avec des données.\n",
    "\n",
    "Copiez le code ci-dessous et collez-le dans la zone de texte de l’onglet SQL. Ensuite, cliquez sur OK."
   ]
  },
  {
   "cell_type": "code",
   "execution_count": null,
   "id": "cac59be8-5dc0-4323-a808-d54dce6ee7c8",
   "metadata": {},
   "outputs": [],
   "source": [
    "INSERT INTO PETSALE VALUES\n",
    "        (1,'Cat',450.09,100.47,'2018-05-29'),\n",
    "        (2,'Dog',666.66,150.76,'2018-06-01'),\n",
    "        (3,'Parrot',50.00,8.9,'2018-06-04'),\n",
    "        (4,'Hamster',60.60,12,'2018-06-11'),\n",
    "        (5,'Goldfish',48.48,3.5,'2018-06-14');\n",
    "        \n",
    "INSERT INTO PET VALUES\n",
    "        (1,'Cat',3),\n",
    "        (2,'Dog',4),\n",
    "        (3,'Hamster',2);\n",
    "\n",
    "SELECT * FROM PETSALE;\n",
    "SELECT * FROM PET;"
   ]
  },
  {
   "cell_type": "markdown",
   "id": "05a4503f-4cb0-42ce-b21a-99b93f2840ee",
   "metadata": {},
   "source": [
    "# Task 3: ALTER statement\n",
    "In this exercise, you will use the #ALTER# statement to add, delete, or modify columns in the existing tables.\n",
    "\n",
    "1. #### Adding a column(ajouter une colonne)\n",
    "Add a new column named QUANTITY to the PETSALE table and display the altered table.\n",
    "For this, copy the code below and paste it into the text area of the SQL page. Click Go..Task 3: ALTER statement\n",
    "In this exercise, you will use the ALTER statement to add, delete, or modify columns in the existing tables.\n",
    "\n",
    "\n",
    "\n",
    "Ajoutez une nouvelle colonne nommée QUANTITY à la table PETSALE et affichez la table modifiée.\n",
    "Pour cela, copiez le code ci-dessous et collez-le dans la zone de texte de la page SQL. Cliquez sur OK."
   ]
  },
  {
   "cell_type": "code",
   "execution_count": null,
   "id": "3eb00062-deeb-4d59-8f22-630282d5b944",
   "metadata": {},
   "outputs": [],
   "source": [
    "ALTER TABLE PETSALE\n",
    "ADD COLUMN QUANTITY INTEGER;\n",
    "\n",
    "SELECT * FROM PETSALE;"
   ]
  },
  {
   "cell_type": "markdown",
   "id": "c2c85a3c-bfd4-4768-a3df-75acbe237f62",
   "metadata": {},
   "source": [
    "Now update the newly added QUANTITY column of the PETSALE table with some values and show all the table records. Copy the code below and paste it into text area of the SQL page. Click Go.\n",
    "\n",
    "Maintenant, mettez à jour la colonne QUANTITY nouvellement ajoutée de la table PETSALE avec quelques valeurs et affichez tous les enregistrements de la table. Copiez le code ci-dessous et collez-le dans la zone de texte de la page SQL. Cliquez sur OK."
   ]
  },
  {
   "cell_type": "code",
   "execution_count": null,
   "id": "42ed29e8-1514-41cf-b1c1-17f1c6fc37d5",
   "metadata": {},
   "outputs": [],
   "source": [
    "UPDATE PETSALE SET QUANTITY = 9 WHERE ID = 1;\n",
    "UPDATE PETSALE SET QUANTITY = 3 WHERE ID = 2;\n",
    "UPDATE PETSALE SET QUANTITY = 2 WHERE ID = 3;\n",
    "UPDATE PETSALE SET QUANTITY = 6 WHERE ID = 4;\n",
    "UPDATE PETSALE SET QUANTITY = 24 WHERE ID = 5;\n",
    "\n",
    "SELECT * FROM PETSALE;"
   ]
  },
  {
   "cell_type": "markdown",
   "id": "8bb5351b-1219-4bdd-b101-654844a4513e",
   "metadata": {},
   "source": [
    "2. #### Deleting a column\n",
    "\n",
    "Delete the PROFIT column from the PETSALE table and show the altered table. Copy the code below and paste it into the text area of the SQL page. Click Go.\n",
    "\n",
    "Supprimez la colonne PROFIT de la table PETSALE et affichez la table modifiée. Copiez le code ci-dessous et collez-le dans la zone de texte de la page SQL. Cliquez sur OK.\n"
   ]
  },
  {
   "cell_type": "code",
   "execution_count": null,
   "id": "ac8a35c1-fb0f-4c7d-887b-63d9d20707bc",
   "metadata": {},
   "outputs": [],
   "source": [
    "ALTER TABLE PETSALE\n",
    "DROP COLUMN PROFIT;\n",
    "SELECT * FROM PETSALE;"
   ]
  },
  {
   "cell_type": "markdown",
   "id": "e58fd24d-22a8-42db-a6c2-2d1876970f41",
   "metadata": {},
   "source": [
    "3. #### Modify a column\n",
    "Change the data type to VARCHAR(20) type of the column PET of the table PETSALE and show the altered table.\n",
    "Copy the code below and paste it into the text area of the SQL page. Click Go."
   ]
  },
  {
   "cell_type": "markdown",
   "id": "e2688948-fd0c-4f32-ad54-e5e396939a3f",
   "metadata": {},
   "source": [
    "3. #### Modifier une colonne\n",
    "Remplacez le type de données par le type VARCHAR(20) de la colonne PET de la table PETSALE et affichez la table modifiée. Copiez le code ci-dessous et collez-le dans la zone de texte de la page SQL. Cliquez sur OK."
   ]
  },
  {
   "cell_type": "code",
   "execution_count": null,
   "id": "14d1ef9a-5849-4161-8308-158f148a3c97",
   "metadata": {},
   "outputs": [],
   "source": [
    "ALTER TABLE PETSALE\n",
    "MODIFY PET VARCHAR(20);\n",
    "SELECT * FROM PETSALE;"
   ]
  },
  {
   "cell_type": "markdown",
   "id": "0b7a2504-9ee8-4279-9f42-5c93b10092d5",
   "metadata": {},
   "source": [
    "Vous pouvez cliquer sur le nom de la table PETSALE dans l’arborescence à gauche puis cliquer sur l’onglet Structure dans l’interface. Vous pouvez ensuite voir que la structure du tableau affiche le type de données de colonne modifié, comme illustré dans l’image ci-dessous."
   ]
  },
  {
   "cell_type": "markdown",
   "id": "f2818b9e-b050-4dbf-8d3e-f3ac77482024",
   "metadata": {},
   "source": [
    "4.  #### Rename a Column\n",
    "Rename the column PET to ANIMAL of the PETSALE table and show the altered table. Copy the code below and paste it into the text area of the SQL page. Click Go."
   ]
  },
  {
   "cell_type": "code",
   "execution_count": null,
   "id": "2ab2cb1e-e79c-4e2e-ab4c-b7a361cd1fe7",
   "metadata": {},
   "outputs": [],
   "source": [
    "ALTER TABLE `PETSALE` CHANGE `PET` `ANIMAL` VARCHAR(20);\n",
    "\n",
    "SELECT * FROM PETSALE;"
   ]
  },
  {
   "cell_type": "markdown",
   "id": "f8079688-bb02-4533-b69e-4ad801b4cb0c",
   "metadata": {},
   "source": [
    "# Task 4: TRUNCATE statement\n",
    "In this exercise, you will use the TRUNCATE statement to remove all rows from an existing table without deleting it.\n",
    "\n",
    "Let's remove all rows from the PET table and show the empty table. Copy the code below and paste it into the text area of the SQL page. Click Go."
   ]
  },
  {
   "cell_type": "markdown",
   "id": "3eb3f397-2981-40d0-b3c2-40d43dac3fee",
   "metadata": {},
   "source": [
    "TRUNCATE TABLE PET ;\n",
    "\n",
    "SELECT * FROM PET;"
   ]
  },
  {
   "cell_type": "code",
   "execution_count": null,
   "id": "a8b29909-9316-4154-9d92-f5257f5659e0",
   "metadata": {},
   "outputs": [],
   "source": [
    "Task 5: DROP statement\n",
    "Finally, you will use the DROP statement to delete an existing table.\n",
    "Let's delete the PET table and verify if the table still exists or not \n",
    "(the SELECT statement should give an error if a table doesn't exist).\n",
    " Copy the code below and paste it into the text area of the SQL page. Click Go."
   ]
  },
  {
   "cell_type": "markdown",
   "id": "3d8ab8b4-85b3-40fa-a2cc-cbe187ee76fb",
   "metadata": {},
   "source": [
    "# Tâche 5 : instruction DROP\n",
    "Enfin, vous allez utiliser l’instruction DROP pour supprimer une table existante.\n",
    "Supprimons la table PET et vérifions si la table existe toujours ou non (l’instruction SELECT devrait donner une erreur si une table n’existe pas). Copiez le code ci-dessous et collez-le dans la zone de texte de la page SQL. Cliquez sur OK."
   ]
  },
  {
   "cell_type": "code",
   "execution_count": null,
   "id": "c0d9212d-5314-4ad9-8d48-b78e13529b90",
   "metadata": {},
   "outputs": [],
   "source": [
    "DROP TABLE PET;\n",
    "\n",
    "SELECT * FROM PET;"
   ]
  },
  {
   "cell_type": "code",
   "execution_count": null,
   "id": "b73ed688-d933-4d6b-b731-548b4548e676",
   "metadata": {},
   "outputs": [],
   "source": []
  },
  {
   "cell_type": "markdown",
   "id": "45f889b7-03b4-4c5d-9f20-3f2b30a43795",
   "metadata": {},
   "source": [
    "# Problèmes d’entraînement\n",
    "Essayez les problèmes suivants pour une meilleure pratique des concepts appris dans cet atelier.\n",
    "\n",
    "Créez une table dans la base de données nommée Jouets avec des attributs tels que ID (entier), Variété (chaîne de longueur variable) et Quantité (entier). Assurez-vous que l’ID n’est pas Null.\n",
    "\n",
    "\n",
    "Try the following problems for an enhanced practice of the concepts learned in this lab.\n",
    "\n",
    "Create a new table in the database named Toys with attributes as ID (integer), Variety (variable length string), and Quantity (integer). Make sure the ID is not Null."
   ]
  },
  {
   "cell_type": "code",
   "execution_count": null,
   "id": "9bdbf143-3a99-43ae-ac70-f596c2df210e",
   "metadata": {},
   "outputs": [],
   "source": [
    "CREATE TABLE Toys (\n",
    "        ID INTEGER NOT NULL,\n",
    "        Variety VARCHAR(20),\n",
    "        Quantity INTEGER\n",
    "        );"
   ]
  },
  {
   "cell_type": "markdown",
   "id": "b5b84f80-03ba-46e4-9664-17db3bd1e9d4",
   "metadata": {},
   "source": [
    "2. #### Add the below-mentioned entries to the table using the INSERT statement.\n",
    "\n",
    "Ajoutez les entrées mentionnées ci-dessous à la table à l’aide de l’instruction INSERT."
   ]
  },
  {
   "cell_type": "markdown",
   "id": "18acdf67-9e52-4a6d-9a18-c6d4d1bc447b",
   "metadata": {},
   "source": [
    "ID\tVariety\t        Quantity\n",
    "1\tChew toy\t      20\n",
    "2\tBalls\t          50\n",
    "3\tBowls\t          30\n",
    "4\tFoldable bed\t  40"
   ]
  },
  {
   "cell_type": "code",
   "execution_count": null,
   "id": "237be44f-6d68-445e-9dd8-dbbb420d40ad",
   "metadata": {},
   "outputs": [],
   "source": [
    "INSERT INTO Toys VALUES\n",
    "        (1, 'Chew toy', 20),\n",
    "        (2, 'Balls', 50),\n",
    "        (3, 'Bowls', 30),\n",
    "        (4, 'Foldable bed', 40);\n",
    "                   \n",
    "    \n"
   ]
  },
  {
   "cell_type": "markdown",
   "id": "58bee102-258a-411b-b855-acf826aec327",
   "metadata": {},
   "source": [
    "3. #### ALTER the length of 'Variety' in the table to 30 characters.\n",
    "\n",
    "MODIFIEZ la longueur de 'Variety' dans le tableau à 30 caractères"
   ]
  },
  {
   "cell_type": "markdown",
   "id": "93bfcda9-8ddd-48e5-9a02-1c51917e8881",
   "metadata": {},
   "source": [
    "ALTER TABLE Toys\n",
    "MODIFY Variety VARCHAR(30);"
   ]
  },
  {
   "cell_type": "markdown",
   "id": "d1b46eb6-13ad-4e6c-b28b-23ff5dfc7171",
   "metadata": {},
   "source": [
    "4. #### TRUNCATE the table 'Toys'"
   ]
  },
  {
   "cell_type": "code",
   "execution_count": null,
   "id": "38c2ad1c-f882-4441-815d-fdbdf4151df7",
   "metadata": {},
   "outputs": [],
   "source": [
    "TRUNCATE TABLE Toys;"
   ]
  },
  {
   "cell_type": "markdown",
   "id": "294ec535-2d60-4580-a520-8ebeb398d5d5",
   "metadata": {},
   "source": [
    "5. #### DROP the table 'Toys'"
   ]
  },
  {
   "cell_type": "code",
   "execution_count": null,
   "id": "6331f8cf-9968-4b42-9d74-d1582bcb5b71",
   "metadata": {},
   "outputs": [],
   "source": [
    "DROP TABLE Toys;"
   ]
  },
  {
   "cell_type": "markdown",
   "id": "de1e28c5-0fbf-4256-8621-f35d792de95b",
   "metadata": {},
   "source": [
    "# Conclusion\n",
    "Félicitations pour avoir terminé ce laboratoire avec succès.\n",
    "\n",
    "À présent, vous avez appris à :\n",
    "\n",
    "- Créez une base de données dans l’interface graphique de phpMyAdmin sur MySQL.\n",
    "\n",
    "- Utilisez l’instruction CREATE pour créer de nouvelles tables dans la base de données.\n",
    "\n",
    "- Utilisez l’instruction INSERT pour ajouter des enregistrements aux tables.\n",
    "\n",
    "- Utilisez l’instruction ALTER pour ajouter, supprimer, renommer ou modifier les colonnes d’une table existante.\n",
    "\n",
    "- Utilisez l’instruction TRUNCATE pour supprimer le contenu d’une table existante (mais pas la table).\n",
    "\n",
    "- Utiliser l’instruction DROP pour supprimer une table entière"
   ]
  },
  {
   "cell_type": "markdown",
   "id": "4cc05244-496e-46ba-9796-4569807fc480",
   "metadata": {},
   "source": [
    "# SQL Scripts - Uses and Applications\n",
    "SQL Scripts\n",
    "SQL scripts are a series of commands or a program that will be executed on an SQL server.\n",
    "\n",
    "SQL scripts are useful for making complex database changes and can be used to create, modify, or delete database objects such as tables, views, stored procedures, and functions.\n",
    "\n",
    "Applications of SQL Scripts\n",
    "Here are some of the things that you can do with SQL scripts:\n",
    "\n",
    "- Create tables\n",
    "You can use SQL scripts to create new tables in your database. This is useful when you need to add new functionality to your application or when you want to store new types of data.\n",
    "\n",
    "- Drop tables\n",
    "SQL scripts often have commands to Drop tables from databases. This is especially important before Create table commands to make sure that a table with the same name doesnt exist in the database already.\n",
    "\n",
    "- Insert data\n",
    "SQL scripts can also be used to insert data into your tables. This is useful when you need to populate your database with test data or when you want to import data from an external source.\n",
    "\n",
    "- Update data\n",
    "\n",
    "You can use SQL scripts to update existing data in your tables. This is useful when you need to correct errors or update records based on changing business requirements.\n",
    "\n",
    "- Delete data\n",
    "\n",
    "SQL scripts can also be used to delete data from your tables. This is useful when you need to remove old or obsolete records from your database.\n",
    "\n",
    "- Create views\n",
    "\n",
    "Views are virtual tables that allow you to query data from multiple tables as if they were a single table. You can use SQL scripts to create views that simplify complex queries and make it easier to work with your data.\n",
    "\n",
    "- Create stored procedures\n",
    "\n",
    "Stored procedures are precompiled SQL statements that can be executed on demand. You can use SQL scripts to create stored procedures that encapsulate complex business logic and make it easier to manage your database.\n",
    "\n",
    "- Create triggers\n",
    "\n",
    "Triggers are special types of stored procedures that are automatically executed in response to certain events, such as an insert, update, or delete operation. You can use SQL scripts to create triggers that enforce business rules and maintain data integrity.# "
   ]
  },
  {
   "cell_type": "markdown",
   "id": "66213146-9da9-4867-ac61-dbada554a09c",
   "metadata": {},
   "source": [
    "# Exemple : Création de tables\n",
    "Exécutons un script contenant les commandes CREATE TABLE pour toutes les tables d’un jeu de données donné, plutôt que de créer chaque table manuellement en tapant les commandes DDL dans l’éditeur SQL.\n",
    "\n",
    "Notez les points suivants à propos de ces scripts.\n",
    "\n",
    "1. ### Les scripts SQL sont essentiellement un ensemble de commandes SQL compilées dans un seul fichier.\n",
    "2. ### Chaque commande doit être terminée par un délimiteur ou une terminaison. Le plus souvent, le délimiteur par défaut est un point-virgule ;.\n",
    "3. ### Il est conseillé de conserver l’extension du fichier .sql\n",
    "4. ### Lors de l’importation de ce fichier dans l’interface phpMyAdmin, les commandes du fichier sont exécutées séquentiellement.\n",
    "\n",
    "Considérez le script suivant"
   ]
  },
  {
   "cell_type": "code",
   "execution_count": null,
   "id": "822c67fe-9530-493f-a330-f5668fe633f8",
   "metadata": {},
   "outputs": [],
   "source": [
    "DROP TABLE IF EXISTS PATIENTS;\n",
    "DROP TABLE IF EXISTS MEDICAL_HISTORY;\n",
    "DROP TABLE IF EXISTS MEDICAL_PROCEDURES;\n",
    "DROP TABLE IF EXISTS MEDICAL_DEPARTMENTS;\n",
    "DROP TABLE IF EXISTS MEDICAL_LOCATIONS;\n",
    "CREATE TABLE PATIENTS (\n",
    "  PATIENT_ID CHAR(9) NOT NULL,\n",
    "  FIRST_NAME VARCHAR(15) NOT NULL,\n",
    "  LAST_NAME VARCHAR(15) NOT NULL,\n",
    "  SSN CHAR(9),\n",
    "  BIRTH_DATE DATE,\n",
    "  SEX CHAR,\n",
    "  ADDRESS VARCHAR(30),\n",
    "  DEPT_ID CHAR(9) NOT NULL,\n",
    "  PRIMARY KEY (PATIENT_ID)\n",
    ");\n",
    "CREATE TABLE MEDICAL_HISTORY (\n",
    "  MEDICAL_HISTORY_ID CHAR(9) NOT NULL,\n",
    "  PATIENT_ID CHAR(9) NOT NULL,\n",
    "  DIAGNOSIS_DATE DATE,\n",
    "  DIAGNOSIS_CODE VARCHAR(10),\n",
    "  MEDICAL_CONDITION VARCHAR(100),\n",
    "  DEPT_ID CHAR(9),\n",
    "  PRIMARY KEY (MEDICAL_HISTORY_ID)\n",
    ");\n",
    "CREATE TABLE MEDICAL_PROCEDURES (\n",
    "  PROCEDURE_ID CHAR(9) NOT NULL,\n",
    "  PROCEDURE_NAME VARCHAR(30),\n",
    "  PROCEDURE_DATE DATE,\n",
    "  PATIENT_ID CHAR(9) NOT NULL,\n",
    "  DEPT_ID CHAR(9),\n",
    "  PRIMARY KEY (PROCEDURE_ID)\n",
    ");\n",
    "CREATE TABLE MEDICAL_DEPARTMENTS (\n",
    "  DEPT_ID CHAR(9) NOT NULL,\n",
    "  DEPT_NAME VARCHAR(15),\n",
    "  MANAGER_ID CHAR(9),\n",
    "  LOCATION_ID CHAR(9),\n",
    "  PRIMARY KEY (DEPT_ID)\n",
    ");\n",
    "CREATE TABLE MEDICAL_LOCATIONS (\n",
    "  LOCATION_ID CHAR(9) NOT NULL,\n",
    "  DEPT_ID CHAR(9) NOT NULL,\n",
    "  LOCATION_NAME VARCHAR(50),\n",
    "  PRIMARY KEY (LOCATION_ID, DEPT_ID)\n",
    ");"
   ]
  },
  {
   "cell_type": "markdown",
   "id": "91590b63-b516-4185-add3-c5d29aeb8d93",
   "metadata": {},
   "source": [
    "# Laboratoire pratique : Créer et charger des tables à l'aide de scripts SQL\n",
    "\n",
    "SQL Scripts\n",
    "Les scripts SQL sont une série de commandes ou un programme qui sera exécuté sur un serveur SQL.\n",
    "\n",
    "Les scripts SQL sont utiles pour apporter des modifications complexes à une base de données et peuvent être utilisés pour créer, modifier ou supprimer des objets de base de données tels que des tables, des vues, des procédures stockées et des fonctions."
   ]
  },
  {
   "cell_type": "markdown",
   "id": "c6d22b59-e166-4a1d-8a2b-dc2f667d0ec6",
   "metadata": {},
   "source": [
    "Dans cet atelier, vous apprendrez à créer des tables et à charger des données à l’aide de l’interface utilisateur graphique (GUI) phpMyAdmin dans le service de base de données MySQL.\n",
    "\n",
    "# Objectifs\n",
    "Après avoir terminé cet atelier, vous serez en mesure d’utiliser phpMyAdmin avec MySQL pour :\n",
    "\n",
    "- Créer une base de données sur MySQL\n",
    "- Créer des tables à l’aide de scripts SQL\n",
    "- Charger des données dans des tableaux directement à partir de fichiers CSV\n",
    "MySQL (en anglais)\n",
    "Dans cet atelier, vous allez utiliser MySQL. MySQL est un système de gestion de base de données relationnelle (SGBDR) conçu pour stocker, manipuler et récupérer efficacement des données."
   ]
  },
  {
   "cell_type": "markdown",
   "id": "3355db90-3afb-4136-bf04-657ea698da72",
   "metadata": {},
   "source": [
    "Pour suivre cet atelier, vous utiliserez le service de base de données relationnelle MySQL disponible dans le cadre de l’IDE cloud IBM Skills Network Labs (SN Labs), l’environnement de laboratoire virtuel utilisé dans ce cours."
   ]
  },
  {
   "cell_type": "markdown",
   "id": "96dcaf4e-8d59-49f7-9a74-67a0baf90c04",
   "metadata": {},
   "source": [
    "# Base de données utilisée dans cet atelier\n",
    "\n",
    "La base de données utilisée dans cet atelier est interne. Vous travaillerez sur un exemple de base de données sur les maladies cardio-vasculaires (MCV). Ce schéma de base de données CVD se compose de cinq tables : PATIENTS, MEDICAL_HISTORY, MEDICAL_PROCEDURES, MEDICAL_DEPARTMENTS et MEDICAL_LOCATIONS.\n",
    "\n",
    "Chaque table comporte quelques lignes d’exemples de données. Le diagramme suivant montre le contenu de la base de données CVD :"
   ]
  },
  {
   "cell_type": "markdown",
   "id": "651b8235-f81a-445f-b843-8a72d469b053",
   "metadata": {},
   "source": [
    "Votre tâche consiste à créer cette base de données dans MySQL. Cette tâche est divisée en trois parties.\n",
    "\n",
    "- Tâche 1 : Créer la base de données sur MySQL à l’aide de l’interface graphique phpMyAdmin.\n",
    "\n",
    "- Tâche 2 : Créer toutes les tables dans MySQL à l’aide d’un script SQL.\n",
    "\n",
    "- Tâche 3 : Remplissez chaque tableau avec les données des fichiers CSV respectifs."
   ]
  },
  {
   "cell_type": "markdown",
   "id": "7687aee8-4ddb-40ac-83e3-6807139b49b4",
   "metadata": {},
   "source": [
    "# Task 1 : Create the database\n",
    "Follow the instructions shared below to create the database CVD in MySQL.\n",
    "\n",
    "# Launch phpMyAdmin\n",
    "1. ### Click Skills Network Toolbox. In the Database section, click MySQL.\n",
    "To start the MySQL, click Start."
   ]
  },
  {
   "cell_type": "markdown",
   "id": "df85ed93-b5aa-4d0f-a91c-e0d0168bd2ab",
   "metadata": {},
   "source": [
    "2. #### Une fois que MySQL a démarré, cliquez sur le bouton phpMyAdmin pour ouvrir phpMyAdmin dans la même fenêtre."
   ]
  },
  {
   "cell_type": "markdown",
   "id": "85434eac-683b-435e-855d-8b752706e515",
   "metadata": {},
   "source": [
    "3. #### Vous verrez l’outil phpMyAdmin GUI."
   ]
  },
  {
   "cell_type": "markdown",
   "id": "5a495e04-6a7f-4f9c-9a13-66a0eee8b440",
   "metadata": {},
   "source": [
    "4. #### In the tree view, click New to create a new empty database. Then, enter CVD as the name of the database and click Create.\n",
    "\n",
    "The encoding will be left as utf8mb4_0900_ai_ci. UTF-8 is the most commonly used character encoding for content or data.\n",
    "\n",
    "\n",
    "Dans l’arborescence, cliquez sur Nouveau pour créer une base de données vide. Ensuite, entrez CVD comme nom de la base de données et cliquez sur Créer.\n",
    "\n",
    "L’encodage sera laissé tel quel utf8mb4_0900_ai_ci. UTF-8 est l’encodage de caractères le plus couramment utilisé pour le contenu ou les données."
   ]
  },
  {
   "cell_type": "markdown",
   "id": "8c93397a-a5dc-4ea0-b6a9-678f7b04592a",
   "metadata": {},
   "source": [
    "# Tâche 2 : Créer des tables à l’aide d’un script SQL \n",
    "on a fait la pratique en ligne, mais j'ai le pdf.\n",
    "\n",
    "\n",
    "\n",
    "\n",
    "Dans cet exercice, vous allez apprendre à exécuter un script contenant les commandes CREATE TABLE pour toutes les tables plutôt que de créer chaque table manuellement en tapant les commandes DDL dans l’éditeur SQL."
   ]
  },
  {
   "cell_type": "markdown",
   "id": "7bb67166-1dce-4420-b90a-2d803353d6f2",
   "metadata": {},
   "source": [
    "Remarque : Les scripts SQL sont essentiellement un ensemble de commandes SQL compilées dans un seul fichier. Chaque commande doit se terminer par un point-virgule ;. L’extension du fichier doit être conservée telle qu'.sql. Lors de l’importation de ce fichier dans l’interface phpMyAdmin, les commandes du fichier sont exécutées séquentiellement."
   ]
  },
  {
   "cell_type": "markdown",
   "id": "23ce09cd-c078-4177-8725-f66b66228963",
   "metadata": {},
   "source": [
    "Suivez les étapes ci-dessous.\n",
    "\n",
    "Téléchargez le fichier de script sur votre ordinateur local :\n",
    "\n",
    "CVD_Database_Create_Tables_Script.sql\n",
    "\n",
    "Sélectionnez la base de données CVD. Cliquez ensuite sur l’onglet Importer.\n",
    "\n",
    "Cliquez sur Choisir un fichier, recherchez le fichier et téléchargez-le.\n",
    "\n",
    "Une fois téléchargé, faites défiler vers le bas et cliquez sur OK."
   ]
  },
  {
   "cell_type": "markdown",
   "id": "48d0ecba-c5e5-4a10-98f7-cb8354cd1dfe",
   "metadata": {},
   "source": [
    "- Le script est ensuite exécuté avec succès et l’interface affiche les entrées dans l’image ci-dessous."
   ]
  },
  {
   "cell_type": "markdown",
   "id": "eda3fb09-7a62-4d5c-8f0d-866bef65aa64",
   "metadata": {},
   "source": [
    "- Cliquez sur l’une des tables pour afficher sa définition de table (sa liste de colonnes, de types de données, etc.). L’image ci-dessous montre la structure du tableau PATIENTS.\n"
   ]
  },
  {
   "cell_type": "markdown",
   "id": "41645238-d7fd-40ae-80c6-dff6e89a0c80",
   "metadata": {},
   "source": [
    "# Tâche 3 : Charger les données dans des tables\n",
    "Vous devez maintenant charger les données dans les tables. Vous pouvez insérer manuellement chaque ligne dans le tableau une par une, mais c’est très inefficace. Au lieu de cela, MySQL (et presque toutes les autres bases de données) vous permet de charger des données à partir de fichiers CSV directement dans les tables.\n",
    "\n",
    "Les étapes ci-dessous expliquent le chargement des données dans les tables que vous avez créées dans la tâche 2."
   ]
  },
  {
   "cell_type": "markdown",
   "id": "4912f7ee-8e62-41ca-9dcf-8bdb976479e4",
   "metadata": {},
   "source": [
    "Les étapes de chargement d’un fichier CSV dans une table sont les suivantes.\n",
    "\n",
    "- Sélectionnez la table.\n",
    "\n",
    "- liquez sur l’onglet Importer.\n",
    "\n",
    "- Naviguez jusqu’à l’emplacement du fichier CSV et cliquez sur « OK » pour charger le fichier CSV.\n",
    "\n",
    "- Les images ci-dessous expliquent comment charger les données CSV dans la table PATIENTS."
   ]
  },
  {
   "cell_type": "markdown",
   "id": "9de99353-03be-4cf2-941e-6470f547afd3",
   "metadata": {},
   "source": [
    "Une fois la table chargée, vous recevrez un message indiquant que les enregistrements ont été insérés avec succès.\n",
    "\n",
    "De plus, vous pouvez cliquer sur parcourir et afficher les données de la table."
   ]
  },
  {
   "cell_type": "markdown",
   "id": "7bae7084-82dd-4662-9cb1-daaadd31731d",
   "metadata": {},
   "source": [
    "# Practice exercise\n",
    "Repeat the same process for all of the other tables."
   ]
  },
  {
   "cell_type": "markdown",
   "id": "6fc57d5a-04bd-45fc-ab94-09d7c9439d70",
   "metadata": {},
   "source": [
    "# Conclusion\n",
    "Congratulations on completing this lab.\n",
    "\n",
    "In this lab, you learned how to :\n",
    "\n",
    "- Use phpMyAdmin GUI to operate on MySQL servers\n",
    "\n",
    "- Create a new database in phpMyAdmin.\n",
    "\n",
    "- Create the tables for the dataset using SQL scripts\n",
    "\n",
    "- Load data from a CSV file directly to a table in MySQL."
   ]
  },
  {
   "cell_type": "code",
   "execution_count": null,
   "id": "dcc12d99-6ef5-46c9-938b-4f520942176c",
   "metadata": {},
   "outputs": [],
   "source": []
  },
  {
   "cell_type": "code",
   "execution_count": null,
   "id": "c2fbefe0-3bcd-4195-a662-014f1dd267a8",
   "metadata": {},
   "outputs": [],
   "source": []
  },
  {
   "cell_type": "code",
   "execution_count": null,
   "id": "01cdd318-d1de-4530-873a-72ea79553ee1",
   "metadata": {},
   "outputs": [],
   "source": []
  },
  {
   "cell_type": "code",
   "execution_count": null,
   "id": "c136ed6a-f50b-45c0-815c-0e6db862715b",
   "metadata": {},
   "outputs": [],
   "source": []
  },
  {
   "cell_type": "code",
   "execution_count": null,
   "id": "dd9fb76a-ad72-40ab-8365-4ceee7b12dd0",
   "metadata": {},
   "outputs": [],
   "source": []
  },
  {
   "cell_type": "code",
   "execution_count": null,
   "id": "7f55c5a2-40d4-48c7-aae6-ff3c4e740732",
   "metadata": {},
   "outputs": [],
   "source": []
  },
  {
   "cell_type": "code",
   "execution_count": null,
   "id": "eef9e90f-1d4d-4c10-8b66-4ba21f61a1d7",
   "metadata": {},
   "outputs": [],
   "source": []
  },
  {
   "cell_type": "code",
   "execution_count": null,
   "id": "4888c726-92e1-459d-89ce-22f9ee5fa037",
   "metadata": {},
   "outputs": [],
   "source": []
  },
  {
   "cell_type": "code",
   "execution_count": null,
   "id": "5d8e4483-27c4-4b28-9f8d-9867528e4120",
   "metadata": {},
   "outputs": [],
   "source": []
  },
  {
   "cell_type": "code",
   "execution_count": null,
   "id": "d444a26a-85bb-4a71-af3f-a7a6a8c7950b",
   "metadata": {},
   "outputs": [],
   "source": []
  },
  {
   "cell_type": "code",
   "execution_count": null,
   "id": "1f1a1f44-d005-4b84-b893-d951f7eaabda",
   "metadata": {},
   "outputs": [],
   "source": []
  },
  {
   "cell_type": "code",
   "execution_count": null,
   "id": "006cecac-8220-4a0c-9393-b02b9f3a1cd9",
   "metadata": {},
   "outputs": [],
   "source": []
  },
  {
   "cell_type": "code",
   "execution_count": null,
   "id": "156d9057-ad02-4c56-bbec-8cf88bc0838b",
   "metadata": {},
   "outputs": [],
   "source": []
  },
  {
   "cell_type": "code",
   "execution_count": null,
   "id": "c3fe43bb-f0f0-4e4d-9f63-19fc454f52dd",
   "metadata": {},
   "outputs": [],
   "source": []
  },
  {
   "cell_type": "code",
   "execution_count": null,
   "id": "790280cd-d3bd-4fca-8a72-88b87e4620db",
   "metadata": {},
   "outputs": [],
   "source": []
  },
  {
   "cell_type": "code",
   "execution_count": null,
   "id": "b4660cb2-32dd-4437-b154-6eb3a08dbf04",
   "metadata": {},
   "outputs": [],
   "source": []
  },
  {
   "cell_type": "code",
   "execution_count": null,
   "id": "89d713c2-11a9-4f2a-a649-6c2bda21a212",
   "metadata": {},
   "outputs": [],
   "source": []
  },
  {
   "cell_type": "code",
   "execution_count": null,
   "id": "a3678a9f-4117-4cb1-88e7-fc9330d3eb1e",
   "metadata": {},
   "outputs": [],
   "source": []
  },
  {
   "cell_type": "markdown",
   "id": "50193f1d-5f38-4280-818f-f9e5cb33cbb6",
   "metadata": {},
   "source": [
    "# Résumé : Concepts et tables des bases de données relationnellesStatut : Traduit automatiquement de Anglais\n",
    "Traduit automatiquement de Anglais\n",
    "Nous vous félicitons ! Vous avez terminé cette leçon. À ce stade du cours, vous savez ce qui suit :\n",
    "\n",
    "- Une base de données est un référentiel de données qui permet d'ajouter, de modifier et d'interroger les données.\n",
    "\n",
    "- SQL est un langage utilisé pour interroger ou récupérer des données dans une base de données relationnelle.\n",
    "\n",
    "- Le modèle relationnel est le modèle de données le plus utilisé pour les bases de données car il permet l'indépendance des données.\n",
    "\n",
    "- La clé primaire d'une table relationnelle identifie de manière unique chaque tuple ou ligne, ce qui évite la duplication des données et permet de définir les relations entre les tables.\n",
    "\n",
    "- Les instructions SQL se répartissent en deux catégories différentes : Les instructions du langage de définition des données (DDL) et les instructions du langage de manipulation des données (DML).\n",
    "\n"
   ]
  },
  {
   "cell_type": "markdown",
   "id": "abe28a8a-6185-415e-bca9-e8b10208c842",
   "metadata": {},
   "source": [
    "# Comment créer une instance de base de données sur le cloud ?"
   ]
  },
  {
   "cell_type": "markdown",
   "id": "fb095bfe-5f40-4c12-bff8-c4494d5d00c2",
   "metadata": {},
   "source": [
    "(Musique) Bonjour et bienvenue. Cette vidéo abordera les concepts clés relatifs aux bases de données dans le cloud. Pour apprendre le SQL, vous devez d'abord disposer d'une base de données pour pratiquer vos requêtes SQL. Pour ce faire, vous pouvez facilement créer une instance de base de données dans le Cloud et l'utiliser pour exécuter vos requêtes SQL. Après avoir terminé cette leçon, vous serez en mesure de comprendre les concepts de base liés aux bases de données cloud, de répertorier quelques bases de données cloud, de décrire des instances de service de base de données et de montrer comment créer une instance de service sur un IBM Db2 on Cloud. Une base de données cloud est un service de base de données créé et accessible via une plateforme cloud. Elle remplit bon nombre des mêmes fonctions que les bases de données traditionnelles, avec la flexibilité supplémentaire du cloud computing. Parmi les avantages de l'utilisation des bases de données cloud, citons la facilité d'utilisation, les utilisateurs peuvent accéder aux bases de données cloud de pratiquement n'importe où à l'aide de l'API ou de l'interface Web d'un fournisseur, ou de vos propres applications, que ce soit sur le cloud ou à distance. Scalabilité. Les bases de données cloud peuvent étendre et réduire leurs capacités de stockage et de calcul pendant l'exécution afin de répondre à l'évolution des besoins et des demandes d'utilisation, de sorte que les entreprises ne paient que pour ce qu'elles utilisent réellement. Reprise après sinistre. En cas de catastrophe naturelle, de panne d' équipement ou de panne de courant, les données sont sécurisées grâce à des sauvegardes sur des serveurs distants sur le cloud dans des régions géographiquement réparties. Quelques exemples de bases de données relationnelles sur le cloud incluent IBM Db2 on Cloud, les bases de données pour PostgreSQL sur IBM Cloud, Oracle Database Cloud Service, Microsoft Azure SQL Database et Amazon Relational Database Services. Ces bases de données cloud peuvent s'exécuter dans le cloud soit en tant que machine virtuelle, que vous pouvez gérer, soit en tant que service géré, selon le fournisseur. Les services de base de données peuvent être uniques ou mutualisés selon le plan de service. Pour exécuter une base de données dans le Cloud, vous devez d'abord configurer une instance du service de base de données sur la plateforme Cloud de votre choix.\n",
    "Lisez la vidéo à partir de :2:31 et suivez la transcription2:31\n",
    "Une instance de base de données en tant que service ou DBaaS permet aux utilisateurs d' accéder aux ressources de base de données dans le cloud sans avoir à configurer le matériel sous-jacent, à installer le logiciel de base de données et à administrer la base de données. L'instance du service de base de données conservera vos données dans des tables associées. Une fois vos données chargées dans l'instance de base de données, vous pouvez vous y connecter à l'aide d'une interface Web ou d'API dans vos applications. Une fois connectée, votre application peut envoyer des requêtes SQL à l'instance de base de données. L'instance de base de données transforme ensuite les instructions SQL en opérations sur les données et les objets de la base de données. Toutes les données récupérées sont renvoyées à l'application sous forme de jeu de résultats. Voyons maintenant comment une instance de base de données est créée pour Db2 on Cloud. IBM Db2 on Cloud est une base de données SQL mise à votre disposition dans le cloud. Vous pouvez utiliser Db2 on Cloud comme vous le feriez avec n'importe quel logiciel de base de données, mais sans les frais supplémentaires liés à la configuration matérielle ou à l'installation et à la maintenance de logiciels. Voyons maintenant comment configurer une instance de service de Bb2. Accédez au catalogue IBM Cloud et sélectionnez le service Db2. Notez qu'il existe plusieurs variantes du service Db2, notamment Db2 Hosted et Db2 Warehouse. Pour nos besoins, nous choisirons le service Db2 qui est fourni avec un plan allégé gratuit. Sélectionnez le forfait allégé. Le cas échéant, modifiez les valeurs par défaut. Vous pouvez saisir le nom d'une instance de service, choisir la région dans laquelle déployer, ainsi qu'une organisation et un espace pour le service, puis cliquer sur « Créer ». Vous pouvez consulter le service IBM Db2 que vous avez créé en sélectionnant des services dans votre tableau de bord IBM Cloud. À partir de ce tableau de bord, vous pouvez gérer votre instance de base de données. Par exemple, vous pouvez cliquer sur le bouton « Ouvrir la console » pour lancer la console Web de votre instance de base de données. La console Web vous permet de créer des tables, de charger des données, d'explorer les données de vos tables et d'émettre des requêtes SQL. Pour accéder à votre instance de base de données depuis vos applications, vous aurez besoin des informations d'identification du service. Pour la première fois, vous devrez créer un ensemble de nouvelles informations d'identification. Vous pouvez également choisir de créer plusieurs ensembles d' informations d'identification pour différents utilisateurs et applications. Une fois qu'un ensemble d'informations d'identification de service est créé, vous pouvez l'afficher sous forme d'extrait adjacent. Les informations d'identification incluent les informations nécessaires pour établir une connexion à la base de données et incluent les éléments suivants : un nom de base de données et un numéro de port, un nom d'hôte, qui est le nom du serveur sur le Cloud sur lequel réside votre instance de base de données, un nom d'utilisateur, qui est l' ID utilisateur que vous utiliserez pour vous connecter avec le mot de passe. Notez que votre nom d'utilisateur est également le nom du schéma dans lequel vos tables seront créées par défaut. Maintenant que vous savez comment créer une instance de base de données sur le Cloud, l'étape suivante consiste à en créer une. Merci d'avoir regardé cette vidéo. (Musique)"
   ]
  },
  {
   "cell_type": "code",
   "execution_count": null,
   "id": "78f56264-6dbb-4f99-bc47-3c9f367a1e2a",
   "metadata": {},
   "outputs": [],
   "source": []
  },
  {
   "cell_type": "code",
   "execution_count": null,
   "id": "df1c4149-7ecb-4339-984d-a51b9aa07853",
   "metadata": {},
   "outputs": [],
   "source": []
  },
  {
   "cell_type": "code",
   "execution_count": null,
   "id": "f2c9aac4-983f-4863-a03e-00d82aefe582",
   "metadata": {},
   "outputs": [],
   "source": []
  },
  {
   "cell_type": "code",
   "execution_count": null,
   "id": "c3a1b727-d94b-4d1c-94ac-58159e4f24f5",
   "metadata": {},
   "outputs": [],
   "source": []
  },
  {
   "cell_type": "markdown",
   "id": "9ae1401d-0bc0-4806-b4d1-677fdc3d7195",
   "metadata": {},
   "source": [
    "# Utilisation de motifs et de plages de chaînes de caractères"
   ]
  },
  {
   "cell_type": "markdown",
   "id": "bd6466de-d480-488c-ad23-9fcbfd01b310",
   "metadata": {},
   "source": [
    "Bonjour et bienvenue à la récupération de données à l'aide d'instructions SELECT à base de chaînes de caractères. Dans cette vidéo, nous allons découvrir quelques techniques avancées de récupération de données à partir d'une table de base de données relationnelle. À la fin de cette leçon, vous serez en mesure de décrire comment simplifier une instruction SELECT en utilisant des chaînes de caractères, des plages ou des ensembles de valeurs. L'objectif principal d'un système de gestion de base de données n'est pas seulement de stocker les données, mais aussi de faciliter la récupération de ces données. Dans sa forme la plus simple, une instruction SELECT est select star from table name. Sur la base d'un modèle simplifié de base de données de bibliothèque et de la table Book, SELECT star from Book donne un ensemble de résultats de quatre lignes. Toutes les lignes de données de toutes les colonnes de la table Book sont affichées ou vous pouvez extraire un sous-ensemble de colonnes, par exemple, seulement deux colonnes de la table Book telles que Book_ID et Title. Ou vous pouvez restreindre l'ensemble de résultats en utilisant la clause WHERE. Par exemple, vous pouvez sélectionner le titre du livre dont l'identifiant Book_ID est B1. Mais que se passe-t-il si nous ne savons pas exactement quelle valeur spécifier dans la clause WHERE ? La clause WHERE nécessite toujours un prédicat, qui est une condition évaluée comme vraie, fausse ou inconnue. Mais que se passe-t-il si nous ne savons pas exactement quelle est la valeur du prédicat ? Par exemple, que se passe-t-il si nous ne nous souvenons pas du nom de l'auteur, , mais que nous nous souvenons que son prénom commence par R ? Dans une base de données relationnelle, nous pouvons utiliser des modèles de chaînes pour rechercher les lignes de données qui correspondent à cette condition. Voyons quelques exemples d'utilisation de modèles de chaînes. Si nous ne nous souvenons pas du nom de l'auteur, mais que nous nous souvenons que son nom commence par R, nous utilisons la clause WHERE avec le prédicat like. Le prédicat like est utilisé dans une clause WHERE pour rechercher un motif dans une colonne. Le signe pour cent est utilisé pour définir les lettres manquantes. Il peut être placé avant le motif, après le motif, ou à la fois avant et après le motif. Dans cet exemple, nous utilisons le signe pour cent après le motif, qui est la lettre R. Le signe pour cent est appelé caractère de remplacement. Un caractère générique est utilisé pour remplacer d'autres caractères. Ainsi, si nous ne nous souvenons pas du nom de l'auteur, , mais que nous nous souvenons que son prénom commence par la lettre R, , nous ajoutons le prédicat like à la clause WHERE. Par exemple, select first name from author, where firstname like 'R%'. Cela renverra toutes les lignes de la table auteur dont le prénom de l'auteur commence par la lettre R. Et voici le jeu de résultats. Deux lignes sont renvoyées pour les auteurs Raul et Rav. Et si nous voulions récupérer la liste des livres dont le nombre de pages est supérieur à 290, mais inférieur à 300. Nous pourrions écrire l'instruction SELECT comme suit, en spécifiant la clause WHERE comme suit : where pages is greater than or equal to 290, and pages is less than or equal to 300. Mais dans une base de données relationnelle, nous pouvons utiliser une plage de nombres pour spécifier la même condition. Au lieu d'utiliser les opérateurs de comparaison supérieur ou égal à, nous utilisons l'opérateur de comparaison \"entre et\". \"Entre et\" compare deux valeurs. Les valeurs de la plage sont inclusives. Dans ce cas, nous réécrivons la requête pour spécifier la clause WHERE comme where pages between 290 and 300. L'ensemble de résultats est le même, mais l'instruction SELECT est plus facile et plus rapide à écrire. Dans certains cas, il y a des valeurs de données qui ne peuvent pas être regroupées sous des plages. Par exemple, si nous voulons savoir de quels pays viennent les auteurs. Si nous voulons extraire les auteurs d'Australie ou du Brésil, nous pouvons écrire l'instruction SELECT avec la clause WHERE répétant les deux valeurs de pays. Mais qu'en est-il si nous voulons récupérer les auteurs du Canada, de l'Inde et de la Chine ? La clause WHERE deviendrait très longue en répétant les conditions de pays requises. Au lieu de cela, nous pouvons utiliser l'opérateur IN. L'opérateur IN nous permet de spécifier un ensemble de valeurs dans une clause WHERE. Cet opérateur prend une liste d'expressions à comparer. Dans ce cas, il s'agit des pays Australie ou Brésil. Vous pouvez maintenant décrire comment simplifier une instruction SELECT en utilisant des chaînes de caractères, des plages ou des ensembles de valeurs. Merci d'avoir regardé cette vidéo. (Musique)"
   ]
  },
  {
   "cell_type": "markdown",
   "id": "bcb20f58-fccd-46d5-92c4-6d8bd0889279",
   "metadata": {},
   "source": [
    " # SEMAINE 3"
   ]
  },
  {
   "cell_type": "markdown",
   "id": "a3f9af77-c0b2-4459-bb6b-986c06f9aee7",
   "metadata": {},
   "source": [
    "#  Tri des ensembles de résultats"
   ]
  },
  {
   "cell_type": "markdown",
   "id": "e4e71bd8-f79a-422d-bd70-cb5c8a94ed7f",
   "metadata": {},
   "source": [
    "Une bonne connaissance de SQL (ou Structured Query Language) est indispensable pour les professionnels des données, tels que les scientifiques, les analystes et les ingénieurs des données. La plupart des données mondiales résident dans des bases de données. SQL est un langage puissant utilisé pour communiquer avec les bases de données et en extraire des données. Dans ce cours, vous apprendrez SQL de fond en comble, depuis les bases des instructions Select jusqu'aux concepts avancés tels que les JOINs. Vous allez : -écrire des instructions SQL fondamentales telles que : SELECT, INSERT, UPDATE et DELETE -filtrer les ensembles de résultats, utiliser les clauses WHERE, COUNT, DISTINCT et LIMIT -différencier entre DML et DDL -CREATE, ALTER, DROP et charger des tables -utiliser des modèles de chaînes de caractères et des plages ; Accéder aux bases de données en tant que data scientist en utilisant les notebooks Jupyter avec SQL et Python - Travailler avec des concepts avancés comme les procédures stockées, les vues, les transactions ACID, les JOINs internes et externes à travers des laboratoires et des projets pratiques Vous vous entraînerez à construire des requêtes SQL, à travailler avec de vraies bases de données sur le Cloud, et à utiliser de vrais outils de data science. Dans le projet final, vous analyserez plusieurs ensembles de données du monde réel pour démontrer vos compétences."
   ]
  },
  {
   "cell_type": "markdown",
   "id": "6454a012-f085-42bc-9484-78c2da617663",
   "metadata": {},
   "source": [
    "Bonjour et bienvenue au tri des ensembles de résultats de l'instruction SELECT. Dans cette vidéo, nous allons apprendre quelques techniques avancées pour extraire des données d'une table de base de données relationnelle et trier la façon dont l'ensemble de résultats s'affiche. À la fin de cette leçon, vous serez en mesure de décrire comment trier l'ensemble des résultats par ordre croissant ou décroissant et d'expliquer comment indiquer la colonne à utiliser pour l'ordre de tri. L'objectif principal d'un système de gestion de base de données n'est pas seulement de stocker les données, mais aussi de faciliter la récupération des données. Dans sa forme la plus simple, une instruction select est select * from nom de la table. Sur la base de notre modèle simplifié de base de données de bibliothèque, dans le tableau book, select * from book donne un ensemble de résultats de quatre lignes. Toutes les lignes de données pour toutes les colonnes du tableau book sont affichées. Nous pouvons choisir de ne lister que les titres des livres, comme indiqué dans cet exemple, select title from book. Cependant, l'ordre ne semble pas être le bon. L'affichage de l'ensemble des résultats par ordre alphabétique serait plus pratique. Pour ce faire, nous utilisons la clause \"order by\". Pour afficher l'ensemble des résultats par ordre alphabétique, nous ajoutons la clause order by à l'instruction select. La clause order by est utilisée dans une requête pour trier l'ensemble des résultats en fonction d'une colonne spécifiée. Dans cet exemple, nous avons utilisé order by sur la colonne title pour trier l'ensemble de résultats. Par défaut, l'ensemble de résultats est trié par ordre croissant. Dans cet exemple, l'ensemble de résultats est trié par ordre alphabétique sur le titre du livre. Pour trier par ordre décroissant, utilisez le mot-clé \" desc.\" L'ensemble des résultats est maintenant trié en fonction de la colonne spécifiée, qui est le titre, et est trié par ordre décroissant. Remarquez l'ordre des trois premières lignes. Les trois premiers mots du titre sont les mêmes, le tri commence donc à partir du point où les caractères diffèrent. Une autre façon de spécifier la colonne de tri est d'indiquer le numéro de séquence de la colonne. Dans cet exemple, select title, pages from book order by two, indique le numéro d'ordre de la colonne dans la requête pour l'ordre de tri. Au lieu de spécifier le nom de la colonne pages, le nombre deux est utilisé. Dans l'instruction select, la deuxième colonne spécifiée dans la liste des colonnes est pages, l'ordre de tri est donc basé sur les valeurs de la colonne pages. Dans ce cas, la colonne pages indique le nombre de pages du livre. Comme vous pouvez le voir, l'ensemble de résultats est classé par ordre croissant de nombre de pages. Vous pouvez maintenant décrire comment trier l'ensemble de résultats par ordre croissant ou décroissant, et expliquer comment indiquer la colonne à utiliser pour l'ordre de tri. Merci d'avoir regardé cette vidéo."
   ]
  },
  {
   "cell_type": "markdown",
   "id": "28f9daea-edc1-4bb1-9d49-afb89143cf8a",
   "metadata": {},
   "source": [
    "Regroupement d'ensembles de résultats"
   ]
  },
  {
   "cell_type": "markdown",
   "id": "685180ba-541b-4c18-b482-da7fb79075b0",
   "metadata": {},
   "source": [
    "# Hands-on Lab: String Patterns, Sorting and Grouping in MySQL"
   ]
  },
  {
   "cell_type": "markdown",
   "id": "50f7ecf5-b34d-4fab-95c8-02bca6f3d72b",
   "metadata": {},
   "source": [
    "Pour effectuer cet atelier, vous utiliserez le service de base de données relationnelle MySQL disponible dans le cadre de l’IDE cloud IBM Skills Network Labs (SN Labs). SN Labs est un environnement de laboratoire virtuel utilisé dans ce cours."
   ]
  },
  {
   "cell_type": "markdown",
   "id": "162ad265-b628-40b8-98ff-11ff75500666",
   "metadata": {},
   "source": [
    "# Base de données utilisée dans cet atelier\n",
    "La base de données utilisée dans cet atelier est une base de données interne. Vous travaillerez sur un exemple de base de données RH. Ce schéma de base de données RH se compose de 5 tables appelées EMPLOYÉS, JOB_HISTORY, EMPLOIS, DÉPARTEMENTS et EMPLACEMENTS. Chaque table comporte quelques lignes d’exemples de données. Le diagramme suivant montre les tables de la base de données RH :"
   ]
  },
  {
   "cell_type": "markdown",
   "id": "8697b61f-8bc8-4874-82b2-8d2be8fc41eb",
   "metadata": {},
   "source": [
    "# Charger la base de données\n",
    "En utilisant les compétences acquises dans les modules précédents, vous devez d’abord créer la base de données en MySQL. Suivez les étapes ci-dessous :\n",
    "\n",
    "1. ###  Ouvrez l’interface phpMyAdmin à partir de la boîte à outils Skills Network dans l’IDE Cloud.\n",
    "\n",
    "2. ###  Créez une base de données vierge nommée « RH ». Utilisez le script partagé dans le lien ci-dessous pour créer les tables requises.\n",
    "Script_Create_Tables.sql\n",
    "\n",
    "3. ###  Téléchargez les fichiers contenus dans les liens ci-dessous sur votre ordinateur local (si ce n’est pas déjà fait dans les ateliers précédents).\n",
    "Departments.csv\n",
    "Jobs.csv\n",
    "JobsHistory.csv\n",
    "Locations.csv\n",
    "Employees.csv\n",
    "\n",
    "J'ai ca en pdf\n",
    "\n",
    "\n",
    "4. ### Use each of these files to the iterface as data for respective tables in the ‘HR’ database.\n",
    "\n",
    "Previous\n"
   ]
  },
  {
   "cell_type": "markdown",
   "id": "5a1228bf-31a5-4c6c-bb48-e7c1e12e1a92",
   "metadata": {},
   "source": [
    "# String Patterns\n",
    "You can use string patterns to filter the response of a query. Let's look at the following example:\n",
    "\n",
    "Say you need to retrieve the first names F_NAME and last names L_NAME of all employees who live in Elgin, IL. You can use the LIKE operator to retrieve strings that contain the said text. The code will look as shown below.\n",
    "\n",
    "\n",
    "\n",
    "\n",
    "\n",
    "\n",
    "\n",
    "\n",
    "\n",
    "Modèles de cordes\n",
    "\n",
    "\n",
    "\n",
    "\n",
    "Vous pouvez utiliser des modèles de chaîne pour filtrer la réponse d’une requête. Prenons l’exemple suivant :\n",
    "\n",
    "Supposons que vous ayez besoin de récupérer les prénoms F_NAME et noms de famille L_NAME de tous les employés qui vivent à Elgin, IL. Vous pouvez utiliser l’opérateur LIKE pour récupérer les chaînes qui contiennent ledit texte. Le code ressemblera à ce qui est indiqué ci-dessous."
   ]
  },
  {
   "cell_type": "code",
   "execution_count": null,
   "id": "d5a09894-fbac-411b-a2d7-6aa5326f69dd",
   "metadata": {},
   "outputs": [],
   "source": [
    "SELECT F_NAME, L_NAME\n",
    "FROM EMPLOYEES\n",
    "WHERE ADDRESS LIKE '%Elgin,IL%';"
   ]
  },
  {
   "cell_type": "markdown",
   "id": "d9b47753-e446-4a83-bb47-8753c3046d4b",
   "metadata": {},
   "source": [
    "Supposons maintenant que vous souhaitiez identifier les employés nés dans les années 70. La requête ci-dessus peut être modifiée comme suit :"
   ]
  },
  {
   "cell_type": "code",
   "execution_count": null,
   "id": "3d460218-9201-4618-b216-cb4b5789e8ad",
   "metadata": {},
   "outputs": [],
   "source": [
    "SELECT F_NAME, L_NAME\n",
    "FROM EMPLOYEES\n",
    "WHERE B_DATE LIKE '197%';"
   ]
  },
  {
   "cell_type": "markdown",
   "id": "399b74b9-792c-4453-a41a-646617455423",
   "metadata": {},
   "source": [
    "Notez que dans le premier exemple, le signe % est utilisé à la fois avant et après le texte requis. Il s’agit d’indiquer que la chaîne d’adresse peut avoir plus de caractères, à la fois avant et après, le texte requis.\n",
    "\n",
    "Dans le deuxième exemple, puisque la date de naissance dans les registres Eployees commence par l’année de naissance, le signe % est appliqué après 197%, ce qui indique que l’année de naissance peut être comprise entre 1970 et 1979. De plus, le signe % permet également n’importe quelle date possible au cours des années sélectionnées."
   ]
  },
  {
   "cell_type": "markdown",
   "id": "ae03e697-ceac-4231-ae86-519107837e03",
   "metadata": {},
   "source": [
    "Prenons un exemple plus précis. Récupérons tous les dossiers d’employés du département 5 où le salaire est compris entre 60000 et 70000. La requête qui sera utilisée est la suivante :"
   ]
  },
  {
   "cell_type": "code",
   "execution_count": null,
   "id": "642bc073-ca49-4a05-bdc2-db40f618de9d",
   "metadata": {},
   "outputs": [],
   "source": [
    "SELECT *\n",
    "FROM EMPLOYEES\n",
    "WHERE (SALARY BETWEEN 60000 AND 70000) AND DEP_ID = 5;"
   ]
  },
  {
   "cell_type": "markdown",
   "id": "835a9bfc-39b6-42db-8825-a7e3fb3aa3e9",
   "metadata": {},
   "source": [
    "# Sorting\n",
    "You can sort the retrieved entries on the basis of one or more parameters.\n",
    "\n",
    "First, assume that you have to retrieve a list of employees ordered by department ID.\n",
    "\n",
    "Sorting is done using the ORDER BY clause in your SQL query. By default, the ORDER BY clause sorts the records in ascending order.\n",
    "\n",
    "\n",
    "\n",
    "\n",
    "\n",
    "\n",
    "\n",
    "\n",
    "Classement\n",
    "\n",
    "\n",
    "Vous pouvez trier les entrées récupérées sur la base d’un ou plusieurs paramètres.\n",
    "\n",
    "Tout d’abord, supposons que vous deviez récupérer une liste d’employés classés par ID de service.\n",
    "\n",
    "Le tri s’effectue à l’aide de la clause ORDER BY de votre requête SQL. Par défaut, la clause ORDER BY trie les enregistrements dans l’ordre croissant.\n",
    "\n"
   ]
  },
  {
   "cell_type": "code",
   "execution_count": null,
   "id": "ddbd100d-82c3-45f3-b921-30602cbb5af4",
   "metadata": {},
   "outputs": [],
   "source": [
    "SELECT F_NAME, L_NAME, DEP_ID \n",
    "FROM EMPLOYEES\n",
    "ORDER BY DEP_ID;"
   ]
  },
  {
   "cell_type": "markdown",
   "id": "81fe6301-ac5d-4eba-b480-28dd19b615d5",
   "metadata": {},
   "source": [
    "Now, get the output of the same query in descending order of department ID, and within each deaprtment, the records should be ordered in descending alphabetical order by last name. For descending order, you can make use of the DESC clause.\n",
    "\n",
    "\n",
    "\n",
    "\n",
    "Maintenant, obtenez la sortie de la même requête dans l’ordre décroissant de l’ID de service, et dans chaque département, les enregistrements doivent être classés par ordre alphabétique décroissant par nom de famille. Pour l’ordre décroissant, vous pouvez utiliser la clause DESC."
   ]
  },
  {
   "cell_type": "markdown",
   "id": "b1d05b98-18af-4692-97fa-dde197bfaaac",
   "metadata": {},
   "source": [
    "# Grouping\n",
    "In this exercise, you will go through some SQL problems on Grouping.\n",
    "\n",
    "NOTE: The SQL problems in this exercise involve usage of SQL Aggregate functions AVG and COUNT. COUNT has been covered earlier. AVG is a function that can be used to calculate the Average or Mean of all values of a specified column in the result set. For example, to retrieve the average salary for all employees in the EMPLOYEES table, issue the query: SELECT AVG(SALARY) FROM EMPLOYEES;.\n",
    "\n",
    "A good example of grouping would be if For each department ID, we wish to retrieve the number of employees in the department.\n",
    "\n",
    "\n",
    "\n",
    "\n",
    "\n",
    "\n",
    "Groupement\n",
    "\n",
    "\n",
    "Dans cet exercice, vous allez passer en revue quelques problèmes SQL sur le regroupement.\n",
    "\n",
    "REMARQUE : Les problèmes SQL de cet exercice impliquent l’utilisation des fonctions d’agrégation SQL AVG et COUNT. COUNT a déjà été abordé. AVG est une fonction qui peut être utilisée pour calculer la moyenne ou la moyenne de toutes les valeurs d’une colonne spécifiée dans le jeu de résultats. Par exemple, pour récupérer le salaire moyen de tous les employés dans la table EMPLOYEES, émettez la requête : SELECT AVG(SALARY) FROM EMPLOYEES ;.\n",
    "\n",
    "Un bon exemple de regroupement serait si pour chaque ID de département, nous souhaitons récupérer le nombre d’employés dans le département.\n",
    "\n",
    "\n"
   ]
  },
  {
   "cell_type": "code",
   "execution_count": null,
   "id": "5e316a99-942c-439a-857b-da4e1f71d1c2",
   "metadata": {},
   "outputs": [],
   "source": [
    "SELECT DEP_ID, COUNT(*)\n",
    "FROM EMPLOYEES\n",
    "GROUP BY DEP_ID;"
   ]
  },
  {
   "cell_type": "markdown",
   "id": "511d98de-ab00-44f9-9d9b-84884a940e1f",
   "metadata": {},
   "source": [
    "Maintenant, pour chaque département, récupérez le nombre d’employés dans le département et le salaire moyen des employés dans le département. Pour cela, vous pouvez utiliser COUNT(*) pour récupérer le nombre total d’une colonne, et la fonction AVG() pour calculer les salaires moyens, puis GROUP BY."
   ]
  },
  {
   "cell_type": "code",
   "execution_count": null,
   "id": "e1df8846-09f4-45a8-a16e-aae6d80004c6",
   "metadata": {},
   "outputs": [],
   "source": [
    "SELECT DEP_ID, COUNT(*), AVG(SALARY)\n",
    "FROM EMPLOYEES\n",
    "GROUP BY DEP_ID;"
   ]
  },
  {
   "cell_type": "markdown",
   "id": "2cdff6a8-3a97-4fcb-a1a0-f5d661e5cd8c",
   "metadata": {},
   "source": [
    "Vous pouvez affiner votre sortie en utilisant des étiquettes appropriées pour les colonnes de données récupérées. Étiquetez les colonnes calculées dans le jeu de résultats du dernier problème comme NUM_EMPLOYEES et AVG_SALARY."
   ]
  },
  {
   "cell_type": "code",
   "execution_count": null,
   "id": "a06f989a-107a-475b-8c83-476618dd59a9",
   "metadata": {},
   "outputs": [],
   "source": [
    "SELECT DEP_ID, COUNT(*) AS \"NUM_EMPLOYEES\", AVG(SALARY) AS \"AVG_SALARY\"\n",
    "FROM EMPLOYEES\n",
    "GROUP BY DEP_ID;"
   ]
  },
  {
   "cell_type": "markdown",
   "id": "a35cd45a-8e4c-4dad-805a-33b1de67cc87",
   "metadata": {},
   "source": [
    "Vous pouvez également combiner l’utilisation des instructions GROUP BY et ORDER BY pour trier la sortie de chaque groupe en fonction d’un paramètre spécifique. Il est important de noter que dans un tel cas, la clause ORDER BY doit être utilisée après la clause GROUP BY. Par exemple, nous pouvons trier le résultat de la requête précédente par salaire moyen. La requête SQL deviendrait ainsi"
   ]
  },
  {
   "cell_type": "code",
   "execution_count": null,
   "id": "fbd62b3e-1f57-41b0-9a96-fa0738065131",
   "metadata": {},
   "outputs": [],
   "source": [
    "SELECT DEP_ID, COUNT(*) AS \"NUM_EMPLOYEES\", AVG(SALARY) AS \"AVG_SALARY\"\n",
    "FROM EMPLOYEES\n",
    "GROUP BY DEP_ID\n",
    "ORDER BY AVG_SALARY;"
   ]
  },
  {
   "cell_type": "markdown",
   "id": "301c0ec7-90fe-457a-a1ef-1fae637373e6",
   "metadata": {},
   "source": [
    "Si vous avez besoin de filtrer une réponse groupée, vous devez utiliser la clause HAVING . Dans l’exemple précédent, si nous souhaitons limiter le résultat aux départements de moins de 4 employés, nous devrons utiliser HAVING après le GROUP BY, et utiliser la fonction count() dans la clause HAVING au lieu de l’étiquette de colonne."
   ]
  },
  {
   "cell_type": "code",
   "execution_count": null,
   "id": "8205bc9d-e667-4e7c-a26c-01bb3d745497",
   "metadata": {},
   "outputs": [],
   "source": [
    "SELECT DEP_ID, COUNT(*) AS \"NUM_EMPLOYEES\", AVG(SALARY) AS \"AVG_SALARY\"\n",
    "FROM EMPLOYEES\n",
    "GROUP BY DEP_ID\n",
    "HAVING count(*) < 4\n",
    "ORDER BY AVG_SALARY;"
   ]
  },
  {
   "cell_type": "markdown",
   "id": "b48448b4-428e-4160-8439-1d03936c1a60",
   "metadata": {},
   "source": [
    "# Questions d’entraînement\n",
    "1. ### Récupérez la liste de tous les employés, prénoms et noms, dont les prénoms commencent par 'S'."
   ]
  },
  {
   "cell_type": "code",
   "execution_count": null,
   "id": "c20c690d-dd3f-45bd-abb8-3b21f4fc6cc9",
   "metadata": {},
   "outputs": [],
   "source": [
    "SELECT F_NAME, L_NAME\n",
    "FROM EMPLOYEES\n",
    "WHERE F_NAME LIKE 'S%';"
   ]
  },
  {
   "cell_type": "markdown",
   "id": "8a4f9508-b8e8-4e72-8d53-fc1932690593",
   "metadata": {},
   "source": [
    "2. ### Organisez tous les enregistrements de la table EMPLOYÉS dans l’ordre croissant de la date de naissance."
   ]
  },
  {
   "cell_type": "code",
   "execution_count": null,
   "id": "318397a6-ffd6-422f-9a59-eee80682b17e",
   "metadata": {},
   "outputs": [],
   "source": [
    "SELECT *\n",
    "FROM EMPLOYEES\n",
    "ORDER BY B_DATE;"
   ]
  },
  {
   "cell_type": "markdown",
   "id": "a51c3c5b-723a-4efc-80a6-6bf8786148ea",
   "metadata": {},
   "source": [
    "3. ### Regroupez les enregistrements en fonction des ID de département et filtrez-les de ceux dont le salaire moyen est supérieur ou égal à 60000. Affichez l’ID du service et le salaire moyen."
   ]
  },
  {
   "cell_type": "code",
   "execution_count": null,
   "id": "ca254c1a-720c-4d5e-a51f-97b9e6542d5c",
   "metadata": {},
   "outputs": [],
   "source": [
    "SELECT DEP_ID, AVG(SALARY)\n",
    "FROM EMPLOYEES\n",
    "GROUP BY DEP_ID\n",
    "HAVING AVG(SALARY) >= 60000;"
   ]
  },
  {
   "cell_type": "markdown",
   "id": "e4c2f187-2674-4194-bdf4-70e3599825df",
   "metadata": {},
   "source": [
    "4. ### Pour le problème ci-dessus, triez les résultats pour chaque groupe par ordre décroissant de salaire moyen."
   ]
  },
  {
   "cell_type": "code",
   "execution_count": null,
   "id": "e8b00440-3a9b-4be7-a557-c80178ca5da9",
   "metadata": {},
   "outputs": [],
   "source": [
    "SELECT DEP_ID, AVG(SALARY)\n",
    "FROM EMPLOYEES\n",
    "GROUP BY DEP_ID\n",
    "HAVING AVG(SALARY) >= 60000\n",
    "ORDER BY AVG(SALARY) DESC;"
   ]
  },
  {
   "cell_type": "markdown",
   "id": "f75d200e-f4b9-4cc0-8291-3a9e8a191126",
   "metadata": {},
   "source": [
    "5. ### Problème:\n",
    "Récupérez tous les employés du département 5 dont le salaire est compris entre 60000 et 70000.\n",
    "\n",
    "Indice\n",
    "Utilisez le mot-clé BETWEEN pour ce problème SQL."
   ]
  },
  {
   "cell_type": "code",
   "execution_count": null,
   "id": "b0364c2f-705b-4fc2-bad8-ec29572a1e65",
   "metadata": {},
   "outputs": [],
   "source": [
    "SELECT *\n",
    "FROM EMPLOYEES\n",
    "WHERE (SALARY BETWEEN 60000 AND 70000) AND DEP_ID = 5;"
   ]
  },
  {
   "cell_type": "markdown",
   "id": "ca89e47f-2931-4efa-b364-95c337dea284",
   "metadata": {},
   "source": [
    "Exercice 2 : Tri\n",
    "Dans cet exercice, vous allez passer en revue quelques problèmes SQL sur le tri.\n",
    "\n",
    "1. ### Problème:\n",
    "Récupérez une liste d’employés classés par ID de service.\n",
    "\n",
    "Indice\n",
    "Utilisez la clause ORDER BY pour ce problème SQL. Par défaut, la clause ORDER BY trie les enregistrements dans l’ordre croissant.\n",
    "\n",
    "Solution"
   ]
  },
  {
   "cell_type": "code",
   "execution_count": null,
   "id": "0ed6ac47-0b14-45a8-b500-c1b018f1b170",
   "metadata": {},
   "outputs": [],
   "source": [
    "SELECT F_NAME, L_NAME, DEP_ID \n",
    "FROM EMPLOYEES\n",
    "ORDER BY DEP_ID;"
   ]
  },
  {
   "cell_type": "markdown",
   "id": "e68c8815-2541-43c9-aa8f-413ec88e8f80",
   "metadata": {},
   "source": [
    "1. ### Problème:\n",
    "Récupérez une liste d’employés classés par ordre décroissant par ID de service et au sein de chaque département, classés par ordre alphabétique par nom de famille.\n",
    "\n",
    "Indice\n",
    "Utilisez la clause ORDER BY avec DESC pour ce problème SQL.\n",
    "\n",
    "Solution"
   ]
  },
  {
   "cell_type": "code",
   "execution_count": null,
   "id": "bd5c00ab-f990-45b3-b54e-73c310a47fb3",
   "metadata": {},
   "outputs": [],
   "source": [
    "SELECT F_NAME, L_NAME, DEP_ID \n",
    "FROM EMPLOYEES\n",
    "ORDER BY DEP_ID DESC, L_NAME DESC;"
   ]
  },
  {
   "cell_type": "markdown",
   "id": "cd11fc39-6047-495d-87b0-38e2abc21fa9",
   "metadata": {},
   "source": [
    "Exercice 3 : Regroupement\n",
    "Dans cet exercice, vous allez passer en revue quelques problèmes SQL sur le regroupement.\n",
    "\n",
    "NOTE: Les problèmes SQL de cet exercice impliquent l’utilisation des fonctions SQL Aggregate AVG et COUNT. COUNT a déjà été abordé. AVG est une fonction qui peut être utilisée pour calculer la moyenne ou la moyenne de toutes les valeurs d’une colonne spécifiée dans le jeu de résultats. Par exemple, pour récupérer le salaire moyen de tous les employés dans la table EMPLOYEES, exécutez la requête : . Vous en apprendrez plus sur AVG et d’autres fonctions d’agrégation plus loin dans la conférence Fonctions de base de données intégrées.SELECT AVG(SALARY) FROM EMPLOYEES;\n",
    "\n",
    "Problème:\n",
    "Pour chaque ID de service, récupérez le nombre d’employés dans le département.\n",
    "\n",
    "Indice\n",
    "Utilisez COUNT(*) pour récupérer le nombre total d’une colonne, puis GROUP BY.\n",
    "\n",
    "Solution"
   ]
  },
  {
   "cell_type": "code",
   "execution_count": null,
   "id": "536f21b9-8d6a-4835-99dd-ea1683a4940e",
   "metadata": {},
   "outputs": [],
   "source": [
    "SELECT DEP_ID, COUNT(*)\n",
    "FROM EMPLOYEES\n",
    "GROUP BY DEP_ID;"
   ]
  },
  {
   "cell_type": "markdown",
   "id": "bdc4a29b-4f6b-4f98-b51e-b4cf6642e938",
   "metadata": {},
   "source": [
    "Problème:\n",
    "Pour chaque département, récupérez le nombre d’employés dans le département, et le salaire moyen des employés dans le département.\n",
    "\n",
    "Indice\n",
    "Utilisez COUNT(*) pour récupérer le nombre total d’une colonne, et la fonction AVG() pour calculer les salaires moyens, puis GROUP BY.\n",
    "\n",
    "Solution"
   ]
  },
  {
   "cell_type": "code",
   "execution_count": null,
   "id": "8af8c3fa-ae5d-4d57-8a52-6fe5d787acbe",
   "metadata": {},
   "outputs": [],
   "source": [
    "SELECT DEP_ID, COUNT(*), AVG(SALARY)\n",
    "FROM EMPLOYEES\n",
    "GROUP BY DEP_ID;"
   ]
  },
  {
   "cell_type": "raw",
   "id": "3677b642-2ff2-4589-b25b-61bbb82803d8",
   "metadata": {},
   "source": [
    "Problème:\n",
    "Étiquetez les colonnes calculées dans le jeu de résultats du problème SQL 2 (Exercice 3, problème 2) comme NUM_EMPLOYEES et AVG_SALARY.\n",
    "\n",
    "Indice\n",
    "Utilisez des alias SQL : . Par exemple, AVG(SALARY) AS « AVG_SALARY ».column_name AS alias_name\n",
    "\n",
    "Solution"
   ]
  },
  {
   "cell_type": "code",
   "execution_count": null,
   "id": "20296476-990a-4c24-bf1e-04a2f0e0f896",
   "metadata": {},
   "outputs": [],
   "source": [
    "SELECT DEP_ID, COUNT(*) AS \"NUM_EMPLOYEES\", AVG(SALARY) AS \"AVG_SALARY\"\n",
    "FROM EMPLOYEES\n",
    "GROUP BY DEP_ID;"
   ]
  },
  {
   "cell_type": "markdown",
   "id": "3d871fcb-98de-40af-94c9-ec0004557528",
   "metadata": {},
   "source": [
    "Problème:\n",
    "Dans le problème SQL 3 (Exercice 3 Problème 3), classez le résultat défini par Salaire moyen.\n",
    "\n",
    "Indice\n",
    "Utilisez ORDER BY après GROUP BY.\n",
    "\n",
    "Solution"
   ]
  },
  {
   "cell_type": "code",
   "execution_count": null,
   "id": "993f2700-5b45-46b2-b27c-2a46537737b5",
   "metadata": {},
   "outputs": [],
   "source": [
    "SELECT DEP_ID, COUNT(*) AS \"NUM_EMPLOYEES\", AVG(SALARY) AS \"AVG_SALARY\"\n",
    "FROM EMPLOYEES\n",
    "GROUP BY DEP_ID\n",
    "ORDER BY AVG_SALARY;"
   ]
  },
  {
   "cell_type": "markdown",
   "id": "c6d49e85-1b46-41a6-955e-955073349557",
   "metadata": {},
   "source": [
    "Problème:\n",
    "Dans le problème SQL 4 (Exercice 3 Problème 4), limitez le résultat aux services de moins de 4 employés.\n",
    "\n",
    "Indice\n",
    "Utilisez HAVING après GROUP BY, et utilisez la fonction count() dans la clause HAVING au lieu de l’étiquette de colonne.\n",
    "\n",
    "Solution"
   ]
  },
  {
   "cell_type": "code",
   "execution_count": null,
   "id": "d2f88a32-d784-40c5-befe-4c5654b5fc48",
   "metadata": {},
   "outputs": [],
   "source": [
    "SELECT DEP_ID, COUNT(*) AS \"NUM_EMPLOYEES\", AVG(SALARY) AS \"AVG_SALARY\"\n",
    "FROM EMPLOYEES\n",
    "GROUP BY DEP_ID\n",
    "HAVING count(*) < 4\n",
    "ORDER BY AVG_SALARY;"
   ]
  },
  {
   "cell_type": "markdown",
   "id": "7b086b36-b49b-426b-b480-3ab5a68df02a",
   "metadata": {},
   "source": [
    "# Résumé : Affiner vos résultatsStatut : Traduit automatiquement de Anglais\n",
    "Traduit automatiquement de Anglais\n",
    "Nous vous félicitons ! Vous avez terminé cette leçon. À ce stade du cours, vous savez que\n",
    "\n",
    "Vous pouvez utiliser la clause WHERE pour affiner les résultats de votre requête.\n",
    "\n",
    "- La condition de recherche de la clause WHERE utilise un prédicat pour affiner la recherche.\n",
    "\n",
    "- Vous pouvez utiliser le caractère générique (%) pour remplacer des caractères inconnus dans un modèle.\n",
    "\n",
    "- Vous pouvez utiliser BETWEEN ... ET ... pour spécifier une plage de nombres.\n",
    "\n",
    "- Vous pouvez trier les résultats d'une requête par ordre croissant ou décroissant, en utilisant la clause ORDER BY pour spécifier la colonne sur laquelle le tri doit être effectué.\n",
    "\n",
    "- Vous pouvez regrouper les résultats d'une requête à l'aide de la clause GROUP BY.\n",
    "\n"
   ]
  },
  {
   "cell_type": "markdown",
   "id": "bf6f1a18-443a-4aeb-810d-7089dac5ea62",
   "metadata": {},
   "source": [
    "# Fonctions de base de données intégrées"
   ]
  },
  {
   "cell_type": "markdown",
   "id": "9c5d59e3-bd20-4453-b030-3c7d987932af",
   "metadata": {},
   "source": [
    "(Musique) Bonjour et bienvenue. Dans cette vidéo, nous allons étudier les fonctions SQL intégrées à la base de données.\n",
    "Lisez la vidéo à partir de ::14 et suivez la transcription0:14\n",
    "Commençons. Bien qu'il soit tout à fait possible d'extraire des données d'une base de données et d'effectuer ensuite des opérations sur ces données à partir de vos applications et ordinateurs portables, la plupart des bases de données sont dotées de fonctions intégrées. Ces fonctions peuvent être incluses dans des instructions SQL, ce qui vous permet d'effectuer des opérations sur directement dans la base de données. L'utilisation de fonctions de base de données peut réduire de manière significative la quantité de données qui doivent être extraites de la base de données. Cela réduit le trafic réseau et l'utilisation de la bande passante. Lorsque vous travaillez avec de grands ensembles de données, il peut être plus rapide d'utiliser des fonctions intégrées, plutôt que de récupérer d'abord les données dans votre application, puis d'exécuter des fonctions sur les données récupérées. Notez qu'il est également possible de créer vos propres fonctions, c'est-à-dire des fonctions définies par l'utilisateur dans la base de données, mais il s'agit d'un sujet plus avancé. Pour les exemples de cette leçon, considérons cette table PETRESCUE dans une base de données pour une organisation de sauvetage d'animaux\n",
    "Lisez la vidéo à partir de :1:20 et suivez la transcription1:20\n",
    "Elle enregistre les détails de la transaction de sauvetage et comprend les colonnes suivantes : ID, animal, quantité, coût et date du sauvetage. Pour les besoins de cette leçon, nous l'avons remplie avec plusieurs lignes de données, comme illustré ici. Que sont les fonctions d'agrégat ou de colonne ? Une fonction d'agrégat prend une collection de valeurs similaires, telles que toutes les valeurs d'une colonne, en entrée, et renvoie une valeur unique ou nulle. Les exemples de fonctions d'agrégat comprennent : somme, minimum, maximum, moyenne, etc. Examinons quelques exemples basés sur le tableau PETRESCUE. La fonction SUM est utilisée pour additionner toutes les valeurs d'une colonne. Pour utiliser la fonction, vous devez écrire le nom de la colonne entre parenthèses, après le nom de la fonction. Par exemple, pour additionner toutes les valeurs de la colonne COST, sélectionnez SUM (COST) from PETRESCUE. Lorsque vous utilisez une fonction d'agrégation, la colonne de l'ensemble de résultats reçoit par défaut un nombre. Il est possible de nommer explicitement la colonne résultante. Par exemple, disons que nous voulons appeler la colonne de sortie de la requête précédente, SUM_OF_COST. select SUM(COST) as SUM_OF_COST from PETRESCUE. Notez l'utilisation de \"as\" dans cet exemple. MINimum, comme son nom l'indique, est utilisé pour obtenir la valeur la plus faible. De même, MAXimum est utilisé pour obtenir la valeur la plus élevée. Par exemple, pour obtenir la quantité maximale d'un sauvetage d'animaux dans une seule transaction, sélectionnez MAX(QUANTITÉ) from PETRESCUE. Les fonctions d'agrégation peuvent également être appliquées à un sous-ensemble de données au lieu d'une colonne entière. Par exemple, pour obtenir la quantité minimale de la colonne ID pour les chiens. select MIN(ID) from PETRESCUE where animal equals dog. La fonction Average (AVG) est utilisée pour renvoyer la valeur moyenne. Par exemple, pour spécifier la valeur moyenne du coût, comme : select AVG(COST) from PETRESCUE. Notez que nous pouvons effectuer des opérations mathématiques entre les colonnes, et ensuite appliquer des fonctions d'agrégation sur elles. Par exemple, pour calculer le coût moyen par chien : select AVG(COST divided by QUANTITY) from PETRESCUE where ANIMAL equals Dog. Dans ce cas, le coût concerne plusieurs unités ; nous divisons donc d'abord le coût par la quantité du sauvetage. Examinons maintenant les fonctions Scalar et String. Les fonctions Scalar effectuent des opérations sur des valeurs individuelles. Par exemple, pour arrondir chaque valeur de la colonne de coût à l'entier le plus proche, sélectionnez ROUND (COST) from PETRESCUE. Il existe une classe de fonctions scalaires appelées fonctions de chaîne, qui peuvent être utilisées pour des opérations sur des chaînes de caractères. Il s'agit de valeurs char et varchar. Par exemple, pour récupérer la longueur de chaque valeur de la colonne animaux, sélectionnez LENGTH (ANIMAL) à partir de PETRESCUE. Les fonctions majuscules et minuscules peuvent être utilisées pour retourner les valeurs majuscules ou minuscules des chaînes de caractères. Par exemple, pour récupérer les valeurs des animaux en majuscules : select UPPERCASE (ANIMAL) from PETRESCUE. Les fonctions scalaires peuvent être utilisées dans la clause where. Par exemple, pour obtenir les valeurs en minuscules de la colonne animal pour cat, select star from PETRESCUE where LOWERCASE(ANIMAL) equals cat. Ce type d'instruction est utile pour faire correspondre des valeurs dans la clause where, si vous ne savez pas si les valeurs sont stockées en majuscules, en minuscules ou en majuscules et minuscules dans la table. Vous pouvez également faire en sorte qu'une fonction opère sur la sortie d'une autre fonction. Par exemple, pour obtenir des cas uniques pour la colonne animal en majuscules : select DISTINCT (UPPERCASE(ANIMAL)) from PETRESCUE. Dans cette vidéo, nous avons examiné certaines fonctions d'agrégation SQL intégrées, telles que sum, minimum, maximum et average. Nous avons également examiné les fonctions scalaires et string, telles que round, lowercase et uppercase. Merci d'avoir regardé. (Musique)\n",
    "Obligatoire\n",
    "fr\n",
    "​\n"
   ]
  },
  {
   "cell_type": "markdown",
   "id": "008b77e2-e48c-48b9-af88-36da96e7d562",
   "metadata": {},
   "source": [
    "# Atelier pratique : fonctions intégrées"
   ]
  },
  {
   "cell_type": "markdown",
   "id": "4f5f7ba6-83e4-4651-94dd-f292d37371ed",
   "metadata": {},
   "source": [
    "En SQL, vous pouvez accéder à de nombreuses fonctions intégrées qui peuvent être utilisées pour obtenir plus de variété dans notre analyse de données. Ces fonctions incluent des fonctions d’agrégation (telles que MAX, MIN, SUM et AVG), des fonctions de chaîne (telles que LENGTH, UCASE et LCASE), des fonctions scalaires (telles que ROUND) et diverses fonctions de date. Dans cet onglet, vous obtiendrez une pratique pratique sur la façon de les utiliser tous."
   ]
  },
  {
   "cell_type": "markdown",
   "id": "1bccef32-44dd-4286-ae75-efe05714a0c4",
   "metadata": {},
   "source": [
    "Objectifs\n",
    "Après avoir terminé cet atelier, vous serez en mesure de composer des requêtes dans phpMyAdmin avec MySQL en utilisant :\n",
    "\n",
    "- Fonctions d’agrégation\n",
    "- Fonctions scalaires\n",
    "- Fonctions de chaîne de caractères\n",
    "- Fonctions de date"
   ]
  },
  {
   "cell_type": "markdown",
   "id": "0172d04d-9499-49df-8046-826e9e60cb12",
   "metadata": {},
   "source": [
    "Plutôt que de créer la table manuellement en tapant les commandes DDL dans l’éditeur SQL, vous allez exécuter un script contenant la commande create table.\n",
    "\n",
    "Téléchargez le fichier de script PETRESCUE-CREATE.sql"
   ]
  },
  {
   "cell_type": "markdown",
   "id": "e7e3591f-57ec-4cda-b2ba-0bf7d3f3b879",
   "metadata": {},
   "source": [
    "Remarque : Pour télécharger, cliquez avec le bouton droit de la souris sur le lien ci-dessus et cliquez sur Enregistrer sous ou Enregistrer le lien sous en fonction de votre navigateur. N’oubliez pas d’enregistrer le fichier en tant que fichier .sql et non en HTML."
   ]
  },
  {
   "cell_type": "markdown",
   "id": "f6e0471f-02d6-43d8-9fef-1dcb2550aa53",
   "metadata": {},
   "source": [
    "Ensuite, chargez le fichier .sql dans votre base de données à l’aide de l’option Importer, comme indiqué dans l’image ci-dessous."
   ]
  },
  {
   "cell_type": "markdown",
   "id": "8d5caca2-d4e4-465d-8ddf-b65b04c2bd02",
   "metadata": {},
   "source": [
    "Lors de l’exécution, la table PETRESCUE sera créée dans la base de données Mysql_Learners et chargée avec un ensemble de valeurs. Les attributs de la table PETRESCUE sont les suivants :"
   ]
  },
  {
   "cell_type": "code",
   "execution_count": null,
   "id": "c3da6449-143f-4da0-a7e8-9c0021dc836b",
   "metadata": {},
   "outputs": [],
   "source": [
    "Une fois la table chargée, vous pouvez ouvrir l’éditeur sql pour commencer à exécuter les requêtes."
   ]
  },
  {
   "cell_type": "markdown",
   "id": "c5dfc0f4-9f41-4369-9ec3-bbe7e5c64e56",
   "metadata": {},
   "source": [
    "# Logiciels utilisés dans cet atelier\n",
    "Dans cet atelier, vous allez utiliser MySQL. MySQL est un système de gestion de base de données relationnelle (SGBDR) conçu pour stocker, manipuler et récupérer des données efficacement."
   ]
  },
  {
   "cell_type": "markdown",
   "id": "9a078265-5701-49f1-9cbd-d6d0ee5b9df5",
   "metadata": {},
   "source": [
    "Fonctions d’agrégation\n",
    "1. ### Écrivez une requête qui calcule le coût total de tous les sauvetages d’animaux dans la table PETRESCUE."
   ]
  },
  {
   "cell_type": "markdown",
   "id": "c8f064a3-3371-4e91-8e0c-699127361267",
   "metadata": {},
   "source": [
    "For this query, we will use the function SUM(COLUMN_NAME). The output of this query will be the total value of all elements in the column. The query for this question can be written as:"
   ]
  },
  {
   "cell_type": "code",
   "execution_count": null,
   "id": "e41fd7d1-bc02-49ed-8220-87f54f275bfa",
   "metadata": {},
   "outputs": [],
   "source": [
    "SELECT SUM(COST) FROM PETRESCUE;"
   ]
  },
  {
   "cell_type": "markdown",
   "id": "fecc7350-94f7-40cc-bf18-95264fcb4437",
   "metadata": {},
   "source": [
    "You can further assign a label to the query SUM_OF_COST."
   ]
  },
  {
   "cell_type": "code",
   "execution_count": null,
   "id": "05e1c679-c2bf-4708-b070-0dd1a6cbfffe",
   "metadata": {},
   "outputs": [],
   "source": [
    "SELECT SUM(COST) AS SUM_OF_COST FROM PETRESCUE;"
   ]
  },
  {
   "cell_type": "markdown",
   "id": "4476890a-abaa-4e25-8e89-5958f3c03de4",
   "metadata": {},
   "source": [
    "2. ### Rédigez une requête qui affiche la quantité maximale d’animaux sauvés (de n’importe quel type)."
   ]
  },
  {
   "cell_type": "markdown",
   "id": "f81be726-ca78-4fba-a1ac-60e3526b77e6",
   "metadata": {},
   "source": [
    "Pour cette requête, nous utiliserons la fonction MAX(COLUMN_NAME). La sortie de cette requête sera la valeur maximale de tous les éléments de la colonne. La requête pour cette question peut s’écrire comme suit :"
   ]
  },
  {
   "cell_type": "code",
   "execution_count": null,
   "id": "56fccbb6-392d-446c-8310-47c28167a581",
   "metadata": {},
   "outputs": [],
   "source": [
    "SELECT MAX(QUANTITY) FROM PETRESCUE;"
   ]
  },
  {
   "cell_type": "code",
   "execution_count": null,
   "id": "82c0e9c7-7268-4621-83a5-d6d4cd88f5bf",
   "metadata": {},
   "outputs": [],
   "source": [
    "La requête peut facilement être modifiée pour afficher la quantité minimale à l’aide de la fonction MIN à la place."
   ]
  },
  {
   "cell_type": "code",
   "execution_count": null,
   "id": "a3dc7ead-512e-4b9d-b1fb-e6ca375aea68",
   "metadata": {},
   "outputs": [],
   "source": [
    "SELECT MIN(QUANTITY) FROM PETRESCUE;"
   ]
  },
  {
   "cell_type": "markdown",
   "id": "84061342-6b76-47d9-bd1b-79e1d0e2fca9",
   "metadata": {},
   "source": [
    "3. ### Rédigez une requête qui affiche le coût moyen des animaux secourus."
   ]
  },
  {
   "cell_type": "markdown",
   "id": "91985c19-a28f-41f7-afc7-062c84d99d9c",
   "metadata": {},
   "source": [
    "Pour cette requête, nous utiliserons AVG(COLUMN_NAME). La sortie de cette requête sera la moyenne de tous les éléments de la colonne. La requête pour cette question peut s’écrire comme suit :"
   ]
  },
  {
   "cell_type": "code",
   "execution_count": null,
   "id": "0ade6c7d-9dec-40d0-afec-b7208b6db3ac",
   "metadata": {},
   "outputs": [],
   "source": [
    "SELECT AVG(COST) FROM PETRESCUE;"
   ]
  },
  {
   "cell_type": "markdown",
   "id": "726c62d2-01da-4010-bdd3-77a651b22cbf",
   "metadata": {},
   "source": [
    "# Fonctions scalaires et fonctions de chaîne"
   ]
  },
  {
   "cell_type": "markdown",
   "id": "9d8277ee-d615-44c5-b8f7-174e2d2c21a2",
   "metadata": {},
   "source": [
    "1. ### Écrivez une requête qui affiche le coût intégral arrondi de chaque sauvetage."
   ]
  },
  {
   "cell_type": "markdown",
   "id": "d1e97d90-5ffe-42b8-ab99-ba55ef5e3016",
   "metadata": {},
   "source": [
    "Pour cette requête, nous utiliserons la fonction ROUND(COLUMN_NAME, NUMBER_OF_DECIMALS). La sortie de cette requête sera la valeur de chaque élément de la colonne arrondie au nombre de décimales spécifié. Notez que le deuxième argument est facultatif et, s’il est omis, entraîne l’arrondi à une valeur entière. La requête pour cette question peut s’écrire comme suit :"
   ]
  },
  {
   "cell_type": "code",
   "execution_count": null,
   "id": "650d7213-4adb-41ee-a921-32333b58eddd",
   "metadata": {},
   "outputs": [],
   "source": [
    "SELECT ROUND(COST) FROM PETRESCUE;"
   ]
  },
  {
   "cell_type": "markdown",
   "id": "b92e3ce4-b37a-4907-ac80-d742a644551d",
   "metadata": {},
   "source": [
    "The query could also be written as:"
   ]
  },
  {
   "cell_type": "markdown",
   "id": "c5c528f1-c2b6-445f-92cf-5b1e784c2c49",
   "metadata": {},
   "source": [
    "SELECT ROUND(COST, 0) FROM PETRESCUE;"
   ]
  },
  {
   "cell_type": "markdown",
   "id": "319f5a7d-69f4-4951-b1d4-ae5e287b8321",
   "metadata": {},
   "source": [
    "Dans le cas où la question était d’arrondir la valeur à 2 décimales, la requête serait modifiée comme suit :"
   ]
  },
  {
   "cell_type": "code",
   "execution_count": null,
   "id": "ccf0bf00-3fb7-43d9-bfa8-1d75b794771e",
   "metadata": {},
   "outputs": [],
   "source": [
    "SELECT ROUND(COST, 2) FROM PETRESCUE;"
   ]
  },
  {
   "cell_type": "markdown",
   "id": "c0720514-aa01-4e0b-94e5-65fd0e4a369c",
   "metadata": {},
   "source": [
    "2. ### Écrivez une requête qui affiche la longueur de chaque nom d’animal."
   ]
  },
  {
   "cell_type": "markdown",
   "id": "3194d99b-9100-44e1-8fbb-3039b3331a28",
   "metadata": {},
   "source": [
    "Pour cette requête, nous utiliserons la fonction LENGTH(COLUMN_NAME). Le résultat de cette requête sera la longueur de chaque élément de la colonne. La requête pour cette question peut s’écrire comme suit :"
   ]
  },
  {
   "cell_type": "code",
   "execution_count": null,
   "id": "3637cbaa-1ea4-4a30-8a7f-0e3b281ca8d1",
   "metadata": {},
   "outputs": [],
   "source": [
    "SELECT LENGTH(ANIMAL) FROM PETRESCUE;"
   ]
  },
  {
   "cell_type": "markdown",
   "id": "41094b8d-71d8-400f-8f99-9b280c514435",
   "metadata": {},
   "source": [
    "3. ### Écrivez une requête qui affiche le nom de l’animal dans chaque sauvetage en majuscules."
   ]
  },
  {
   "cell_type": "markdown",
   "id": "e54dd6a0-0b87-423d-9c7f-a06a55269513",
   "metadata": {},
   "source": [
    "Pour cette requête, nous utiliserons la fonction UCASE(COLUMN_NAME). La sortie de cette requête sera chaque élément de la colonne en lettres majuscules. La requête pour cette question peut s’écrire comme suit :"
   ]
  },
  {
   "cell_type": "code",
   "execution_count": null,
   "id": "e7cc0664-697e-4329-a4bc-5cba7721221c",
   "metadata": {},
   "outputs": [],
   "source": [
    "SELECT UCASE(ANIMAL) FROM PETRESCUE;"
   ]
  },
  {
   "cell_type": "markdown",
   "id": "f1de8cf3-1a57-473e-a4b8-9b55c5242128",
   "metadata": {},
   "source": [
    "Tout aussi facilement, l’utilisateur pourrait demander une représentation en minuscules, et la requête serait modifiée comme suit :"
   ]
  },
  {
   "cell_type": "code",
   "execution_count": null,
   "id": "37e59e4a-58af-43b4-a823-a2e9d79bb3c0",
   "metadata": {},
   "outputs": [],
   "source": [
    "SELECT LCASE(ANIMAL) FROM PETRESCUE;"
   ]
  },
  {
   "cell_type": "markdown",
   "id": "10af856b-1506-4b29-97cf-d7a701967973",
   "metadata": {},
   "source": [
    "# Date Functions\n"
   ]
  },
  {
   "cell_type": "markdown",
   "id": "f155730f-74b3-4565-96d6-a0a68c26fd8b",
   "metadata": {},
   "source": [
    "1. ### Rédigez une requête qui affiche le jour du mois où les chats ont été sauvés."
   ]
  },
  {
   "cell_type": "markdown",
   "id": "5bc5deaf-99fe-4211-896b-b7ea501aedd9",
   "metadata": {},
   "source": [
    "Pour cette requête, nous utiliserons la fonction DAY(COLUMN_NAME). La sortie de cette requête ne sera que la partie DAY de la date dans la colonne. La requête pour cette question peut s’écrire comme suit :"
   ]
  },
  {
   "cell_type": "code",
   "execution_count": null,
   "id": "50356097-77ce-4d78-953c-4f770da914db",
   "metadata": {},
   "outputs": [],
   "source": [
    "SELECT DAY(RESCUEDATE) FROM PETRESCUE;"
   ]
  },
  {
   "cell_type": "code",
   "execution_count": null,
   "id": "6cecaa4f-afed-4a11-9da1-8240bec06fd0",
   "metadata": {},
   "outputs": [],
   "source": [
    "Dans le cas où la requête demandait MONTH de sauvetage, la requête se transformerait en :"
   ]
  },
  {
   "cell_type": "code",
   "execution_count": null,
   "id": "6acb90f4-0915-47c1-8bd7-7c5fb8f22352",
   "metadata": {},
   "outputs": [],
   "source": [
    "SELECT MONTH(RESCUEDATE) FROM PETRESCUE;"
   ]
  },
  {
   "cell_type": "code",
   "execution_count": null,
   "id": "5a385070-a616-4e25-ac85-e6769d10be27",
   "metadata": {},
   "outputs": [],
   "source": [
    "Dans le cas où la requête demandait YEAR de sauvetage, la requête se transformerait en :"
   ]
  },
  {
   "cell_type": "code",
   "execution_count": null,
   "id": "55af064e-3d1f-44d5-8445-1d801620264b",
   "metadata": {},
   "outputs": [],
   "source": [
    "SELECT YEAR(RESCUEDATE) FROM PETRESCUE;"
   ]
  },
  {
   "cell_type": "markdown",
   "id": "35a8aabc-ae4a-4ecc-ab7c-cc5eafe6176f",
   "metadata": {},
   "source": [
    "2. ### Les animaux secourus doivent consulter le vétérinaire dans les trois jours suivant leur arrivée. Rédigez une requête qui affiche le troisième jour de chaque sauvetage."
   ]
  },
  {
   "cell_type": "markdown",
   "id": "bd758b68-7568-4747-b49c-a525e30e1e69",
   "metadata": {},
   "source": [
    "Pour cette requête, nous utiliserons la fonction DATE_ADD(COLUMN_NAME, INTERVAL Number Date_element). Ici, la quantité en Nombre et en Date_element se combineront pour former l’intervalle à ajouter à la date dans la colonne. Pour la question donnée, la requête serait la suivante :"
   ]
  },
  {
   "cell_type": "code",
   "execution_count": null,
   "id": "4686c346-b24a-448b-9e33-571bc1b88f1b",
   "metadata": {},
   "outputs": [],
   "source": [
    "SELECT DATE_ADD(RESCUEDATE, INTERVAL 3 DAY) FROM PETRESCUE"
   ]
  },
  {
   "cell_type": "code",
   "execution_count": null,
   "id": "62c855fc-4aff-4703-8115-78cb2450c36a",
   "metadata": {},
   "outputs": [],
   "source": [
    "If the question was to add 2 months to the date, the query would change to:"
   ]
  },
  {
   "cell_type": "code",
   "execution_count": null,
   "id": "4cc3b8c9-df99-4fa5-94d7-ba900e9d4bdd",
   "metadata": {},
   "outputs": [],
   "source": [
    "SELECT DATE_ADD(RESCUEDATE, INTERVAL 2 MONTH) FROM PETRESCUE"
   ]
  },
  {
   "cell_type": "markdown",
   "id": "a0efe2c5-e7c7-4132-9b89-1c2c874cdcc7",
   "metadata": {},
   "source": [
    "De même, on peut récupérer une date antérieure à celle donnée dans la colonne par un nombre donné à l’aide de la fonction DATE_SUB. En modifiant le même exemple, la requête suivante fournirait la date 3 jours avant le sauvetage."
   ]
  },
  {
   "cell_type": "code",
   "execution_count": null,
   "id": "2371c60d-304b-43eb-84ec-73685678278c",
   "metadata": {},
   "outputs": [],
   "source": [
    "SELECT DATE_SUB(RESCUEDATE, INTERVAL 3 DAY) FROM PETRESCUE"
   ]
  },
  {
   "cell_type": "markdown",
   "id": "ad213fc6-7e9c-4206-8c8b-90c63c239465",
   "metadata": {},
   "source": [
    "3. ### Écrivez une requête qui affiche la durée pendant laquelle les animaux ont été secourus, par exemple, la différence entre la date actuelle et la date de sauvetage."
   ]
  },
  {
   "cell_type": "markdown",
   "id": "cc60b9b9-67aa-4462-8949-1a3bc7031b6a",
   "metadata": {},
   "source": [
    "Pour cette requête, nous utiliserons la fonction DATEDIFF(Date_1, Date_2). Cette fonction calcule la différence entre les deux dates données et donne le résultat en nombre de jours. Pour la question donnée, la requête serait la suivante :\n",
    "\n"
   ]
  },
  {
   "cell_type": "code",
   "execution_count": null,
   "id": "ce93a1a7-6aca-4a10-8fa4-cb30a4152f01",
   "metadata": {},
   "outputs": [],
   "source": [
    "SELECT DATEDIFF(CURRENT_DATE, RESCUEDATE) FROM PETRESCUE"
   ]
  },
  {
   "cell_type": "markdown",
   "id": "16143820-fd5f-47f2-8907-67046df9a0e8",
   "metadata": {},
   "source": [
    "CURRENT_DATE s’agit également d’une fonction intégrée qui renvoie la date actuelle telle qu’elle est connue du serveur."
   ]
  },
  {
   "cell_type": "markdown",
   "id": "7ebf28b0-10ee-4272-9186-14bcee18a884",
   "metadata": {},
   "source": [
    "Pour présenter la sortie au format AAAA-MM-JJ, une autre fonction FROM_DAYS(number_of_days) peut être utilisée. Cette fonction prend un certain nombre de jours et renvoie la sortie formatée requise. La requête ci-dessus serait donc modifiée en"
   ]
  },
  {
   "cell_type": "code",
   "execution_count": null,
   "id": "4c9b5e2e-8778-4f8c-96f9-b27f9b83ecab",
   "metadata": {},
   "outputs": [],
   "source": [
    "SELECT FROM_DAYS(DATEDIFF(CURRENT_DATE, RESCUEDATE)) FROM PETRESCUE"
   ]
  },
  {
   "cell_type": "markdown",
   "id": "1cec3f47-12c7-4d16-b547-46f2cc90d21d",
   "metadata": {},
   "source": [
    "# Practice Problems"
   ]
  },
  {
   "cell_type": "markdown",
   "id": "372ee7e4-0011-4891-9c7d-47f62f5c064d",
   "metadata": {},
   "source": [
    "1. ### Rédigez une requête qui affiche le coût moyen du sauvetage d’un seul chien. Notez que le coût par chien ne serait pas le même dans différents cas."
   ]
  },
  {
   "cell_type": "markdown",
   "id": "9d7ffb76-a13c-480e-bfa8-c9877baf9f4d",
   "metadata": {},
   "source": [
    "Pour un tel problème, vous devez utiliser la fonction 'AVG' sur 'COST/QUANTITY', par exemple, le coût par quantité unitaire."
   ]
  },
  {
   "cell_type": "code",
   "execution_count": null,
   "id": "d3935105-f0c2-4d1b-8c7c-27992fab4667",
   "metadata": {},
   "outputs": [],
   "source": [
    "SELECT AVG(COST/QUANTITY) FROM PETRESCUE WHERE ANIMAL = 'Dog';"
   ]
  },
  {
   "cell_type": "markdown",
   "id": "0258f820-5350-4932-aa44-0a6c4b56d117",
   "metadata": {},
   "source": [
    "2. ### Écrivez une requête qui affiche le nom de l’animal dans chaque sauvetage en majuscules sans doublons."
   ]
  },
  {
   "cell_type": "code",
   "execution_count": null,
   "id": "b3ba90e3-b495-4a8c-8480-dcee39813b81",
   "metadata": {},
   "outputs": [],
   "source": [
    "To write this query, you must use the `DISTINCT` and `UCASE` functions."
   ]
  },
  {
   "cell_type": "code",
   "execution_count": null,
   "id": "12615590-eb5d-47b2-8053-32e6da4d115b",
   "metadata": {},
   "outputs": [],
   "source": [
    "SELECT DISTINCT UCASE(ANIMAL) FROM PETRESCUE;"
   ]
  },
  {
   "cell_type": "markdown",
   "id": "11d7b98a-6eaa-4dba-8893-64739626f3c0",
   "metadata": {},
   "source": [
    "3. ### Écrivez une requête qui affiche toutes les colonnes de la table PETRESCUE WHERE le ou les animaux sauvés sont des chats. Utilisez cat en minuscules dans la requête."
   ]
  },
  {
   "cell_type": "markdown",
   "id": "daae0721-e626-4ea7-8f64-fd60e59d10fb",
   "metadata": {},
   "source": [
    "You have to use `LCASE` function for writing this query."
   ]
  },
  {
   "cell_type": "code",
   "execution_count": null,
   "id": "fb21ee42-f302-4fe2-805b-61b694a4ec72",
   "metadata": {},
   "outputs": [],
   "source": [
    "SELECT *\n",
    "FROM PETRESCUE\n",
    "WHERE LCASE(ANIMAL)=\"cat\";"
   ]
  },
  {
   "cell_type": "markdown",
   "id": "8e39db00-1fc3-48a5-b72e-ee5bfa74f726",
   "metadata": {},
   "source": [
    "4. ### Rédigez une requête qui affiche le nombre de sauvetages au cours du 5e mois."
   ]
  },
  {
   "cell_type": "code",
   "execution_count": null,
   "id": "e20e6069-922d-4941-90d8-677d6bad51e1",
   "metadata": {},
   "outputs": [],
   "source": [
    "You must use the `SUM` AND `MONTH` function to write this query."
   ]
  },
  {
   "cell_type": "code",
   "execution_count": null,
   "id": "55ed8096-24ff-4a50-89d8-01370693e068",
   "metadata": {},
   "outputs": [],
   "source": [
    "SELECT SUM(QUANTITY)\n",
    "FROM PETRESCUE\n",
    "WHERE MONTH(RESCUEDATE)=\"05\";"
   ]
  },
  {
   "cell_type": "markdown",
   "id": "e14fe57c-921d-4667-9d73-dbc9a0a463b7",
   "metadata": {},
   "source": [
    "5. ### The rescue shelter is supposed to find good homes for all animals within 1 year of their rescue. Write a query that displays the ID and the target date."
   ]
  },
  {
   "cell_type": "code",
   "execution_count": null,
   "id": "2edc02ba-99b3-4041-afc2-dcc99a505054",
   "metadata": {},
   "outputs": [],
   "source": [
    "You have to use the `DATE_ADD` function for writing this query."
   ]
  },
  {
   "cell_type": "code",
   "execution_count": null,
   "id": "d483f824-a8c1-4268-93df-eab6c7302f2f",
   "metadata": {},
   "outputs": [],
   "source": [
    "SELECT ID, DATE_ADD(RESCUEDATE, INTERVAL 1 YEAR) FROM PETRESCUE;"
   ]
  },
  {
   "cell_type": "code",
   "execution_count": null,
   "id": "543b9765-f96b-4db7-9f75-238d6f649c04",
   "metadata": {},
   "outputs": [],
   "source": [
    "Conclusion\n",
    "Congratulations on completing this lab.\n",
    "\n",
    "You are now able to:\n",
    "\n",
    "Use aggregation functions to calculate total, maximum, minimum, and average values of numerical attributes.\n",
    "Use scalar functions to round a floating value to the desired number of decimal places.\n",
    "Use string functions to convert text into upper or lower cases.\n",
    "Use date operations to manipulate data columns with the attribute as date."
   ]
  },
  {
   "cell_type": "markdown",
   "id": "76beb02e-820b-4d1c-ae83-ac7d0973c96b",
   "metadata": {},
   "source": [
    "# Sous-requêtes et sélections imbriquées"
   ]
  },
  {
   "cell_type": "markdown",
   "id": "55072e07-b80a-4d39-8971-f863bc5c1b37",
   "metadata": {},
   "source": [
    "Bonjour et bienvenue. Dans cette vidéo, vous allez apprendre à rédiger des sous-requêtes ou des instructions de sélection imbriquées. Les sous-requêtes ou sous-sélections ressemblent à des requêtes classiques , mais placées entre parenthèses et imbriquées dans une autre requête. Cela vous permet de former des requêtes plus puissantes que celles qui auraient été possibles autrement. Un exemple de requête imbriquée est présenté. Dans cet exemple, la sous-requête se trouve dans la clause WHERE d'une autre requête. Examinez le tableau des employés de la vidéo précédente. Les premières lignes de données sont affichées ici. Le tableau contient plusieurs colonnes, dont un identifiant d'employé, un prénom, un nom de famille, un salaire, etc. Nous allons maintenant passer en revue quelques exemples impliquant ce tableau. Examinons un scénario qui peut nécessiter l'utilisation de sous-requêtes. Supposons que nous voulions récupérer la liste des employés dont le salaire est supérieur au salaire moyen. Pour ce faire, vous pouvez essayer ce code. Sélectionnez * parmi les employés, où salaire > AVG (salaire). Cependant, l'exécution de cette requête entraînera une erreur comme celle illustrée. Indique une utilisation non valide de la fonction d'agrégation. L'une des limites des fonctions d'agrégation intégrées, comme la fonction moyenne, est qu'elles ne peuvent pas toujours être évaluées dans la clause WHERE. Ainsi, pour évaluer une fonction comme average dans la clause WHERE, nous pouvons utiliser une expression de sous-sélection comme celle présentée ici. Sélectionnez EMP_ID, F_NAME, L_NAME, SALARY parmi les employés où SALARY < (sélectionnez AVG (SALARY) parmi les employés). Notez que la fonction moyenne est évaluée dans la première partie de la sous-requête.\n",
    "Lisez la vidéo à partir de :2:6 et suivez la transcription2:06\n",
    "Cela nous permet de contourner la limitation qui consiste à l'évaluer directement dans la clause WHERE. La sous-sélection ne doit pas simplement figurer dans la clause WHERE. Il peut également figurer dans d'autres parties de la requête, par exemple dans la liste des colonnes à sélectionner. Ces sous-requêtes sont appelées expressions de colonnes. Examinons maintenant un scénario dans lequel nous pourrions vouloir utiliser une expression de colonne. Supposons que nous voulions comparer le salaire de chaque employé avec le salaire moyen. Nous pourrions essayer une requête telle que sélectionner EMP_ID, SALARY, AVG (SALARY) AS AVG_SALARY auprès des employés. L'exécution de cette requête entraînera une erreur indiquant qu'aucune clause group by n'est spécifiée. Nous pouvons contourner cette erreur en utilisant la fonction average dans une sous-requête placée dans la liste des colonnes. Par exemple, sélectionnez EMP_ID, SALARY, (sélectionnez AVG (SALARY) parmi les employés ) COMME AVG_SALARY parmi les employés. Une autre option consiste à intégrer la sous-requête à la clause FROM. Les sous-requêtes de ce type sont parfois appelées tables dérivées ou expressions de table. Parce que la requête externe utilise les résultats de la sous-requête comme source de données. Examinons un exemple pour créer une expression de table contenant des informations non sensibles sur les employés. Sélectionnez* parmi (sélectionnez EMP_ID, F_NAME, L_NAME, DEP_ID parmi les employés) COMME EMP4ALL. La table dérivée d'une sous-requête n' inclut pas de champs sensibles tels que la date de naissance ou le salaire. Cet exemple est trivial, et nous aurions tout aussi bien pu inclure les colonnes dans la requête externe. Toutefois, ces tables dérivées peuvent s'avérer efficaces dans des situations plus complexes, par exemple lorsque vous travaillez avec plusieurs tables et que vous effectuez des jointures. Dans cette vidéo, vous avez vu comment les sous-requêtes et les requêtes imbriquées peuvent être utilisées pour créer des requêtes plus riches et comment elles peuvent surmonter certaines des limites des fonctions d'agrégation. Vous avez également appris à utiliser des sous-requêtes dans la clause WHERE, dans la liste des colonnes et dans la clause FROM. Merci d'avoir regardé cette vidéo"
   ]
  },
  {
   "cell_type": "markdown",
   "id": "6c165039-4e3e-4e83-b8f6-d5cf5e1de068",
   "metadata": {},
   "source": [
    "# Atelier pratique : Sous-requêtes et sélections imbriquées"
   ]
  },
  {
   "cell_type": "markdown",
   "id": "401fa0bd-6b6f-47bf-923a-bf17980b064c",
   "metadata": {},
   "source": [
    "# Objectifs\n",
    "À l’issue de cet atelier, vous serez en mesure de :\n",
    "\n",
    "- Écrire des requêtes SQL qui démontrent la nécessité d’utiliser des sous-requêtes\n",
    "- Composer des sous-requêtes dans la clause where\n",
    "- Créer des expressions de colonne (par exemple, une sous-requête à la place d’une colonne)\n",
    "- Écrire des expressions de table (par exemple, une sous-requête à la place d’une table)"
   ]
  },
  {
   "cell_type": "markdown",
   "id": "51250cb4-abee-43fc-8889-148f90e329bf",
   "metadata": {},
   "source": [
    "# Charger la base de données\n",
    "En utilisant les compétences acquises dans les modules précédents, vous devez d’abord créer la base de données en MySQL. Suivez les étapes ci-dessous.\n",
    "\n",
    "1. ### Ouvrez l’interface phpMyAdmin à partir de la boîte à outils Skills Network dans l’IDE Cloud.\n",
    "\n",
    "2. ### Créez une base de données vierge nommée « RH ». Utilisez le script partagé dans le lien ci-dessous pour créer les tables requises.\n",
    "Script_Create_Tables.sql\n",
    "\n",
    "3. ### Téléchargez les fichiers contenus dans les liens ci-dessous sur votre appareil local (si ce n’est pas déjà fait dans les ateliers précédents)\n",
    "Departments.csv\n",
    "\n",
    "Jobs.csv\n",
    "\n",
    "JobsHistory.csv\n",
    "\n",
    "Locations.csv\n",
    "\n",
    "Employees.csv\n",
    "\n",
    "4. ### Utilisez ces fichiers dans l’interface phpMyAdmin comme données pour les tables respectives de la base de données 'HR'."
   ]
  },
  {
   "cell_type": "markdown",
   "id": "8b49e0b4-02d8-41e0-b1a4-4fb0dfa2530b",
   "metadata": {},
   "source": [
    "#  Sous-requêtes et sélections imbriquées\n",
    "Supposons qu’on vous demande de récupérer tous les dossiers d’employés dont le salaire est inférieur au salaire moyen. Pour ce faire, vous pouvez utiliser la requête suivante."
   ]
  },
  {
   "cell_type": "code",
   "execution_count": null,
   "id": "0818310f-9098-4ef5-8383-f2a436466612",
   "metadata": {},
   "outputs": [],
   "source": [
    "SELECT * \n",
    "FROM EMPLOYEES \n",
    "WHERE salary < AVG(salary);"
   ]
  },
  {
   "cell_type": "markdown",
   "id": "3db25a37-9d56-4e00-a355-3588ea00c387",
   "metadata": {},
   "source": [
    "Toutefois, cette requête génère une erreur indiquant « Utilisation illégale de la fonction de groupe ». Ici, la fonction de groupe est AVG et ne peut pas être utilisée directement dans la condition car elle n’a pas été récupérée à partir des données. Par conséquent, la condition utilisera une sous-requête pour récupérer les informations sur le salaire moyen afin de comparer le salaire existant. La requête modifiée deviendrait :"
   ]
  },
  {
   "cell_type": "code",
   "execution_count": null,
   "id": "1a931fb4-eb8c-44a5-816b-19e73eb19612",
   "metadata": {},
   "outputs": [],
   "source": [
    "SELECT *\n",
    "FROM EMPLOYEES\n",
    "WHERE SALARY < (SELECT AVG(SALARY) FROM EMPLOYEES);"
   ]
  },
  {
   "cell_type": "markdown",
   "id": "faa2634c-0799-4063-bb72-f34cd0715914",
   "metadata": {},
   "source": [
    "Envisagez maintenant d’exécuter une requête qui récupère tous les enregistrements d’employés avec EMP_ID, SALAIRE et salaire maximum comme MAX_SALARY dans chaque ligne. Pour cela, le salaire maximum doit être interrogé et utilisé comme l’une des colonnes. Cela peut être fait à l’aide de la requête ci-dessous."
   ]
  },
  {
   "cell_type": "code",
   "execution_count": null,
   "id": "541d9949-5e60-4cf4-a08d-197ce985ab8e",
   "metadata": {},
   "outputs": [],
   "source": [
    "SELECT EMP_ID, SALARY, (SELECT MAX(SALARY) FROM EMPLOYEES) AS MAX_SALARY \n",
    "FROM EMPLOYEES;"
   ]
  },
  {
   "cell_type": "markdown",
   "id": "4a1de618-965a-490a-8b09-c78ca926fce0",
   "metadata": {},
   "source": [
    "Maintenant, considérez que vous souhaitez extraire le prénom et le nom de famille de l’employé le plus âgé. Étant donné que l’employé le plus âgé sera celui dont la date de naissance est la plus faible, la requête peut s’écrire comme suit :"
   ]
  },
  {
   "cell_type": "markdown",
   "id": "4e93871f-4e34-4834-9753-903e20837b18",
   "metadata": {},
   "source": [
    "Vous pouvez également utiliser des sous-requêtes pour créer des tables dérivées, qui peuvent ensuite être utilisées pour interroger des informations spécifiques. Supposons que vous vouliez connaître le salaire moyen des 5 personnes les mieux rémunérées de l’entreprise. Vous devrez d’abord extraire un tableau des cinq meilleurs salaires sous forme de tableau. À partir de ce tableau, vous pouvez interroger la valeur moyenne du salaire. La requête peut s’écrire comme suit."
   ]
  },
  {
   "cell_type": "code",
   "execution_count": null,
   "id": "6b640d12-22b9-4c15-b184-42d6d8663a3a",
   "metadata": {},
   "outputs": [],
   "source": [
    "SELECT AVG(SALARY) \n",
    "FROM (SELECT SALARY \n",
    "      FROM EMPLOYEES \n",
    "      ORDER BY SALARY DESC \n",
    "      LIMIT 5) AS SALARY_TABLE;"
   ]
  },
  {
   "cell_type": "markdown",
   "id": "84f4b1f7-da9d-41d3-8255-387a86606a92",
   "metadata": {},
   "source": [
    "Note that it is necessary to give an alias to any derived tables.\n"
   ]
  },
  {
   "cell_type": "markdown",
   "id": "d47f8a13-2f20-4e2f-94e2-d898dd00f655",
   "metadata": {},
   "source": [
    "# Problèmes de pratique\n",
    "1. ### Rédigez une requête pour trouver le salaire moyen des cinq employés les moins bien rémunérés.\n",
    "\n",
    "Cliquez ici pour un indice\n",
    "\n",
    "Vous devez classer les données dans l’ordre croissant des salaires et les limiter aux cinq premières entrées, en les traitant comme une table dérivée. Prenez la moyenne de ces entrées."
   ]
  },
  {
   "cell_type": "code",
   "execution_count": null,
   "id": "e16f6cd6-723b-494c-a521-c125cc4c9cae",
   "metadata": {},
   "outputs": [],
   "source": [
    "SELECT AVG(SALARY)\n",
    "FROM\n",
    "(SELECT SALARY \n",
    "FROM EMPLOYEES\n",
    "ORDER BY SALARY \n",
    "LIMIT 5) AS SALARY_TABLE;"
   ]
  },
  {
   "cell_type": "markdown",
   "id": "6c9702de-6bba-449f-9b20-ad62dd9b4a55",
   "metadata": {},
   "source": [
    "2. ### Rédigez une requête pour trouver les enregistrements des employés dont l’âge est supérieur à l’âge moyen de tous les employés.\n",
    "Cliquez ici pour un indice\n",
    "L’âge en années peut être calculé comme la composante de l’année dans la différence entre la date de naissance et la date du jour. Vous devez comparer l’âge en années avec l’âge moyen en années. L’âge moyen en années sera évalué en tant que sous-requête."
   ]
  },
  {
   "cell_type": "code",
   "execution_count": null,
   "id": "b57021e9-a9d3-404d-8bb7-7f85431aa699",
   "metadata": {},
   "outputs": [],
   "source": [
    "SELECT * \n",
    "FROM EMPLOYEES \n",
    "WHERE YEAR(FROM_DAYS(DATEDIFF(CURRENT_DATE,B_DATE))) > \n",
    "    (SELECT AVG(YEAR(FROM_DAYS(DATEDIFF(CURRENT_DATE,B_DATE)))) \n",
    "    FROM EMPLOYEES);\n"
   ]
  },
  {
   "cell_type": "markdown",
   "id": "7f3fb1ea-4d40-4964-8d39-f7e0fe8292a9",
   "metadata": {},
   "source": [
    "3. ### Dans le tableau Job_History, affichez la liste des numéros d’employé, des années de service et des années de service moyennes pour toutes les entrées.\n",
    "Cliquez ici pour obtenir un indice\n",
    "Pour cela, vous devez calculer les années de service comme une différence entre la date d’adhésion et la date actuelle. Le nombre moyen d’années de service doit être interrogé séparément pour être affiché."
   ]
  },
  {
   "cell_type": "code",
   "execution_count": null,
   "id": "5a70a7b9-efb6-4ee9-9e78-6e092861c214",
   "metadata": {},
   "outputs": [],
   "source": [
    "SELECT EMPL_ID, YEAR(FROM_DAYS(DATEDIFF(CURRENT_DATE, START_DATE))), \n",
    "    (SELECT AVG(YEAR(FROM_DAYS(DATEDIFF(CURRENT_DATE, START_DATE)))) \n",
    "    FROM JOB_HISTORY)\n",
    "FROM JOB_HISTORY;"
   ]
  },
  {
   "cell_type": "markdown",
   "id": "2f08561c-001e-4af7-aaf9-bc95d2a41fdd",
   "metadata": {},
   "source": [
    "# Conclusion\n",
    "Félicitations! Vous avez terminé cet atelier et êtes prêt pour le sujet suivant.\n",
    "\n",
    "Vous devriez maintenant être en mesure de :\n",
    "\n",
    "- Écrire des requêtes SQL qui démontrent la nécessité d’utiliser des sous-requêtes\n",
    "- Composer des sous-requêtes dans la clause WHERE\n",
    "- Créer des expressions de colonne (par exemple, une sous-requête à la place d’une colonne)\n",
    "- Écrire des expressions de table (par exemple, une sous-requête à la place d’une table)"
   ]
  },
  {
   "cell_type": "markdown",
   "id": "22ddc388-55a7-4630-9c0d-304a549c630f",
   "metadata": {},
   "source": [
    "# Travailler avec plusieurs tableaux"
   ]
  },
  {
   "cell_type": "markdown",
   "id": "4670e315-e038-493d-aee4-c1d5e9b6c1a1",
   "metadata": {},
   "source": [
    "Bonjour et bienvenue. Dans cette vidéo, vous apprendrez à écrire des requêtes qui accèdent à plus d'une table. Il y a plusieurs façons d'accéder à plusieurs tables dans la même requête. Notamment, en utilisant les sous-requêtes, les JOIN implicites, et les opérateurs JOIN, tels que INNER JOIN et OUTER JOIN. Dans cette vidéo, nous examinerons les deux premières options. La troisième option est traitée plus en détail dans d'autres vidéos. Considérons les tables employees et departments d'une vidéo précédente. La table employees contient plusieurs colonnes pour les catégories, telles que l'ID de l'employé, le prénom, le nom, et le salaire, pour n'en citer que quelques-unes. La table Departments contient l'ID du département, le nom du département, l'ID du responsable et l'ID de l'emplacement. Voici quelques exemples de données provenant de ces tables. Nous utiliserons ces tables pour les exemples de cette vidéo. Dans une vidéo précédente, nous avons appris à utiliser les sous-requêtes. Maintenant, utilisons les sous-requêtes pour travailler avec plusieurs tables. Si nous voulons récupérer uniquement les enregistrements d'employés de la table employees pour lesquels un ID de département existe dans la table departments, nous pouvons utiliser une sous-requête comme suit. Select star from employees, where department_ID IN, select department_ID_department from departments. Ici, la requête externe accède à la table employees et la sous-requête sur la table departments est utilisée pour filtrer l'ensemble des résultats de la requête externe. Supposons que nous voulions extraire uniquement la liste des employés d'un lieu spécifique. Nous ne disposons d'aucune information sur le lieu dans la table des employés, mais la table des départements contient une colonne appelée ID de lieu. Par conséquent, nous pouvons utiliser une sous-requête de la table Departments comme entrée de la requête de la table employee comme suit. Select star from employees, where department_ID IN, select department_ID_department from departments, where location ID equals L0002. Maintenant, récupérons l'ID du département et le nom du département pour les employés qui gagnent plus de 70 000 $. Pour ce faire, nous aurons besoin d'une sous-requête sur la table employees pour satisfaire les critères de salaire, et ensuite l'introduire comme entrée dans une requête externe sur la table departments afin d'obtenir les informations correspondantes sur le département. Select department_ID_department department_name from departments, where department_ID_department IN, select department_ID from employees where salary is greater than 70,000. Nous pouvons également accéder à plusieurs tables en les spécifiant dans la clause FROM de la requête. Prenons l'exemple suivant : select star from employees, departments. Nous spécifions ici deux tables dans la clause FROM. Il en résulte une jointure de table, mais notez que nous n'utilisons pas explicitement l'opérateur de jointure. La jointure résultante dans cet exemple est appelée jointure complète ou jointure cartésienne, parce que chaque ligne de la première table est jointe à chaque ligne de la seconde table. Si vous examinez l'ensemble des résultats, vous verrez plus de lignes que dans les deux tables individuellement. Nous pouvons utiliser des opérandes supplémentaires pour limiter l'ensemble des résultats. Examinons un exemple dans lequel nous limitons l'ensemble de résultats aux seules lignes dont les ID de département correspondent. Select star from employees, departments, where employees department_ID equals departments, department_ID_department. Remarquez que dans la clause WHERE, nous préfixons le nom de la colonne avec le nom de la table. Il s'agit de qualifier complètement le nom de la colonne, puisqu'il est possible que des tables différentes aient des noms de colonnes exactement identiques. Comme les noms de tables peuvent parfois être longs, nous pouvons utiliser des alias plus courts pour les noms de tables, comme illustré ci-dessous. Select star from employees E, departments D, where E department_ID equals D department_ID_department. Ici, nous définissons l'alias E pour la table employees et D pour la table departments, et utilisons ensuite ces alias dans la clause WHERE. Si nous voulions voir le nom du département pour chaque employé, nous entrerions le code comme suit : Select Employee_ID, Department_Name from employees E, departments D, where E department_ID equals D department_ID_department. Comme précédemment, les noms de colonnes dans la clause select peuvent également être préfixés par des alias, comme le montre la requête. Select E. Employee_ID, D. Department_ID_department, from employees E. Departments D where E.Department_ID equals D. Department_ID_department. Dans cette leçon, nous vous avons montré comment travailler avec plusieurs tables en utilisant des sous-requêtes et des jointures implicites. Merci d'avoir regardé cette leçon."
   ]
  },
  {
   "cell_type": "markdown",
   "id": "dc8913e9-ae1f-4afc-a429-d829f81840a0",
   "metadata": {},
   "source": [
    "# Hands-on Lab: Working with Multiple Tables"
   ]
  },
  {
   "cell_type": "markdown",
   "id": "17d63c92-b36e-4f28-857c-7a2f453913b2",
   "metadata": {},
   "source": [
    "# Objectifs\n",
    "À l’issue de cet atelier, vous serez en mesure de :\n",
    "\n",
    "- Écrire des requêtes SQL qui accèdent à plusieurs tables\n",
    "- Composer des requêtes qui accèdent à plusieurs tables à l’aide d’une instruction imbriquée dans la clause WHERE\n",
    "- Créer des requêtes avec plusieurs tables dans la clause FROM\n",
    "- Écrire des requêtes de jointure implicite avec des critères de jointure spécifiés dans la clause WHERE\n",
    "- Spécifier des alias pour les noms de table et qualifier les noms de colonne avec des alias de table"
   ]
  },
  {
   "cell_type": "markdown",
   "id": "24b91cab-1550-409e-88db-b810e764e3d5",
   "metadata": {},
   "source": [
    "# Accessing multiple tables with sub-queries"
   ]
  },
  {
   "cell_type": "markdown",
   "id": "8b0046bb-06bc-48d1-a03b-e7ee845025f0",
   "metadata": {},
   "source": [
    "Voyons quelques exemples de requêtes nécessitant un accès à plusieurs tables à l’aide de sous-requêtes."
   ]
  },
  {
   "cell_type": "markdown",
   "id": "ffad20cb-dc48-4828-9817-e69942c57863",
   "metadata": {},
   "source": [
    "1. ### Récupérez uniquement les enregistrements EMPLOYEES correspondante aux jobs dans la table JOBS."
   ]
  },
  {
   "cell_type": "markdown",
   "id": "b104c944-d1e4-4307-bbc2-1874bde13564",
   "metadata": {},
   "source": [
    "Pour une telle question, vous pouvez implémenter la sous-requête dans la clause WHERE, de sorte que la colonne qui se chevauche de JOB_ID puisse identifier les entrées requises."
   ]
  },
  {
   "cell_type": "code",
   "execution_count": null,
   "id": "2b183768-75ed-491d-802d-f6fe0d65e2db",
   "metadata": {},
   "outputs": [],
   "source": [
    "SELECT * FROM EMPLOYEES WHERE JOB_ID IN (SELECT JOB_IDENT FROM JOBS);"
   ]
  },
  {
   "cell_type": "markdown",
   "id": "39da141a-c304-4cb6-86ea-e34e8b966f36",
   "metadata": {},
   "source": [
    "2. ### Récupérez des informations sur les JOB pour les employés gagnant plus de 70 000 $.\n",
    "\n",
    "Pour cet exemple, récupérez les détails de la table JOBS, qui a des ID communs avec ceux disponibles dans la table EMPLOYEES, à condition que le salaire dans la table EMPLOYEES soit supérieur à 70 000 $. Vous pouvez écrire la requête comme suit :"
   ]
  },
  {
   "cell_type": "code",
   "execution_count": null,
   "id": "2e34228f-ce7c-44e4-9137-bd728ae2168d",
   "metadata": {},
   "outputs": [],
   "source": [
    "SELECT JOB_TITLE, MIN_SALARY, MAX_SALARY, JOB_IDENT\n",
    "FROM JOBS\n",
    "WHERE JOB_IDENT IN (select JOB_ID from EMPLOYEES where SALARY > 70000 );"
   ]
  },
  {
   "cell_type": "markdown",
   "id": "95209daf-bd57-4b8d-a7fa-a91d8da48881",
   "metadata": {},
   "source": [
    "# Accès à plusieurs tables avec des sous-requêtes\n",
    "Voyons quelques exemples de requêtes nécessitant un accès à plusieurs tables à l’aide de sous-requêtes.\n",
    "\n",
    "1. ### Récupérez uniquement les enregistrements EMPLOYEES correspondant aux jobs dans la table JOBS.\n",
    "\n",
    "Pour une telle question, vous pouvez implémenter la sous-requête dans la clause WHERE, de sorte que la colonne qui se chevauche de JOB_ID puisse identifier les entrées requises.\n",
    "\n",
    "\n",
    "La même question que précédemment, mais nous allons maintenant utiliser la jointure implicite pour récupérer les informations requises. Pour cela, vous allez combiner les tables en fonction des ID de tâche. Pour cela, utilisez la requête suivante :"
   ]
  },
  {
   "cell_type": "code",
   "execution_count": null,
   "id": "20c9ec8b-c399-4366-a838-ec5307d790ec",
   "metadata": {},
   "outputs": [],
   "source": [
    "SELECT *\n",
    "FROM EMPLOYEES, JOBS\n",
    "WHERE EMPLOYEES.JOB_ID = JOBS.JOB_IDENT;"
   ]
  },
  {
   "cell_type": "markdown",
   "id": "9f649cfc-e256-499f-a5fd-7ee04f3eb89e",
   "metadata": {},
   "source": [
    "2. ### Rétablissez la requête précédente à l’aide d’alias plus courts pour les noms de table.\n",
    "Notez que les tables en question peuvent se voir attribuer des alias plus courts. Ceci est particulièrement utile dans les cas où des colonnes spécifiques doivent être accessibles à partir de différentes tables. La requête doit être modifiée comme suit :"
   ]
  },
  {
   "cell_type": "code",
   "execution_count": null,
   "id": "8670937a-f7ef-4ff9-9872-64de1b30f6b7",
   "metadata": {},
   "outputs": [],
   "source": [
    "SELECT *\n",
    "FROM EMPLOYEES E, JOBS J\n",
    "WHERE E.JOB_ID = J.JOB_IDENT;"
   ]
  },
  {
   "cell_type": "code",
   "execution_count": null,
   "id": "8f73ce2b-a167-4976-a7d7-483f0120bd9f",
   "metadata": {},
   "outputs": [],
   "source": [
    "Notice that the two queries are giving the same response."
   ]
  },
  {
   "cell_type": "markdown",
   "id": "e789cc47-d96c-48f0-ada8-b458909679e5",
   "metadata": {},
   "source": [
    "3. ### Dans la requête précédente, récupérez uniquement l’ID d’employé, le nom et l’intitulé du poste.\n",
    "Notez que Job Title est une colonne de la table JOBS et que d’autres détails proviennent de la table EMPLOYEES. Les deux tables seront jointes sur l’ID de tâche. La requête serait la suivante :"
   ]
  },
  {
   "cell_type": "code",
   "execution_count": null,
   "id": "3d14b39f-5c5e-4ee3-b3f5-e4d1b8cabda7",
   "metadata": {},
   "outputs": [],
   "source": [
    "SELECT EMP_ID,F_NAME,L_NAME, JOB_TITLE\n",
    "FROM EMPLOYEES E, JOBS J\n",
    "WHERE E.JOB_ID = J.JOB_IDENT;"
   ]
  },
  {
   "cell_type": "markdown",
   "id": "60d3e442-20c2-4e9e-9557-3eec33a1a6ad",
   "metadata": {},
   "source": [
    "4. ### Rétablissez la requête précédente, mais spécifiez les noms de colonne complets avec des alias dans la clause SELECT.\n",
    "Les noms de colonne peuvent également être préfixés par des alias de table pour garder une trace de l’origine de chaque colonne. La requête ci-dessus sera modifiée comme indiqué ci-dessous"
   ]
  },
  {
   "cell_type": "code",
   "execution_count": null,
   "id": "020234e1-441d-4c22-a41e-11c4d6b95627",
   "metadata": {},
   "outputs": [],
   "source": [
    "SELECT E.EMP_ID, E.F_NAME, E.L_NAME, J.JOB_TITLE\n",
    "FROM EMPLOYEES E, JOBS J\n",
    "WHERE E.JOB_ID = J.JOB_IDENT;"
   ]
  },
  {
   "cell_type": "markdown",
   "id": "45d1bf37-38b0-40a5-ba8f-209c9ae9fc56",
   "metadata": {},
   "source": [
    "# Problèmes d’entraînement\n",
    "Récupérez uniquement la liste des employés dont le JOB_TITLE est Jr. Designer."
   ]
  },
  {
   "cell_type": "code",
   "execution_count": null,
   "id": "fc745afa-964d-4013-82df-1c2b6c8299eb",
   "metadata": {},
   "outputs": [],
   "source": [
    "SELECT *\n",
    "FROM EMPLOYEES E, JOBS J\n",
    "WHERE E.JOB_ID = J.JOB_IDENT AND J.JOB_TITLE= 'Jr. Designer';"
   ]
  },
  {
   "cell_type": "markdown",
   "id": "e55c1553-a992-4ca1-ab09-4f570a4ea00f",
   "metadata": {},
   "source": [
    "Récupérez les informations JOB et une liste des employés dont l’année de naissance est postérieure à 1976.\n",
    "\n",
    "a. Utilisation de sous-requêtes"
   ]
  },
  {
   "cell_type": "code",
   "execution_count": null,
   "id": "70c1839e-3a39-4cec-8ded-ed7814b89e82",
   "metadata": {},
   "outputs": [],
   "source": [
    "SELECT JOB_TITLE, MIN_SALARY, MAX_SALARY, JOB_IDENT\n",
    "FROM JOBS\n",
    "WHERE JOB_IDENT IN (SELECT JOB_ID\n",
    "                    FROM EMPLOYEES\n",
    "                    WHERE YEAR(B_DATE)>1976 );"
   ]
  },
  {
   "cell_type": "code",
   "execution_count": null,
   "id": "68b73cba-f31f-4da9-99c2-c892d51aec23",
   "metadata": {},
   "outputs": [],
   "source": [
    "b. Using implicit join"
   ]
  },
  {
   "cell_type": "code",
   "execution_count": null,
   "id": "b873939d-1a51-4db2-96f7-dff3fd88a331",
   "metadata": {},
   "outputs": [],
   "source": [
    "SELECT J.JOB_TITLE, J.MIN_SALARY, J.MAX_SALARY, J.JOB_IDENT\n",
    "FROM JOBS J, EMPLOYEES E\n",
    "WHERE E.JOB_ID = J.JOB_IDENT AND YEAR(E.B_DATE)>1976;"
   ]
  },
  {
   "cell_type": "markdown",
   "id": "938d670b-cdc8-47e2-8790-76e5201ae28a",
   "metadata": {},
   "source": [
    "# Atelier pratique : Sous-requêtes et SELECT imbriqués SUR IBM Db2 on cloud"
   ]
  },
  {
   "cell_type": "markdown",
   "id": "b9db8602-3e5c-4422-9e64-c7b33bd26b22",
   "metadata": {},
   "source": [
    "2. ### Problème:\n",
    "Exécutez une requête de travail à l’aide d’une sous-sélection pour récupérer tous les enregistrements d’employés dont le salaire est inférieur au salaire moyen.\n",
    "\n",
    "Indice\n",
    "Mettez AVG(SALAIRE) du SELECT interne en comparaison avec le SALAIRE du SELECT externe."
   ]
  },
  {
   "cell_type": "code",
   "execution_count": null,
   "id": "5a47f520-18c0-4e66-b7a0-9cebd71a3478",
   "metadata": {},
   "outputs": [],
   "source": [
    "select EMP_ID, F_NAME, L_NAME, SALARY \n",
    "from employees \n",
    "where SALARY < (select AVG(SALARY) \n",
    "                from employees);"
   ]
  },
  {
   "cell_type": "markdown",
   "id": "dee8b957-1120-41d4-b255-ceb6afb23c1f",
   "metadata": {},
   "source": [
    "4. ###  Problème:\n",
    "Exécutez une expression de colonne qui récupère tous les enregistrements d’employés avec EMP_ID, SALARY et maximum salary comme MAX_SALARY dans chaque ligne.\n",
    "\n",
    "Indice\n",
    "Utilisez le SELECT (qui récupère MAX(SALARY)) comme colonne de l’autre SELECT."
   ]
  },
  {
   "cell_type": "code",
   "execution_count": null,
   "id": "26794063-1e8e-4ec4-9441-279f4d435c40",
   "metadata": {},
   "outputs": [],
   "source": [
    "select EMP_ID, SALARY, ( select MAX(SALARY) from employees ) AS MAX_SALARY \n",
    "from employees;"
   ]
  },
  {
   "cell_type": "markdown",
   "id": "cf3a673c-26e7-4b1c-93a1-3c7142069e7e",
   "metadata": {},
   "source": [
    "5. ### Problème:\n",
    "Exécutez une expression de table pour la table EMPLOYEES qui exclut les colonnes contenant des données sensibles sur les employés (c’est-à-dire qu’elle n’inclut pas les colonnes : SSN, B_DATE, SEX, ADDRESS, SALARY).\n",
    "\n",
    "Indice\n",
    "Utilisez un SELECT (qui récupère les données non sensibles des employés) après FROM de l’autre SELECT."
   ]
  },
  {
   "cell_type": "code",
   "execution_count": null,
   "id": "84f123f8-4ba2-45e9-b232-f27255580e4f",
   "metadata": {},
   "outputs": [],
   "source": [
    "select * from ( select EMP_ID, F_NAME, L_NAME, DEP_ID from employees) AS EMP4ALL;"
   ]
  },
  {
   "cell_type": "markdown",
   "id": "bbfea234-9f8e-4efc-9846-acf511c75f58",
   "metadata": {},
   "source": [
    "# Atelier pratique : Utilisation de plusieurs tables sur Db2"
   ]
  },
  {
   "cell_type": "markdown",
   "id": "d738b290-c840-426c-8fcc-d9a999a142a2",
   "metadata": {},
   "source": [
    "À quoi ressemble une version implicite de la syntaxe d’instruction CROSS JOIN (également connue sous le nom de jointure cartésienne) ?"
   ]
  },
  {
   "cell_type": "code",
   "execution_count": null,
   "id": "7a12e7d6-ba06-485a-9d81-a2c27c711d22",
   "metadata": {},
   "outputs": [],
   "source": [
    "SELECT column_name(s)\n",
    "FROM table1, table2;"
   ]
  },
  {
   "cell_type": "code",
   "execution_count": null,
   "id": "3c86249f-bbf8-4fac-8352-5810b9bcceb8",
   "metadata": {},
   "outputs": [],
   "source": [
    "À quoi ressemble une version implicite de la syntaxe de l’instruction INNER JOIN ?"
   ]
  },
  {
   "cell_type": "code",
   "execution_count": null,
   "id": "d3ff981e-fece-4be2-96f3-66cfad8664fe",
   "metadata": {},
   "outputs": [],
   "source": [
    "SELECT column_name(s)\n",
    "FROM table1, table2\n",
    "WHERE table1.column_name = table2.column_name;"
   ]
  },
  {
   "cell_type": "markdown",
   "id": "13789df0-f23b-425d-a9f6-44d1ac716656",
   "metadata": {},
   "source": [
    "# Exercice 1 : Accès à plusieurs tables à l’aide de sous-requêtes\n",
    "1. ### Problème:\n",
    "\n",
    "Récupérez uniquement les enregistrements EMPLOYEES qui correspondent aux tâches de la table JOBS."
   ]
  },
  {
   "cell_type": "code",
   "execution_count": null,
   "id": "4c826582-ea35-4cd5-8f12-3b65f0bc7033",
   "metadata": {},
   "outputs": [],
   "source": [
    "select * from employees where JOB_ID IN (select JOB_IDENT from jobs);"
   ]
  },
  {
   "cell_type": "markdown",
   "id": "57719b33-0b01-4c88-8408-18187dd28476",
   "metadata": {},
   "source": [
    "2. ### Problème:\n",
    "\n",
    "Récupérez uniquement la liste des employés dont le JOB_TITLE est Jr. Designer."
   ]
  },
  {
   "cell_type": "code",
   "execution_count": null,
   "id": "e0e62af6-9d53-4ddc-9434-44d11618f4a6",
   "metadata": {},
   "outputs": [],
   "source": [
    "select * from employees where JOB_ID IN (select JOB_IDENT from jobs where JOB_TITLE= 'Jr. Designer');"
   ]
  },
  {
   "cell_type": "markdown",
   "id": "a56ec4bd-fb94-49c7-88a4-5a38b63cbb31",
   "metadata": {},
   "source": [
    "3. ### Problème:\n",
    "\n",
    "Récupérez des informations sur les EMPLOIS et qui gagnent plus de 70 000 $."
   ]
  },
  {
   "cell_type": "code",
   "execution_count": null,
   "id": "931bb636-1aa6-4449-b371-8ae7cb54a76e",
   "metadata": {},
   "outputs": [],
   "source": [
    "select JOB_TITLE, MIN_SALARY,MAX_SALARY,JOB_IDENT from jobs where JOB_IDENT IN (select JOB_ID from employees where SALARY > 70000 );"
   ]
  },
  {
   "cell_type": "markdown",
   "id": "881573dd-f0e8-47cd-ad2c-772e76ecc79e",
   "metadata": {},
   "source": [
    "4. ### Problème:\n",
    "\n",
    "Récupérez les informations JOB et dont l’année de naissance est postérieure à 1976."
   ]
  },
  {
   "cell_type": "code",
   "execution_count": null,
   "id": "663ecbb9-9095-4ecc-bccf-e0143497fdd1",
   "metadata": {},
   "outputs": [],
   "source": [
    "select JOB_TITLE, MIN_SALARY,MAX_SALARY,JOB_IDENT from jobs where JOB_IDENT IN (select JOB_ID from employees where YEAR(B_DATE)>1976 );"
   ]
  },
  {
   "cell_type": "markdown",
   "id": "94da661a-071d-4533-ab36-03cf7651ac60",
   "metadata": {},
   "source": [
    "5. ### Problème:\n",
    "\n",
    "Récupérez les informations JOB pour les employées dont l’année de naissance est postérieure à 1976 AND DE SEXE Féminin"
   ]
  },
  {
   "cell_type": "code",
   "execution_count": null,
   "id": "a7d966e0-4284-40d8-9cc9-4e2902498349",
   "metadata": {},
   "outputs": [],
   "source": [
    "select JOB_TITLE, MIN_SALARY,MAX_SALARY,JOB_IDENT\n",
    "from jobs where JOB_IDENT IN (select JOB_ID from employees where YEAR(B_DATE)>1976 and SEX='F' );"
   ]
  },
  {
   "cell_type": "markdown",
   "id": "34106bf4-a1ae-49d3-bf3d-2613aabbc039",
   "metadata": {},
   "source": [
    "# Exercice 2 : Accès à plusieurs tables à l’aide de jointures implicites\n",
    "Problème:\n",
    "\n",
    "Effectuez une jointure cartésienne/croisée implicite entre les tables EMPLOYEES et JOBS."
   ]
  },
  {
   "cell_type": "markdown",
   "id": "53b11287-f1a4-4def-9f81-86ae4990f842",
   "metadata": {},
   "source": [
    "1. ### Problème:\n",
    "\n",
    "Effectuez une jointure cartésienne/croisée implicite entre les tables EMPLOYEES et JOBS."
   ]
  },
  {
   "cell_type": "code",
   "execution_count": null,
   "id": "c4066bb9-0ade-4348-911a-b80db55c6821",
   "metadata": {},
   "outputs": [],
   "source": [
    "select * from employees, jobs;"
   ]
  },
  {
   "cell_type": "markdown",
   "id": "f380e4bc-9343-4946-abe6-90d2bc7ca459",
   "metadata": {},
   "source": [
    "2. ### Problème:\n",
    "\n",
    "Récupérez uniquement les enregistrements EMPLOYEES qui correspondent aux tâches de la table JOBS."
   ]
  },
  {
   "cell_type": "code",
   "execution_count": null,
   "id": "059f5bc2-a3b5-4c32-bada-9d25738b2daf",
   "metadata": {},
   "outputs": [],
   "source": [
    "select * from employees, jobs where employees.JOB_ID = jobs.JOB_IDENT;"
   ]
  },
  {
   "cell_type": "markdown",
   "id": "c231e595-5e54-4b58-ba81-ad49201f9260",
   "metadata": {},
   "source": [
    "3. ### Problème:\n",
    "\n",
    "Rétablissez la requête précédente, en utilisant des alias plus courts pour les noms de table."
   ]
  },
  {
   "cell_type": "code",
   "execution_count": null,
   "id": "5fba88d6-abfe-42f0-8ea2-4205a6695b41",
   "metadata": {},
   "outputs": [],
   "source": [
    "select * from employees E, jobs J where E.JOB_ID = J.JOB_IDENT;"
   ]
  },
  {
   "cell_type": "markdown",
   "id": "46f0a145-f916-4400-bcac-220c01aed1ef",
   "metadata": {},
   "source": [
    "4. ### Problème:\n",
    "\n",
    "Répétez la requête précédente, mais récupérez uniquement l’ID de l’employé, le nom de l’employé et l’intitulé du poste."
   ]
  },
  {
   "cell_type": "code",
   "execution_count": null,
   "id": "47e8185c-3b2c-47cb-927f-cda64d44d382",
   "metadata": {},
   "outputs": [],
   "source": [
    "select EMP_ID,F_NAME,L_NAME, JOB_TITLE from employees E, jobs J where E.JOB_ID = J.JOB_IDENT;"
   ]
  },
  {
   "cell_type": "markdown",
   "id": "8fc37a8d-2f52-411b-80e9-b05471e96de2",
   "metadata": {},
   "source": [
    "5. ### Problème:\n",
    "\n",
    "Rétablissez la requête précédente, mais spécifiez les noms de colonne complets avec des alias dans la clause SELECT."
   ]
  },
  {
   "cell_type": "code",
   "execution_count": null,
   "id": "32cfbc68-f8f0-4859-a577-098c80805eec",
   "metadata": {},
   "outputs": [],
   "source": [
    "select E.EMP_ID,E.F_NAME,E.L_NAME, J.JOB_TITLE from employees E, jobs J where E.JOB_ID = J.JOB_IDENT;"
   ]
  },
  {
   "cell_type": "markdown",
   "id": "f407310c-72a3-46be-bcd0-a5a572aad760",
   "metadata": {},
   "source": [
    "# Résumé : Fonctions, tableaux multiples et sous-requêtesStatut : Traduit automatiquement de Anglais\n",
    "Traduit automatiquement de Anglais\n",
    "Nous vous félicitons ! Vous avez terminé cette leçon. À ce stade du cours, vous connaissez :\n",
    "\n",
    "- Les outils de gestion de base de données qui offrent des fonctions intégrées permettant d'effectuer des opérations sur les données au sein de la base de données elle-même.\n",
    "\n",
    "- Que lorsque vous travaillez avec de grands ensembles de données, vous pouvez gagner du temps en utilisant des fonctions intégrées plutôt que de récupérer d'abord les données dans votre application et d'exécuter ensuite des fonctions sur les données récupérées.\n",
    "\n",
    "- Vous pouvez utiliser des sous-requêtes pour former des requêtes plus puissantes qu'auparavant.\n",
    "\n",
    "- Vous pouvez utiliser une expression de sous-sélection pour évaluer certaines fonctions agrégées intégrées telles que la fonction moyenne.\n",
    "\n",
    "- Les tables dérivées ou les expressions de table sont des sous-requêtes dans lesquelles la requête externe utilise les résultats de la sous-requête comme source de données.\n"
   ]
  },
  {
   "cell_type": "markdown",
   "id": "d74a734a-156c-45e2-8555-9aa3707a78c3",
   "metadata": {},
   "source": [
    "# SEMEAINE 4"
   ]
  },
  {
   "cell_type": "markdown",
   "id": "f5de0b58-bb4e-491d-ba9d-724781cf101e",
   "metadata": {},
   "source": [
    "#  Comment accéder aux bases de données avec Python"
   ]
  },
  {
   "cell_type": "markdown",
   "id": "1d95fd5b-00ea-4cb7-b291-23abea6b98fb",
   "metadata": {},
   "source": [
    "Bonjour, dans cette vidéo, vous allez apprendre à accéder à des bases de données en Python. Les bases de données sont de puissants outils pour les data scientists. Après avoir terminé ce module, vous serez en mesure d'expliquer les concepts de base liés à l'utilisation de Python pour la connexion aux bases de données. Vous allez ensuite créer des tables, charger des données et interroger des données à l'aide de SQL à partir de Jupyter Notebooks , puis analyser les données. Au cours des travaux pratiques, vous apprendrez à créer une instance dans le cloud, à vous connecter à une base de données, à interroger les données de la base de données à l'aide de SQL et à analyser les données à l'aide de Python. Vous serez en mesure d'expliquer les concepts de base liés à la connexion d'une application Python à une base de données. Décrivez les API SQL et dressez la liste de certaines des API propriétaires utilisées par les systèmes DBMS SQL les plus courants. Passons rapidement en revue certains des avantages de l'utilisation de Python, un langage de script populaire pour la connexion aux bases de données. L'écosystème Python est très riche et fournit des outils faciles à utiliser pour la science des données. Certains des packages les plus populaires sont NumPy, pandas, matplotlib et SciPy. Python est facile à apprendre et possède une syntaxe simple. En raison de sa nature open source, Python a été porté sur de nombreuses plateformes. Tous vos programmes Python peuvent fonctionner sur n'importe laquelle de ces plateformes sans aucune modification. Si vous faites attention et évitez les fonctionnalités dépendantes du système, Python prend en charge les systèmes de bases de données relationnelles. L'écriture de code Python pour accéder aux bases de données est facilitée par la présence de l'API de base de données Python. Communément appelée API de base de données, la documentation détaillée relative à Python est facilement disponible. Les blocs-notes sont également très populaires dans le domaine de la science des données car ils fonctionnent dans un environnement qui permet de créer et de partager des documents contenant du code en direct, des équations, des visualisations et des textes explicatifs. Une interface de bloc-notes est un environnement de bloc-notes virtuel utilisé pour la programmation. Les exemples d'interfaces de bloc-notes incluent le bloc-notes Mathematica, la feuille de travail Maple, le bloc-notes Matlab, IPython Jupyter, R Markdown, Apache Zeppelin, le bloc-notes Apache Spark et le cloud Databricks. Dans ce module, nous utiliserons les blocs-notes Jupyter. Le bloc-notes Jupyter est une application Web open source qui vous permet de créer et de partager des documents contenant du code en direct, des équations, des visualisations et des textes narratifs. Voici quelques-uns des avantages de l'utilisation des ordinateurs portables Jupyter. Support portable pour plus de 40 langages de programmation, dont Python , R, Julia et Scala. Les blocs-notes peuvent être partagés avec d'autres personnes par e-mail, Dropbox, GitHub et via la visionneuse de blocs-notes Jupyter. Votre code peut produire du HTML interactif riche, des images, des vidéos, du LaTeX et des types personnalisés. Vous pouvez tirer parti d'outils de mégadonnées tels qu'Apache Spark à partir de Python, R et Scala, et explorer ces mêmes données avec pandas, scikit-learn, ggplot2 et TensorFlow. C'est ainsi qu'un utilisateur typique accède aux bases de données à l'aide de code Python écrit sur un bloc-notes Jupyter, un éditeur Web. Il existe un mécanisme par lequel le programme Python communique avec le SGBD. Le code Python se connecte à la base de données à l'aide d'appels d'API. Nous expliquerons les bases des API SQL et des API de base de données Python. Une interface de programmation d'applications est un ensemble de fonctions que vous pouvez appeler pour accéder à un type de service. L'API SQL consiste en des appels de fonctions de bibliothèque en tant qu'interface de programmation d'applications, API, pour le SGBD. Pour transmettre des instructions SQL au SGBD, un programme d'application appelle des fonctions dans l'API, et il appelle d'autres fonctions pour récupérer les résultats des requêtes et les informations d'état du SGBD. Le fonctionnement de base d'une API SQL classique est illustré dans la figure. Le programme d'application commence son accès à la base de données par un ou plusieurs appels d'API qui connectent le programme au SGBD. Pour envoyer l'instruction SQL au SGBD, le programme construit l'instruction sous forme de chaîne de texte dans une mémoire tampon, puis effectue un appel d'API pour transmettre le contenu de la mémoire tampon au SGBD. Le programme d'application effectue des appels d'API pour vérifier l'état de sa demande DBMS et pour gérer les erreurs. Le programme d'application met fin à son accès à la base de données par un appel d'API qui le déconnecte de la base de données. Maintenant, nous allons apprendre les concepts de base sur certaines des API propriétaires utilisées par les systèmes DBMS populaires basés sur SQL. Chaque système de base de données possède sa propre bibliothèque. Comme vous pouvez le constater, le tableau présente une liste de quelques applications et des API SQL correspondantes. L'API MySQL C fournit un accès de bas niveau au protocole client-serveur MySQL et permet aux programmes C d'accéder au contenu de la base de données. L'API psycopg2 connecte les applications Python aux bases de données PostgreSQL. L'API IBM_DB est utilisée pour connecter des applications Python aux bases de données IBM DB2. L'API dblib est utilisée pour se connecter aux bases de données SQL Server. ODBC est utilisé pour accéder aux bases de données pour le système d'exploitation Microsoft Windows. L'OCI est utilisé par les bases de données Oracle. Enfin, JDBC est utilisé par les applications Java. Merci d'avoir regardé cette vidéo."
   ]
  },
  {
   "cell_type": "markdown",
   "id": "f0126b48-526e-4998-b2bc-7a3769622fa8",
   "metadata": {},
   "source": [
    "# Écrire du code à l'aide de l'interface DB-API"
   ]
  },
  {
   "cell_type": "markdown",
   "id": "9983b80e-d0e1-4e2d-b39b-235177ca8ca2",
   "metadata": {},
   "source": [
    "Bonjour et bienvenue dans l'écriture de code à l'aide de DB-API. Après avoir terminé cette vidéo, vous serez en mesure d'expliquer les concepts de base liés à l' API DB Python et aux curseurs de base de données, et également d'écrire du code à l'aide de DB-API. Comme nous l'avons vu au début de ce module, l'utilisateur écrit des programmes Python à l'aide d'un Jupyter Notebook. Il existe un mécanisme par lequel le code Python communique avec le SGBD. Le code Python se connecte à la base de données à l'aide d'appels d'API DB. L'API DB est une API standard Python permettant d' accéder aux bases de données relationnelles. Il s'agit d'une norme qui vous permet d'écrire un seul programme qui fonctionne avec plusieurs types de bases de données relationnelles au lieu d'écrire un programme distinct pour chacune d'entre elles. Si vous apprenez les fonctions DB-API, vous pouvez appliquer ces connaissances pour utiliser n'importe quelle base de données avec Python. Voici quelques avantages liés à l'utilisation de la DB-API. Il est facile à mettre en œuvre et à comprendre. Cette API a été définie pour favoriser la similitude entre les modules Python utilisés pour accéder aux bases de données. Il assure une cohérence qui rend les modules plus faciles à comprendre. Le code est généralement plus portable d' une base de données à l'autre, et sa portée de connectivité aux bases de données est plus étendue depuis Python. Comme nous le savons, chaque système de base de données possède sa propre bibliothèque. Comme vous pouvez le voir, le tableau présente une liste de quelques bases de données et des API DB correspondantes pour se connecter aux applications Python. La bibliothèque IBM Underscore DB est utilisée pour se connecter à une base de données IBM DB2. La bibliothèque Python du connecteur MySQL est utilisée pour se connecter à une base de données Compose depuis MySQL. La bibliothèque psychopg2 est utilisée pour se connecter à une composition depuis la base de données PostgreSQL. Enfin, la bibliothèque PyMongo est utilisée pour se connecter à une base de données Compose from Mongo DB. Les deux principaux concepts de la DB-API Python sont les objets de connexion et les objets de requête. Vous utilisez des objets de connexion pour vous connecter à une base de données et gérer vos transactions. Les objets Cursor sont utilisés pour exécuter des requêtes. Vous ouvrez un objet curseur, puis vous exécutez des requêtes. Le curseur fonctionne de la même manière qu'un curseur dans un système de traitement de texte, dans lequel vous faites défiler votre ensemble de résultats vers le bas et insérez vos données dans l'application. Les curseurs sont utilisés pour parcourir les résultats d'une base de données. La DB-API inclut un constructeur de connexion permettant de créer une connexion à la base de données. Elle renvoie un objet de connexion qui est ensuite utilisé par les différentes méthodes de connexion. Ces méthodes de connexion sont la méthode curseur, qui renvoie un nouvel objet curseur à l'aide de la connexion. La méthode commit, qui est utilisée pour valider toute transaction en attente dans la base de données. La méthode d'annulation, qui fait revenir la base de données au début de toute transaction en attente. La méthode close, qui est utilisée pour fermer une connexion à une base de données. Ces objets représentent un curseur de base de données utilisé pour gérer le contenu d'une opération de récupération. Les curseurs créés à partir de la même connexion ne sont pas isolés. En d'autres termes, toute modification apportée à la base de données par un curseur est immédiatement visible par les autres curseurs. Les curseurs créés à partir de différentes connexions peuvent ou ne peuvent pas être isolés en fonction de la manière dont le support des transactions est implémenté. Un curseur de base de données est une structure de contrôle qui permet de passer en revue les enregistrements d'une base de données de manière transversale. Il se comporte comme un nom de fichier ou un descripteur de fichier dans un langage de programmation. Tout comme un programme ouvre un fichier pour accéder à son contenu, il ouvre un curseur pour accéder aux résultats de la requête. De même, le programme ferme un fichier pour mettre fin à son accès et ferme un curseur pour mettre fin à l'accès aux résultats de la requête. Une autre similitude est que, tout comme le descripteur de fichier enregistre la position actuelle du programme dans un fichier ouvert, un curseur garde une trace de la position actuelle du programme dans les résultats de la requête. Passons en revue une application Python qui utilise l'API DB pour interroger une base de données. Tout d' abord, vous importez votre module de base de données à l'aide de l'API de connexion de ce module. Pour ouvrir une connexion à la base de données, vous utilisez le constructeur de connexion et vous transmettez les paramètres, à savoir le nom de la base de données, le nom d'utilisateur et le mot de passe. La fonction connect renvoie l'objet de connexion. Ensuite, vous créez un objet curseur sur l'objet de connexion. Le curseur est utilisé pour exécuter des requêtes et récupérer les résultats après avoir exécuté les requêtes à l'aide du curseur. Nous utilisons également le curseur pour récupérer les résultats de la requête. Enfin, lorsque le système a terminé d'exécuter les requêtes, il libère toutes les ressources en fermant la connexion. N'oubliez pas qu'il est toujours important de fermer les connexions pour éviter que les connexions inutilisées n'accaparent des ressources. Merci d'avoir regardé cette vidéo."
   ]
  },
  {
   "cell_type": "markdown",
   "id": "5a6c102a-dc77-414d-a55f-787bc42591cd",
   "metadata": {},
   "source": [
    "# Accès aux bases de données avec SQL Magic"
   ]
  },
  {
   "cell_type": "markdown",
   "id": "21d1a852-4460-4288-962e-8ea46439d631",
   "metadata": {},
   "source": [
    "Bonjour et bienvenue dans cette vidéo sur l' accès aux bases de données à l'aide de SQL Magic. Dans cette vidéo, vous découvrirez ce que sont les instructions magiques, la différence entre la magie linéaire et la magie cellulaire, certaines instructions magiques couramment utilisées et comment utiliser SQL Magic dans les bases de données d'accès aux Jupyter Notebooks. Que sont les déclarations magiques contenues dans les blocs-notes Jupyter ? Les commandes magiques ou fonctions magiques sont des commandes spéciales des blocs-notes Jupyter qui fournissent des fonctionnalités spéciales. Il ne s'agit pas d'un code Python valide mais il affecte le comportement du bloc-notes. Ils sont conçus pour résoudre divers problèmes courants liés à l'analyse de données standard. Il existe deux types de déclarations magiques dans les Jupyter Notebooks, Line Magics et Cell Magics. Dans les blocs-notes Jupyter, les commandes Line Magic sont précédées d'un caractère de pourcentage unique et fonctionnent sur une seule ligne de saisie. Ils sont similaires à des appels de ligne de commande dans un terminal shell. D'autre part, les Cell Magics sont préfixés par deux caractères de pourcentage et fonctionnent sur plusieurs lignes de saisie. Ils peuvent même transformer la cellule entière ou exécuter la cellule dans un langage de programmation différent. Quelques Line Magics couramment utilisés dans les carnets Jupyter, %pwd. Cette commande imprime le répertoire de travail actuel. Le pourcentage est que cette commande répertorie tous les fichiers du répertoire actuel. Historique des pourcentages. Cette commande affiche l'historique des commandes. Réinitialisation du pourcentage. Cette commande réinitialise l'espace de noms en supprimant tous les noms définis par l'utilisateur. Pourcentage qui. Cette commande répertorie toutes les variables de l'espace de noms. Pourcentage, qui. Cette commande fournit des informations plus détaillées sur toutes les variables de l'espace de noms. Pourcentage de matplotlib en ligne. Cette commande fait apparaître les tracés matplotlib dans le bloc-notes. Pourcentage de timeit, qui multiplie l'exécution d'une seule instruction. Pour obtenir une liste de toutes les magies de ligne disponibles, vous pouvez utiliser la commande « pourcentage is magic ». Vous pouvez utiliser la magie de plusieurs lignes dans une seule cellule d'un bloc-notes Jupiter. Chaque ligne magique doit se trouver sur sa propre ligne. Par exemple, pourcentage par personne, le pourcentage est. Cela imprimera le répertoire de travail actuel , puis listera tous les fichiers qu'il contient. N'oubliez pas que la magie linéaire fonctionne sur une seule ligne d'entrée. Vous pouvez en utiliser autant que vous le souhaitez dans une seule cellule si chacune se trouve sur sa propre ligne. Certaines instructions de magie linéaire peuvent également être utilisées comme instructions de magie cellulaire, ce qui modifierait la façon dont elles répondent. Par exemple, le pourcentage de temps pendant lequel il générerait une réponse avec le temps requis pour exécuter une seule instruction. Alors que le pourcentage de temps est multiplié par l'exécution de la cellule entière.\n",
    "Lisez la vidéo à partir de :2:57 et suivez la transcription2:57\n",
    "Writefile est un autre exemple où la magie cellulaire s'applique de manière unique. Puisque le pourcentage écrit le fichier, mon fichier .text écrit le contenu de la cellule dans le texte de mon fichier. La magie cellulaire ne se limite pas à Python, elle vous permet également d'exécuter du code dans d'autres langages. Voyons quelques exemples. La magie des cellules HTML en pourcentage et en pourcentage vous permet d'écrire du code HTML dans votre cellule, et il sera rendu en conséquence. Par exemple, l'utilisation du code HTML affiche le texte Hello World comme titre, pourcentage de Javascript en pourcentage ou pourcentage de pourcentage JS Cell magic vous permet d'écrire du code Javascript dans votre cellule. Par exemple, l'utilisation de code Javascript génère une page Web contextuelle avec le message d'affichage Hello World. Pourcentage de pourcentage Bash Cell Magic vous permet d'écrire des commandes bash. Par exemple, l'utilisation de l' instruction de script bash echo génère le texte Hello world tel qu'il sera reçu dans un terminal. Avant de pouvoir utiliser SQL Magic , vous devez toutefois installer certaines dépendances.\n",
    "Lisez la vidéo à partir de :4:9 et suivez la transcription4:09\n",
    "Tout d'abord, installez la bibliothèque IPython_SQL, qui permet la magie du SQL. Vous pouvez le faire en exécutant exclamation pip, install- IPython SQL dans une cellule de code d'un bloc-notes. Ensuite, pour utiliser SQL Magic dans Jupyter Notebook, vous devez charger l'extension SQL à l' aide du pourcentage load_ext SQL. Vous pouvez ensuite exécuter des requêtes SQL en saisissant Pourcentage SQL ou Pourcentage SQL selon que vous souhaitez utiliser la magie des lignes ou des cellules. Avant d'exécuter les requêtes, vous devez toutefois établir une connexion entre le serveur SQL et le module SQL Magic du bloc-notes. À titre d'exemple, examinons l'utilisation de SQL Magic avec le serveur de base de données SQL Lite3. Nous devons d'abord établir une connexion à une base de données, par exemple HR.db à l'aide de SQL Lite3. Ensuite, vous chargez le module SQL externe à l'aide de %load_extsql.\n",
    "Lisez la vidéo à partir de :5:12 et suivez la transcription5:12\n",
    "Vous devez maintenant établir une connexion entre le module magique SQL et le serveur SQL auquel vous accédez. Cela se fait à l'aide de l'instruction %sql sqllite : \\ \\ \\ hRdb.\n",
    "Lisez la vidéo à partir de :5:30 et suivez la transcription5:30\n",
    "Vous pouvez maintenant utiliser la magie SQL pour exécuter n'importe quel type de requête sur la table. Un exemple est présenté ici pour afficher le contenu de la table des employés dans la base de données RH. Répertorions les concepts que vous avez appris. Vous pouvez maintenant décrire des phrases magiques, différencier la magie linéaire et la magie cellulaire. Discutez de certaines instructions magiques couramment utilisées, expliquez l'utilisation de SQL Magic dans les blocs-notes Jupyter pour accéder aux bases de données."
   ]
  },
  {
   "cell_type": "markdown",
   "id": "f02b552a-7bc2-4448-9518-b721a1fb36bb",
   "metadata": {},
   "source": [
    "# Analyser des données avec Python"
   ]
  },
  {
   "cell_type": "markdown",
   "id": "f22b2594-af6f-4287-8b85-767a78f32cbc",
   "metadata": {},
   "source": [
    "[MUSIQUE] Bonjour et bienvenue dans cette vidéo sur l'analyse de données avec Python. Après avoir visionné cette vidéo, vous serez en mesure de décrire comment concevoir un laboratoire pratique, d'expliquer comment créer les principales parties d'un laboratoire pratique et de décrire les laboratoires pédagogiques et les outils d'apprentissage, l'interopérabilité ou les laboratoires LTI. Dans cette vidéo, nous utiliserons les données nutritionnelles du menu McDonald's pour les plats populaires de McDonald's tout en utilisant Python pour effectuer une analyse exploratoire de base. McDonald's est une entreprise américaine de restauration rapide et la plus grande chaîne de restaurants au monde en termes de chiffre d'affaires. Bien que McDonald's soit connue pour ses produits de restauration rapide tels que les hamburgers, les frites, les boissons gazeuses, les milkshakes et les desserts, l'entreprise a ajouté à son menu des salades, des smoothies au poisson et des fruits. McDonald's fournit une analyse nutritionnelle des éléments de son menu pour vous aider à équilibrer votre repas McDonald's avec les autres aliments que vous consommez. L'ensemble de données utilisé dans cette leçon a été obtenu à partir des informations nutritionnelles du menu McDonald's de Kaggle. Nous devons créer une table de base de données sur un serveur SQL pour stocker l' ensemble de données nutritionnelles du menu McDonald's que nous allons utiliser. Nous pouvons utiliser SQLite 3, une bibliothèque Python en cours de traitement qui implémente un moteur de base de données SQL transactionnel autonome, sans serveur et sans configuration. Nous pouvons lire le fichier CSV de la base de données à l'aide de la fonction pandas.read_csv sur une variable, par exemple des données. Ensuite, la connexion à une base de données McDonald's DB peut être établie à l'aide de la fonction sqlite3.connect et en enregistrant l'objet de connexion dans une variable, par exemple conn. Le contenu des données variables peut ensuite être chargé sous forme de table dans la base de données McDonald's DB à l'aide de la fonction d'attribut 2_sql des données variables pandas. Dans l'exemple présenté ici, le contenu du fichier CSV est désormais disponible sous forme de table MCDONALDS_NUTRITION, qui peut désormais être interrogée selon les besoins. Voyons maintenant comment utiliser les pandas pour récupérer des données à partir des tables de la base de données. Pour ce faire, nous chargeons les données de la table MCDONALDS_NUTRITION dans le bloc de données, df, à l'aide de la méthode read_sqlmethod. La requête SQL Select et l'objet de connexion sont ensuite transmis en tant que paramètres à read_sqlmethod. Nous pouvons visualiser les premières lignes du bloc de données, df, que nous avons créé à l'aide de la méthode head. Il est maintenant temps d'en savoir plus sur vos données. Les méthodes de Panda sont équipées d'un ensemble de méthodes mathématiques et statistiques courantes. Utilisons la méthode describe pour afficher les statistiques récapitulatives des données du bloc de données, puis explorons le résultat de la méthode describe. Nous constatons qu'il y a 260 observations ou produits alimentaires dans notre base de données. Nous constatons également qu'il existe neuf catégories uniques de produits alimentaires dans notre base de données. Nous pouvons également consulter des informations statistiques récapitulatives telles que la fréquence, la moyenne, la médiane, l'écart type, etc., pour les 260 produits alimentaires selon les différentes variables. Par exemple, la valeur maximale de la matière grasse totale est de 118. Examinons ces données de manière plus approfondie. Essayons de comprendre l'un des nutriments contenus dans les aliments, à savoir le sodium. Le sel de table est l'une des principales sources de sodium. L'Américain moyen mange cinq cuillères à café ou plus de sel par jour. C'est environ 20 fois ce dont le corps a besoin. Le sodium se trouve naturellement dans les aliments, mais une grande partie est ajoutée lors de la transformation et de la préparation. De nombreux aliments qui n'ont pas de goût salé peuvent tout de même contenir beaucoup de sodium. De grandes quantités de sodium peuvent être cachées dans des aliments en conserve, transformés et pratiques. Le sodium régule l'équilibre des fluides dans notre corps et maintient le volume sanguin et la tension artérielle. Une consommation excessive de sodium peut augmenter la tension artérielle et provoquer une rétention d'eau, ce qui peut entraîner un gonflement des jambes et des pieds ou d'autres problèmes de santé. Lorsque vous limitez le sodium dans votre alimentation, un objectif courant est de consommer moins de 2 000 milligrammes de sodium par jour. À présent, à l'aide de l'ensemble de données nutritionnelles de McDonald's, effectuons une analyse des données de base pour répondre à la question suivante : quel aliment a la teneur maximale en sodium ? Nous utilisons d'abord la visualisation pour explorer la teneur en sodium des aliments. À l'aide de la méthode du diagramme Swarm fournie par le package seaborne, nous créons un diagramme de dispersion catégoriel, comme illustré à droite. Indiquez ensuite comme catégorie d'entrée sur l'axe des X le sodium sur l'axe des Y et les données seront le cadre de données, df qui contient l'ensemble de données nutritionnelles de McDonald's. Le graphique montre les valeurs de sodium des différents produits alimentaires par catégorie. Notez une valeur élevée d'environ 3 600 pour le sodium sur le diagramme de dispersion. Nous aborderons les visualisations plus loin dans ce module. Explorons plus en détail cette teneur élevée en sodium et déterminons quels aliments du menu ont cette valeur en sodium. Faisons une analyse des données de base à l'aide de Python pour déterminer quels aliments du menu ont une teneur maximale en sodium. Pour vérifier les valeurs des niveaux de sodium dans les produits alimentaires de l'ensemble de données, nous utilisons le code indiqué dans le code 1. La méthode describe est utilisée pour comprendre les statistiques sommaires associées au sodium. Notez que la valeur maximale du sodium est fixée à 3600. Examinons maintenant plus en détail la ligne associée à la variable maximale en sodium, comme indiqué dans le code 2. Nous utilisons la méthode IDX max pour calculer les valeurs d'indice auxquelles la valeur maximale de sodium est obtenue dans la trame de données. Nous voyons que la sortie est de 82. Trouvons maintenant le nom de l'élément associé au 82e élément dans notre bloc de données, comme indiqué dans le code 3. Nous utiliserons la méthode dot at pour trouver le nom de l'élément en passant l'index 82 et l'élément du nom de colonne à renvoyer pour la 82e ligne. Enfin, nous constatons que l'aliment du menu qui contient le plus de sodium est le poulet McNuggets, 40 pièces. Les visualisations sont très utiles pour l'exploration initiale des données. Ils peuvent nous aider à comprendre les relations, les modèles et les valeurs aberrantes dans les données. Créons d'abord un diagramme de dispersion avec les protéines sur l'axe des X et le total des graisses sur l'axe des Y. Les diagrammes de dispersion sont des outils de visualisation très populaires qui montrent la relation entre deux variables avec un point pour chaque observation. Pour ce faire, nous pouvons utiliser la fonction de graphique conjoint fournie par le package Seaborne et donner comme entrée les protéines sur l'axe des X et les graisses totales sur l'axe des Y. Les données figureront dans le cadre de données, df, qui contient l'ensemble de données nutritionnelles de McDonald's. Le diagramme de dispersion des résultats est affiché sur le côté droit. L'intrigue a une forme intéressante. Il montre la corrélation entre les deux variables, les protéines et les graisses. La corrélation est une mesure de l'association entre deux variables et a une valeur comprise entre moins 1 et plus 1. Nous voyons que les points du diagramme de dispersion sont plus proches d'une ligne droite dans le sens positif. Nous avons donc une corrélation positive entre les deux variables. Dans le coin supérieur droit du diagramme de dispersion, nous avons les valeurs de la corrélation de Pearson 0,81 et la signification de la corrélation notée P, qui est une bonne valeur qui montre que les variables sont certainement corrélées. Le graphique montre également deux histogrammes, l'un en haut et l'autre sur le côté droit. L'histogramme du haut est celui de la variable protéine, et l'histogramme du côté droit est celui de la variable matière grasse totale. Nous remarquons également qu'il y a un point sur le diagramme de dispersion en dehors du schéma général. Il s'agit d'une exception possible. Voyons maintenant comment visualiser les données à l'aide de diagrammes à cases. Les diagrammes à cases sont des diagrammes qui indiquent la distribution d'une ou de plusieurs variables. L'encadré d'un diagramme à cases capture la moitié médiane des données. Les lignes et les points indiquent une éventuelle asymétrie et des valeurs aberrantes. Créons un diagramme à boîtes pour le sucre. La fonction que nous allons utiliser est le box plot du package Seaborne. Nous donnons le nom de colonne sucres en entrée à la fonction Box Plot. Le résultat est affiché sur le côté droit, où nous avons le diagramme à cases avec des valeurs moyennes de sucre dans les produits alimentaires d'environ 30 grammes. Nous remarquons également quelques valeurs aberrantes qui indiquent des produits alimentaires contenant des teneurs en sucre extrêmes. L' ensemble de données contient des produits alimentaires dont la teneur en sucre est d'environ 128 grammes. Les bonbons peuvent faire partie de ces aliments à haute teneur en sucre du menu. >> Intervenant 2 : Vous savez maintenant que SQLite 3 est une bibliothèque Python en cours de traitement qui implémente un moteur de base de données SQL transactionnel autonome sans configuration sans serveur. La fonction pandas.read_csv est utilisée pour lire le fichier csv de la base de données. La fonction de connexion SQLite 3 est utilisée pour se connecter à une base de données. Pour utiliser des pandas afin de récupérer des données à partir des tables de base de données, chargez les données à l'aide de la méthode read_sql et sélectionnez la requête SQL Select. Un diagramme de dispersion catégoriel est créé à l'aide de la méthode swarmplot () par le package seaborne. [MUSIQUE]"
   ]
  },
  {
   "cell_type": "markdown",
   "id": "87090520-2944-4ddc-9e37-865a76ad0057",
   "metadata": {},
   "source": [
    "# Résumé : Accès aux bases de données avec PythonStatut : Traduit automatiquement de Anglais\n",
    "Traduit automatiquement de Anglais\n",
    "Nous vous félicitons ! Vous avez terminé cette leçon. À ce stade du cours, vous savez :\n",
    "\n",
    "- Les commandes magiques sont des commandes spéciales qui offrent des fonctionnalités particulières.\n",
    "\n",
    "- Les commandes magiques cellulaires sont des commandes préfixées par deux caractères %% et fonctionnent sur plusieurs lignes d'entrée.\n",
    "\n",
    "- Les DB API sont des commandes préfixées par deux caractères %% et fonctionnant sur plusieurs lignes de saisie.\n",
    "\n",
    "- Les deux principaux concepts de l'API DB de Python sont les objets de connexion et les objets de requête.\n",
    "\n",
    "- Un curseur de base de données est une structure de contrôle qui permet de parcourir les enregistrements d'une base de données.\n",
    "\n",
    "- Les méthodes Pandas sont dotées de méthodes mathématiques et statistiques courantes.\n",
    "\n",
    "- La fonction pandas.read_csv est utilisée pour lire le fichier CSV de la base de données.\n",
    "\n",
    "- La fonction SQLite3.connect est utilisée pour se connecter à une base de données.\n",
    "\n",
    "- Pour utiliser pandas afin d'extraire des données des tables de la base de données, chargez les données à l'aide de la méthode read_sql et sélectionnez la requête SQL Select Query\n",
    "\n",
    "- Un nuage de points catégoriel est créé à l'aide de la méthode swarmplot() du package seaborn."
   ]
  },
  {
   "cell_type": "markdown",
   "id": "7b5eafc6-dbb1-495c-a9c5-b66b27c91c2f",
   "metadata": {},
   "source": [
    "# Connexion à une base de données à l'aide de l'API ibm_db"
   ]
  },
  {
   "cell_type": "markdown",
   "id": "6c4d9ac6-230f-4638-925b-af97d907cda3",
   "metadata": {},
   "source": [
    "Bonjour, et bienvenue pour vous connecter à une base de données à l'aide de l'API ibm_db. Après avoir terminé cette leçon, vous serez en mesure de comprendre l'API ibm_db, ainsi que les informations d'identification requises pour vous connecter à une base de données en utilisant Python. Nous allons également montrer comment se connecter à une base de données IBM DB2 en utilisant du code Python écrit sur un ordinateur portable Jupyter. L' API ibm_db fournit une variété de fonctions Python utiles pour accéder et manipuler des données dans une base de données de serveur de données IBM, y compris des fonctions pour la connexion à une base de données, la préparation et l'émission d'instructions SQL, la récupération de lignes à partir de jeux de résultats, l'appel de procédures stockées, la validation et l'annulation des transactions, la gestion des erreurs et la récupération des métadonnées. L' API ibm_db utilise le pilote IBM Data Server pour ODBC et les API CLI pour se connecter à IBM, DB2 et Informix. Nous importons la bibliothèque ibm_db dans notre application Python. La connexion au DB2 nécessite les informations suivantes : un nom de pilote, un nom de base de données, un nom DNS hôte ou une adresse IP, un port hôte, un protocole de connexion, un ID utilisateur et un mot de passe utilisateur. Voici un exemple de création d'une connexion de base de données DB2 en Python. Nous créons un objet de connexion DSN, qui stocke les informations d'identification de connexion. La fonction connect de l'API ibm_db sera utilisée pour créer une connexion non persistante. L' objet DSN est transmis en tant que paramètre à la fonction de connexion. Si une connexion a été établie avec la base de données, le code retourne connecté, comme la sortie sinon, la sortie ne pourra pas se connecter à la base de données. Ensuite, nous libérons toutes les ressources en fermant la connexion. Rappelez-vous qu'il est toujours important de fermer les connexions afin d'éviter que les connexions inutilisées ne prennent des ressources. Merci d'avoir regardé cette vidéo."
   ]
  },
  {
   "cell_type": "raw",
   "id": "48a01d0b-d372-488c-8391-a0b584469220",
   "metadata": {},
   "source": [
    "il y'a eu des lab pratique notamment DB0201EN....Connecting"
   ]
  },
  {
   "cell_type": "markdown",
   "id": "55e0f6d3-aa29-4650-b0b1-2795ef31fe21",
   "metadata": {},
   "source": [
    "# Création de tables, chargement de données et interrogation de données"
   ]
  },
  {
   "cell_type": "markdown",
   "id": "89705dd9-beec-4f97-9569-dbf8c8b40cfc",
   "metadata": {},
   "source": [
    "Bonjour, et bienvenue pour créer des tables, charger des données et interroger des données. Après avoir terminé cette leçon, vous serez en mesure de comprendre les concepts de base liés à la création de tables, au chargement de données et à l'interrogation de données à l'aide de Python, ainsi que de montrer un exemple de la façon d'effectuer ces tâches à l'aide de la base de données IBM DB2 on Cloud et des ordinateurs portables Jupyter. Pour cet exemple, nous utiliserons DB2 comme base de données. Nous obtenons d'abord une ressource de connexion en se connectant à la base de données en utilisant la méthode connect de l'API ibm_db. Il existe différentes façons de créer des tables dans DB2. L' une utilise la console Web fournie par DB2 et l'autre option consiste à créer des tables à partir de n'importe quel environnement SQL, R ou Python. Jetons un coup d'oeil à la façon de créer des tables dans DB2 à partir de notre application Python. Voici un exemple de tableau d'une base de données de camions commerciaux. Voyons comment nous pouvons créer la table Trucks dans le DB2 en utilisant le code Python. Pour créer une table, nous utilisons la fonction ibm_db.exec_immediate. Les paramètres de la fonction sont la connexion, qui est une ressource de connexion de base de données valide qui est renvoyée à partir de l'instruction de fonction ibm_db.connect ou ibm_db.pconnect, qui est une chaîne contenant l'instruction SQL, et des options qui est un paramètre facultatif qui inclut un qui spécifie le type de curseur à renvoyer pour les jeux de résultats. Voici le code pour créer une table appelée Trucks en Python. Nous utilisons la fonction ibm_db.exec_immediate de l'api ibm_db. La ressource de connexion créée est passée en tant que premier paramètre à cette fonction. Le paramètre suivant est l'instruction SQL, qui est la requête Créer une table utilisée pour créer la table Trucks. La nouvelle table créée aura cinq colonnes, serial_no sera la clé primaire. Maintenant, jetons un coup d'oeil au chargement des données. Nous utilisons la fonction ibm_db.exec_immediate de l'api ibm_db. La ressource de connexion créée est passée en tant que premier paramètre à cette fonction. Le paramètre suivant est l'instruction SQL, qui est l'insertion dans la requête utilisée pour insérer des données dans la table Trucks. Une nouvelle ligne sera ajoutée à la table Trucks. De même, nous ajoutons d'autres lignes à la table Trucks en utilisant la fonction ibm_db.exec_immediate. Maintenant que votre code Python a été connecté à une instance de base de données et que la table de base de données a été créée et remplie avec des données, voyons comment nous pouvons récupérer des données de la table Trucks que nous avons créée sur DB2 en utilisant du code Python. Nous utilisons la fonction ibm_db.exec_immediate de l'api ibm_db. La ressource de connexion créée est passée en tant que premier paramètre à cette fonction. Le paramètre suivant est l'instruction SQL, qui est la requête select from table. Le code Python renvoie la sortie, qui affiche les champs des données dans la table Trucks. Vous pouvez vérifier si la sortie renvoyée par la requête select affichée est correcte, en vous référant à la console DB2. Regardons comment nous pouvons utiliser les pandas pour récupérer des données des tables de base de données. Pandas est une bibliothèque Python populaire qui contient des structures de données de haut niveau et des outils de manipulation conçus pour rendre l'analyse des données rapide et facile en Python. Nous chargeons les données de la table Trucks dans un bloc de données appelé DF. Un bloc de données représente une structure de données tabulaire semblable à une feuille de calcul contenant une collection ordonnée de colonnes, dont chacune peut être un type de valeur différent. Merci de regarder cette vidéo."
   ]
  },
  {
   "cell_type": "markdown",
   "id": "626552b2-4a8b-496e-ae55-a37cbb857335",
   "metadata": {},
   "source": [
    "# SEMAINE 5"
   ]
  },
  {
   "cell_type": "markdown",
   "id": "d64fa3f2-9879-47d1-8626-ddbcbb7c1810",
   "metadata": {},
   "source": [
    "# Travailler avec des ensembles de données réelles"
   ]
  },
  {
   "cell_type": "markdown",
   "id": "f554fa68-6495-40cb-8639-b9cc201a209c",
   "metadata": {},
   "source": [
    "[MUSIQUE] Bonjour et bienvenue. Dans cette vidéo, nous vous donnerons quelques conseils et astuces pour travailler avec des ensembles de données du monde réel. Ce que tu vas apprendre. À la fin de cette vidéo, vous pourrez discuter du format des données dans les bases de données. Expliquez comment charger des données dans des bases de données. De nombreux ensembles de données du monde réel sont disponibles sous forme de fichiers CSV. Il s'agit de fichiers texte qui contiennent des valeurs de données généralement séparées par des virgules. Dans certains cas, un séparateur différent, tel qu'un point-virgule, peut être utilisé. Pour cette vidéo, nous allons utiliser un exemple de fichier appelé DOGS.csv. Bien qu'il s'agisse d'un ensemble de données fictif contenant les noms des chiens et de leurs races, nous l'utiliserons pour illustrer des concepts que vous appliquerez ensuite à des ensembles de données réels.\n",
    "Lisez la vidéo à partir de ::54 et suivez la transcription0:54\n",
    "Un exemple de contenu du fichier DOGS.csv est présenté ici. Dans de nombreux cas, la première ligne du tableau contient des étiquettes d'attributs qui correspondent aux noms de colonnes d'un tableau. Dans DOGS.csv, la première ligne contient les noms de trois attributs. ID est le nom du premier attribut et les lignes suivantes contiennent les valeurs d'ID 1, 2 et 3. Le nom du chien est le deuxième attribut. Dans ce cas, il a les valeurs Wolfie, Fluffy et Huggy, et le troisième attribut est appelé race, race dominante, sinon une race pure, il a des valeurs allemandes, bergères, poméraniennes et labradoriennes. Comme nous l'avons vu dans le fichier DOGS.csv, les fichiers CSV peuvent avoir la première ligne d'en-tête ou une ligne d'en-tête contenant les noms des attributs. Si vous chargez les données dans des bases de données à l'aide de l'outil phpMyAdmin lors de l'importation du fichier CSV dans votre base de données, naviguez jusqu'au fichier pour le télécharger.\n",
    "Lisez la vidéo à partir de :1:56 et suivez la transcription1:56\n",
    "Ensuite, sélectionnez CSV dans la liste déroulante de la section Format.\n",
    "Lisez la vidéo à partir de :2:2 et suivez la transcription2:02\n",
    "Cela générera une section intitulée Options spécifiques au format.\n",
    "Lisez la vidéo à partir de :2:7 et suivez la transcription2:07\n",
    "En bas, vous verrez une case à cocher indiquant que la première ligne du fichier contient les noms des colonnes du tableau. Pour un fichier CSV avec en-têtes, vous pouvez cocher cette case avant de cliquer sur le bouton OK. MySQL détectera automatiquement les noms d'en-tête en tant que noms de colonnes et traitera , créera et insérera des instructions appropriées pour renseigner les données de la table. Le nom par défaut de la table est conservé comme nom du fichier en minuscules. Comme le montre l'exemple présenté, les noms de colonnes peuvent souvent comporter des espaces et, éventuellement, des caractères spéciaux dans les noms de colonnes des données. Pour interroger de telles colonnes, il est souvent courant d'utiliser des backticks autour du nom de la colonne. Notez que l'utilisation de toute autre forme de guillemets, comme les guillemets simples ou doubles, ne fonctionnera pas avec les noms de colonnes. Si vous avez des requêtes très longues telles que des requêtes de jointure ou des requêtes imbriquées, il peut être utile de scinder la requête en plusieurs lignes pour une meilleure lisibilité. Dans les blocs-notes Python, vous pouvez utiliser la barre oblique inverse pour indiquer le passage à la ligne suivante, comme illustré dans cet exemple, en utilisant la magie des lignes. Vous pouvez obtenir une erreur si vous divisez la requête en plusieurs lignes dans un bloc-notes Python sans barre oblique inverse. Lorsque vous utilisez la magie cellulaire SQL, le contenu de la cellule est interprété comme un code SQL. Cela rend superflue l'utilisation d'une barre oblique inverse à la fin de chaque ligne. En Python, vous pouvez également interroger les tables d'une base de données à l'aide de la méthode read_sql de la bibliothèque Pandas. Cette fonction sera plus facile à utiliser si vous avez enregistré la requête dans une variable spécifique, par exemple query_statement. Dans ce cas, si votre requête contient des guillemets doubles, par exemple pour spécifier un nom de colonne avec des espaces ou des caractères spéciaux, vous pouvez différencier le guillemet en utilisant des guillemets simples pour la variable Python qui entoure la requête SQL et des guillemets doubles pour les noms de colonnes. Que faire si vous devez spécifier des guillemets simples dans la requête , par exemple pour spécifier une valeur dans la clause where ? Dans ce cas, vous pouvez utiliser une barre oblique inverse comme caractère d'échappement avant la citation. Comment limiteriez-vous le nombre de lignes récupérées ? Un tableau peut contenir des milliers ou des millions de lignes, mais il se peut que vous souhaitiez simplement échantillonner un échantillon de données ou examiner quelques lignes seulement pour voir quel type de données le tableau contient. Vous pourriez être tenté de simplement sélectionner une étoile dans le nom de la table pour récupérer les résultats dans le bloc de données d'un panda et faire une tête dessus. Toutefois, l'exécution d'une requête peut prendre un certain temps. Au lieu de cela, vous pouvez restreindre les résultats définis à l'aide de la clause LIMIT. Par exemple, utilisez la requête suivante pour récupérer uniquement les trois premières lignes d' une table appelée données de recensement, sélectionnez un astérisque dans census_data LIMIT 3. Vous savez maintenant que les ensembles de données sont essentiellement des fichiers CSV, qui sont des fichiers texte contenant des valeurs de données séparées par des virgules.\n",
    "Lisez la vidéo à partir de :5:14 et suivez la transcription5:14\n",
    "Utilisez l'instruction de l'outil phpMyAdmin pour charger des données dans la base de données. Pour interroger les colonnes d'une table, des backticks sont utilisés autour du nom de la colonne. Évitez d'utiliser des guillemets simples ou doubles. Les requêtes longues, les requêtes de jointure ou les requêtes imbriquées doivent être divisées en plusieurs lignes pour une meilleure lisibilité. En Python, les tables peuvent être interrogées dans la base de données à l'aide de la méthode read_sql de la bibliothèque Pandas. Utilisez la clause LIMIT pour restreindre le jeu de résultats."
   ]
  },
  {
   "cell_type": "markdown",
   "id": "b7cb1782-89c6-4150-a1c4-2f9f9aeca784",
   "metadata": {},
   "source": [
    "# Obtenir des détails sur les tableaux et les colonnes"
   ]
  },
  {
   "cell_type": "markdown",
   "id": "af34e98e-4cc3-482b-9877-639b4a2ed108",
   "metadata": {},
   "source": [
    "Bonjour et bienvenue. Dans cette vidéo, nous verrons comment obtenir des informations sur les tables et leurs colonnes dans une base de données. Ce que vous apprendrez à la fin de cette vidéo, vous pourrez, expliquer comment obtenir une liste de tables dans une base de données, expliquer comment obtenir une liste de tables dans une base de données SQLite3. Maintenant, comment obtenir une liste des tables de la base de données ? Il arrive que votre base de données contienne plusieurs tables et que vous ne vous souveniez pas du nom correct. Par exemple, vous vous demandez peut-être si la table s'appelle chien, chiens ou mammifères à quatre pattes. Les systèmes de base de données contiennent généralement des tables système ou de catalogue à partir desquelles vous pouvez interroger la liste des tables et obtenir leurs propriétés. Dans DB2, ce catalogue s'appelle SYSCAT.TABLES, dans SQL Server, c'est Information_schema.tables, dans SQLite3, c'est sqlite_master, et dans MySQL, c'est SHOW TABLES. Pour obtenir la liste des tables d'une base de données SQLite3, vous pouvez exécuter la requête suivante. SÉLECTIONNEZ LE NOM DEPUIS sqlite_master OÙ type='table'. La même chose peut être faite dans une interface MySQL à l'aide de l'instruction SHOW TABLES. Pour extraire les attributs ou les en-têtes de colonnes des tables du jeu de données, vous pouvez utiliser des commandes spécifiques dans chaque type de serveur. Par exemple, dans SQLite3, vous pouvez utiliser la commande PRAGMS table_info. Dans MySQL, la commande DESCRIBE table_name peut être utilisée à cet effet. Sachez que les systèmes de base de données contiennent généralement des tables système ou des tables de catalogue à partir desquelles vous pouvez interroger la liste des tables et obtenir leurs propriétés. Pour obtenir une liste des tables de la base de données SQLite3, utilisez SELECT name FROM sqlite_master WHERE type=\"table ». Pour extraire les attributs dans SQLite3, utilisez PRAGMA table_info (table_name). "
   ]
  },
  {
   "cell_type": "markdown",
   "id": "4f3c2848-4ea5-46ce-a94a-015b991d0af8",
   "metadata": {},
   "source": [
    "Félicitations pour avoir terminé ce cours Bases de données et SQL pour la science des données avec Python ! Nous espérons que vous l'avez apprécié. \n",
    " \n",
    "Ce cours fait partie de :\n",
    "\n",
    "* IBM Data Analyst Professional Certificate (certificat professionnel d'analyste de données IBM)\n",
    "\n",
    "* Spécialisation en science des données appliquée\n",
    "\n",
    "* IBM Data Science Professional Certificate (Certificat professionnel en science des données)\n",
    "\n",
    "* IBM Data Engineering Foundations Specialization (spécialisation en ingénierie des données IBM)\n",
    "\n",
    "* Certificat professionnel IBM Data Engineering\n",
    " (à venir)\n",
    "\n",
    "Ceux d'entre vous qui suivent la filière Data Engineering doivent également suivre le module Honors de ce cours. Il contient des informations sur des techniques SQL plus avancées qui vous seront utiles en tant qu'ingénieur de données.\n",
    " \n",
    "Dans une prochaine étape, vous pouvez explorer d'autres cours dans ces programmes, en commençant par : \n",
    "\n",
    "Ingénierie des données et Analyse des données : \n",
    "Analyse de données avec Python\n",
    "\n",
    "Parcours Ingénierie des données : NoSQL Fundamentals (Prochainement...)\n",
    "\n",
    "Nous vous encourageons à laisser vos commentaires et à évaluer le cours.\n",
    "\n",
    "Nous vous souhaitons bonne chance !"
   ]
  },
  {
   "cell_type": "markdown",
   "id": "633d84a6-4621-4b0c-b64c-7003971c0bc0",
   "metadata": {},
   "source": [
    "# À propos de ce module d'honneur Statut :\n",
    "\n",
    "Ce module couvre certaines techniques SQL avancées qui seront utiles aux ingénieurs de données. Si vous suivez la filière Data Engineering, vousdevezsuivre ce module.\n",
    "\n",
    "Ce module est optionnel pour ceux d'entre vous qui suivent les filières Data Science ou Data Analyst. Si vous choisissez de le compléter, vous recevrez un certificat de niveau Honors.\n",
    "\n",
    "Dans ce module, vous apprendrez à formuler des requêtes plus puissantes en utilisant des techniques avancées telles que les vues, les transactions, les procédures stockées et les jointures.\n",
    "\n"
   ]
  },
  {
   "cell_type": "markdown",
   "id": "25da70be-ddef-453f-bca8-f60381a5c0d4",
   "metadata": {},
   "source": [
    " # SEMAINE 6 (LA DERNIERE)"
   ]
  },
  {
   "cell_type": "markdown",
   "id": "e52233ce-8124-453c-a1b0-8415c0d1e74d",
   "metadata": {},
   "source": [
    "# Points de vue"
   ]
  },
  {
   "cell_type": "raw",
   "id": "0cd82b23-2f51-4e69-98dd-48475c5821dd",
   "metadata": {},
   "source": [
    "Bienvenue chez Views. Après avoir visionné cette vidéo, vous serez en mesure de : Définir une vue Décrire quand utiliser une vue Expliquer la syntaxe de création d' une vue Une vue est une autre façon de représenter des données qui existent dans une ou plusieurs tables ou vues. Une vue peut inclure la totalité ou une partie des colonnes d'une ou de plusieurs tables de base ou de vues existantes. La création d'une vue crée une spécification nommée pour une table de résultats, qui peut être interrogée de la même manière qu'une table. Vous pouvez également modifier les données de la table de base en exécutant des requêtes d'insertion, de mise à jour et de suppression sur la vue. Lorsque vous définissez une vue, la définition de la vue est enregistrée. Les données représentées par la vue sont stockées dans les tables de base, et non dans la vue elle-même. Vous pouvez utiliser une vue pour : afficher une sélection de données pour une table donnée, afin d'omettre des données sensibles telles que les informations fiscales, les dates de naissance ou les salaires. Combinez deux ou plusieurs tables de manière significative. Simplifiez l'accès aux données en accordant l'accès à une vue sans accorder l'accès aux tables sous-jacentes. Afficher uniquement les parties des données pertinentes pour le processus qui utilise la vue. Par exemple, vous pouvez créer une vue qui affiche uniquement les données non sensibles de la table Employés, à savoir l'identifiant de l'employé, le nom, l'adresse, l'identifiant du poste, l'identifiant du responsable et l'identifiant du service. La vue n'affiche pas de données sensibles telles que le salaire ou la date de naissance. Vous utilisez l'instruction CREATE VIEW pour créer une vue basée sur une ou plusieurs tables ou vues. Pour définir une vue, utilisez l'instruction CREATE VIEW et attribuez un nom (128 caractères maximum ) à la vue. Répertoriez les colonnes que vous souhaitez inclure. Vous pouvez utiliser un alias pour nommer les colonnes si vous le souhaitez. Utilisez la clause AS SELECT pour spécifier les colonnes de la vue, et la clause FROM pour spécifier le nom de la table de base. Vous pouvez également ajouter une clause WHERE facultative pour affiner les lignes de la vue. Cette instruction CREATE VIEW <click>crée une vue appelée EMPINFO basée sur la table Employees. L'instruction SELECT renvoie les données de la vue, comme indiqué dans le tableau ci-dessous. Les vues sont dynamiques ; elles se composent des données qui seraient renvoyées par l'instruction SELECT utilisée pour les créer. Lorsque vous utilisez une vue dans une autre instruction SQL, elle se comporte comme si vous aviez utilisé une instruction SELECT qui renvoie le contenu de la vue. L'instruction SELECT que vous utilisez pour créer la vue peut nommer d'autres vues et tables, et elle peut utiliser les clauses WHERE, GROUP BY et HAVING. Il ne peut pas utiliser la clause ORDER BY ni nommer une variable hôte.\n",
    "Lisez la vidéo à partir de :2:54 et suivez la transcription2:54\n",
    "Dans cet exemple, la vue EMPINFO est créée avec uniquement les lignes dont le MANAGER_ID est 30002. Vous pouvez utiliser une instruction SELECT pour afficher les informations de la vue et vérifier que seules les lignes dont le MANAGER_ID est 30002 sont incluses. Si vous devez supprimer complètement une vue, <click>vous pouvez utiliser DROP VIEW. Dans cette vidéo, vous avez appris que : les vues constituent un autre moyen d'accéder aux données des tableaux. Ils peuvent inclure des colonnes spécifiques provenant de plusieurs tables de base et de vues existantes. Une fois créées, les vues peuvent être interrogées comme une table, et les données de la table de base peuvent être modifiées par le biais de la vue. Les vues sont dynamiques ; seule la définition de la vue est stockée, pas les données. Vous pouvez utiliser l'instruction CREATE VIEW pour créer une vue basée sur une ou plusieurs tables ou vues existantes."
   ]
  },
  {
   "cell_type": "markdown",
   "id": "6bc48680-cc86-4bb0-9aaf-b2869ce605bc",
   "metadata": {},
   "source": [
    " # laboratoire pratique  "
   ]
  },
  {
   "cell_type": "markdown",
   "id": "67338fee-daa2-4db8-8c2c-139d339343ae",
   "metadata": {},
   "source": [
    "# view"
   ]
  },
  {
   "cell_type": "markdown",
   "id": "7ca2e219-ec0b-4965-b982-95495339ace2",
   "metadata": {},
   "source": [
    "Hands-on Lab: Using Views in MySQL using phpMyAdmin\n",
    "cognitiveclass.ai logo\n",
    "\n",
    "Estimated time needed: 20 minutes\n",
    "\n",
    "In this lab, you will learn about using views. In SQL, a view is an alternative way of representing data that exists in one or more tables. Just like a real table, it contains rows and columns. The fields in a view are fields from one or more real tables in the database. Though views can be queried like a table, views are dynamic; only the definition of the view is stored, not the data.\n",
    "\n",
    "Objectives\n",
    "After completing this lab, you will be able to:\n",
    "\n",
    "* Create a View and show a selection of data for a given table\n",
    "* Update a View to combine two or more tables in meaningful ways\n",
    "* Drop a created View\n",
    "\n",
    "* Créer une vue et afficher une sélection de données pour une table donnée\n",
    "* Mettre à jour une vue pour combiner deux tables ou plus de manière significative\n",
    "* Déposer une vue créée\n",
    "\n",
    "Software Used in this Lab\n",
    "In this lab, you will use MySQL. MySQL is a Relational Database Management System (RDBMS) designed to efficiently store, manipulate, and retrieve data."
   ]
  },
  {
   "cell_type": "markdown",
   "id": "230fa11c-ce60-4241-8ec5-a4556f5538d9",
   "metadata": {},
   "source": [
    "# Base de données utilisée dans cet atelier\n",
    "\n",
    "La base de données utilisée dans cet atelier est un exemple de base de données RH. Ce schéma de base de données HR se compose de cinq tables appelées EMPLOYÉS, JOB_HISTORY, EMPLOIS, SERVICES et EMPLACEMENTS. Chaque table comporte quelques lignes d’exemples de données. Le diagramme suivant montre les tables de la base de données RH :"
   ]
  },
  {
   "cell_type": "markdown",
   "id": "a99a0098-a2f4-4687-9c24-d37288ba12f0",
   "metadata": {},
   "source": [
    "Suivez les étapes ci-dessous pour créer la base de données et les tables.\n",
    "\n",
    "- Ouvrez l’interface MySQL à partir du menu Réseau de compétences.\n",
    "\n",
    "- Créez une nouvelle base de données et nommez-la RH.\n",
    "\n",
    "- Chargez et exécutez le script partagé dans le lien ci-dessous pour créer les tables nécessaires."
   ]
  },
  {
   "cell_type": "markdown",
   "id": "fd0f2600-8548-4a4d-8407-2d71b4a49e0e",
   "metadata": {},
   "source": [
    "[HR_Database_Create_Tables_Script.sql](https://cf-courses-data.s3.us.cloud-object-storage.appdomain.cloud/IBMDeveloperSkillsNetwork-DB0201EN-SkillsNetwork/labs/MySQL/week2/HR_Database_Create_Tables_Script.sql)"
   ]
  },
  {
   "cell_type": "markdown",
   "id": "dfc2466b-f834-462f-bb9a-c59280ad3889",
   "metadata": {},
   "source": [
    "Load all the tables with the data available in the CSV files shared below."
   ]
  },
  {
   "cell_type": "markdown",
   "id": "4504a5cd-b45c-4d7c-84dd-d907926a7feb",
   "metadata": {},
   "source": [
    "[Départments.csv](https://cf-courses-data.s3.us.cloud-object-storage.appdomain.cloud/IBMDeveloperSkillsNetwork-DB0201EN-SkillsNetwork/labs/Labs_Coursera_V5/datasets/HR_Database/Departments.csv)"
   ]
  },
  {
   "cell_type": "markdown",
   "id": "c4c1a475-c02d-4925-b7f8-0d77df50335e",
   "metadata": {},
   "source": [
    "[Employees.csv](https://cf-courses-data.s3.us.cloud-object-storage.appdomain.cloud/IBMDeveloperSkillsNetwork-DB0201EN-SkillsNetwork/labs/MySQL/week2/data/Employees_updated.csv)"
   ]
  },
  {
   "cell_type": "markdown",
   "id": "c6edb245-c0c5-4266-96bf-94ac88eb08d3",
   "metadata": {},
   "source": [
    "[Jobs.csv](https://cf-courses-data.s3.us.cloud-object-storage.appdomain.cloud/IBMDeveloperSkillsNetwork-DB0201EN-SkillsNetwork/labs/Labs_Coursera_V5/datasets/HR_Database/Jobs.csv)"
   ]
  },
  {
   "cell_type": "markdown",
   "id": "0daa5ce4-68ff-4a57-991e-ce79d7d63b38",
   "metadata": {},
   "source": [
    "[Locations.csv](https://cf-courses-data.s3.us.cloud-object-storage.appdomain.cloud/IBMDeveloperSkillsNetwork-DB0201EN-SkillsNetwork/labs/Labs_Coursera_V5/datasets/HR_Database/Locations.csv)"
   ]
  },
  {
   "cell_type": "markdown",
   "id": "ae62389b-dad7-4df8-a20f-52ca643e4e09",
   "metadata": {},
   "source": [
    "[JobsHistory.csv](https://cf-courses-data.s3.us.cloud-object-storage.appdomain.cloud/IBMDeveloperSkillsNetwork-DB0201EN-SkillsNetwork/labs/MySQL/week2/data/JobsHistory.csv)"
   ]
  },
  {
   "cell_type": "markdown",
   "id": "04798f96-00b1-4883-8059-c3b931ccd915",
   "metadata": {},
   "source": [
    "Note: Please refer to the instruction in the lab \"Create and Load Tables using SQL Scripts\" for instructions regarding loading scripts in MySQL."
   ]
  },
  {
   "cell_type": "markdown",
   "id": "0e9eecba-e3d5-4092-849b-da273bba4080",
   "metadata": {},
   "source": [
    "Task 1: Create a View\n",
    "In this exercise, you will create a View and show a selection of data for a given table.\n",
    "\n",
    "1. ###   Let's create a view called EMPSALARY to display salary along with some basic sensitive data of employees from the HR database. To create the EMPSALARY view from the EMPLOYEES table, Copy the code below and paste it to the textarea of the SQL page. Click Go."
   ]
  },
  {
   "cell_type": "code",
   "execution_count": null,
   "id": "842707ee-eca2-438f-8175-ca765c096f28",
   "metadata": {},
   "outputs": [],
   "source": [
    "CREATE VIEW EMPSALARY AS\n",
    "SELECT EMP_ID, F_NAME, L_NAME, B_DATE, SEX, SALARY\n",
    "FROM EMPLOYEES;"
   ]
  },
  {
   "cell_type": "markdown",
   "id": "2d8e575d-8681-43b0-a611-cd5ee3928cbd",
   "metadata": {},
   "source": [
    "2. ### Using SELECT, query the EMPSALARY view to retrieve all the records. Use the following statement."
   ]
  },
  {
   "cell_type": "code",
   "execution_count": null,
   "id": "3e432e1b-0814-4975-be56-d57c995ab617",
   "metadata": {},
   "outputs": [],
   "source": [
    "SELECT * FROM EMPSALARY;"
   ]
  },
  {
   "cell_type": "markdown",
   "id": "1c7d49f8-70a7-4a38-a448-fce3a2cc8662",
   "metadata": {},
   "source": [
    "# Task 2: Update a View\n",
    "In this exercise, you will update a View to combine two or more tables in meaningful ways.\n",
    "\n",
    "Assume that the EMPSALARY view we created in Task 1 doesn't contain enough salary information, such as max/min salary and the job title of the employees. For this, we need to getr information from other tables in the database. You need all columns from EMPLOYEES table used above, except for SALARY. You also need the columns JOB_TITLE, MIN_SALARY, MAX_SALARY of the JOBS table.\n",
    "The command to be used is as follows:\n",
    "    \n",
    "    \n",
    "    \n",
    "Dans cet exercice, vous allez mettre à jour une vue pour combiner deux tables ou plus de manière significative.\n",
    "\n",
    "Supposons que la vue EMPSALARY que nous avons créée dans la tâche 1 ne contient pas suffisamment d’informations sur le salaire, telles que le salaire max/min et l’intitulé du poste des employés. Pour cela, nous avons besoin d’obtenir des informations provenant d’autres tables de la base de données. Vous avez besoin de toutes les colonnes de la table EMPLOYEES utilisée ci-dessus, à l’exception de SALAIRE. Vous avez également besoin des colonnes JOB_TITLE, MIN_SALARY MAX_SALARY de la table JOBS.\n",
    "La commande à utiliser est la suivante : "
   ]
  },
  {
   "cell_type": "code",
   "execution_count": null,
   "id": "a7df3664-c5c3-46bb-9d0d-2e25e5f3e0ce",
   "metadata": {},
   "outputs": [],
   "source": [
    "CREATE OR REPLACE VIEW EMPSALARY AS\n",
    "SELECT EMP_ID, F_NAME, L_NAME, B_DATE, SEX, JOB_TITLE,\n",
    "MIN_SALARY, MAX_SALARY\n",
    "FROM EMPLOYEES, JOBS\n",
    "WHERE EMPLOYEES.JOB_ID = JOBS.JOB_IDENT;"
   ]
  },
  {
   "cell_type": "markdown",
   "id": "b84f5e69-be4e-438e-91fc-0db296ccd78d",
   "metadata": {},
   "source": [
    "REMARQUE : La technique utilisée ici pour combiner les données de deux tables est appelée jointure interne implicite. Vous en apprendrez plus sur les jointures plus tard. Pour l’instant, supposons simplement que vous combinez les données de deux tables différentes, EMPLOYEES et JOBS, en connectant leurs colonnes respectives JOB_ID et JOB_IDENT, car les deux colonnes contiennent des données uniques communes. Vous pouvez consulter la description de la base de données, partagée au début de l’atelier, pour le vérifier."
   ]
  },
  {
   "cell_type": "markdown",
   "id": "5f61261e-cd97-493b-a868-46f0ae29ca1c",
   "metadata": {},
   "source": [
    "2. ### À l’aide de SELECT, interrogez la vue EMPSALARY mise à jour pour récupérer tous les enregistrements. Copiez le code ci-dessous et collez-le dans la zone de texte de la page SQL. Cliquez sur OK.\n",
    "\n",
    "\n",
    "Using SELECT, query the updated EMPSALARY view to retrieve all the records. Copy the code below and paste it to the textarea of the SQL page. Click Go."
   ]
  },
  {
   "cell_type": "code",
   "execution_count": null,
   "id": "ffb96aa0-00b2-4e08-94b4-022287cac638",
   "metadata": {},
   "outputs": [],
   "source": [
    "SELECT * FROM EMPSALARY;"
   ]
  },
  {
   "cell_type": "markdown",
   "id": "10170bd1-9c06-47e6-b738-7e00bd580597",
   "metadata": {},
   "source": [
    "# Task 3: Drop a View\n",
    "In this exercise, you will drop the created View EMPSALARY.\n",
    "Use the code below."
   ]
  },
  {
   "cell_type": "code",
   "execution_count": null,
   "id": "e81101ba-7eb9-4828-8181-588103b5ae42",
   "metadata": {},
   "outputs": [],
   "source": [
    "DROP VIEW EMPSALARY;"
   ]
  },
  {
   "cell_type": "markdown",
   "id": "d3eb35cf-1d80-4ccf-a3eb-bc45fd094f00",
   "metadata": {},
   "source": [
    "Using SELECT, you can verify whether the EMPSALARY view has been deleted or not. Copy the code below and paste it to the textarea of the SQL page. Click Go.\n",
    "\n",
    "À l’aide de SELECT, vous pouvez vérifier si la vue EMPSALARY a été supprimée ou non. Copiez le code ci-dessous et collez-le dans la zone de texte de la page SQL. Cliquez sur OK."
   ]
  },
  {
   "cell_type": "code",
   "execution_count": null,
   "id": "9033fc3d-289d-451b-b4e6-350ee4830235",
   "metadata": {},
   "outputs": [],
   "source": [
    "SELECT * FROM EMPSALARY;"
   ]
  },
  {
   "cell_type": "markdown",
   "id": "b7f8946e-25aa-496c-b5b5-6813cfbc798a",
   "metadata": {},
   "source": [
    "CAR, on a supprimé cette table\n",
    "\n",
    "Erreur\n",
    "Requête SQL : Copier Documentation\n",
    "\n",
    "\n",
    "SELECT * FROM EMPSALARY LIMIT 0, 25\n",
    "MySQL a répondu : Documentation\n",
    "\n",
    "#1146 - La table 'HR.EMPSALARY' n'existe pas"
   ]
  },
  {
   "cell_type": "markdown",
   "id": "de3ca0f2-9827-4324-b3e5-ae0b0542ebe7",
   "metadata": {},
   "source": [
    "#  Practice Problems\n",
    "Try to solve the following practice problems based on your learning in this lab.\n",
    "\n",
    "1. ###  Create a view “EMP_DEPT” which has the following information.\n",
    "EMP_ID, FNAME, LNAME and DEP_ID from EMPLOYEES table"
   ]
  },
  {
   "cell_type": "code",
   "execution_count": null,
   "id": "7762addf-25d4-48ba-9e6a-ff9967e298ed",
   "metadata": {},
   "outputs": [],
   "source": [
    "CREATE VIEW EMP_DEPT AS\n",
    "SELECT EMP_ID, F_NAME, L_NAME, DEP_ID\n",
    "FROM EMPLOYEES;"
   ]
  },
  {
   "cell_type": "markdown",
   "id": "4c9d18f7-1fd1-467c-98bd-d5bef3f9f74f",
   "metadata": {},
   "source": [
    "2. ### Modify “EMP_DEPT” such that it displays Department names instead of Department IDs. For this, we need to combine information from EMPLOYEES and DEPARTMENTS as follows.\n",
    "\n",
    "\n",
    "\n",
    "\n",
    "\n",
    "Modifiez « EMP_DEPT » de manière à ce qu’il affiche les noms des départements au lieu des ID de département. Pour cela, nous devons combiner les informations des EMPLOYÉS et des DÉPARTEMENTS comme suit."
   ]
  },
  {
   "cell_type": "code",
   "execution_count": null,
   "id": "abbaed40-0627-4dc4-b9a9-1847553181a5",
   "metadata": {},
   "outputs": [],
   "source": [
    "EMP_ID, FNAME, LNAME from EMPLOYEES table and\n",
    "DEP_NAME from DEPARTMENTS table, combined over the columns DEP_ID and DEPT_ID_DEP."
   ]
  },
  {
   "cell_type": "code",
   "execution_count": null,
   "id": "3eeb04d8-acd9-41fe-a1fa-474916696da3",
   "metadata": {},
   "outputs": [],
   "source": [
    "CREATE OR REPLACE VIEW EMP_DEPT AS\n",
    "SELECT EMP_ID, F_NAME, L_NAME, DEP_NAME\n",
    "FROM EMPLOYEES, DEPARTMENTS\n",
    "WHERE EMPLOYEES.DEP_ID = DEPARTMENTS.DEPT_ID_DEP;"
   ]
  },
  {
   "cell_type": "markdown",
   "id": "5eff7469-79e4-4ce4-a43e-dda0ce768008",
   "metadata": {},
   "source": [
    "3. ### Drop the view “EPM_DEPT”."
   ]
  },
  {
   "cell_type": "code",
   "execution_count": null,
   "id": "d8df8a7b-8dd9-4abf-bdbf-f9b962bded8a",
   "metadata": {},
   "outputs": [],
   "source": [
    "DROP VIEW EMP_DEPT"
   ]
  },
  {
   "cell_type": "code",
   "execution_count": null,
   "id": "e1750662-5f7b-4e8d-bf5c-6690111e47fb",
   "metadata": {},
   "outputs": [],
   "source": [
    "qd on interroge à nouveau la vue ou view on message d'erreur\n",
    "SELECT * FROM EMP_DEPT"
   ]
  },
  {
   "cell_type": "code",
   "execution_count": null,
   "id": "9c47fe49-420b-4556-b5fc-25df3172e004",
   "metadata": {},
   "outputs": [],
   "source": [
    "Erreur\n",
    "Requête SQL : Copier Documentation\n",
    "\n",
    "\n",
    "SELECT * FROM `EMP_DEPT` LIMIT 0, 25\n",
    "MySQL a répondu : Documentation\n",
    "\n",
    "#1146 - La table 'HR.EMP_DEPT' n'existe pas"
   ]
  },
  {
   "cell_type": "markdown",
   "id": "d96e7ad5-2ca3-4aec-94a6-2a789e43e3df",
   "metadata": {},
   "source": [
    "# Procédures stockées"
   ]
  },
  {
   "cell_type": "markdown",
   "id": "610402ef-7761-4549-b6e1-9650f3ccb3ad",
   "metadata": {},
   "source": [
    "Bienvenue sur Stored Procedures. Après avoir visionné cette vidéo, vous serez en mesure d'expliquer ce qu'est une procédure stockée, de répertorier les avantages de l'utilisation de procédures stockées et de décrire comment créer et utiliser une procédure stockée. Une procédure stockée est un ensemble d' instructions SQL stockées et exécutées sur le serveur de base de données. Au lieu d'envoyer plusieurs instructions SQL du client au serveur, vous les encapsulez dans une procédure stockée sur le serveur et vous envoyez une instruction depuis le client pour les exécuter. Vous pouvez écrire des procédures stockées dans de nombreux langages différents. Par exemple, pour DB 1 sur le cloud et DB 2, vous pouvez écrire en SQL, PL, PL/SQL, Java C ou dans d'autres langages. Ils peuvent accepter des informations sous forme de paramètres, exécuter, créer, lire, mettre à jour et supprimer des opérations Crud et renvoyer les résultats à l'application cliente. Les avantages des procédures stockées incluent la réduction du trafic réseau car un seul appel est nécessaire pour exécuter plusieurs instructions. Amélioration des performances car le traitement s'effectue sur le serveur où les données sont stockées et seul le résultat final est renvoyé au client. Réutilisation du code car plusieurs applications peuvent utiliser la même procédure stockée pour la même tâche. Renforcez la sécurité car A, vous n'avez pas besoin d'exposer toutes les informations de vos tables et colonnes aux développeurs côté client, et B, vous pouvez utiliser la logique côté serveur pour valider les données avant de les accepter dans le système. Souvenez-vous cependant que SQL n'est pas un langage de programmation à part entière. Vous ne devez pas essayer d'écrire toute votre logique métier dans vos procédures stockées. Voyons comment créer une procédure stockée dans SQL. Tout d'abord, vous utilisez l'instruction create procedure, en spécifiant le nom de la procédure et tous les paramètres qu'elle prendra. Dans cet exemple, la procédure de vente Update Underscore utilisera un numéro d'employé et une note qu'elle utilisera pour mettre à jour le salaire de l'employé d'un montant en fonction de son évaluation, puis vous déclarez la langue que vous utilisez. Vous joignez ensuite votre logique procédurale et vous commencez les instructions finales. Dans ce cas, accorder aux employés qui ont obtenu une note de 1 une augmentation de 10 % et à tous les autres une augmentation de 5 %. Notez que vous pouvez utiliser les informations transmises à la procédure, les paramètres, directement dans votre logique procédurale. De plus, étant donné que la procédure stockée va utiliser plusieurs instructions, il est prudent de modifier le délimiteur, le caractère qui marque la fin d'une instruction, avant de commencer à définir la procédure. Ici, il a été réglé sur le signe dollar sinus dollar. L'utilisation de ce signe délimiteur dollar sinus dollar dans le code marquera alors la fin des commandes de procédure.\n",
    "Lisez la vidéo à partir de :2:58 et suivez la transcription2:58\n",
    "Enfin, nous redéfinissons le séparateur en point-virgule lorsque nous avons terminé. Vous pouvez appeler des procédures stockées à partir de vos applications externes ou à partir d'instructions SQL dynamiques. Pour appeler la procédure stockée update _SAL que nous venons de créer, vous devez utiliser l'instruction d'appel avec le nom de la procédure stockée et transmettre les paramètres requis. Dans ce cas, l' identifiant de l'employé et la note attribuée à cet employé. Dans cette vidéo, vous apprendrez que les procédures stockées sont un ensemble d' instructions SQL qui s'exécutent sur le serveur. Les procédures stockées offrent de nombreux avantages par rapport à l'envoi d'instructions SQL au serveur. Vous pouvez utiliser des procédures stockées dans des instructions SQL dynamiques et dans des applications externes.\n"
   ]
  },
  {
   "cell_type": "markdown",
   "id": "cadf3fc7-b268-4d39-b128-28ad6214f32a",
   "metadata": {},
   "source": [
    "# Hands-on Lab: Stored Procedures"
   ]
  },
  {
   "cell_type": "markdown",
   "id": "e01df8fe-aeb4-455a-9ba2-19cc6d811653",
   "metadata": {},
   "source": [
    "Temps estimé nécessaire : 20 minutes\n",
    "\n",
    "Les procédures stockées en SQL sont un type d’objet de base de données qui vous permet d’encapsuler une série d’instructions SQL dans une seule routine. Ils sont stockés dans le dictionnaire de données de la base de données et peuvent être appelés à partir d’un programme d’application ou de l’interface de commande de la base de données. Les procédures stockées peuvent accepter des paramètres d’entrée et renvoyer plusieurs valeurs de paramètres de sortie. Ils peuvent également inclure des constructions de contrôle de flux telles que des boucles et des instructions conditionnelles. Pr stocké"
   ]
  },
  {
   "cell_type": "markdown",
   "id": "784f14ed-31ae-4d43-bdb8-ccad97518dd4",
   "metadata": {},
   "source": [
    "Objectives\n",
    "After completing this lab, you will be able to:\n",
    "\n",
    "Create stored procedures\n",
    "Execute stored procedures\n",
    "Software Used in this Lab\n",
    "In this lab, you will use MySQL. MySQL is a Relational Database Management System (RDBMS) designed to efficiently store, manipulate, and retrieve data.\n",
    "\n",
    "Mysql_learners database has been used in this lab."
   ]
  },
  {
   "cell_type": "markdown",
   "id": "a23dd025-83eb-42f6-bb10-7c252cd3cacb",
   "metadata": {},
   "source": [
    "# Data Used in this Lab\n",
    "\n",
    "The data used in this lab is internal data. You will be working on the PETSALE table."
   ]
  },
  {
   "cell_type": "markdown",
   "id": "07a10cc4-0b48-40f3-90b0-5e7239c78908",
   "metadata": {},
   "source": [
    "Cet atelier nécessite que vous ayez la table PETSALE remplie avec des exemples de données sur l’interface phpadmin de mysql. Vous avez peut-être créé et renseigné une table PETSALE dans un atelier précédent."
   ]
  },
  {
   "cell_type": "markdown",
   "id": "5f5ed625-3dba-46f7-a18b-08516d44ab5c",
   "metadata": {},
   "source": [
    "Pour cet atelier, vous devez créer une base de données PETS dans l’interface phpMyAdmin. Téléchargez le script PETSALE-CREATE-v2.sql ci-dessous, téléchargez-le sur la console sous la base de données PETS. Lors de l’exécution, le script créera une nouvelle table PETSALE en supprimant toute table PETSALE précédente si elle existe, et la remplira avec les exemples de données requis."
   ]
  },
  {
   "cell_type": "markdown",
   "id": "5ed7419f-da16-4dee-9651-a38f704fe6e3",
   "metadata": {},
   "source": [
    "[PETSALE-CREATE-v2.sql](https://cf-courses-data.s3.us.cloud-object-storage.appdomain.cloud/IBMDeveloperSkillsNetwork-DB0201EN-SkillsNetwork/labs/MySQL/week6/PETSALE-CREATE-v2.sql)"
   ]
  },
  {
   "cell_type": "markdown",
   "id": "81491c98-ebf9-4e0f-be5c-2322b001c68c",
   "metadata": {},
   "source": [
    "# Stored Procedure: Exercise 1\n",
    "In this exercise, you will create and execute a stored procedure to read data from a table on mysql phpadmin using SQL.\n",
    "\n",
    "1. ### You will create a stored procedure routine named RETRIEVE_ALL.\n",
    "This RETRIEVE_ALL routine will contain an SQL query to retrieve all the records from the PETSALE table, so you don't need to write the same query over and over again. You just call the stored procedure routine to execute the query everytime.\n",
    "To create the stored procedure routine, copy the code below and paste it to the textarea of the SQL page. Click Go.\n",
    "\n",
    "\n",
    "\n",
    "\n",
    "Dans cet exercice, vous allez créer et exécuter une procédure stockée pour lire les données d’une table sur mysql phpadmin à l’aide de SQL.\n",
    "\n",
    "1. ### Vous allez créer une routine de procédure stockée nommée RETRIEVE_ALL.\n",
    "Cette routine RETRIEVE_ALL contiendra une requête SQL pour récupérer tous les enregistrements de la table PETSALE, de sorte que vous n’avez pas besoin d’écrire la même requête encore et encore. Il vous suffit d’appeler la routine de procédure stockée pour exécuter la requête à chaque fois.\n",
    "Pour créer la routine de procédure stockée, copiez le code ci-dessous et collez-le"
   ]
  },
  {
   "cell_type": "code",
   "execution_count": null,
   "id": "3d2825cf-fa5d-49cc-ab8c-d7257e40acfc",
   "metadata": {},
   "outputs": [],
   "source": [
    "DELIMITER //\n",
    "\n",
    "CREATE PROCEDURE RETRIEVE_ALL()\n",
    "\n",
    "BEGIN\n",
    "   SELECT *  FROM PETSALE;\n",
    "END //\n",
    "DELIMITER ;"
   ]
  },
  {
   "cell_type": "markdown",
   "id": "fad72a71-8c8e-4231-9efc-73a35ebd88e8",
   "metadata": {},
   "source": [
    "2. ### To call the RETRIEVE_ALL routine, open another SQL tab by clicking Open in new Tab\n",
    "\n",
    "Pour appeler la routine RETRIEVE_ALL, ouvrez un autre onglet SQL en cliquant sur Ouvrir dans un nouvel onglet"
   ]
  },
  {
   "cell_type": "markdown",
   "id": "f9be279b-14bc-4099-8022-7159dde62863",
   "metadata": {},
   "source": [
    "Delete the default line which appears so that you will get a blank window.\n",
    "\n",
    "Copy the code below and paste it to the textarea of the SQL page. Click Go.\n",
    "\n",
    "\n",
    "\n",
    "Supprimez la ligne par défaut qui apparaît afin d’obtenir une fenêtre vide.\n",
    "\n",
    "Copiez le code ci-dessous et collez-le dans la zone de texte de la page SQL. Cliquez sur OK."
   ]
  },
  {
   "cell_type": "code",
   "execution_count": null,
   "id": "2609a34a-b6f9-45f5-82b9-daccd58aad9a",
   "metadata": {},
   "outputs": [],
   "source": [
    "CALL RETRIEVE_ALL;"
   ]
  },
  {
   "cell_type": "markdown",
   "id": "0565f49f-343e-444f-a747-da81d3fefd48",
   "metadata": {},
   "source": [
    "3. ### You can view the created stored procedure routine RETRIEVE_ALL. On the left panel, expand the PETS database option and click on Procedures to view the procedure.\n",
    "\n",
    "\n",
    " ### Vous pouvez afficher la routine de procédure stockée créée RETRIEVE_ALL. Dans le panneau de gauche, développez l’option Base de données PETS et cliquez sur Procédures pour afficher la procédure."
   ]
  },
  {
   "cell_type": "markdown",
   "id": "ca6be0f7-e795-4449-b261-eecd2029d27e",
   "metadata": {},
   "source": [
    "4. ###  If you wish to drop the stored procedure routine RETRIEVE_ALL, copy the code below and paste it to the textarea of the SQL page. Click Go.\n",
    " \n",
    " \n",
    " ### Si vous souhaitez supprimer la routine de procédure stockée RETRIEVE_ALL, copiez le code ci-dessous et collez-le dans la zone de texte de la page SQL. Cliquez sur OK."
   ]
  },
  {
   "cell_type": "code",
   "execution_count": null,
   "id": "9b1362c0-e750-444c-b3ec-86fa8b632fda",
   "metadata": {},
   "outputs": [],
   "source": [
    "DROP PROCEDURE RETRIEVE_ALL;\n",
    "\n",
    "CALL RETRIEVE_ALL;"
   ]
  },
  {
   "cell_type": "code",
   "execution_count": null,
   "id": "51c31361-e3f4-4af1-ace8-43ec48b7ed34",
   "metadata": {},
   "outputs": [],
   "source": [
    "Erreur\n",
    "Requête SQL : Copier\n",
    "\n",
    "\n",
    "CALL RETRIEVE_ALL\n",
    "MySQL a répondu : Documentation\n",
    "\n",
    "#1305 - PROCEDURE Mysql_Learners.RETRIEVE_ALL does not exist"
   ]
  },
  {
   "cell_type": "markdown",
   "id": "b5f088e2-5169-4d86-8019-cbc7eb0daf53",
   "metadata": {},
   "source": [
    "# Stored Procedure: Exercise 2\n",
    "In this exercise, you will create and execute a stored procedure to write/modify data in a table on MySQL using SQL.\n",
    "\n",
    "You will create a stored procedure routine named UPDATE_SALEPRICE with parameters Animal_ID and Animal_Health.\n",
    "\n",
    "\n",
    "Dans cet exercice, vous allez créer et exécuter une procédure stockée pour écrire/modifier des données dans une table sur MySQL à l’aide de SQL.\n",
    "\n",
    "Vous allez créer une routine de procédure stockée nommée UPDATE_SALEPRICE avec les paramètres Animal_ID et Animal_Health."
   ]
  },
  {
   "cell_type": "markdown",
   "id": "7aeda02c-7852-418b-a4b7-8bd6f199e641",
   "metadata": {},
   "source": [
    "- This UPDATE_SALEPRICE routine will contain SQL queries to update the sale price of the animals in the PETSALE table depending on their health conditions, BAD or WORSE.\n",
    "\n",
    "- This procedure routine will take animal ID and health conditon as parameters which will be used to update the sale price of animal in the PETSALE table by an amount depending on their health condition. Suppose that:\n",
    "\n",
    "    - For animal with ID XX having BAD health condition, the sale price will be reduced further by 25%.\n",
    "     - For animal with ID YY having WORSE health condition, the sale price will be reduced further by 50%.\n",
    "     - For animal with ID ZZ having other health condition, the sale price won't change.\n",
    "- To create the stored procedure routine, copy the code below and paste it to the textarea of the SQL page. Click Go.\n",
    "\n",
    "\n",
    "\n",
    " \n",
    "\n",
    "\n",
    "\n",
    "\n",
    "\n"
   ]
  },
  {
   "cell_type": "markdown",
   "id": "6069bf3f-2343-47df-9eed-a1eeb38dee37",
   "metadata": {},
   "source": [
    "- Cette routine UPDATE_SALEPRICE contiendra des requêtes SQL pour mettre à jour le prix de vente des animaux dans la table PETSALE en fonction de leur état de santé, BAD ou WORSE.\n",
    "\n",
    "- Cette routine de procédure prendra l’identification de l’animal et l’état de santé comme paramètres qui seront utilisés pour mettre à jour le prix de vente de l’animal dans le tableau PETSALE d’un montant en fonction de son état de santé. Supposons que :\n",
    "\n",
    "\n",
    "     - Pour les animaux avec ID XX ayant un MAUVAIS état de santé, le prix de vente sera encore réduit de 25%.\n",
    "     - Pour les animaux dont l’état de santé est PIRE que celui de l’ID YY, le prix de vente sera encore réduit de 50 %.\n",
    "     - Pour les animaux dont l’ID ZZ a d’autres problèmes de santé, le prix de vente ne changera pas.\n",
    "- Pour créer la routine de procédure stockée, copiez le code ci-dessous et collez-le dans la zone de texte de la page SQL. Cliquez sur OK.\n",
    "\n"
   ]
  },
  {
   "cell_type": "code",
   "execution_count": null,
   "id": "7115a6ca-37cc-4c95-9fd3-78583bc8d5ae",
   "metadata": {},
   "outputs": [],
   "source": [
    "DELIMITER @\n",
    "CREATE PROCEDURE UPDATE_SALEPRICE (IN Animal_ID INTEGER, IN Animal_Health VARCHAR(5))\n",
    "BEGIN\n",
    "    IF Animal_Health = 'BAD' THEN\n",
    "        UPDATE PETSALE\n",
    "        SET SALEPRICE = SALEPRICE - (SALEPRICE * 0.25)\n",
    "        WHERE ID = Animal_ID;\n",
    "    ELSEIF Animal_Health = 'WORSE' THEN\n",
    "        UPDATE PETSALE\n",
    "        SET SALEPRICE = SALEPRICE - (SALEPRICE * 0.5)\n",
    "        WHERE ID = Animal_ID;\n",
    "    ELSE\n",
    "        UPDATE PETSALE\n",
    "        SET SALEPRICE = SALEPRICE\n",
    "        WHERE ID = Animal_ID;\n",
    "    END IF;\n",
    "END @\n",
    "\n",
    "DELIMITER ;"
   ]
  },
  {
   "cell_type": "markdown",
   "id": "40710596-e517-4f83-b4eb-f66e79dd53ce",
   "metadata": {},
   "source": [
    "Salut @MAHI,\n",
    "\n",
    "Merci pour votre réponse.\n",
    "\n",
    "Veuillez noter que le prix de vente initial est de 450,09 $ et qu'après avoir mis à jour le prix de vente de l'animal avec l'ID 1 en raison de son MAUVAIS état de santé, la valeur diminue à 337,57.\n",
    "\n",
    "Prix ​​de vente d'origine : 450,09\n",
    "\n",
    "Selon la procédure, après mise à jour du prix de vente de l'animal avec ID 1 et MAUVAIS état de santé, la valeur doit être réduite de 25 %.\n",
    "\n",
    "Calcul du prix de vente neuf :\n",
    "\n",
    "Nouveau prix de vente = SALEPRICE - (SALEPRICE * 0,25)\n",
    "\n",
    "= 450,09 - (450,09 * 0,25)\n",
    "\n",
    "= 450,09 - 112,52\n",
    "\n",
    "= 337,57 $\n",
    "\n",
    "Nous vous demandons de bien vouloir procéder au laboratoire en suivant les instructions et d'observer la différence dans le prix de vente.\n",
    "\n",
    "J'espère que cette explication vous aidera.\n",
    "\n",
    "Bon apprentissage!\n",
    "\n",
    "Salutations"
   ]
  },
  {
   "cell_type": "markdown",
   "id": "3936cbb5-c06f-4e1b-9211-b29c5658daae",
   "metadata": {},
   "source": [
    "Salut @MAHI,\n",
    "\n",
    "Merci de votre publication.\n",
    "\n",
    "Nous sommes heureux de vous assister.\n",
    "\n",
    "Veuillez noter que ce script crée une procédure stockée nommée UPDATE_SALEPRICE dans une base de données. Voici une explication de ce qu'il fait :\n",
    "\n",
    "* DELIMITER @ : Cette commande modifie le délimiteur utilisé pour terminer les instructions dans le script. Il définit le délimiteur sur @ au lieu de la valeur par défaut ;. Cela se produit souvent lors de la définition de procédures stockées, car elles contiennent plusieurs instructions SQL et le délimiteur régulier (;) mettrait fin prématurément à la définition de la procédure.\n",
    "\n",
    "* CREATE PROCEDURE UPDATE_SALEPRICE (IN Animal_ID INTEGER, IN Animal_Health VARCHAR(5)) : Cette ligne définit la procédure stockée nommée UPDATE_SALEPRICE avec deux paramètres d'entrée : Animal_ID de type INTEGER et Animal_Health de type VARCHAR(5).\n",
    "\n",
    "* BEGIN et END : Ces mots-clés marquent le début et la fin du corps de la procédure, qui contient les instructions SQL à exécuter.\n",
    "\n",
    "* IF Animal_Health = 'BAD' ALORS : Cette ligne commence une instruction IF qui vérifie si la valeur de Animal_Health est 'BAD'.\n",
    "\n",
    "* UPDATE PETSALE ... WHERE ID = Animal_ID; : ces instructions UPDATE modifient la colonne SALEPRICE de la table PETSALE en fonction de la valeur de Animal_Health :\n",
    "\n",
    "  *      Si Animal_Health est « MAUVAIS », le SALEPRICE est diminué de 25 %.\n",
    "\n",
    "  *      Si Animal_Health est « PIRE », le SALEPRICE est diminué de 50 %.\n",
    "\n",
    "  *      Si Animal_Health n'est ni « MAUVAIS » ni « PIRE », aucune modification n'est apportée au SALEPRICE.\n",
    "\n",
    "* END IF; : Cette ligne marque la fin de l'instruction IF.\n",
    "\n",
    "* END @ : Cette ligne marque la fin de la définition de la procédure stockée à l'aide du délimiteur personnalisé @.\n",
    "\n",
    "* DELIMITER ; : Cette ligne restaure le délimiteur par défaut (;) pour terminer les instructions.\n",
    "\n",
    "Dans l'ensemble, cette procédure stockée met à jour le SALEPRICE d'un animal dans la table PETSALE en fonction de son état de santé (Animal_Health) et de l'Animal_ID fourni. Il applique différentes réductions sur le SALEPRICE en fonction de l'état de santé.\n",
    "\n",
    "J'espère que cette explication vous aidera.\n",
    "\n",
    "Bon apprentissage!\n",
    "\n",
    "Salutations\n",
    "\n",
    "Héma"
   ]
  },
  {
   "cell_type": "markdown",
   "id": "e1920384-ae39-4b41-a268-1e40286b7d0b",
   "metadata": {},
   "source": [
    "1. ### Let's call the UPDATE_SALEPRICE routine. We want to update the sale price of animal with ID 1 having BAD health condition in the PETSALE table. open another SQL tab by clicking Open in new Tab\n",
    "\n",
    " ###  Appelons la UPDATE_SALEPRICE routine. Nous voulons mettre à jour le prix de vente de l’animal avec l’ID 1 ayant un MAUVAIS état de santé dans le tableau PETSALE. ouvrez un autre onglet SQL en cliquant sur Ouvrir dans un nouvel onglet\n"
   ]
  },
  {
   "cell_type": "markdown",
   "id": "e7f77ff2-9243-4dfb-8538-3ada71b1d5dc",
   "metadata": {},
   "source": [
    "Supprimez la ligne par défaut qui apparaît afin d’obtenir une fenêtre vide.\n",
    "\n",
    "Copiez le code ci-dessous et collez-le dans la zone de texte de la page SQL. Cliquez sur OK.\n",
    "\n",
    "Notez que si vous avez abandonné RETREIVE_ALL procédure, réexécutez le script de création de cette procédure avant d’exécuter ces lignes."
   ]
  },
  {
   "cell_type": "code",
   "execution_count": null,
   "id": "e122ffdd-e72f-4a48-a763-e8d35c3fad44",
   "metadata": {},
   "outputs": [],
   "source": [
    "   CALL RETRIEVE_ALL;\n",
    "\n",
    "   CALL UPDATE_SALEPRICE(1, 'BAD');\n",
    "\n",
    "   CALL RETRIEVE_ALL;"
   ]
  },
  {
   "cell_type": "markdown",
   "id": "50cf7e14-9fa9-45ee-af9c-9d7324192dc6",
   "metadata": {},
   "source": [
    "2. ### Let's call the UPDATE_SALEPRICE routine once again. We want to update the sale price of animal with ID 3 having WORSE health condition in the PETSALE table. copy the code below and paste it to the textarea of the SQL page. Click Go. You will have all the records retrieved from the PETSALE table.\n",
    "\n",
    "\n",
    "\n",
    " ### Appelons la UPDATE_SALEPRICE routine une fois de plus. Nous voulons mettre à jour le prix de vente de l’animal avec l’ID 3 ayant un état de santé PIRE dans le tableau PETSALE. copiez le code ci-dessous et collez-le dans la zone de texte de la page SQL. Cliquez sur OK. Vous aurez tous les enregistrements récupérés à partir de la table PETSALE."
   ]
  },
  {
   "cell_type": "code",
   "execution_count": null,
   "id": "606502b4-f0a5-467f-8f34-48a0acb88775",
   "metadata": {},
   "outputs": [],
   "source": [
    "   CALL RETRIEVE_ALL;\n",
    "\n",
    "   CALL UPDATE_SALEPRICE(3, 'WORSE');\n",
    "\n",
    "   CALL RETRIEVE_ALL;"
   ]
  },
  {
   "cell_type": "markdown",
   "id": "5ccb6520-7160-4b67-bbf7-2aac1fd5ab9f",
   "metadata": {},
   "source": [
    "Bonjour @MAHI,\n",
    "\n",
    "merci pour le post.\n",
    "\n",
    "Nous sommes heureux de pouvoir vous aider.\n",
    "\n",
    "Veuillez noter que ces lignes de code sont des instructions SQL qui appellent des procédures stockées dans une base de données. Voici une explication de chaque ligne :\n",
    "\n",
    "CALL RETRIEVE_ALL ; : Cette ligne appelle la procédure stockée nommée RETRIEVE_ALL. Il exécute la procédure, qui récupère probablement tous les enregistrements ou effectue une sorte d'opération de récupération de données dans la base de données. La fonctionnalité exacte dépend de la manière dont la procédure stockée RETRIEVE_ALL\n",
    "\n",
    " est implémentée. \n",
    "CALL UPDATE_SALEPRICE (3, 'WORSE') ; : Cette ligne appelle la procédure stockée nommée UPDATE_SALEPRICE avec deux arguments : 3 pour Animal_ID et « WORSE » pour Animal_Health. Il exécute la procédure qui met à jour le prix de vente d'un animal de compagnie dont l'identifiant Animal_ID est égal à 3 en fonction de l'état de santé « PIRE ». La procédure peut appliquer une logique ou des calculs spécifiques pour ajuster le prix de vente en conséquence.\n",
    "\n",
    " \n",
    "CALL RETRIEVE_ALL ; : Cette ligne appelle à nouveau la procédure stockée nommée RETRIEVE_ALL, susceptible de récupérer tous les enregistrements ou d'effectuer une autre opération de récupération de données dans la base de données. Il est appelé après la mise à jour du prix de vente dans la ligne précédente, éventuellement pour vérifier les modifications apportées par la procédure UPDATE_SALEPRICE\n",
    "\n",
    "Dans l'ensemble, ces lignes de code exécutent des procédures stockées dans la base de données pour récupérer des données et mettre à jour les prix de vente en fonction de certaines conditions.\n",
    "\n",
    "Les champs surlignés indiquent la différence de prix de vente après la mise à jour du prix de vente d'un animal dont l'ID 3 présente un état de santé PIRE dans le tableau PETSALE.\n",
    "\n",
    "J'espère que cette explication vous sera utile.\n",
    "\n",
    "Bon apprentissage !\n",
    "\n",
    "Cordialement"
   ]
  },
  {
   "cell_type": "markdown",
   "id": "d6e450b5-33da-400d-9a1d-ec4acecd4aa5",
   "metadata": {},
   "source": [
    "Vous pouvez afficher la routine de procédure stockée créée UPDATE_SALEPRICE. Cliquez sur les routines et affichez la procédure."
   ]
  },
  {
   "cell_type": "markdown",
   "id": "07a1f8ec-151b-4d94-b257-ac258ad98761",
   "metadata": {},
   "source": [
    "4. ### If you wish to drop the stored procedure routine UPDATE_SALEPRICE, copy the code below and paste it to the textarea of the SQL page. Click Go.\n",
    "\n",
    "\n"
   ]
  },
  {
   "cell_type": "code",
   "execution_count": null,
   "id": "93577e3a-0179-406e-9099-66f80b48ed53",
   "metadata": {},
   "outputs": [],
   "source": [
    "DROP PROCEDURE UPDATE_SALEPRICE;\n",
    "CALL UPDATE_SALEPRICE;\n",
    "Copied!"
   ]
  },
  {
   "cell_type": "code",
   "execution_count": null,
   "id": "ef3efbb8-238d-4a5b-a848-828e3d6dd3be",
   "metadata": {},
   "outputs": [],
   "source": [
    "Erreur\n",
    "Requête SQL : Copier\n",
    "\n",
    "\n",
    "CALL UPDATE_SALEPRICE\n",
    "MySQL a répondu : Documentation\n",
    "\n",
    "#1305 - PROCEDURE Mysql_Learners.UPDATE_SALEPRICE does not exist"
   ]
  },
  {
   "cell_type": "markdown",
   "id": "17e8df0f-5012-47e9-8fb5-2f92f4c10187",
   "metadata": {},
   "source": [
    "# Transactions ACID"
   ]
  },
  {
   "cell_type": "markdown",
   "id": "b2c5efaa-1bfa-4ff7-9668-2307771e3ba2",
   "metadata": {},
   "source": [
    "Bienvenue sur ACID transactions. Après avoir visionné cette vidéo, vous serez en mesure de : Expliquer ce qu'est une transaction ACID Donnez un exemple de transaction ACID Décrire les validations et les annulations Une transaction est une unité de travail indivisible. Elle peut consister en une ou plusieurs instructions SQL, mais pour être considérée comme réussie, soit toutes ces instructions SQL doivent être exécutées correctement, laissant la base de données dans un nouvel état stable, soit aucune ne doit être terminée, laissant la base de données telle qu'elle était avant le début de la transaction. Par exemple, si vous effectuez un achat avec votre carte bancaire, de nombreuses choses doivent se produire : le produit doit être ajouté à votre panier Votre paiement doit être traité - Votre compte doit être débité du montant correct et le compte de la boutique crédité Le stock de ce produit doit être réduit du nombre acheté Examinons l'exemple plus en détail. Si Rose achète des bottes pour 200$, vous pouvez utiliser un relevé UPDATE pour réduire le solde de son compte. Et un autre relevé UDATE pour ajouter 200$ au solde de Shoe Shop. Et une dernière déclaration de mise à jour visant à réduire de 1 % le stock de bottes au magasin de chaussures. Si l'une de ces instructions UPDATE échoue, l'ensemble de la transaction doit échouer, afin de maintenir les données dans un état cohérent. Les types de transactions présentés dans cet exemple sont appelés transactions ACID. Atomic - Toutes les modifications doivent être effectuées avec succès ou pas du tout. Cohérence : les données doivent être dans un état cohérent avant et après la transaction. Isolé : aucun autre processus ne peut modifier les données pendant que la transaction est en cours d'exécution. Durable : les modifications apportées par la transaction doivent être conservées. Pour démarrer une transaction ACID, utilisez la commande BEGIN. Dans db2 on Cloud, cette commande est implicite. Toutes les commandes que vous émettez par la suite font partie de la transaction, jusqu'à ce que vous émettiez COMMIT ou ROLLBACK. Si toutes les commandes s'exécutent correctement, émettez une commande de validation pour enregistrer tous les éléments de la base de données dans un état constant et stable. Si l'une des commandes échoue (peut-être que le compte de Rose ne dispose pas de suffisamment d'argent pour effectuer le paiement), vous pouvez émettre une commande de restauration pour annuler toutes les modifications et laisser la base de données dans son état stable d'origine. Les instructions SQL peuvent être appelées à partir de langages tels que Java, C, R et Python. Cela nécessite l'utilisation d'API d'accès spécifiques à la base de données, telles que Java Database Connectivity (JDBC) pour Java ou d'un connecteur de base de données spécifique tel que ibm_db pour Python. La plupart des langages utilisent les commandes SQL EXEC pour lancer une commande SQL, notamment COMMIT et ROLLBACK, comme vous pouvez le voir dans cet exemple. N'oubliez pas que BEGIN est implicite, vous n'avez pas besoin de l'appeler explicitement. L'intégration de commandes SQL dans le code de votre application vous donne la possibilité de créer des routines de vérification des erreurs qui, à leur tour, contrôlent si la transaction est validée ou annulée. Dans cette vidéo, vous avez appris que : une transaction représente une unité de travail complète, qui peut être une ou plusieurs instructions SQL. Dans le cadre d'une transaction ACID, toutes les instructions SQL doivent être exécutées avec succès, voire aucune. Cela garantit que la base de données est toujours dans un état cohérent. ACID est l'abréviation de Atomic, Consistent, Isolated, Durable. Les commandes SQL BEGIN, COMMIT et ROLLBACK sont utilisées pour gérer les transactions ACID. Les commandes SQL peuvent être appelées à partir de langages tels que C, R et Python."
   ]
  },
  {
   "cell_type": "markdown",
   "id": "775f3e34-2155-4834-94b1-851da1f60472",
   "metadata": {},
   "source": [
    " # Hands-on Lab: Committing and Rolling Back a Transaction\n",
    " # Atelier pratique : Validation et annulation d’une transaction   \n",
    "    "
   ]
  },
  {
   "cell_type": "markdown",
   "id": "1569ed9a-c97d-44e6-b6e8-28f613617d17",
   "metadata": {},
   "source": [
    "Estimated time needed: 20 minutes\n",
    "\n",
    "A transaction is simply a sequence of operations performed using one or more SQL statements as a single logical unit of work. A database transaction must be ACID (Atomic, Consistent, Isolated and Durable). The effects of all the SQL statements in a transaction can either be applied to the database using the COMMIT command or undone from the database using the ROLLBACK command.\n",
    "\n",
    "In this lab, you will learn some commonly used TCL (Transaction Control Language) commands of SQL through the creation of a stored procedure routine. You will learn about COMMIT, which is used to permanently save the changes done in the transactions in a table, and about ROLLBACK, which is used to undo the transactions that have not been saved in a table. ROLLBACK can only be used to undo the changes in the current unit of work."
   ]
  },
  {
   "cell_type": "markdown",
   "id": "bb04dc5d-cb99-4a7e-b743-dba0456115fb",
   "metadata": {},
   "source": [
    "Temps estimé nécessaire : 20 minutes\n",
    "\n",
    "Une transaction est simplement une séquence d’opérations effectuées à l’aide d’une ou plusieurs instructions SQL comme unité de travail logique unique. Une transaction de base de données doit être ACID (Atomic, Consistent, Isolated and Durable). Les effets de toutes les instructions SQL d’une transaction peuvent être appliqués à la base de données à l’aide de la commande COMMIT ou annulés de la base de données à l’aide de la commande ROLLBACK.\n",
    "\n",
    "Dans cet atelier, vous allez apprendre certaines commandes TCL (Transaction Control Language) couramment utilisées de SQL grâce à la création d’une routine de procédure stockée. Vous en apprendrez plus sur COMMIT, qui est utilisé pour enregistrer de façon permanente les modifications apportées aux transactions d’une table, et sur ROLLBACK, qui est utilisé pour annuler les transactions qui n’ont pas été enregistrées dans une table. ROLLBACK ne peut être utilisé que pour annuler les modifications apportées à l’unité de travail en cours."
   ]
  },
  {
   "cell_type": "markdown",
   "id": "c3f0eb73-3fc8-4365-94d4-3c5410ac0875",
   "metadata": {},
   "source": [
    "Objectives\n",
    "After completing this lab, you will be able to:\n",
    "\n",
    "Permanently save the changes done in a transaction\n",
    "Undo the transaction that has not been saved\n",
    "Software Used in this Lab\n",
    "MySQL is a Relational Database Management System (RDBMS) designed to efficiently store, manipulate, and retrieve data.\n",
    "\n",
    "\n",
    "To complete this lab you will utilize MySQL relational database service available as part of IBM Skills Network Labs (SN Labs) Cloud IDE. SN Labs is a virtual lab environment used in this course.\n",
    "\n",
    "Database Used in this Lab\n",
    "Mysql_learners database has been used in this lab."
   ]
  },
  {
   "cell_type": "markdown",
   "id": "2fecf6ca-399e-4fc6-9b03-b0b013a52952",
   "metadata": {},
   "source": [
    "#  Objectifs\n",
    "À l’issue de cet atelier, vous serez en mesure de :\n",
    "\n",
    "Enregistrer de façon permanente les modifications apportées à une transaction\n",
    "Annuler la transaction qui n’a pas été enregistrée.\n",
    "\n",
    "\n",
    "# Logiciels utilisés dans cet atelier\n",
    "MySQL est un système de gestion de base de données relationnelle (SGBDR) conçu pour stocker, manipuler et récupérer efficacement des données.\n",
    "\n",
    "\n",
    "Pour effectuer cet atelier, vous utiliserez le service de base de données relationnelle MySQL disponible dans le cadre de l’IDE cloud IBM Skills Network Labs (SN Labs). SN Labs est un environnement de laboratoire virtuel utilisé dans ce cours.\n",
    "\n",
    "# Base de données utilisée dans cet atelier\n",
    "\n",
    "\n",
    "\n",
    "Mysql_learners base de données a été utilisée dans cet atelier."
   ]
  },
  {
   "cell_type": "markdown",
   "id": "6ee67aa3-15e9-49d9-8db5-39def67feafa",
   "metadata": {},
   "source": [
    "# Données utilisées dans cet atelier\n",
    "Les données utilisées dans ce laboratoire sont des données internes. Vous travaillerez sur les tables BankAccounts et ShoeShop."
   ]
  },
  {
   "cell_type": "markdown",
   "id": "849949c2-d1e1-47b1-a812-bce17ec9b7dd",
   "metadata": {},
   "source": [
    "This lab requires you to have the BankAccounts and ShoeShop tables populated with sample data. Download the BankAccounts-CREATE.sql and ShoeShop-CREATE.sql scripts below, and load them to the phpMyAdmin console. The scripts will create new tables called BankAccounts and ShoeShop and populate them with the sample data required for this lab.\n",
    "\n",
    "Cet atelier nécessite que les tables BankAccounts et ShoeShop soient renseignées avec des exemples de données. Téléchargez les scripts BankAccounts-CREATE.sql et ShoeShop-CREATE.sql ci-dessous, et chargez-les dans la console phpMyAdmin. Les scripts créent de nouvelles tables appelées BankAccounts et ShoeShop et les remplissent avec les exemples de données requis pour cet atelier.\n",
    "\n",
    "\n",
    "[BankAccounts-CREATE.sql](https://cf-courses-data.s3.us.cloud-object-storage.appdomain.cloud/IBMDeveloperSkillsNetwork-DB0201EN-SkillsNetwork/labs/MySQL/week6/BankAccounts-CREATE.sql)\n",
    "\n",
    "\n",
    "\n",
    "[ShoeShop-CREATE.sql](https://cf-courses-data.s3.us.cloud-object-storage.appdomain.cloud/IBMDeveloperSkillsNetwork-DB0201EN-SkillsNetwork/labs/MySQL/week6/ShoeShop-CREATE.sql)\n",
    "\n"
   ]
  },
  {
   "cell_type": "markdown",
   "id": "fd23f309-7dcb-478d-9972-d75e540ad707",
   "metadata": {},
   "source": [
    " #  Sample Exercise\n",
    "Example of committing and rolling back a transaction.\n",
    "\n",
    "1. ### Scenario: Rose is buying a pair of boots from ShoeShop. So we have to update Rose's balance as well as the ShoeShop balance in the BankAccounts table. Then we also have to update Boots stock in the ShoeShop table. After Boots, let's also attempt to buy Rose a pair of Trainers.\n",
    "\n",
    " \n",
    "Scénario : Rose achète une paire de bottes chez ShoeShop. Nous devons donc mettre à jour le solde de Rose ainsi que le solde de ShoeShop dans le tableau BankAccounts. Ensuite, nous devons également mettre à jour le stock de bottes dans le tableau ShoeShop. Après les bottes, essayons aussi d’acheter une paire de baskets à Rose.\n",
    "\n",
    "\n",
    "\n",
    "- Once the tables are ready, create a stored procedure routine named TRANSACTION_ROSE that includes TCL commands like COMMIT and ROLLBACK.\n",
    "Now develop the routine based on the given scenario to execute a transaction.\n",
    "To create the stored procedure routine on MySQL, copy the code below and paste it to the textarea of the SQL page. Click Go.\n",
    "\n",
    "\n",
    "\n",
    "- Une fois que les tables sont prêtes, créez une routine de procédure stockée nommée TRANSACTION_ROSE qui inclut des commandes TCL telles que COMMIT et ROLLBACK.\n",
    "- Développez maintenant la routine en fonction du scénario donné pour exécuter une transaction.\n",
    "- Pour créer la routine de procédure stockée sur MySQL, copiez le code ci-dessous et collez-le dans la zone de texte de la page SQL. Cliquez sur OK.\n",
    "\n",
    "\n"
   ]
  },
  {
   "cell_type": "code",
   "execution_count": null,
   "id": "129d1e05-5d9f-4640-8243-a955be703c8a",
   "metadata": {},
   "outputs": [],
   "source": [
    "DELIMITER //\n",
    "\n",
    "CREATE PROCEDURE TRANSACTION_ROSE()\n",
    "BEGIN\n",
    "    DECLARE EXIT HANDLER FOR SQLEXCEPTION\n",
    "    BEGIN\n",
    "        ROLLBACK;\n",
    "        RESIGNAL;\n",
    "    END;\n",
    "    START TRANSACTION;\n",
    "    UPDATE BankAccounts\n",
    "    SET Balance = Balance-200\n",
    "    WHERE AccountName = 'Rose';\n",
    "\n",
    "    UPDATE BankAccounts\n",
    "    SET Balance = Balance+200\n",
    "    WHERE AccountName = 'Shoe Shop';\n",
    "\n",
    "    UPDATE ShoeShop\n",
    "    SET Stock = Stock-1\n",
    "    WHERE Product = 'Boots';\n",
    "\n",
    "    UPDATE BankAccounts\n",
    "    SET Balance = Balance-300\n",
    "    WHERE AccountName = 'Corner Shop';\n",
    "\n",
    "    COMMIT;\n",
    "END //\n",
    "\n",
    "DELIMITER ;"
   ]
  },
  {
   "cell_type": "markdown",
   "id": "e5c02592-acc7-49dc-b640-e6e5aab58a5e",
   "metadata": {},
   "source": [
    "3. ### Let's now check if the transaction can successfully be committed or not. Copy the code below in a new blank script and paste it to the textarea of the SQL page. Click Go\n",
    "\n",
    "Vérifions maintenant si la transaction peut être validée avec succès ou non. Copiez le code ci-dessous dans un nouveau script vierge et collez-le dans la zone de texte de la page SQL. Cliquez sur OK"
   ]
  },
  {
   "cell_type": "code",
   "execution_count": null,
   "id": "f6def76e-bb68-4d48-89cf-4d2b0b00ab40",
   "metadata": {},
   "outputs": [],
   "source": [
    "CALL TRANSACTION_ROSE;\n",
    "\n",
    "SELECT * FROM BankAccounts;\n",
    "\n",
    "SELECT * FROM ShoeShop;"
   ]
  },
  {
   "cell_type": "markdown",
   "id": "daca806d-dcb2-4dec-9283-4f523c9ead6c",
   "metadata": {},
   "source": [
    "4. ### Observe that the transaction has been executed. But when we observe the tables, no changes have permanently been saved through COMMIT. All the possible changes happened might have been undone through ROLLBACK since the whole transaction fails due to the failure of a SQL statement or more. Let's go through the possible reason behind the failure of the transaction and how COMMIT - ROLLBACK works on a stored procedure:\n",
    "\n",
    "\n",
    "   * The first three UPDATEs should run successfully. Both the balance of Rose and ShoeShop should have been updated in the BankAccounts table. The current balance of Rose should stand at 300 - 200 (price of a pair of Boots) = 100. The current balance of ShoeShop should stand at 124,200 + 200 = 124,400. The stock of Boots should also be updated in the ShoeShop table after the successful purchase for Rose, 11 - 1 = 10.\n",
    "   \n",
    "   \n",
    "   * The last UPDATE statement tries to buy Rose a pair of Trainers, but her balance becomes insufficient (Current balance of Rose: 100 < Price of Trainers: 300) after buying a pair of Boots. So, the last UPDATE statement fails. Since the whole transaction fails if any of the SQL statements fail, the transaction won't be committed.\n",
    "   \n",
    "c'est l'insruction la ici elle va faire la transaction_ROSE échoué \n",
    "UPDATE BankAccounts\n",
    "SET Balance = Balance-300\n",
    "WHERE AccountName = 'Rose';\n",
    "\n",
    "\n",
    "c'est pourquoi je l'ai remplacé (plus haut par) celle-ci pour que la transaction réussisse\n",
    "UPDATE BankAccounts\n",
    "    SET Balance = Balance-300\n",
    "    WHERE AccountName = 'Corner Shop';"
   ]
  },
  {
   "cell_type": "markdown",
   "id": "12831e3e-cb6d-4504-8755-ca9bd77338fb",
   "metadata": {},
   "source": [
    "Bonjour @MAHI,\n",
    "\n",
    "toutes mes excuses pour la gêne occasionnée !\n",
    "\n",
    "Si vous examinez les scripts SQL, certaines contraintes n'autorisent pas la valeur des colonnes à être 0. Par conséquent, lors de l'exécution des transactions, si les valeurs d'attribut deviennent 0, vous obtenez cette erreur. Par exemple, dans TRANSACTION_ROSE, la dernière instruction de mise à jour indique :\n",
    "\n",
    "\n",
    "UPDATE BankAccounts\n",
    "SET Balance = Balance-300\n",
    "WHERE AccountName = 'Rose';\n",
    "Cela définit la valeur du solde à 0, ce qui est contraire à la contrainte. Nous la mettrons bientôt à jour. Toutefois, comme solution temporaire, vous pouvez modifier la dernière instruction de mise à jour de la transaction comme suit :\n",
    "\n",
    "\n",
    "UPDATE BankAccounts\n",
    "SET Balance = Balance-300\n",
    "WHERE AccountName = 'Corner Shop';\n",
    "J'espère que cela vous aidera\n",
    "\n",
    "Bon apprentissage !\n",
    "\n",
    "Cordialement\n",
    "\n",
    "Hema"
   ]
  },
  {
   "cell_type": "markdown",
   "id": "d1585cf7-26df-41f3-8d51-399f947b1316",
   "metadata": {},
   "source": [
    "# Practice exercise \n",
    "\n",
    "Now let's practice an exercise on committing and rolling back a transaction.\n",
    "\n",
    "Create a stored procedure TRANSACTION_JAMES to execute a transaction based on the following scenario: First buy James 4 pairs of Trainers from ShoeShop. Update his balance as well as the balance of ShoeShop. Also, update the stock of Trainers at ShoeShop. Then attempt to buy James a pair of Brogues from ShoeShop. If any of the UPDATE statements fail, the whole transaction fails. You will roll back the transaction. Commit the transaction only if the whole transaction is successful."
   ]
  },
  {
   "cell_type": "markdown",
   "id": "370d8d23-0112-42d4-a493-9c8ed319ff83",
   "metadata": {},
   "source": [
    "Use the previous code from Task A Step 2 and modify it. Take 1200 (4 x 300) from James's balance and add 1200 to the ShoeShop balance. Take 4 trainers out of the stock in ShoeShop. Then take 150 from James's balance."
   ]
  },
  {
   "cell_type": "code",
   "execution_count": null,
   "id": "79351e49-5b66-4b70-b182-1e0a9977020d",
   "metadata": {},
   "outputs": [],
   "source": [
    "DELIMITER //\n",
    "\n",
    "CREATE PROCEDURE TRANSACTION_JAMES()\n",
    "\n",
    "BEGIN\n",
    "    DECLARE EXIT HANDLER FOR SQLEXCEPTION\n",
    "    BEGIN\n",
    "        ROLLBACK;\n",
    "        RESIGNAL;\n",
    "    END;\n",
    "\n",
    "    START TRANSACTION;\n",
    "\n",
    "    UPDATE BankAccounts\n",
    "    SET Balance = Balance-1200\n",
    "    WHERE AccountName = 'James';\n",
    "\n",
    "    UPDATE BankAccounts\n",
    "    SET Balance = Balance+1200\n",
    "    WHERE AccountName = 'Shoe Shop';\n",
    "\n",
    "    UPDATE ShoeShop\n",
    "    SET Stock = Stock-4\n",
    "    WHERE Product = 'Trainers';\n",
    "\n",
    "    UPDATE BankAccounts\n",
    "    SET Balance = Balance-150\n",
    "    WHERE AccountName = 'James';\n",
    "\n",
    "    COMMIT;\n",
    "\n",
    "END //\n",
    "\n",
    "DELIMITER ; "
   ]
  },
  {
   "cell_type": "code",
   "execution_count": null,
   "id": "91346e74-248a-4425-ae7b-f2e60352b4ce",
   "metadata": {},
   "outputs": [],
   "source": [
    "3. ###"
   ]
  },
  {
   "cell_type": "code",
   "execution_count": null,
   "id": "1612fdab-9bd2-4e8d-8c15-6bfa6ec5affa",
   "metadata": {},
   "outputs": [],
   "source": []
  },
  {
   "cell_type": "markdown",
   "id": "6257ac7f-a42a-48bb-88b0-c562d49ec987",
   "metadata": {},
   "source": [
    "MEME LABORATOIRE PRATIQUE SUR VIEW, procédures stockées, transaction ACID  à l'aide  IBM Db2 ON CLOUD, j'ai téléchargé les pdf sur le dossier video certif IBM"
   ]
  },
  {
   "cell_type": "raw",
   "id": "67974cd4-b63a-44eb-aeeb-9495fe44e583",
   "metadata": {},
   "source": [
    "Résumé : vues, procédures stockées et transactionsStatut : Traduit automatiquement de Anglais\n",
    "Traduit automatiquement de Anglais\n",
    "Nous vous félicitons ! Vous avez terminé cette leçon. A ce stade du cours, vous savez :\n",
    "\n",
    "Une transaction représente une unité de travail complète, qui peut être une ou plusieurs instructions SQL.\n",
    "\n",
    "Une transaction ACID est une transaction dans laquelle toutes les instructions SQL doivent être exécutées avec succès, ou aucune.\n",
    "\n",
    "Une procédure stockée est un ensemble d'instructions SQL stockées et exécutées sur le serveur de base de données, ce qui vous permet d'envoyer une seule instruction au lieu de plusieurs.\n",
    "\n",
    "Vous pouvez écrire des procédures stockées dans de nombreux langages différents, tels que SQL PL, PL/SQL, Java et C."
   ]
  },
  {
   "cell_type": "markdown",
   "id": "3e74d816-fb7f-4191-abcf-a4cb1e43cf86",
   "metadata": {},
   "source": [
    "# Vue d'ensemble de l'adhésion"
   ]
  },
  {
   "cell_type": "markdown",
   "id": "740ff406-6f2a-4ad0-818c-88728fd825ab",
   "metadata": {},
   "source": [
    "Bonjour et bienvenue sur Join Overview. Après avoir visionné cette vidéo, vous serez en mesure de : Définir l'opérateur de jointure Expliquer le rôle des clés primaires et des clés étrangères dans une opération de jointure Répertorier les différents types d'opérateurs de jointure Une simple instruction Select extrait les données d'une ou de plusieurs colonnes d'une même table. Le niveau de complexité suivant consiste à récupérer les données de deux tables ou plus. Cela ouvre de multiples possibilités quant à la manière dont le jeu de résultats peut être généré. Pour combiner les données de deux tables, vous utilisez l'opérateur JOIN. Un JOIN combine les lignes de deux tables ou plus en fonction d'une relation entre certaines colonnes de ces tables. Dans cet exemple de base de données de bibliothèque simplifié, l'auteur et le livre sont des entités. Ce diagramme de relation entre entités représente le modèle de données relationnel pour l'auteur et l'entité du livre, ainsi que pour d'autres entités telles que l'emprunteur, le prêt, la copie et la liste des auteurs. Les informations sont réparties dans différents tableaux. Si vous voulez savoir quel emprunteur possède quel exemplaire d'un livre prêté, vous devez recueillir des données à partir de trois tableaux : le tableau de l'emprunteur, le tableau du prêt et le tableau des copies. C'est à ce moment que vous devez utiliser l'opérateur JOIN. Vous devez d'abord identifier la relation entre ces tables. C'est-à-dire la ou les colonnes de chaque table à utiliser comme lien entre les tables. Dans ce diagramme de relation entre les entités, notez que l'identifiant de l'auteur, le numéro du livre, l'identifiant de l'emprunteur et le numéro de copie comportent l'icône de la clé primaire. Une clé primaire identifie de manière unique chaque ligne d'un tableau. Notez également que les entités dans la partie inférieure de l'écran (certains attributs) ont FK entre crochets à côté d'elles. Cela identifie une clé étrangère, qui est un ensemble de colonnes faisant référence à la clé primaire d'une autre entité. Par exemple, l'entité de prêt possède l' attribut d'identification de l'emprunteur avec le FK entre crochets. Dans cet exemple, l'attribut d'identifiant de l'emprunteur est la clé étrangère de l'entité de prêt, qui fait référence à la clé primaire de l'entité emprunteuse. Donc, si vous voulez savoir quel emprunteur a un livre prêté, vous devez recueillir des données à partir des tableaux des emprunteurs et des prêts. Vous aurez besoin de l'identifiant de l'emprunteur indiqué dans les deux tableaux. Jusqu'à présent, vous avez vu un exemple de combinaison de deux tables. Mais que se passe-t-il si vous devez combiner les données de trois tables différentes ou plus ? Il vous suffit d'ajouter de nouvelles tables aux jointures. Par exemple, si vous voulez savoir quels emprunteurs ont un livre prêté et quel exemplaire du livre ils ont prêté, vous devez d'abord joindre les informations du tableau des emprunteurs et du tableau des prêts en faisant correspondre les identifiants des emprunteurs. Ensuite, vous joignez les informations de la table des prêts et de la table de copie en faisant correspondre les identifiants de copie. SQL vous propose différents types de JOINs. Vous pouvez extraire un ensemble de données correspondant à l' intersection des deux tables concernées, ou vous pouvez choisir un ensemble de données plus important. Vous pouvez aller jusqu'à sélectionner la combinaison de toutes les données de ces deux tables. Le type de jointure le plus courant est une jointure interne, qui affiche uniquement les lignes de deux tables dont la valeur correspond dans une colonne commune, généralement la clé primaire d'une table qui existe en tant que clé étrangère dans la deuxième table. Il existe également des jointures externes, qui renvoient les lignes correspondantes, et même les lignes de l'une ou l'autre table qui ne correspondent pas. Il existe de nombreuses variantes de jointure externe que vous pouvez utiliser pour affiner votre jeu de résultats. Dans cette vidéo, vous avez appris que : vous pouvez utiliser l'opérateur JOIN pour combiner des lignes provenant de deux tables ou plus. Les tables jointes sont liées par une colonne commune, qui est généralement la clé primaire d'une table et apparaît sous forme de clé étrangère dans l'autre table. Il existe deux types de jointures : les jointures internes et les jointures externes.\n",
    "fr\n",
    "​\n",
    "\n"
   ]
  },
  {
   "cell_type": "markdown",
   "id": "21cdf84e-9577-41c4-b191-bfd163407c0a",
   "metadata": {},
   "source": [
    "# Jointure interne"
   ]
  },
  {
   "cell_type": "markdown",
   "id": "9a3f177c-a303-4b6e-b59e-fd54f2b23edd",
   "metadata": {},
   "source": [
    "Bienvenue chez Inner Join. Après avoir visionné cette vidéo, vous serez capable de : Décrire les jointures internes Expliquer quand utiliser une jointure interne Décrire la syntaxe de l'instruction INNER\n",
    "Lisez la vidéo à partir de ::20 et suivez la transcription0:20\n",
    "JOIN Une opération de jointure combine les lignes de deux tables ou plus en fonction d'une relation entre certaines colonnes de ces tables. Il existe deux types de jointures de table : les jointures internes et les jointures externes. Le type de jointure le plus courant est une jointure interne, qui affiche uniquement les lignes de deux tables dont la valeur correspond dans une colonne commune, généralement la clé primaire d'une table qui existe en tant que clé étrangère dans la deuxième table. Il s'agit de la syntaxe de l'instruction select pour une jointure interne. Imaginons que vous souhaitiez récupérer une liste de toutes les personnes qui empruntent des livres, ainsi que la date du prêt. Vous avez besoin des données de la table des emprunteurs et de la table des prêts. Dans la clause FROM, vous spécifiez la jointure entre la table des emprunteurs et la table des prêts sous la forme BORROWER INNER JOIN LOAN. Vous identifiez la table des emprunteurs comme B et la table des prêts comme L. La table spécifiée à gauche de la clause JOIN est connue sous le nom de table de gauche. Dans ce cas, la table des emprunteurs est la table de gauche. Pour cette adhésion, vous sélectionnez l'identifiant de l'emprunteur, le nom de famille et le pays dans le tableau des emprunteurs, et l'identifiant de l'emprunteur et la date du prêt dans le tableau des prêts. Dans la clause ON, vous spécifiez le prédicat JOIN, dans ce cas, à condition que l'identifiant de l'emprunteur dans la table des emprunteurs soit égal à l'identifiant de l'emprunteur dans la table des prêts. Notez que dans cette jointure, chaque nom de colonne est préfixé par la lettre B ou L. En SQL, cela s'appelle un alias. Il est beaucoup plus facile d'utiliser un alias que de réécrire le nom complet de la table. Le jeu de résultats affiche uniquement les lignes des deux tables qui ont le même identifiant d'emprunteur. Les lignes sont affichées si elles correspondent à Borrower_Id. Les lignes dont les Borrower_ID ne correspondent pas ne sont pas affichées. Les colonnes Borrower_Id, Lastname et Country sont extraites de la table Borrower et jointes aux colonnes Borrower_Id et Loan_Date de la table Loan pour créer le jeu de résultats. Dans cette vidéo, vous avez appris que : les jointures internes renvoient uniquement les lignes des tables dont la valeur correspond dans une colonne commune, généralement la clé primaire d'une table qui existe en tant que clé étrangère dans la deuxième table. Les lignes des tables jointes qui n'ont pas de valeur correspondante n'apparaissent pas dans le résultat."
   ]
  },
  {
   "cell_type": "markdown",
   "id": "9e7ccb4b-4de7-4781-b373-e7c7f454b439",
   "metadata": {},
   "source": [
    "# Joints externes"
   ]
  },
  {
   "cell_type": "markdown",
   "id": "6a766904-6323-4c4f-8c5e-068add94d26d",
   "metadata": {},
   "source": [
    "Bienvenue chez Outer Join. Après avoir visionné cette vidéo, vous serez en mesure de : Décrire les jointures externes gauches, les jointures externes droites et les jointures externes complètes Expliquer quand utiliser chaque type de jointure externe Décrire la syntaxe de l'instruction OUTER JOIN Les jointures extérieures, comme les jointures internes, renvoient les lignes de chaque table dont les valeurs correspondent dans les colonnes de jointure. Contrairement aux jointures internes, les jointures externes renvoient également les lignes qui ne correspondent pas entre les tables. SQL propose trois types de jointures externes : jointure externe gauche, jointure externe droite et jointure externe complète. Dans une jointure externe gauche, toutes les lignes de la première table (sur le côté gauche du prédicat de jointure) sont incluses, et seules les lignes correspondantes de la seconde table (sur le côté droit du prédicat de jointure). Dans ce diagramme, une jointure gauche correspond à toutes les lignes de la table de gauche et combine les informations avec les lignes de la table de droite qui répondent aux critères spécifiés dans la requête. Dans une jointure externe droite, toutes les lignes de la première table (sur le côté gauche du prédicat de jointure) sont incluses, et seules les lignes correspondantes de la seconde table (sur le côté droit du prédicat de jointure). Dans ce diagramme, une jointure droite correspond à toutes les lignes de la table de droite et combine les informations avec les lignes de la table de gauche qui répondent aux critères spécifiés dans la requête. Une jointure complète renvoie toutes les lignes du tableau de droite et du tableau de gauche. Ainsi, le FULL JOIN peut renvoyer un jeu de résultats très important. Dans ce diagramme, le jeu de résultats d'un RIGHT JOIN est constitué de toutes les lignes des deux tables correspondant aux critères spécifiés dans la requête, ainsi que de toutes les lignes non correspondantes de la table RIGHT. Il s'agit de la syntaxe de l'instruction SELECT pour un LEFT JOIN. Dans cet exemple, la table Borrower est la première table spécifiée dans la clause FROM de l'instruction SELECT. La table Borrower est donc la table LEFT et la table Loan est la table DROITE.\n",
    "Lisez la vidéo à partir de :1:59 et suivez la transcription1:59\n",
    "Dans la clause FROM, Borrower est répertorié sur le côté gauche de l'opérateur de jointure. Vous allez donc sélectionner toutes les lignes de la table Borrower et les combiner avec le contenu de la table Loan en fonction des critères spécifiés dans la requête. Dans cet exemple, le critère est la colonne BORROWER ID. Pour une jointure externe gauche, simplement appelée jointure gauche, vous allez sélectionner les colonnes suivantes dans la table Borrower : BorrowerID, LastName et Country, et vous allez également sélectionner les colonnes suivantes dans la table des prêts : BorrowerID et LoanDate. Le LEFT JOIN sélectionne chaque numéro d'emprunteur dans le tableau des emprunteurs et affiche la date du prêt dans le tableau des prêts. Le jeu de résultats indique l'identifiant de chaque emprunteur indiqué dans le tableau des emprunteurs, ainsi que la date du prêt pour cet emprunteur. Aucune date de prêt n'étant indiquée pour les trois dernières lignes, l'identifiant de l'emprunteur et la date du prêt affichent des valeurs nulles. Il s'agit de la syntaxe de l'instruction SELECT pour un RIGHT JOIN. Dans cet exemple, la table Borrower est la première table spécifiée dans la clause FROM de l'instruction SELECT. La table Borrower est donc la table LEFT et la table Loan est la table DROITE.\n",
    "Lisez la vidéo à partir de :3:14 et suivez la transcription3:14\n",
    "Dans la clause FROM, la table Loan est répertoriée sur le côté droit de l'opérateur de jointure. Vous devez donc sélectionner toutes les lignes de la table Loan et les combiner avec le contenu de la table Borrower en fonction des critères spécifiés dans la requête. Dans cet exemple, le critère est la colonne BORROWER_ID.\n",
    "Lisez la vidéo à partir de :3:36 et suivez la transcription3:36\n",
    "Pour une JOINTURE DROITE, vous allez sélectionner les colonnes suivantes dans la table des prêts : Borrower_ID et LoanDate, et vous allez également sélectionner les colonnes suivantes dans la table des emprunteurs : Borrower_ID, LastName et Country où le Borrower_ID dans la table Loan correspond au Borrower_ID dans la table Borrower. Le jeu de résultats indique chaque identifiant d'emprunteur indiqué dans le tableau des prêts et la date du prêt pour cet emprunteur, où l'identifiant de l'emprunteur indiqué dans le tableau des prêts existe également dans le tableau des emprunteurs. Pour la dernière ligne, aucune ligne ne correspond dans la table des emprunteurs, de sorte que les champs Borrower_ID, Lastname et Country affichent des valeurs nulles. Cela peut indiquer un problème pour la bibliothèque ; cela indique qu'un livre a été prêté à une personne inconnue. Il s'agit de la syntaxe de l'instruction SELECT pour une jointure complète. Pour une ADHÉSION COMPLÈTE, vous devez sélectionner toutes les lignes de la table des emprunteurs et toutes les lignes de la table des prêts. Le jeu de résultats montre les huit enregistrements de la table des emprunteurs répertoriés avec les données correspondantes de la table des prêts. Encore une fois, trois lignes renvoient une valeur NULL car les emprunteurs Peters, Li et Wong n'ont jamais prêté de livre.\n",
    "Lisez la vidéo à partir de :4:52 et suivez la transcription4:52\n",
    "La dernière ligne renvoie les valeurs pour Borrower_ID et Loan_Date depuis la table Laon, mais renvoie des valeurs NULL depuis la table Borrower. Dans ce cas, il n'y a aucune correspondance dans le tableau des emprunteurs : l'emprunteur de ce livre est inconnu. Dans cette vidéo, vous avez appris que : il existe de nombreuses variantes de jointure externe que vous pouvez utiliser pour affiner votre ensemble de résultats. Les jointures externes gauches renvoient toutes les lignes de la table de gauche, et toutes les lignes de la table de droite qui correspondent à ce qu'une jointure interne renverrait et toutes les lignes de la première table qui n'ont pas de correspondance dans la seconde table. Les jointures extérieures droites renvoient toutes les lignes qu'une jointure interne renverrait et toutes les lignes de la deuxième table qui n'ont pas de correspondance dans la première table. Les jointures externes complètes renvoient toutes les lignes correspondantes des deux tables et toutes les lignes des deux tables qui ne correspondent pas."
   ]
  },
  {
   "cell_type": "code",
   "execution_count": null,
   "id": "b9020142-2e5d-4cbe-836b-4e23958b67e8",
   "metadata": {},
   "outputs": [],
   "source": [
    "Estimated time needed: 20 minutes\n",
    "\n",
    "SQL JOIN is a clause that combines rows from two or more tables based on a related column between them. The table's relationship is established by comparing the values in the columns. The purpose of using JOINs is to retrieve data from multiple tables in a single query. There are four types of JOINs in SQL: INNER JOIN, LEFT JOIN, RIGHT JOIN, and FULL OUTER JOIN.\n",
    "\n",
    "INNER JOIN: Returns only the rows with matching values in both tables.\n",
    "LEFT JOIN: Returns all the rows from the left table and matching rows from the right table.\n",
    "RIGHT JOIN: Returns all the rows from the right table and matching rows from the left table.\n",
    "FULL OUTER JOIN: Returns all the rows when a match in the left or right table."
   ]
  },
  {
   "cell_type": "markdown",
   "id": "b1e437bb-8b62-4b8f-a6bf-dc9969a1051a",
   "metadata": {},
   "source": [
    "# Temps estimé nécessaire : 20 minutes\n",
    "\n",
    "SQL JOIN est une clause qui combine les lignes de deux tables ou plus en fonction d’une colonne liée entre elles. La relation de la table est établie en comparant les valeurs des colonnes. L’objectif de l’utilisation des jointures est de récupérer des données à partir de plusieurs tables dans une seule requête. Il existe quatre types de jointures en SQL : JOINTURE INTERNE, JOINTURE GAUCHE, JOINTURE DROITE et JOINTURE EXTERNE COMPLÈTE.\n",
    "\n",
    "- INNER JOIN : renvoie uniquement les lignes dont les valeurs correspondent dans les deux tables.\n",
    "- JOINTURE GAUCHE : renvoie toutes les lignes de la table de gauche et les lignes correspondantes de la table de droite.\n",
    "- JOINTURE DROITE : renvoie toutes les lignes de la table de droite et les lignes correspondantes de la table de gauche.\n",
    "- JOINTURE EXTERNE COMPLÈTE : Renvoie toutes les lignes lorsqu’une correspondance est effectuée dans la table de gauche ou de droite.\n",
    "\n",
    "\n",
    "\n",
    "# Objectifs\n",
    "\n",
    "À la fin de cet atelier, vous serez en mesure de :\n",
    "\n",
    "Écrire des requêtes SQL sur plusieurs tables à l’aide de INNER JOINS\n",
    "Écrire des requêtes SQL sur plusieurs tables à l’aide de OUTER JOINS\n",
    "Logiciels utilisés dans cet atelier\n",
    "Dans cet atelier, vous allez utiliser MySQL. MySQL est un système de gestion de base de données relationnelle (SGBDR) conçu pour stocker, manipuler et récupérer efficacement des données.\n",
    "\n"
   ]
  },
  {
   "cell_type": "markdown",
   "id": "eddd1b42-8294-4fb2-a7ca-e93fc7b8dfbb",
   "metadata": {},
   "source": [
    "Pour effectuer cet atelier, vous utiliserez le service de base de données relationnelle MySQL disponible dans le cadre de l’IDE cloud IBM Skills Network Labs (SN Labs). SN Labs est un environnement de laboratoire virtuel utilisé dans ce cours."
   ]
  },
  {
   "cell_type": "markdown",
   "id": "c543e1f8-67fc-45d0-bbaa-94ff81c73d44",
   "metadata": {},
   "source": [
    "# Base de données utilisée dans cet atelier\n",
    "\n",
    "La base de données utilisée dans cet atelier est interne. Vous travaillerez sur un exemple de base de données RH. Ce schéma de base de données RH se compose de cinq tables : EMPLOYÉS, JOB_HISTORY, EMPLOIS, SERVICES et EMPLACEMENTS. Chaque table comporte quelques lignes d’exemples de données. Le diagramme suivant montre les tables de la base de données RH :"
   ]
  },
  {
   "cell_type": "markdown",
   "id": "ec4aad34-a57b-4209-9f02-637890410942",
   "metadata": {},
   "source": [
    "Dans cet atelier, vous allez passer en revue des problèmes pratiques SQL qui vous permettront d’acquérir une expérience pratique des différents types d’opérations de jointure.\n",
    "\n",
    "REMARQUE : Cet atelier nécessite que ces cinq tables de la base de données RH soient remplies avec des exemples de données sur MySQL.\n",
    "\n"
   ]
  },
  {
   "cell_type": "markdown",
   "id": "7b213521-df65-480f-a94a-a56dbd69ae72",
   "metadata": {},
   "source": [
    "# Charger la base de données\n",
    "En utilisant les compétences acquises dans les modules précédents, vous devez d’abord créer la base de données en MySQL. Suivez les étapes ci-dessous :\n",
    "\n",
    "1. ### Ouvrez l’interface phpMyAdmin à partir de la boîte à outils Skills Network dans Cloud IDE.\n",
    "\n",
    "2. ### Créez une base de données vierge nommée « RH ». Utilisez le script partagé dans le lien ci-dessous pour créer les tables requises.\n",
    "\n",
    "[Script_Create_Tables.sql](https://cf-courses-data.s3.us.cloud-object-storage.appdomain.cloud/IBMDeveloperSkillsNetwork-DB0201EN-SkillsNetwork/labs/Module%202/scripts/Script_Create_Tables.sql)\n",
    "\n",
    "3. ### Téléchargez les fichiers contenus dans les liens ci-dessous sur votre ordinateur local (si ce n’est pas déjà fait dans les ateliers précédents).\n",
    "\n",
    "[Departments.csv](https://cf-courses-data.s3.us.cloud-object-storage.appdomain.cloud/IBMDeveloperSkillsNetwork-DB0201EN-SkillsNetwork/labs/Labs_Coursera_V5/datasets/HR_Database/Departments.csv)\n",
    "\n",
    "[Jobs.csv](https://cf-courses-data.s3.us.cloud-object-storage.appdomain.cloud/IBMDeveloperSkillsNetwork-DB0201EN-SkillsNetwork/labs/Module%202/data/Jobs.csv)\n",
    "\n",
    "[JobsHistory.csv](https://cf-courses-data.s3.us.cloud-object-storage.appdomain.cloud/IBMDeveloperSkillsNetwork-DB0201EN-SkillsNetwork/labs/Module%202/data/JobsHistory.csv)\n",
    "\n",
    "[Locations.csv](https://cf-courses-data.s3.us.cloud-object-storage.appdomain.cloud/IBMDeveloperSkillsNetwork-DB0201EN-SkillsNetwork/labs/Module%202/data/Locations.csv)\n",
    "\n",
    "[Employees.csv](https://cf-courses-data.s3.us.cloud-object-storage.appdomain.cloud/IBMDeveloperSkillsNetwork-DB0201EN-SkillsNetwork/labs/Module%202/data/Employees.csv)\n",
    "\n",
    "[]()"
   ]
  },
  {
   "cell_type": "markdown",
   "id": "0fca7912-e736-4b14-b717-60b3deb69036",
   "metadata": {},
   "source": [
    "# JOINS\n",
    "Let us see some examples of JOINS being used to query the data.\n",
    "\n",
    "1. ###  Retrieve the names and job start dates of all employees who work for department number 5.\n",
    "We need to use the Inner join operation with the EMPLOYEES table as the left table and the JOB_HISTORY table as the right table. The join will be made over employee ID, and the query response will be filtered for the Department ID value 5.\n",
    "The query for this question will be as shown below."
   ]
  },
  {
   "cell_type": "markdown",
   "id": "ccb69b22-a905-4971-9c27-1fc15bfa196c",
   "metadata": {},
   "source": [
    "REJOINT\n",
    "Voyons quelques exemples d’utilisation de JOINS pour interroger les données.\n",
    "\n",
    "\n",
    "1. ### Récupérez les noms et les dates de début de travail de tous les employés qui travaillent pour le département numéro 5.\n",
    "\n",
    "\n",
    "Nous devons utiliser l’opération de jointure interne avec la table EMPLOYEES comme table de gauche et la table JOB_HISTORY comme table de droite. La jointure sera effectuée sur l’ID de l’employé et la réponse à la requête sera filtrée pour la valeur 5 de l’ID de service.\n",
    "La requête pour cette question sera comme indiqué ci-dessous."
   ]
  },
  {
   "cell_type": "code",
   "execution_count": null,
   "id": "a1e2c1fa-1928-4495-b77e-914969eddf2d",
   "metadata": {},
   "outputs": [],
   "source": [
    "SELECT E.F_NAME,E.L_NAME, JH.START_DATE \n",
    "FROM EMPLOYEES as E \n",
    "INNER JOIN JOB_HISTORY as JH \n",
    "ON E.EMP_ID=JH.EMPL_ID \n",
    "WHERE E.DEP_ID ='5';"
   ]
  },
  {
   "cell_type": "markdown",
   "id": "4c638f3a-f23a-48b5-b89e-3ea350716800",
   "metadata": {},
   "source": [
    "2. ### Retrieve employee ID, last name, department ID, and department name for all employees.\n",
    "For this, you must use the Left Outer Join operation with the EMPLOYEES table as the left table and the DEPARTMENTS table as the right table. The join will happen on the Department ID. The query will be written as follows:\n",
    "\n",
    "\n",
    " ### Récupérez l’ID de l’employé, le nom de famille, l’ID du service et le nom du service pour tous les employés.\n",
    "Pour cela, vous devez utiliser l’opération Jointure externe gauche avec la table EMPLOYEES comme table de gauche et la table DEPARTMENTS comme table de droite. La jointure se fera sur l’ID du département. La requête s’écrira comme suit :"
   ]
  },
  {
   "cell_type": "markdown",
   "id": "8ac27894-ed3d-45a5-bb8a-046dd70822d5",
   "metadata": {},
   "source": [
    "3. ### Retrieve the First name, Last name, and Department name of all employees.\n",
    "For this, you will use the Full Outer Join operation with the EMPLOYEES table as the left table and the DEPARTMENTS table as the right table. A full outer join in MySQL is implemented as a UNION of left and right outer joins. The query will be written as shown below.\n",
    "\n",
    " ### Récupérez le prénom, le nom et le nom du service de tous les employés.\n",
    "Pour cela, vous allez utiliser l’opération Jointure externe complète avec la table EMPLOYEES comme table de gauche et la table DEPARTMENTS comme table de droite. Une jointure externe complète dans MySQL est implémentée en tant qu’UNION de jointures externes gauche et droite. La requête sera écrite comme indiqué ci-dessous."
   ]
  },
  {
   "cell_type": "code",
   "execution_count": null,
   "id": "b08b6c9c-7654-4038-b32e-71035bd06dee",
   "metadata": {},
   "outputs": [],
   "source": [
    "SELECT E.F_NAME, E.L_NAME, D.DEP_NAME\n",
    "FROM EMPLOYEES AS E\n",
    "LEFT OUTER JOIN DEPARTMENTS AS D\n",
    "ON E.DEP_ID = D.DEPT_ID_DEP\n",
    "\n",
    "UNION\n",
    "\n",
    "SELECT E.F_NAME, E.L_NAME, D.DEP_NAME\n",
    "FROM EMPLOYEES AS E\n",
    "RIGHT OUTER JOIN DEPARTMENTS AS D\n",
    "ON E.DEP_ID=D.DEPT_ID_DEP"
   ]
  },
  {
   "cell_type": "markdown",
   "id": "9e0ab2d3-5048-486b-ba48-56a6072e232b",
   "metadata": {},
   "source": [
    "# Practice Problems\n",
    "\n",
    "1. ### Retrieve the names, job start dates, and job titles of all employees who work for department number 5.\n",
    "\n",
    "### Récupérez les noms, les dates de début de travail et les titres de poste de tous les employés qui travaillent pour le département numéro 5.\n",
    "\n",
    "Hint\n",
    "\n",
    "Perform an INNER JOIN with 3 tables: EMPLOYEES, JOB_HISTORY, JOBS.\n",
    "Effectuez une JOINTURE INTERNE avec 3 tables : EMPLOYÉS, JOB_HISTORY, EMPLOIS.\n",
    "\n",
    "Solution"
   ]
  },
  {
   "cell_type": "code",
   "execution_count": null,
   "id": "97757588-24b7-43a6-b005-d47a16cd2048",
   "metadata": {},
   "outputs": [],
   "source": [
    "select E.F_NAME,E.L_NAME, JH.START_DATE, J.JOB_TITLE \n",
    "from EMPLOYEES as E \n",
    "INNER JOIN JOB_HISTORY as JH on E.EMP_ID=JH.EMPL_ID \n",
    "INNER JOIN JOBS as J on E.JOB_ID=J.JOB_IDENT\n",
    "where E.DEP_ID ='5';"
   ]
  },
  {
   "cell_type": "markdown",
   "id": "def6820f-efea-49ed-b454-f87383838aee",
   "metadata": {},
   "source": [
    "2. ### Retrieve employee ID, last name, and department ID for all employees but department names for only those born before 1980.\n",
    "\n",
    "### Récupérez l’ID de l’employé, le nom de famille et l’ID du service pour tous les employés, mais uniquement les noms des services pour ceux nés avant 1980.\n",
    "\n",
    "Hint\n",
    "Use an AND in the LEFT OUTER JOIN clause.\n",
    "Utilisez un AND dans la clause LEFT OUTER JOIN.\n",
    "\n",
    "Solution"
   ]
  },
  {
   "cell_type": "code",
   "execution_count": null,
   "id": "a35f9391-6841-4448-ba7b-e8e60235be4b",
   "metadata": {},
   "outputs": [],
   "source": [
    "SELECT E.EMP_ID, E.L_NAME, E.DEP_ID, D.DEP_NAME\n",
    "FROM EMPLOYEES AS E\n",
    "LEFT OUTER JOIN DEPARTMENTS AS D\n",
    "ON E.DEP_ID = D.DEPT_ID_DEP\n",
    "AND YEAR(E.B_DATE) < 1980;"
   ]
  },
  {
   "cell_type": "markdown",
   "id": "d452b834-be39-447a-9e72-94eb23ec1b0e",
   "metadata": {},
   "source": [
    "3. ### Retrieve the first name and last name of all employees but department ID and department names only for male employees.\n",
    "\n",
    "### Récupère le prénom et le nom de tous les employés, mais l’ID du département et les noms des départements uniquement pour les employés masculins.\n",
    "\n",
    "Hint\n",
    "Add an AND in Query 3A to filter on male employees in the ON clause. Alternatively, you can also use Left Outer Join.\n",
    "\n",
    "\n",
    "Ajoutez un ET dans la requête 3A pour filtrer les employés masculins dans la clause ON. Vous pouvez également utiliser la jointure externe gauche."
   ]
  },
  {
   "cell_type": "code",
   "execution_count": null,
   "id": "1b925af8-9d74-416e-8bd0-8362e33bc584",
   "metadata": {},
   "outputs": [],
   "source": [
    "SELECT E.F_NAME, E.L_NAME, D.DEPT_ID_DEP, D.DEP_NAME\n",
    "FROM EMPLOYEES AS E\n",
    "LEFT OUTER JOIN DEPARTMENTS AS D\n",
    "ON E.DEP_ID=D.DEPT_ID_DEP AND E.SEX = 'M'\n",
    "\n",
    "UNION\n",
    "\n",
    "SELECT E.F_NAME, E.L_NAME, D.DEPT_ID_DEP, D.DEP_NAME\n",
    "from EMPLOYEES AS E\n",
    "RIGHT OUTER JOIN DEPARTMENTS AS D\n",
    "ON E.DEP_ID=D.DEPT_ID_DEP AND E.SEX = 'M';"
   ]
  },
  {
   "cell_type": "markdown",
   "id": "48c3a33a-0cd5-43bd-a8af-aca778224dd1",
   "metadata": {},
   "source": [
    "Résumé : déclarations de jonctionStatut : Traduit automatiquement de Anglais\n",
    "Traduit automatiquement de Anglais\n",
    "Nous vous félicitons ! Vous avez terminé cette leçon. À ce stade du cours, vous savez ce qui suit :\n",
    "\n",
    "- Une jointure combine les lignes de deux tables ou plus sur la base d'une relation entre certaines colonnes de ces tables.\n",
    "\n",
    "- Pour combiner des données provenant de trois tables différentes ou plus, il vous suffit d'ajouter de nouvelles jointures à l'instruction SQL. \n",
    "\n",
    "- Il existe deux types de jointures : la jointure interne et la jointure externe, ainsi que trois types de jointures externes : la jointure externe gauche, la jointure externe droite et la jointure externe complète. \n",
    "\n",
    "- Le type de jointure le plus courant est la jointure interne, qui fait correspondre les résultats de deux tables et renvoie les éléments sélectionnés de chaque table, uniquement lorsque les éléments correspondants dans les deux tables sont identiques.\n",
    "\n",
    "- Vous pouvez utiliser un alias pour abréger le nom d'une table ou d'une colonne.\n",
    "\n"
   ]
  },
  {
   "cell_type": "code",
   "execution_count": null,
   "id": "bf3fe9b2-6619-41a8-ad16-d403c4004f2d",
   "metadata": {},
   "outputs": [],
   "source": []
  },
  {
   "cell_type": "code",
   "execution_count": null,
   "id": "8b5ff4bc-9704-4c59-9f72-8190f79299f3",
   "metadata": {},
   "outputs": [],
   "source": []
  },
  {
   "cell_type": "code",
   "execution_count": null,
   "id": "fe8a0295-6697-4d21-b326-a481237feb8b",
   "metadata": {},
   "outputs": [],
   "source": []
  },
  {
   "cell_type": "code",
   "execution_count": null,
   "id": "5da7f7b6-b840-49f5-9aab-428f1d8d31a9",
   "metadata": {},
   "outputs": [],
   "source": []
  },
  {
   "cell_type": "code",
   "execution_count": null,
   "id": "0157fc08-47dc-4a2c-bb84-f4d2f63dc388",
   "metadata": {},
   "outputs": [],
   "source": []
  },
  {
   "cell_type": "code",
   "execution_count": null,
   "id": "c429d828-95c2-4890-9681-b982052c3202",
   "metadata": {},
   "outputs": [],
   "source": []
  },
  {
   "cell_type": "code",
   "execution_count": null,
   "id": "000782bc-c0ba-4e63-b5f2-716f65479abe",
   "metadata": {},
   "outputs": [],
   "source": []
  },
  {
   "cell_type": "code",
   "execution_count": null,
   "id": "06533351-9a68-404b-a76c-a70f6793b298",
   "metadata": {},
   "outputs": [],
   "source": []
  },
  {
   "cell_type": "code",
   "execution_count": null,
   "id": "c386a7f1-46da-48ef-bfb8-26176f152c68",
   "metadata": {},
   "outputs": [],
   "source": []
  },
  {
   "cell_type": "code",
   "execution_count": null,
   "id": "95934a87-8bcc-4304-9232-624cb125bf5f",
   "metadata": {},
   "outputs": [],
   "source": []
  },
  {
   "cell_type": "code",
   "execution_count": null,
   "id": "b94a51ab-543b-4ea5-a12e-0b88595bf736",
   "metadata": {},
   "outputs": [],
   "source": []
  },
  {
   "cell_type": "code",
   "execution_count": null,
   "id": "660d7d52-0b08-4a22-a82c-af211e9e0262",
   "metadata": {},
   "outputs": [],
   "source": []
  },
  {
   "cell_type": "code",
   "execution_count": null,
   "id": "8be90814-0833-45b8-a284-8cc0df7f9515",
   "metadata": {},
   "outputs": [],
   "source": []
  },
  {
   "cell_type": "code",
   "execution_count": null,
   "id": "071c1c4d-3aa5-4501-9aef-1ed464e8c88a",
   "metadata": {},
   "outputs": [],
   "source": []
  },
  {
   "cell_type": "code",
   "execution_count": null,
   "id": "f5078a6a-48eb-403d-96a7-c6d470b340f9",
   "metadata": {},
   "outputs": [],
   "source": []
  },
  {
   "cell_type": "code",
   "execution_count": null,
   "id": "71ecfa38-961e-40a3-9780-c51701651c49",
   "metadata": {},
   "outputs": [],
   "source": []
  },
  {
   "cell_type": "code",
   "execution_count": null,
   "id": "01e7f935-c979-44d8-90c0-86230482acae",
   "metadata": {},
   "outputs": [],
   "source": []
  },
  {
   "cell_type": "code",
   "execution_count": null,
   "id": "67580341-f3e0-404c-aa9f-e04e5fcf00cb",
   "metadata": {},
   "outputs": [],
   "source": []
  },
  {
   "cell_type": "code",
   "execution_count": null,
   "id": "49bc543b-fdbc-4a64-ac84-be9c34d44f07",
   "metadata": {},
   "outputs": [],
   "source": []
  },
  {
   "cell_type": "code",
   "execution_count": null,
   "id": "1ef372ec-ba5c-4ee0-871b-6bb69df93eb8",
   "metadata": {},
   "outputs": [],
   "source": []
  },
  {
   "cell_type": "code",
   "execution_count": null,
   "id": "19e1f110-4df6-45cd-872d-f597936ad7bc",
   "metadata": {},
   "outputs": [],
   "source": []
  },
  {
   "cell_type": "code",
   "execution_count": null,
   "id": "93f7a27f-b21c-4aef-afa3-8237abce1322",
   "metadata": {},
   "outputs": [],
   "source": []
  },
  {
   "cell_type": "code",
   "execution_count": null,
   "id": "b74970cc-3555-4bf9-8bed-b6148950b6b7",
   "metadata": {},
   "outputs": [],
   "source": []
  },
  {
   "cell_type": "code",
   "execution_count": null,
   "id": "5ffddccd-f161-48a5-88e9-5f931fd792b2",
   "metadata": {},
   "outputs": [],
   "source": []
  },
  {
   "cell_type": "code",
   "execution_count": null,
   "id": "2bd47baf-b4b7-4f3c-bb85-d1610982a4d9",
   "metadata": {},
   "outputs": [],
   "source": []
  },
  {
   "cell_type": "code",
   "execution_count": null,
   "id": "eb2e37a4-f9d2-4c04-b9ed-bf5cd771fff1",
   "metadata": {},
   "outputs": [],
   "source": []
  },
  {
   "cell_type": "code",
   "execution_count": null,
   "id": "64168148-4b15-4aeb-96bd-02f28ef4cf81",
   "metadata": {},
   "outputs": [],
   "source": []
  },
  {
   "cell_type": "code",
   "execution_count": null,
   "id": "fad3c41f-f29a-47ca-8cea-051319394ca0",
   "metadata": {},
   "outputs": [],
   "source": []
  },
  {
   "cell_type": "code",
   "execution_count": null,
   "id": "c5c1426a-40b1-409e-a10f-ef897cc7675e",
   "metadata": {},
   "outputs": [],
   "source": []
  },
  {
   "cell_type": "code",
   "execution_count": null,
   "id": "be2da4b7-bde4-44d0-849f-e4712d2e4599",
   "metadata": {},
   "outputs": [],
   "source": []
  },
  {
   "cell_type": "code",
   "execution_count": null,
   "id": "853b738b-6e64-4879-a5ae-78c67766e487",
   "metadata": {},
   "outputs": [],
   "source": []
  },
  {
   "cell_type": "code",
   "execution_count": null,
   "id": "8779de18-4022-44a0-b18a-5b3283b02eae",
   "metadata": {},
   "outputs": [],
   "source": []
  },
  {
   "cell_type": "code",
   "execution_count": null,
   "id": "c051e091-7218-41e4-89ee-7e86f2f2901b",
   "metadata": {},
   "outputs": [],
   "source": []
  },
  {
   "cell_type": "code",
   "execution_count": null,
   "id": "3b9dbe80-ba30-4c8b-81b8-03570f6a4680",
   "metadata": {},
   "outputs": [],
   "source": []
  },
  {
   "cell_type": "code",
   "execution_count": null,
   "id": "08b404ee-dfcf-4d66-b89c-a6e6798493d2",
   "metadata": {},
   "outputs": [],
   "source": []
  },
  {
   "cell_type": "code",
   "execution_count": null,
   "id": "2c0b287c-27b3-4766-9093-1b959b2ba9ff",
   "metadata": {},
   "outputs": [],
   "source": []
  },
  {
   "cell_type": "code",
   "execution_count": null,
   "id": "ab8dacb7-2764-4942-aa09-6a2bd7a3b0f1",
   "metadata": {},
   "outputs": [],
   "source": []
  },
  {
   "cell_type": "code",
   "execution_count": null,
   "id": "a06e949f-7ae2-439c-98f6-252d8529b5d3",
   "metadata": {},
   "outputs": [],
   "source": []
  },
  {
   "cell_type": "code",
   "execution_count": null,
   "id": "0f204cac-b449-426d-82fb-f85c92dfb210",
   "metadata": {},
   "outputs": [],
   "source": []
  },
  {
   "cell_type": "code",
   "execution_count": null,
   "id": "79b74846-2d85-4fb8-8f82-0c7b91f764cf",
   "metadata": {},
   "outputs": [],
   "source": []
  },
  {
   "cell_type": "code",
   "execution_count": null,
   "id": "455a781d-7cfc-4598-843c-c8ac861bb342",
   "metadata": {},
   "outputs": [],
   "source": []
  },
  {
   "cell_type": "code",
   "execution_count": null,
   "id": "b7bbc21c-fee1-4595-a64f-e4b9e4e7904d",
   "metadata": {},
   "outputs": [],
   "source": []
  },
  {
   "cell_type": "code",
   "execution_count": null,
   "id": "6812c46f-bbc6-4066-b8c9-f6e2bffcdecc",
   "metadata": {},
   "outputs": [],
   "source": []
  },
  {
   "cell_type": "code",
   "execution_count": null,
   "id": "9ac4224a-8e2e-49f2-8887-c7477703e86d",
   "metadata": {},
   "outputs": [],
   "source": []
  },
  {
   "cell_type": "code",
   "execution_count": null,
   "id": "52db7440-fdf3-4e38-85dd-7557ead55733",
   "metadata": {},
   "outputs": [],
   "source": []
  },
  {
   "cell_type": "code",
   "execution_count": null,
   "id": "eeb71b38-271f-4bfc-abcf-9d4ce08766c1",
   "metadata": {},
   "outputs": [],
   "source": []
  },
  {
   "cell_type": "code",
   "execution_count": null,
   "id": "5c644245-6fb9-43bd-b7fc-92f58f84d6d3",
   "metadata": {},
   "outputs": [],
   "source": []
  },
  {
   "cell_type": "code",
   "execution_count": null,
   "id": "4bb05c6d-6db1-451b-b17a-5e0e8f190aa8",
   "metadata": {},
   "outputs": [],
   "source": []
  },
  {
   "cell_type": "code",
   "execution_count": null,
   "id": "94323644-60c2-45d4-9ce1-08bddd9a39d3",
   "metadata": {},
   "outputs": [],
   "source": []
  },
  {
   "cell_type": "code",
   "execution_count": null,
   "id": "cec8ddf1-776d-476a-a97d-41b64dfacc54",
   "metadata": {},
   "outputs": [],
   "source": []
  },
  {
   "cell_type": "code",
   "execution_count": null,
   "id": "69767948-fdeb-4853-ae0a-153d5cde0ece",
   "metadata": {},
   "outputs": [],
   "source": []
  },
  {
   "cell_type": "code",
   "execution_count": null,
   "id": "91f4090a-be75-4c3b-be22-6cae99dbc1d1",
   "metadata": {},
   "outputs": [],
   "source": []
  },
  {
   "cell_type": "code",
   "execution_count": null,
   "id": "ad86bf64-78b5-4703-847d-6fd0a127b5ff",
   "metadata": {},
   "outputs": [],
   "source": []
  },
  {
   "cell_type": "code",
   "execution_count": null,
   "id": "db25b689-aefa-4882-b968-3a94b5be82d4",
   "metadata": {},
   "outputs": [],
   "source": []
  }
 ],
 "metadata": {
  "kernelspec": {
   "display_name": "Python 3 (ipykernel)",
   "language": "python",
   "name": "python3"
  },
  "language_info": {
   "codemirror_mode": {
    "name": "ipython",
    "version": 3
   },
   "file_extension": ".py",
   "mimetype": "text/x-python",
   "name": "python",
   "nbconvert_exporter": "python",
   "pygments_lexer": "ipython3",
   "version": "3.9.13"
  }
 },
 "nbformat": 4,
 "nbformat_minor": 5
}
